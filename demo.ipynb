{
 "cells": [
  {
   "cell_type": "markdown",
   "metadata": {},
   "source": [
    "# IPL Data Visualization Demo Notebook"
   ]
  },
  {
   "cell_type": "markdown",
   "metadata": {},
   "source": [
    "## Resolve Imports"
   ]
  },
  {
   "cell_type": "code",
   "execution_count": 12,
   "metadata": {
    "pycharm": {
     "is_executing": false,
     "name": "#%%\n"
    }
   },
   "outputs": [
    {
     "data": {
      "text/html": [
       "        <script type=\"text/javascript\">\n",
       "        window.PlotlyConfig = {MathJaxConfig: 'local'};\n",
       "        if (window.MathJax) {MathJax.Hub.Config({SVG: {font: \"STIX-Web\"}});}\n",
       "        if (typeof require !== 'undefined') {\n",
       "        require.undef(\"plotly\");\n",
       "        requirejs.config({\n",
       "            paths: {\n",
       "                'plotly': ['https://cdn.plot.ly/plotly-latest.min']\n",
       "            }\n",
       "        });\n",
       "        require(['plotly'], function(Plotly) {\n",
       "            window._Plotly = Plotly;\n",
       "        });\n",
       "        }\n",
       "        </script>\n",
       "        "
      ]
     },
     "metadata": {},
     "output_type": "display_data"
    },
    {
     "data": {
      "text/html": [
       "        <script type=\"text/javascript\">\n",
       "        window.PlotlyConfig = {MathJaxConfig: 'local'};\n",
       "        if (window.MathJax) {MathJax.Hub.Config({SVG: {font: \"STIX-Web\"}});}\n",
       "        if (typeof require !== 'undefined') {\n",
       "        require.undef(\"plotly\");\n",
       "        requirejs.config({\n",
       "            paths: {\n",
       "                'plotly': ['https://cdn.plot.ly/plotly-latest.min']\n",
       "            }\n",
       "        });\n",
       "        require(['plotly'], function(Plotly) {\n",
       "            window._Plotly = Plotly;\n",
       "        });\n",
       "        }\n",
       "        </script>\n",
       "        "
      ]
     },
     "metadata": {},
     "output_type": "display_data"
    }
   ],
   "source": [
    "import numpy as np \n",
    "import pandas as pd\n",
    "import matplotlib.pyplot as plt\n",
    "import os\n",
    "from sklearn import preprocessing\n",
    "\n",
    "# Ploty Related Imports\n",
    "\n",
    "import plotly.plotly as py\n",
    "import plotly\n",
    "import cufflinks as cf\n",
    "cf.set_config_file(offline=True, world_readable=True, theme='pearl')\n",
    "\n",
    "import plotly.graph_objs as go\n",
    "plotly.offline.init_notebook_mode(connected=True) # Use Plotly offline mode without tokens\n",
    "\n",
    "# Custom Imports\n",
    "from utilities.metrics import *\n",
    "from utilities.vis_funcs import *\n",
    "from utilities.plots import *"
   ]
  },
  {
   "cell_type": "markdown",
   "metadata": {},
   "source": [
    "## Check Data Files"
   ]
  },
  {
   "cell_type": "code",
   "execution_count": 13,
   "metadata": {
    "pycharm": {
     "name": "#%%\n"
    }
   },
   "outputs": [
    {
     "name": "stdout",
     "output_type": "stream",
     "text": [
      "['player_batting_performance.csv', 'players_wiki.csv', '2018_ages.csv', 'leader_wiki2.csv', 'player_bowling_performance.csv', 'players_age_wiki.csv', 'team_performance.csv', 'toss_result.csv', 'deliveries.csv', 'leader_wiki1.csv', 'match.csv', 'match_result.csv', 'matches.csv']\n"
     ]
    }
   ],
   "source": [
    "data_path = './data'\n",
    "print(os.listdir(data_path))"
   ]
  },
  {
   "cell_type": "markdown",
   "metadata": {},
   "source": [
    "## Head to Head Heatmap"
   ]
  },
  {
   "cell_type": "code",
   "execution_count": 14,
   "metadata": {
    "pycharm": {
     "name": "#%%\n"
    }
   },
   "outputs": [],
   "source": [
    "heat_file = pd.read_csv(os.path.join(data_path, 'match.csv'))\n",
    "team_name_rank = ['Royal Challengers Bangalore','Kings XI Punjab','Mumbai Indians','Kolkata Knight Riders',\\\n",
    "                 'Chennai Super Kings','Delhi Capitals','Rajasthan Royals','Sunrisers Hyderabad']\n",
    "table = heat_file.loc[:,['team1','team2','winner']]\n",
    "grp = table.groupby('team1')\n",
    "team_name_sort =sort_name(team_name_rank)\n",
    "result ,total_win = win_heatmap(grp,team_name_rank)"
   ]
  },
  {
   "cell_type": "code",
   "execution_count": 15,
   "metadata": {
    "pycharm": {
     "name": "#%%\n"
    }
   },
   "outputs": [
    {
     "name": "stderr",
     "output_type": "stream",
     "text": [
      "/home/siddhant/.virtualenvs/ECE143Project/lib/python3.6/site-packages/IPython/core/display.py:689: UserWarning:\n",
      "\n",
      "Consider using IPython.display.IFrame instead\n",
      "\n"
     ]
    },
    {
     "data": {
      "text/html": [
       "<iframe id=\"igraph\" scrolling=\"no\" style=\"border:none;\" seamless=\"seamless\" src=\"https://plot.ly/~ryanzhao9459/148.embed\" height=\"700px\" width=\"900px\"></iframe>"
      ],
      "text/plain": [
       "<chart_studio.tools.PlotlyDisplay object>"
      ]
     },
     "execution_count": 15,
     "metadata": {},
     "output_type": "execute_result"
    }
   ],
   "source": [
    "data = [go.Heatmap(z = result,x=team_name_sort,y=team_name_sort,colorscale='Reds')]\n",
    "layout = go.Layout(\n",
    "    title = dict(text = 'Head to Head',\n",
    "                 font = dict(family='Times New Roman, monospace', size=20, color='#000000'),\n",
    "                 x = 0,\n",
    "                 xref = 'paper'),\n",
    "    width = 900, height = 700,\n",
    "    xaxis = dict(tickfont = dict(family = 'Old Standard TT, serif',\n",
    "                 size = 12,\n",
    "                 color = 'black'),\n",
    "                 tickangle = 30),\n",
    "    yaxis = dict(tickfont = dict(family = 'Old Standard TT, serif',\n",
    "                 size = 12,\n",
    "                 color = 'black'))\n",
    ")\n",
    "fig = go.Figure(data = data, layout = layout)\n",
    "py.iplot(fig)"
   ]
  },
  {
   "cell_type": "markdown",
   "metadata": {
    "pycharm": {
     "name": "#%%\n"
    }
   },
   "source": [
    "## Toss winning stats"
   ]
  },
  {
   "cell_type": "code",
   "execution_count": 16,
   "metadata": {
    "pycharm": {
     "name": "#%%\n"
    }
   },
   "outputs": [],
   "source": [
    "heat_file = pd.read_csv(os.path.join(data_path, 'match.csv'))\n",
    "toss_decisions = heat_file[['toss_winner', 'toss_decision', 'id']].\\\n",
    "                        groupby(['toss_winner', 'toss_decision']).agg({'id': 'count'})\n",
    "\n",
    "toss_decisions.head(3)\n",
    "toss_decisions = toss_decisions.groupby(level=0).apply(lambda x: 100 * x / float(x.sum()))\n",
    "result ,total_win = win_heatmap(grp,team_name_rank)\n",
    "table = heat_file.loc[:,['team1','team2','winner']]\n",
    "grp = table.groupby('team1')\n",
    "sb3 = pd.DataFrame(data = total_win,columns=['Win rate total'],index = team_name_rank)\n",
    "sb3.sort_index(inplace=True)\n",
    "sb3 = sb3.apply(lambda x: 100 * x)"
   ]
  },
  {
   "cell_type": "code",
   "execution_count": 17,
   "metadata": {
    "pycharm": {
     "name": "#%%\n"
    }
   },
   "outputs": [
    {
     "name": "stderr",
     "output_type": "stream",
     "text": [
      "/home/siddhant/.virtualenvs/ECE143Project/lib/python3.6/site-packages/IPython/core/display.py:689: UserWarning:\n",
      "\n",
      "Consider using IPython.display.IFrame instead\n",
      "\n"
     ]
    },
    {
     "data": {
      "text/html": [
       "<iframe id=\"igraph\" scrolling=\"no\" style=\"border:none;\" seamless=\"seamless\" src=\"https://plot.ly/~ryanzhao9459/138.embed\" height=\"525px\" width=\"100%\"></iframe>"
      ],
      "text/plain": [
       "<chart_studio.tools.PlotlyDisplay object>"
      ]
     },
     "execution_count": 17,
     "metadata": {},
     "output_type": "execute_result"
    }
   ],
   "source": [
    "index = [0,4,7,3,5,2,6,1]\n",
    "a = list(sb3.index)\n",
    "a = [a[i] for i in index]\n",
    "a = sort_name(a)\n",
    "b = list(sb3.values)\n",
    "b = [b[i] for i in index]\n",
    "\n",
    "trace1 = go.Scatter(\n",
    "    x = a,\n",
    "    y = b,\n",
    "    name = 'Winning rate',\n",
    "    marker = dict(color= 'rgba(219, 64, 82, 1.0)')\n",
    ")\n",
    "index = [0,7,-1,6,9,4,-2,2]\n",
    "b = list(toss_decisions.id)[0::2]\n",
    "b = [b[i] for i in index]\n",
    "trace2 = go.Bar(\n",
    "    x = a,\n",
    "    y = b,\n",
    "    name = 'Bat',\n",
    "    width = [0.3, 0.3, 0.3, 0.3, 0.3, 0.3, 0.3, 0.3],\n",
    "    marker = dict(\n",
    "        color = 'rgba(219, 64, 82, 0.7)',\n",
    "        line=dict(color='rgba(219, 64, 82, 1.0)',width=2)\n",
    "    )\n",
    ")\n",
    "\n",
    "b = list(toss_decisions.id)[1::2]\n",
    "b = [b[i] for i in index]\n",
    "\n",
    "trace3 = go.Bar(\n",
    "    x = a,\n",
    "    y = b,\n",
    "    name = 'Field',\n",
    "    width = [0.3, 0.3, 0.3, 0.3, 0.3, 0.3, 0.3, 0.3],\n",
    "    marker = dict(\n",
    "        color = 'rgba(55, 128, 191, 0.7)',\n",
    "        line = dict(color='rgba(55, 128, 191, 1.0)',width=2),\n",
    "    )\n",
    ")\n",
    "#292942\n",
    "data = [trace1, trace2, trace3]\n",
    "layout = go.Layout(\n",
    "    title=dict(text = 'Toss result',\n",
    "               font = dict(family='Times New Roman, monospace', size=20, color='#000000'),\n",
    "               x = 0,\n",
    "               xref = 'paper'\n",
    "               ),\n",
    "    xaxis = dict(tickangle = 30,\n",
    "                 tickfont = dict(family='Times New Roman, monospace', size=12, color='#000000')\n",
    "                 ),\n",
    "    yaxis = dict(title = 'Percent',range = [0,100],\n",
    "                 titlefont = dict(family='Times New Roman, monospace', size=16, color='#000000'),\n",
    "                 tickfont = dict(family='Times New Roman, monospace', size=12, color='#000000')),\n",
    ")\n",
    "fig = go.Figure(data=data, layout=layout)\n",
    "py.iplot(fig,filename='bar-line')"
   ]
  },
  {
   "cell_type": "markdown",
   "metadata": {},
   "source": [
    "## Team Ranks over time"
   ]
  },
  {
   "cell_type": "code",
   "execution_count": 20,
   "metadata": {},
   "outputs": [],
   "source": [
    "rank_file = pd.read_csv(os.path.join(data_path, 'team_performance.csv'))\n",
    "result_rank = rank(rank_file)"
   ]
  },
  {
   "cell_type": "code",
   "execution_count": 21,
   "metadata": {},
   "outputs": [
    {
     "data": {
      "text/html": [
       "<iframe id=\"igraph\" scrolling=\"no\" style=\"border:none;\" seamless=\"seamless\" src=\"https://plot.ly/~ryanzhao9459/140.embed\" height=\"525px\" width=\"100%\"></iframe>"
      ],
      "text/plain": [
       "<chart_studio.tools.PlotlyDisplay object>"
      ]
     },
     "execution_count": 21,
     "metadata": {},
     "output_type": "execute_result"
    }
   ],
   "source": [
    "data = []\n",
    "for i in range(len(result_rank)):\n",
    "    data.append(go.Scatter(\n",
    "        x = list(range(2008,2020)),\n",
    "        y = list(result_rank[i]),\n",
    "        name = team_name_rank[i],\n",
    "    ))\n",
    "\n",
    "\n",
    "layout = go.Layout(\n",
    "  annotations = [\n",
    "    dict(\n",
    "      x = 2007.5,\n",
    "      y = 2,\n",
    "      showarrow = False,\n",
    "      text = \"Top Four\",\n",
    "      xref = \"paper\",\n",
    "      yref = \"paper\"\n",
    "    ),\n",
    "    dict(\n",
    "      x = 2007.5,\n",
    "      y = 6,\n",
    "      showarrow = False,\n",
    "      text = \"trash\",\n",
    "      xref = \"paper\",\n",
    "      yref = \"paper\"\n",
    "    )\n",
    "  ],\n",
    "  showlegend = True,\n",
    "  title = dict(text = \"Ranking\",x=0,xref = 'paper',\n",
    "              font = dict(family='Times New Roman, monospace', size=20, color='#000000')),\n",
    "  yaxis = dict(range=[10.5, 0]),\n",
    "  xaxis = dict(showgrid=False)\n",
    ")\n",
    "\n",
    "fig = go.Figure(data=data, layout=layout)\n",
    "py.iplot(fig,filename='rank')"
   ]
  },
  {
   "cell_type": "markdown",
   "metadata": {
    "pycharm": {
     "name": "#%%\n"
    }
   },
   "source": [
    "## Batting and Bowling Ability Analysis for Teams and Players"
   ]
  },
  {
   "cell_type": "markdown",
   "metadata": {},
   "source": [
    "### 10 Best and 10 Worst Bowlers"
   ]
  },
  {
   "cell_type": "code",
   "execution_count": 4,
   "metadata": {
    "pycharm": {
     "name": "#%%\n"
    }
   },
   "outputs": [],
   "source": [
    "ball_data = load_data_as_df(os.path.join(data_path, 'deliveries.csv'))\n",
    "\n",
    "#Get Bowling Stats Player-wise\n",
    "eco = economy(ball_data.copy())\n",
    "wick = wicket_taking(ball_data.copy())\n",
    "\n",
    "# Keep only regular bowlers\n",
    "eco_100 = eco[eco['Number of Balls Thrown']>1000]\n",
    "wick_100 = wick[wick['Number of Balls Thrown']>1000]\n",
    "\n",
    "# Merge Stats\n",
    "out = pd.merge(wick_100, eco_100, how='inner', on=['bowler','Number of Balls Thrown'])"
   ]
  },
  {
   "cell_type": "code",
   "execution_count": 5,
   "metadata": {
    "pycharm": {
     "name": "#%%\n"
    }
   },
   "outputs": [
    {
     "data": {
      "application/vnd.plotly.v1+json": {
       "config": {
        "linkText": "Export to plot.ly",
        "plotlyServerURL": "https://plot.ly",
        "responsive": true,
        "showLink": true
       },
       "data": [
        {
         "marker": {
          "color": "rgba(255, 153, 51, 1.0)",
          "line": {
           "width": 1.3
          },
          "opacity": 0.8,
          "size": [
           54
          ],
          "symbol": "circle"
         },
         "mode": "markers",
         "name": "DW Steyn",
         "text": [
          "DW Steyn"
         ],
         "textfont": {
          "color": "#4D5663"
         },
         "type": "scatter",
         "uid": "35bd1fb1-2789-43e4-a7b6-c5d365b9a0d6",
         "x": [
          6.206615314907114
         ],
         "y": [
          21.42718446601942
         ]
        },
        {
         "marker": {
          "color": "rgba(55, 128, 191, 1.0)",
          "line": {
           "width": 1.3
          },
          "opacity": 0.8,
          "size": [
           30
          ],
          "symbol": "circle"
         },
         "mode": "markers",
         "name": "M Muralitharan",
         "text": [
          "M Muralitharan"
         ],
         "textfont": {
          "color": "#4D5663"
         },
         "type": "scatter",
         "uid": "084edf75-4f28-4a07-8163-fc68b42eee12",
         "x": [
          6.2314990512333965
         ],
         "y": [
          23.597014925373134
         ]
        },
        {
         "marker": {
          "color": "rgba(50, 171, 96, 1.0)",
          "line": {
           "width": 1.3
          },
          "opacity": 0.8,
          "size": [
           78
          ],
          "symbol": "circle"
         },
         "mode": "markers",
         "name": "R Ashwin",
         "text": [
          "R Ashwin"
         ],
         "textfont": {
          "color": "#4D5663"
         },
         "type": "scatter",
         "uid": "1a9cff06-d9d2-44c4-8732-f400f4f1689b",
         "x": [
          6.413793103448276
         ],
         "y": [
          21.855072463768117
         ]
        },
        {
         "marker": {
          "color": "rgba(128, 0, 128, 1.0)",
          "line": {
           "width": 1.3
          },
          "opacity": 0.8,
          "size": [
           112
          ],
          "symbol": "circle"
         },
         "mode": "markers",
         "name": "SL Malinga",
         "text": [
          "SL Malinga"
         ],
         "textfont": {
          "color": "#4D5663"
         },
         "type": "scatter",
         "uid": "6c8ebc2c-e071-483a-9bf9-66d5781d7f03",
         "x": [
          6.49226630800269
         ],
         "y": [
          15.819148936170214
         ]
        },
        {
         "marker": {
          "color": "rgba(219, 64, 82, 1.0)",
          "line": {
           "width": 1.3
          },
          "opacity": 0.8,
          "size": [
           77
          ],
          "symbol": "circle"
         },
         "mode": "markers",
         "name": "SP Narine",
         "text": [
          "SP Narine"
         ],
         "textfont": {
          "color": "#4D5663"
         },
         "type": "scatter",
         "uid": "92ac5bc9-2661-4f47-9828-90f2cd35a759",
         "x": [
          6.519230769230769
         ],
         "y": [
          18.978102189781023
         ]
        },
        {
         "marker": {
          "color": "rgba(0, 128, 128, 1.0)",
          "line": {
           "width": 1.3
          },
          "opacity": 0.8,
          "size": [
           26
          ],
          "symbol": "circle"
         },
         "mode": "markers",
         "name": "Rashid Khan",
         "text": [
          "Rashid Khan"
         ],
         "textfont": {
          "color": "#4D5663"
         },
         "type": "scatter",
         "uid": "3b2c7b40-def8-4acf-8663-2e4cb7658040",
         "x": [
          6.585895117540687
         ],
         "y": [
          18.433333333333334
         ]
        },
        {
         "marker": {
          "color": "rgba(255, 255, 51, 1.0)",
          "line": {
           "width": 1.3
          },
          "opacity": 0.8,
          "size": [
           93
          ],
          "symbol": "circle"
         },
         "mode": "markers",
         "name": "Harbhajan Singh",
         "text": [
          "Harbhajan Singh"
         ],
         "textfont": {
          "color": "#4D5663"
         },
         "type": "scatter",
         "uid": "8f824a4f-d9a9-4457-bc08-9bcb8c9396f4",
         "x": [
          6.745870762097943
         ],
         "y": [
          21.56875
         ]
        },
        {
         "marker": {
          "color": "rgba(128, 128, 0, 1.0)",
          "line": {
           "width": 1.3
          },
          "opacity": 0.8,
          "size": [
           80
          ],
          "symbol": "circle"
         },
         "mode": "markers",
         "name": "B Kumar",
         "text": [
          "B Kumar"
         ],
         "textfont": {
          "color": "#4D5663"
         },
         "type": "scatter",
         "uid": "aad7fe83-b9f9-4a6c-a2ae-32a5a7be48f3",
         "x": [
          6.7979312892500925
         ],
         "y": [
          19.19858156028369
         ]
        },
        {
         "marker": {
          "color": "rgba(251, 128, 114, 1.0)",
          "line": {
           "width": 1.3
          },
          "opacity": 0.8,
          "size": [
           12
          ],
          "symbol": "circle"
         },
         "mode": "markers",
         "name": "M Kartik",
         "text": [
          "M Kartik"
         ],
         "textfont": {
          "color": "#4D5663"
         },
         "type": "scatter",
         "uid": "d1a0f0c2-c534-4e36-a81a-57ce06278443",
         "x": [
          6.807106598984771
         ],
         "y": [
          30.307692307692307
         ]
        },
        {
         "marker": {
          "color": "rgba(128, 177, 211, 1.0)",
          "line": {
           "width": 1.3
          },
          "opacity": 0.8,
          "size": [
           26
          ],
          "symbol": "circle"
         },
         "mode": "markers",
         "name": "SK Warne",
         "text": [
          "SK Warne"
         ],
         "textfont": {
          "color": "#4D5663"
         },
         "type": "scatter",
         "uid": "7450c6c6-5bdf-4f06-b4af-38c98adf9e9f",
         "x": [
          6.907604251839738
         ],
         "y": [
          20.383333333333333
         ]
        },
        {
         "marker": {
          "color": "rgba(128, 177, 211, 0.8999999999999999)",
          "line": {
           "width": 1.3
          },
          "opacity": 0.8,
          "size": [
           40
          ],
          "symbol": "circle"
         },
         "mode": "markers",
         "name": "JD Unadkat",
         "text": [
          "JD Unadkat"
         ],
         "textfont": {
          "color": "#4D5663"
         },
         "type": "scatter",
         "uid": "85961c9d-b2cb-4048-9f48-d159db45d945",
         "x": [
          8.499675535366645
         ],
         "y": [
          18.79268292682927
         ]
        },
        {
         "marker": {
          "color": "rgba(255, 153, 51, 0.8999999999999999)",
          "line": {
           "width": 1.3
          },
          "opacity": 0.8,
          "size": [
           25
          ],
          "symbol": "circle"
         },
         "mode": "markers",
         "name": "AD Russell",
         "text": [
          "AD Russell"
         ],
         "textfont": {
          "color": "#4D5663"
         },
         "type": "scatter",
         "uid": "de1ea46b-2458-41b8-95fe-6270582f2426",
         "x": [
          8.496268656716419
         ],
         "y": [
          18.16949152542373
         ]
        },
        {
         "marker": {
          "color": "rgba(55, 128, 191, 0.8999999999999999)",
          "line": {
           "width": 1.3
          },
          "opacity": 0.8,
          "size": [
           20
          ],
          "symbol": "circle"
         },
         "mode": "markers",
         "name": "Mohammed Shami",
         "text": [
          "Mohammed Shami"
         ],
         "textfont": {
          "color": "#4D5663"
         },
         "type": "scatter",
         "uid": "714dd7b8-f4c2-455b-bd60-310ee05c1cbf",
         "x": [
          8.4
         ],
         "y": [
          20.673076923076923
         ]
        },
        {
         "marker": {
          "color": "rgba(50, 171, 96, 0.8999999999999999)",
          "line": {
           "width": 1.3
          },
          "opacity": 0.8,
          "size": [
           21
          ],
          "symbol": "circle"
         },
         "mode": "markers",
         "name": "S Kaul",
         "text": [
          "S Kaul"
         ],
         "textfont": {
          "color": "#4D5663"
         },
         "type": "scatter",
         "uid": "f5821b1c-3546-4923-8097-055d7c488dd2",
         "x": [
          8.222442899702084
         ],
         "y": [
          19
         ]
        },
        {
         "marker": {
          "color": "rgba(128, 0, 128, 0.8999999999999999)",
          "line": {
           "width": 1.3
          },
          "opacity": 0.8,
          "size": [
           36
          ],
          "symbol": "circle"
         },
         "mode": "markers",
         "name": "JP Faulkner",
         "text": [
          "JP Faulkner"
         ],
         "textfont": {
          "color": "#4D5663"
         },
         "type": "scatter",
         "uid": "e4bb0dfc-1cae-4ce4-8dc3-ec1a83dfc503",
         "x": [
          8.13053613053613
         ],
         "y": [
          16.93421052631579
         ]
        },
        {
         "marker": {
          "color": "rgba(219, 64, 82, 0.8999999999999999)",
          "line": {
           "width": 1.3
          },
          "opacity": 0.8,
          "size": [
           52
          ],
          "symbol": "circle"
         },
         "mode": "markers",
         "name": "MM Sharma",
         "text": [
          "MM Sharma"
         ],
         "textfont": {
          "color": "#4D5663"
         },
         "type": "scatter",
         "uid": "b6f4a1c3-fb1e-4d1b-a572-ef9c0c5cd095",
         "x": [
          8.128813559322033
         ],
         "y": [
          17.87878787878788
         ]
        },
        {
         "marker": {
          "color": "rgba(0, 128, 128, 0.8999999999999999)",
          "line": {
           "width": 1.3
          },
          "opacity": 0.8,
          "size": [
           71
          ],
          "symbol": "circle"
         },
         "mode": "markers",
         "name": "R Vinay Kumar",
         "text": [
          "R Vinay Kumar"
         ],
         "textfont": {
          "color": "#4D5663"
         },
         "type": "scatter",
         "uid": "9e13a1bf-65dd-4286-86bb-49fe6c02c347",
         "x": [
          8.033851784080513
         ],
         "y": [
          17.212598425196852
         ]
        },
        {
         "marker": {
          "color": "rgba(255, 255, 51, 0.8999999999999999)",
          "line": {
           "width": 1.3
          },
          "opacity": 0.8,
          "size": [
           30
          ],
          "symbol": "circle"
         },
         "mode": "markers",
         "name": "KA Pollard",
         "text": [
          "KA Pollard"
         ],
         "textfont": {
          "color": "#4D5663"
         },
         "type": "scatter",
         "uid": "6012c157-a88e-4266-962e-72f9465a77cb",
         "x": [
          7.93730407523511
         ],
         "y": [
          19.044776119402986
         ]
        },
        {
         "marker": {
          "color": "rgba(128, 128, 0, 0.8999999999999999)",
          "line": {
           "width": 1.3
          },
          "opacity": 0.8,
          "size": [
           77
          ],
          "symbol": "circle"
         },
         "mode": "markers",
         "name": "UT Yadav",
         "text": [
          "UT Yadav"
         ],
         "textfont": {
          "color": "#4D5663"
         },
         "type": "scatter",
         "uid": "aa560879-3783-4292-a757-bf375f64e06e",
         "x": [
          7.879462571976967
         ],
         "y": [
          19.154411764705884
         ]
        },
        {
         "marker": {
          "color": "rgba(251, 128, 114, 0.8999999999999999)",
          "line": {
           "width": 1.3
          },
          "opacity": 0.8,
          "size": [
           35
          ],
          "symbol": "circle"
         },
         "mode": "markers",
         "name": "MJ McClenaghan",
         "text": [
          "MJ McClenaghan"
         ],
         "textfont": {
          "color": "#4D5663"
         },
         "type": "scatter",
         "uid": "7fe4dfe3-0935-49cf-b0c0-798acdbaa53f",
         "x": [
          7.827637444279346
         ],
         "y": [
          18.18918918918919
         ]
        }
       ],
       "layout": {
        "legend": {
         "x": 1,
         "y": 0
        },
        "title": {
         "font": {
          "size": 20
         },
         "text": "10 Best and 10 Worst Bowlers",
         "x": 0,
         "xref": "paper"
        },
        "xaxis": {
         "exponentformat": "e",
         "showexponent": "all",
         "showticklabels": true,
         "tickfont": {
          "size": 14
         },
         "title": {
          "font": {
           "size": 20
          },
          "text": "Economy"
         }
        },
        "yaxis": {
         "exponentformat": "e",
         "showexponent": "all",
         "showticklabels": true,
         "tickfont": {
          "color": "black",
          "family": "Old Standard TT, serif",
          "size": 14
         },
         "title": {
          "font": {
           "family": "Arial, sans-serif",
           "size": 20
          },
          "text": "Wicket Taking Ability"
         }
        }
       }
      },
      "text/html": [
       "<div>\n",
       "        \n",
       "        \n",
       "            <div id=\"d66da381-0c47-4289-9595-8cc9ec42eb40\" class=\"plotly-graph-div\" style=\"height:525px; width:100%;\"></div>\n",
       "            <script type=\"text/javascript\">\n",
       "                require([\"plotly\"], function(Plotly) {\n",
       "                    window.PLOTLYENV=window.PLOTLYENV || {};\n",
       "                    window.PLOTLYENV.BASE_URL='https://plot.ly';\n",
       "                    \n",
       "                if (document.getElementById(\"d66da381-0c47-4289-9595-8cc9ec42eb40\")) {\n",
       "                    Plotly.newPlot(\n",
       "                        'd66da381-0c47-4289-9595-8cc9ec42eb40',\n",
       "                        [{\"marker\": {\"color\": \"rgba(255, 153, 51, 1.0)\", \"line\": {\"width\": 1.3}, \"opacity\": 0.8, \"size\": [54], \"symbol\": \"circle\"}, \"mode\": \"markers\", \"name\": \"DW Steyn\", \"text\": [\"DW Steyn\"], \"textfont\": {\"color\": \"#4D5663\"}, \"type\": \"scatter\", \"uid\": \"c6271fae-a480-42ab-9e4a-dbb6280f8f6f\", \"x\": [6.206615314907114], \"y\": [21.42718446601942]}, {\"marker\": {\"color\": \"rgba(55, 128, 191, 1.0)\", \"line\": {\"width\": 1.3}, \"opacity\": 0.8, \"size\": [30], \"symbol\": \"circle\"}, \"mode\": \"markers\", \"name\": \"M Muralitharan\", \"text\": [\"M Muralitharan\"], \"textfont\": {\"color\": \"#4D5663\"}, \"type\": \"scatter\", \"uid\": \"eef1ecfe-84ec-4b29-941d-c070d5ec7b6f\", \"x\": [6.2314990512333965], \"y\": [23.597014925373134]}, {\"marker\": {\"color\": \"rgba(50, 171, 96, 1.0)\", \"line\": {\"width\": 1.3}, \"opacity\": 0.8, \"size\": [78], \"symbol\": \"circle\"}, \"mode\": \"markers\", \"name\": \"R Ashwin\", \"text\": [\"R Ashwin\"], \"textfont\": {\"color\": \"#4D5663\"}, \"type\": \"scatter\", \"uid\": \"b4532248-d536-4d4d-836a-ba89615560b7\", \"x\": [6.413793103448276], \"y\": [21.855072463768117]}, {\"marker\": {\"color\": \"rgba(128, 0, 128, 1.0)\", \"line\": {\"width\": 1.3}, \"opacity\": 0.8, \"size\": [112], \"symbol\": \"circle\"}, \"mode\": \"markers\", \"name\": \"SL Malinga\", \"text\": [\"SL Malinga\"], \"textfont\": {\"color\": \"#4D5663\"}, \"type\": \"scatter\", \"uid\": \"aae828f4-7a8c-4a5a-868e-a6e377b9a0f9\", \"x\": [6.49226630800269], \"y\": [15.819148936170214]}, {\"marker\": {\"color\": \"rgba(219, 64, 82, 1.0)\", \"line\": {\"width\": 1.3}, \"opacity\": 0.8, \"size\": [77], \"symbol\": \"circle\"}, \"mode\": \"markers\", \"name\": \"SP Narine\", \"text\": [\"SP Narine\"], \"textfont\": {\"color\": \"#4D5663\"}, \"type\": \"scatter\", \"uid\": \"afa687ef-ac99-46d9-b330-7b45f18c9249\", \"x\": [6.519230769230769], \"y\": [18.978102189781023]}, {\"marker\": {\"color\": \"rgba(0, 128, 128, 1.0)\", \"line\": {\"width\": 1.3}, \"opacity\": 0.8, \"size\": [26], \"symbol\": \"circle\"}, \"mode\": \"markers\", \"name\": \"Rashid Khan\", \"text\": [\"Rashid Khan\"], \"textfont\": {\"color\": \"#4D5663\"}, \"type\": \"scatter\", \"uid\": \"f5e38b7f-4dab-4ee1-8b96-10178761e516\", \"x\": [6.585895117540687], \"y\": [18.433333333333334]}, {\"marker\": {\"color\": \"rgba(255, 255, 51, 1.0)\", \"line\": {\"width\": 1.3}, \"opacity\": 0.8, \"size\": [93], \"symbol\": \"circle\"}, \"mode\": \"markers\", \"name\": \"Harbhajan Singh\", \"text\": [\"Harbhajan Singh\"], \"textfont\": {\"color\": \"#4D5663\"}, \"type\": \"scatter\", \"uid\": \"719cb723-a7ec-4aae-8f72-6770ee44f842\", \"x\": [6.745870762097943], \"y\": [21.56875]}, {\"marker\": {\"color\": \"rgba(128, 128, 0, 1.0)\", \"line\": {\"width\": 1.3}, \"opacity\": 0.8, \"size\": [80], \"symbol\": \"circle\"}, \"mode\": \"markers\", \"name\": \"B Kumar\", \"text\": [\"B Kumar\"], \"textfont\": {\"color\": \"#4D5663\"}, \"type\": \"scatter\", \"uid\": \"d244a401-0dba-484e-89c6-bc4105f8b0d1\", \"x\": [6.7979312892500925], \"y\": [19.19858156028369]}, {\"marker\": {\"color\": \"rgba(251, 128, 114, 1.0)\", \"line\": {\"width\": 1.3}, \"opacity\": 0.8, \"size\": [12], \"symbol\": \"circle\"}, \"mode\": \"markers\", \"name\": \"M Kartik\", \"text\": [\"M Kartik\"], \"textfont\": {\"color\": \"#4D5663\"}, \"type\": \"scatter\", \"uid\": \"a7bc8d34-094e-44e0-8492-bad0fd96f809\", \"x\": [6.807106598984771], \"y\": [30.307692307692307]}, {\"marker\": {\"color\": \"rgba(128, 177, 211, 1.0)\", \"line\": {\"width\": 1.3}, \"opacity\": 0.8, \"size\": [26], \"symbol\": \"circle\"}, \"mode\": \"markers\", \"name\": \"SK Warne\", \"text\": [\"SK Warne\"], \"textfont\": {\"color\": \"#4D5663\"}, \"type\": \"scatter\", \"uid\": \"8a4dd0d2-b077-4fcc-8f00-1f33f1d7a949\", \"x\": [6.907604251839738], \"y\": [20.383333333333333]}, {\"marker\": {\"color\": \"rgba(128, 177, 211, 0.8999999999999999)\", \"line\": {\"width\": 1.3}, \"opacity\": 0.8, \"size\": [40], \"symbol\": \"circle\"}, \"mode\": \"markers\", \"name\": \"JD Unadkat\", \"text\": [\"JD Unadkat\"], \"textfont\": {\"color\": \"#4D5663\"}, \"type\": \"scatter\", \"uid\": \"4a8d9d37-0344-4ae9-ad72-d379ec540cac\", \"x\": [8.499675535366645], \"y\": [18.79268292682927]}, {\"marker\": {\"color\": \"rgba(255, 153, 51, 0.8999999999999999)\", \"line\": {\"width\": 1.3}, \"opacity\": 0.8, \"size\": [25], \"symbol\": \"circle\"}, \"mode\": \"markers\", \"name\": \"AD Russell\", \"text\": [\"AD Russell\"], \"textfont\": {\"color\": \"#4D5663\"}, \"type\": \"scatter\", \"uid\": \"0a7ee2ee-3e97-47d0-b3ec-e4f261422c5e\", \"x\": [8.496268656716419], \"y\": [18.16949152542373]}, {\"marker\": {\"color\": \"rgba(55, 128, 191, 0.8999999999999999)\", \"line\": {\"width\": 1.3}, \"opacity\": 0.8, \"size\": [20], \"symbol\": \"circle\"}, \"mode\": \"markers\", \"name\": \"Mohammed Shami\", \"text\": [\"Mohammed Shami\"], \"textfont\": {\"color\": \"#4D5663\"}, \"type\": \"scatter\", \"uid\": \"de2e1636-983e-43f3-bfcb-1801db54dad1\", \"x\": [8.4], \"y\": [20.673076923076923]}, {\"marker\": {\"color\": \"rgba(50, 171, 96, 0.8999999999999999)\", \"line\": {\"width\": 1.3}, \"opacity\": 0.8, \"size\": [21], \"symbol\": \"circle\"}, \"mode\": \"markers\", \"name\": \"S Kaul\", \"text\": [\"S Kaul\"], \"textfont\": {\"color\": \"#4D5663\"}, \"type\": \"scatter\", \"uid\": \"febae824-0f3f-4d2b-bef5-f6318bbebf13\", \"x\": [8.222442899702084], \"y\": [19.0]}, {\"marker\": {\"color\": \"rgba(128, 0, 128, 0.8999999999999999)\", \"line\": {\"width\": 1.3}, \"opacity\": 0.8, \"size\": [36], \"symbol\": \"circle\"}, \"mode\": \"markers\", \"name\": \"JP Faulkner\", \"text\": [\"JP Faulkner\"], \"textfont\": {\"color\": \"#4D5663\"}, \"type\": \"scatter\", \"uid\": \"6046b5c2-3231-46d8-9103-2fa7f49c85fa\", \"x\": [8.13053613053613], \"y\": [16.93421052631579]}, {\"marker\": {\"color\": \"rgba(219, 64, 82, 0.8999999999999999)\", \"line\": {\"width\": 1.3}, \"opacity\": 0.8, \"size\": [52], \"symbol\": \"circle\"}, \"mode\": \"markers\", \"name\": \"MM Sharma\", \"text\": [\"MM Sharma\"], \"textfont\": {\"color\": \"#4D5663\"}, \"type\": \"scatter\", \"uid\": \"9046a766-7720-4031-ac63-b6d11ce64888\", \"x\": [8.128813559322033], \"y\": [17.87878787878788]}, {\"marker\": {\"color\": \"rgba(0, 128, 128, 0.8999999999999999)\", \"line\": {\"width\": 1.3}, \"opacity\": 0.8, \"size\": [71], \"symbol\": \"circle\"}, \"mode\": \"markers\", \"name\": \"R Vinay Kumar\", \"text\": [\"R Vinay Kumar\"], \"textfont\": {\"color\": \"#4D5663\"}, \"type\": \"scatter\", \"uid\": \"22e72285-2f9b-46b8-9f76-b7a7b1e0791c\", \"x\": [8.033851784080513], \"y\": [17.212598425196852]}, {\"marker\": {\"color\": \"rgba(255, 255, 51, 0.8999999999999999)\", \"line\": {\"width\": 1.3}, \"opacity\": 0.8, \"size\": [30], \"symbol\": \"circle\"}, \"mode\": \"markers\", \"name\": \"KA Pollard\", \"text\": [\"KA Pollard\"], \"textfont\": {\"color\": \"#4D5663\"}, \"type\": \"scatter\", \"uid\": \"e2f5dd80-739a-42b0-9082-809982e2f26b\", \"x\": [7.93730407523511], \"y\": [19.044776119402986]}, {\"marker\": {\"color\": \"rgba(128, 128, 0, 0.8999999999999999)\", \"line\": {\"width\": 1.3}, \"opacity\": 0.8, \"size\": [77], \"symbol\": \"circle\"}, \"mode\": \"markers\", \"name\": \"UT Yadav\", \"text\": [\"UT Yadav\"], \"textfont\": {\"color\": \"#4D5663\"}, \"type\": \"scatter\", \"uid\": \"c4307b7a-68f8-424b-a3d3-83816269cc7c\", \"x\": [7.879462571976967], \"y\": [19.154411764705884]}, {\"marker\": {\"color\": \"rgba(251, 128, 114, 0.8999999999999999)\", \"line\": {\"width\": 1.3}, \"opacity\": 0.8, \"size\": [35], \"symbol\": \"circle\"}, \"mode\": \"markers\", \"name\": \"MJ McClenaghan\", \"text\": [\"MJ McClenaghan\"], \"textfont\": {\"color\": \"#4D5663\"}, \"type\": \"scatter\", \"uid\": \"ad30e9af-4a4e-4c81-aca8-22e1c0caedcb\", \"x\": [7.827637444279346], \"y\": [18.18918918918919]}],\n",
       "                        {\"legend\": {\"x\": 1, \"y\": 0}, \"title\": {\"font\": {\"size\": 20}, \"text\": \"10 Best and 10 Worst Bowlers\", \"x\": 0, \"xref\": \"paper\"}, \"xaxis\": {\"exponentformat\": \"e\", \"showexponent\": \"all\", \"showticklabels\": true, \"tickfont\": {\"size\": 14}, \"title\": {\"font\": {\"size\": 20}, \"text\": \"Economy\"}}, \"yaxis\": {\"exponentformat\": \"e\", \"showexponent\": \"all\", \"showticklabels\": true, \"tickfont\": {\"color\": \"black\", \"family\": \"Old Standard TT, serif\", \"size\": 14}, \"title\": {\"font\": {\"family\": \"Arial, sans-serif\", \"size\": 20}, \"text\": \"Wicket Taking Ability\"}}},\n",
       "                        {\"showLink\": true, \"linkText\": \"Export to plot.ly\", \"plotlyServerURL\": \"https://plot.ly\", \"responsive\": true}\n",
       "                    ).then(function(){\n",
       "                            \n",
       "var gd = document.getElementById('d66da381-0c47-4289-9595-8cc9ec42eb40');\n",
       "var x = new MutationObserver(function (mutations, observer) {{\n",
       "        var display = window.getComputedStyle(gd).display;\n",
       "        if (!display || display === 'none') {{\n",
       "            console.log([gd, 'removed!']);\n",
       "            Plotly.purge(gd);\n",
       "            observer.disconnect();\n",
       "        }}\n",
       "}});\n",
       "\n",
       "// Listen for the removal of the full notebook cells\n",
       "var notebookContainer = gd.closest('#notebook-container');\n",
       "if (notebookContainer) {{\n",
       "    x.observe(notebookContainer, {childList: true});\n",
       "}}\n",
       "\n",
       "// Listen for the clearing of the current output cell\n",
       "var outputEl = gd.closest('.output');\n",
       "if (outputEl) {{\n",
       "    x.observe(outputEl, {childList: true});\n",
       "}}\n",
       "\n",
       "                        })\n",
       "                };\n",
       "                });\n",
       "            </script>\n",
       "        </div>"
      ]
     },
     "metadata": {},
     "output_type": "display_data"
    }
   ],
   "source": [
    "## Generate and format Plot\n",
    "\n",
    "out_best = out.nsmallest(10, 'Economy')\n",
    "out_worst = out.nlargest(10, 'Economy')\n",
    "\n",
    "b_comp = pd.concat([out_best, out_worst])\n",
    "layout = go.Layout(\n",
    "    title=dict(\n",
    "        text=\"10 Best and 10 Worst Bowlers\",\n",
    "        xref=\"paper\",\n",
    "        font = dict(size=20),\n",
    "        x=0\n",
    "    \n",
    "    ),\n",
    "  legend = dict(\n",
    "    x = 1,\n",
    "    y = 0\n",
    "  ),\n",
    "    xaxis=dict(\n",
    "        title='Economy',\n",
    "        titlefont=dict(\n",
    "            size=20,\n",
    "        ),\n",
    "        showticklabels=True,\n",
    "        tickfont=dict(\n",
    "            size=14,\n",
    "        ),\n",
    "        exponentformat='e',\n",
    "        showexponent='all'\n",
    "    ),\n",
    "    yaxis=dict(\n",
    "        title='Wicket Taking Ability',\n",
    "        titlefont=dict(\n",
    "            family='Arial, sans-serif',\n",
    "            size=20,\n",
    "        ),\n",
    "        showticklabels=True,\n",
    "        tickfont=dict(\n",
    "            family='Old Standard TT, serif',\n",
    "            size=14,\n",
    "            color='black'\n",
    "        ),\n",
    "        exponentformat='e',\n",
    "        showexponent='all'\n",
    "    )\n",
    ")\n",
    "b_comp.iplot(layout= layout, kind='bubble', x='Economy', y='Wicket Taking Ability', categories='bowler', size='Number of Wickets taken', text='bowler',\n",
    "          xTitle='Bowler Economy', yTitle='Bowler Wicket Taking Ability', filename='cufflinks/simple-bubble-chart')"
   ]
  },
  {
   "cell_type": "markdown",
   "metadata": {
    "pycharm": {
     "name": "#%%\n"
    }
   },
   "source": [
    "### 10 Best and 10 Worst Batsmen"
   ]
  },
  {
   "cell_type": "code",
   "execution_count": 6,
   "metadata": {
    "pycharm": {
     "name": "#%%\n"
    }
   },
   "outputs": [],
   "source": [
    "# Calculate Metrics\n",
    "hh = hard_hit(ball_data.copy())\n",
    "fs = fast_scoring(ball_data.copy())\n",
    "\n",
    "# Keep regular batsmen\n",
    "hh_100 = hh[hh['Number of Balls Faced']>800]\n",
    "fs_100 = fs[fs['Number of Balls Faced']>800]\n",
    "out = pd.merge(hh_100, fs_100, how='inner', on=['batsman','Number of Balls Faced'])"
   ]
  },
  {
   "cell_type": "code",
   "execution_count": 7,
   "metadata": {
    "pycharm": {
     "name": "#%%\n"
    }
   },
   "outputs": [
    {
     "data": {
      "application/vnd.plotly.v1+json": {
       "config": {
        "linkText": "Export to plot.ly",
        "plotlyServerURL": "https://plot.ly",
        "responsive": true,
        "showLink": true
       },
       "data": [
        {
         "marker": {
          "color": "rgba(255, 153, 51, 1.0)",
          "line": {
           "width": 1.3
          },
          "opacity": 0.8,
          "size": [
           24
          ],
          "symbol": "circle"
         },
         "mode": "markers",
         "name": "SC Ganguly",
         "text": [
          "SC Ganguly"
         ],
         "textfont": {
          "color": "#4D5663"
         },
         "type": "scatter",
         "uid": "4c418122-ba54-406e-9d13-b13c831dd769",
         "x": [
          0.13499245852187028
         ],
         "y": [
          1.0173453996983408
         ]
        },
        {
         "marker": {
          "color": "rgba(55, 128, 191, 1.0)",
          "line": {
           "width": 1.3
          },
          "opacity": 0.8,
          "size": [
           12
          ],
          "symbol": "circle"
         },
         "mode": "markers",
         "name": "HH Gibbs",
         "text": [
          "HH Gibbs"
         ],
         "textfont": {
          "color": "#4D5663"
         },
         "type": "scatter",
         "uid": "aba006e0-9745-4c96-8429-37a9ec3f5118",
         "x": [
          0.13620071684587814
         ],
         "y": [
          1.058542413381123
         ]
        },
        {
         "marker": {
          "color": "rgba(50, 171, 96, 1.0)",
          "line": {
           "width": 1.3
          },
          "opacity": 0.8,
          "size": [
           51
          ],
          "symbol": "circle"
         },
         "mode": "markers",
         "name": "JH Kallis",
         "text": [
          "JH Kallis"
         ],
         "textfont": {
          "color": "#4D5663"
         },
         "type": "scatter",
         "uid": "33dd86ff-d28c-4b11-b461-3bc3da5bd620",
         "x": [
          0.13051069402007856
         ],
         "y": [
          1.0593627237014405
         ]
        },
        {
         "marker": {
          "color": "rgba(128, 0, 128, 1.0)",
          "line": {
           "width": 1.3
          },
          "opacity": 0.8,
          "size": [
           18
          ],
          "symbol": "circle"
         },
         "mode": "markers",
         "name": "TM Dilshan",
         "text": [
          "TM Dilshan"
         ],
         "textfont": {
          "color": "#4D5663"
         },
         "type": "scatter",
         "uid": "f25ff278-b15f-4f3b-970d-1bb83ebfa72b",
         "x": [
          0.15663801337153774
         ],
         "y": [
          1.1012416427889207
         ]
        },
        {
         "marker": {
          "color": "rgba(219, 64, 82, 1.0)",
          "line": {
           "width": 1.3
          },
          "opacity": 0.8,
          "size": [
           45
          ],
          "symbol": "circle"
         },
         "mode": "markers",
         "name": "R Dravid",
         "text": [
          "R Dravid"
         ],
         "textfont": {
          "color": "#4D5663"
         },
         "type": "scatter",
         "uid": "f49f0e48-dcc9-4bae-88ef-1995b93dbd74",
         "x": [
          0.1548488008342023
         ],
         "y": [
          1.1334723670490094
         ]
        },
        {
         "marker": {
          "color": "rgba(0, 128, 128, 1.0)",
          "line": {
           "width": 1.3
          },
          "opacity": 0.8,
          "size": [
           14
          ],
          "symbol": "circle"
         },
         "mode": "markers",
         "name": "Y Venugopal Rao",
         "text": [
          "Y Venugopal Rao"
         ],
         "textfont": {
          "color": "#4D5663"
         },
         "type": "scatter",
         "uid": "99f1940e-5003-4a03-8982-a9c4a75d6424",
         "x": [
          0.13179190751445086
         ],
         "y": [
          1.138728323699422
         ]
        },
        {
         "marker": {
          "color": "rgba(255, 255, 51, 1.0)",
          "line": {
           "width": 1.3
          },
          "opacity": 0.8,
          "size": [
           33
          ],
          "symbol": "circle"
         },
         "mode": "markers",
         "name": "MK Tiwary",
         "text": [
          "MK Tiwary"
         ],
         "textfont": {
          "color": "#4D5663"
         },
         "type": "scatter",
         "uid": "6b2e485c-b2f4-4a88-a45a-720825518629",
         "x": [
          0.13163196776359973
         ],
         "y": [
          1.1396910678307588
         ]
        },
        {
         "marker": {
          "color": "rgba(128, 128, 0, 1.0)",
          "line": {
           "width": 1.3
          },
          "opacity": 0.8,
          "size": [
           49
          ],
          "symbol": "circle"
         },
         "mode": "markers",
         "name": "SR Tendulkar",
         "text": [
          "SR Tendulkar"
         ],
         "textfont": {
          "color": "#4D5663"
         },
         "type": "scatter",
         "uid": "8461c4aa-47df-4eb1-9df0-164f1a0220a0",
         "x": [
          0.15900195694716243
         ],
         "y": [
          1.1418786692759295
         ]
        },
        {
         "marker": {
          "color": "rgba(251, 128, 114, 1.0)",
          "line": {
           "width": 1.3
          },
          "opacity": 0.8,
          "size": [
           29
          ],
          "symbol": "circle"
         },
         "mode": "markers",
         "name": "NV Ojha",
         "text": [
          "NV Ojha"
         ],
         "textfont": {
          "color": "#4D5663"
         },
         "type": "scatter",
         "uid": "ab2f8e05-57d6-4c1d-9d7b-e7855c8562ea",
         "x": [
          0.14705882352941177
         ],
         "y": [
          1.1433823529411764
         ]
        },
        {
         "marker": {
          "color": "rgba(128, 177, 211, 1.0)",
          "line": {
           "width": 1.3
          },
          "opacity": 0.8,
          "size": [
           22
          ],
          "symbol": "circle"
         },
         "mode": "markers",
         "name": "SS Tiwary",
         "text": [
          "SS Tiwary"
         ],
         "textfont": {
          "color": "#4D5663"
         },
         "type": "scatter",
         "uid": "17e3a759-759a-4017-8ed5-69630a958cb7",
         "x": [
          0.12421242124212421
         ],
         "y": [
          1.1485148514851484
         ]
        },
        {
         "marker": {
          "color": "rgba(128, 177, 211, 0.8999999999999999)",
          "line": {
           "width": 1.3
          },
          "opacity": 0.8,
          "size": [
           26
          ],
          "symbol": "circle"
         },
         "mode": "markers",
         "name": "AD Russell",
         "text": [
          "AD Russell"
         ],
         "textfont": {
          "color": "#4D5663"
         },
         "type": "scatter",
         "uid": "c2226098-2e39-41a5-9d24-7abeabe8fa0f",
         "x": [
          0.27023661270236615
         ],
         "y": [
          1.7995018679950188
         ]
        },
        {
         "marker": {
          "color": "rgba(255, 153, 51, 0.8999999999999999)",
          "line": {
           "width": 1.3
          },
          "opacity": 0.8,
          "size": [
           35
          ],
          "symbol": "circle"
         },
         "mode": "markers",
         "name": "RR Pant",
         "text": [
          "RR Pant"
         ],
         "textfont": {
          "color": "#4D5663"
         },
         "type": "scatter",
         "uid": "eda9513a-ed45-4720-b97c-e2376c1fae3d",
         "x": [
          0.2246376811594203
         ],
         "y": [
          1.6231884057971016
         ]
        },
        {
         "marker": {
          "color": "rgba(55, 128, 191, 0.8999999999999999)",
          "line": {
           "width": 1.3
          },
          "opacity": 0.8,
          "size": [
           25
          ],
          "symbol": "circle"
         },
         "mode": "markers",
         "name": "GJ Maxwell",
         "text": [
          "GJ Maxwell"
         ],
         "textfont": {
          "color": "#4D5663"
         },
         "type": "scatter",
         "uid": "8c56376c-b388-4473-a8bd-39ba48330683",
         "x": [
          0.22283813747228381
         ],
         "y": [
          1.5554323725055432
         ]
        },
        {
         "marker": {
          "color": "rgba(50, 171, 96, 0.8999999999999999)",
          "line": {
           "width": 1.3
          },
          "opacity": 0.8,
          "size": [
           26
          ],
          "symbol": "circle"
         },
         "mode": "markers",
         "name": "JC Buttler",
         "text": [
          "JC Buttler"
         ],
         "textfont": {
          "color": "#4D5663"
         },
         "type": "scatter",
         "uid": "6db69779-f152-4dd2-a58b-452e74698625",
         "x": [
          0.2138364779874214
         ],
         "y": [
          1.5
         ]
        },
        {
         "marker": {
          "color": "rgba(128, 0, 128, 0.8999999999999999)",
          "line": {
           "width": 1.3
          },
          "opacity": 0.8,
          "size": [
           59
          ],
          "symbol": "circle"
         },
         "mode": "markers",
         "name": "V Sehwag",
         "text": [
          "V Sehwag"
         ],
         "textfont": {
          "color": "#4D5663"
         },
         "type": "scatter",
         "uid": "29590bd7-b38e-4cc0-a09f-7fa6fd171650",
         "x": [
          0.24004364429896344
         ],
         "y": [
          1.4882705946535735
         ]
        },
        {
         "marker": {
          "color": "rgba(219, 64, 82, 0.8999999999999999)",
          "line": {
           "width": 1.3
          },
          "opacity": 0.8,
          "size": [
           103
          ],
          "symbol": "circle"
         },
         "mode": "markers",
         "name": "AB de Villiers",
         "text": [
          "AB de Villiers"
         ],
         "textfont": {
          "color": "#4D5663"
         },
         "type": "scatter",
         "uid": "9a63ac39-240a-45f0-8da7-b9de1a5e3dfe",
         "x": [
          0.1918038293584145
         ],
         "y": [
          1.487403426268055
         ]
        },
        {
         "marker": {
          "color": "rgba(0, 128, 128, 0.8999999999999999)",
          "line": {
           "width": 1.3
          },
          "opacity": 0.8,
          "size": [
           107
          ],
          "symbol": "circle"
         },
         "mode": "markers",
         "name": "CH Gayle",
         "text": [
          "CH Gayle"
         ],
         "textfont": {
          "color": "#4D5663"
         },
         "type": "scatter",
         "uid": "f6940bfd-feb2-4793-9b96-d6a8fe9d671c",
         "x": [
          0.22452890450335355
         ],
         "y": [
          1.4564037048866176
         ]
        },
        {
         "marker": {
          "color": "rgba(255, 255, 51, 0.8999999999999999)",
          "line": {
           "width": 1.3
          },
          "opacity": 0.8,
          "size": [
           61
          ],
          "symbol": "circle"
         },
         "mode": "markers",
         "name": "KA Pollard",
         "text": [
          "KA Pollard"
         ],
         "textfont": {
          "color": "#4D5663"
         },
         "type": "scatter",
         "uid": "6d809b7c-ba55-46a7-b880-1ebd15de86c5",
         "x": [
          0.18177189409368635
         ],
         "y": [
          1.4175152749490836
         ]
        },
        {
         "marker": {
          "color": "rgba(128, 128, 0, 0.8999999999999999)",
          "line": {
           "width": 1.3
          },
          "opacity": 0.8,
          "size": [
           112
          ],
          "symbol": "circle"
         },
         "mode": "markers",
         "name": "DA Warner",
         "text": [
          "DA Warner"
         ],
         "textfont": {
          "color": "#4D5663"
         },
         "type": "scatter",
         "uid": "7269a499-cd14-4b75-80fb-79b66594a8ad",
         "x": [
          0.1883460859329017
         ],
         "y": [
          1.3952324896998234
         ]
        },
        {
         "marker": {
          "color": "rgba(251, 128, 114, 0.8999999999999999)",
          "line": {
           "width": 1.3
          },
          "opacity": 0.8,
          "size": [
           22
          ],
          "symbol": "circle"
         },
         "mode": "markers",
         "name": "CA Lynn",
         "text": [
          "CA Lynn"
         ],
         "textfont": {
          "color": "#4D5663"
         },
         "type": "scatter",
         "uid": "473658ee-9246-4b56-8f62-eac9d9ecb58f",
         "x": [
          0.20234291799787008
         ],
         "y": [
          1.3929712460063899
         ]
        }
       ],
       "layout": {
        "legend": {
         "x": 1,
         "y": 0
        },
        "title": {
         "font": {
          "size": 20
         },
         "text": "10 Best and 10 Worst Batsman",
         "x": 0,
         "xref": "paper"
        },
        "xaxis": {
         "exponentformat": "e",
         "showexponent": "all",
         "showticklabels": true,
         "tickfont": {
          "size": 14
         },
         "title": {
          "font": {
           "size": 20
          },
          "text": "Hard Hit"
         }
        },
        "yaxis": {
         "exponentformat": "e",
         "showexponent": "all",
         "showticklabels": true,
         "tickfont": {
          "color": "black",
          "family": "Old Standard TT, serif",
          "size": 14
         },
         "title": {
          "font": {
           "family": "Arial, sans-serif",
           "size": 20
          },
          "text": "Fast Scoring Ability"
         }
        }
       }
      },
      "text/html": [
       "<div>\n",
       "        \n",
       "        \n",
       "            <div id=\"5165c9e7-f0b2-4d3e-9a92-b775e2f8d554\" class=\"plotly-graph-div\" style=\"height:525px; width:100%;\"></div>\n",
       "            <script type=\"text/javascript\">\n",
       "                require([\"plotly\"], function(Plotly) {\n",
       "                    window.PLOTLYENV=window.PLOTLYENV || {};\n",
       "                    window.PLOTLYENV.BASE_URL='https://plot.ly';\n",
       "                    \n",
       "                if (document.getElementById(\"5165c9e7-f0b2-4d3e-9a92-b775e2f8d554\")) {\n",
       "                    Plotly.newPlot(\n",
       "                        '5165c9e7-f0b2-4d3e-9a92-b775e2f8d554',\n",
       "                        [{\"marker\": {\"color\": \"rgba(255, 153, 51, 1.0)\", \"line\": {\"width\": 1.3}, \"opacity\": 0.8, \"size\": [24], \"symbol\": \"circle\"}, \"mode\": \"markers\", \"name\": \"SC Ganguly\", \"text\": [\"SC Ganguly\"], \"textfont\": {\"color\": \"#4D5663\"}, \"type\": \"scatter\", \"uid\": \"0be22374-c5eb-4b4b-9cec-d5523d251919\", \"x\": [0.13499245852187028], \"y\": [1.0173453996983408]}, {\"marker\": {\"color\": \"rgba(55, 128, 191, 1.0)\", \"line\": {\"width\": 1.3}, \"opacity\": 0.8, \"size\": [12], \"symbol\": \"circle\"}, \"mode\": \"markers\", \"name\": \"HH Gibbs\", \"text\": [\"HH Gibbs\"], \"textfont\": {\"color\": \"#4D5663\"}, \"type\": \"scatter\", \"uid\": \"d24c6a87-e2cb-44b4-89c6-45e035340831\", \"x\": [0.13620071684587814], \"y\": [1.058542413381123]}, {\"marker\": {\"color\": \"rgba(50, 171, 96, 1.0)\", \"line\": {\"width\": 1.3}, \"opacity\": 0.8, \"size\": [51], \"symbol\": \"circle\"}, \"mode\": \"markers\", \"name\": \"JH Kallis\", \"text\": [\"JH Kallis\"], \"textfont\": {\"color\": \"#4D5663\"}, \"type\": \"scatter\", \"uid\": \"4f6554a9-a2f8-41ad-9b7c-6c6c36c3c688\", \"x\": [0.13051069402007856], \"y\": [1.0593627237014405]}, {\"marker\": {\"color\": \"rgba(128, 0, 128, 1.0)\", \"line\": {\"width\": 1.3}, \"opacity\": 0.8, \"size\": [18], \"symbol\": \"circle\"}, \"mode\": \"markers\", \"name\": \"TM Dilshan\", \"text\": [\"TM Dilshan\"], \"textfont\": {\"color\": \"#4D5663\"}, \"type\": \"scatter\", \"uid\": \"fd894474-d303-4327-a805-f3b85f867745\", \"x\": [0.15663801337153774], \"y\": [1.1012416427889207]}, {\"marker\": {\"color\": \"rgba(219, 64, 82, 1.0)\", \"line\": {\"width\": 1.3}, \"opacity\": 0.8, \"size\": [45], \"symbol\": \"circle\"}, \"mode\": \"markers\", \"name\": \"R Dravid\", \"text\": [\"R Dravid\"], \"textfont\": {\"color\": \"#4D5663\"}, \"type\": \"scatter\", \"uid\": \"9fb9dcfc-14bc-4e26-a404-16e24f84de77\", \"x\": [0.1548488008342023], \"y\": [1.1334723670490094]}, {\"marker\": {\"color\": \"rgba(0, 128, 128, 1.0)\", \"line\": {\"width\": 1.3}, \"opacity\": 0.8, \"size\": [14], \"symbol\": \"circle\"}, \"mode\": \"markers\", \"name\": \"Y Venugopal Rao\", \"text\": [\"Y Venugopal Rao\"], \"textfont\": {\"color\": \"#4D5663\"}, \"type\": \"scatter\", \"uid\": \"dce66877-e316-494c-97ec-39401ef46052\", \"x\": [0.13179190751445086], \"y\": [1.138728323699422]}, {\"marker\": {\"color\": \"rgba(255, 255, 51, 1.0)\", \"line\": {\"width\": 1.3}, \"opacity\": 0.8, \"size\": [33], \"symbol\": \"circle\"}, \"mode\": \"markers\", \"name\": \"MK Tiwary\", \"text\": [\"MK Tiwary\"], \"textfont\": {\"color\": \"#4D5663\"}, \"type\": \"scatter\", \"uid\": \"361e3a8d-8d14-40a0-b530-6b46c41733de\", \"x\": [0.13163196776359973], \"y\": [1.1396910678307588]}, {\"marker\": {\"color\": \"rgba(128, 128, 0, 1.0)\", \"line\": {\"width\": 1.3}, \"opacity\": 0.8, \"size\": [49], \"symbol\": \"circle\"}, \"mode\": \"markers\", \"name\": \"SR Tendulkar\", \"text\": [\"SR Tendulkar\"], \"textfont\": {\"color\": \"#4D5663\"}, \"type\": \"scatter\", \"uid\": \"ce1db63f-ba80-419f-b0d8-ab2d294876e7\", \"x\": [0.15900195694716243], \"y\": [1.1418786692759295]}, {\"marker\": {\"color\": \"rgba(251, 128, 114, 1.0)\", \"line\": {\"width\": 1.3}, \"opacity\": 0.8, \"size\": [29], \"symbol\": \"circle\"}, \"mode\": \"markers\", \"name\": \"NV Ojha\", \"text\": [\"NV Ojha\"], \"textfont\": {\"color\": \"#4D5663\"}, \"type\": \"scatter\", \"uid\": \"ffe2733d-3c65-4ede-a2b3-41111c2dd76f\", \"x\": [0.14705882352941177], \"y\": [1.1433823529411764]}, {\"marker\": {\"color\": \"rgba(128, 177, 211, 1.0)\", \"line\": {\"width\": 1.3}, \"opacity\": 0.8, \"size\": [22], \"symbol\": \"circle\"}, \"mode\": \"markers\", \"name\": \"SS Tiwary\", \"text\": [\"SS Tiwary\"], \"textfont\": {\"color\": \"#4D5663\"}, \"type\": \"scatter\", \"uid\": \"add2b566-f34f-40e9-866a-299abf240f10\", \"x\": [0.12421242124212421], \"y\": [1.1485148514851484]}, {\"marker\": {\"color\": \"rgba(128, 177, 211, 0.8999999999999999)\", \"line\": {\"width\": 1.3}, \"opacity\": 0.8, \"size\": [26], \"symbol\": \"circle\"}, \"mode\": \"markers\", \"name\": \"AD Russell\", \"text\": [\"AD Russell\"], \"textfont\": {\"color\": \"#4D5663\"}, \"type\": \"scatter\", \"uid\": \"512138b7-6469-47c1-bc66-1e34bdbd5cab\", \"x\": [0.27023661270236615], \"y\": [1.7995018679950188]}, {\"marker\": {\"color\": \"rgba(255, 153, 51, 0.8999999999999999)\", \"line\": {\"width\": 1.3}, \"opacity\": 0.8, \"size\": [35], \"symbol\": \"circle\"}, \"mode\": \"markers\", \"name\": \"RR Pant\", \"text\": [\"RR Pant\"], \"textfont\": {\"color\": \"#4D5663\"}, \"type\": \"scatter\", \"uid\": \"9cb8c40e-cfcc-4abd-995b-d51cd57c18de\", \"x\": [0.2246376811594203], \"y\": [1.6231884057971016]}, {\"marker\": {\"color\": \"rgba(55, 128, 191, 0.8999999999999999)\", \"line\": {\"width\": 1.3}, \"opacity\": 0.8, \"size\": [25], \"symbol\": \"circle\"}, \"mode\": \"markers\", \"name\": \"GJ Maxwell\", \"text\": [\"GJ Maxwell\"], \"textfont\": {\"color\": \"#4D5663\"}, \"type\": \"scatter\", \"uid\": \"ed51e81d-fe98-4f6f-9c2e-0d4a98e79815\", \"x\": [0.22283813747228381], \"y\": [1.5554323725055432]}, {\"marker\": {\"color\": \"rgba(50, 171, 96, 0.8999999999999999)\", \"line\": {\"width\": 1.3}, \"opacity\": 0.8, \"size\": [26], \"symbol\": \"circle\"}, \"mode\": \"markers\", \"name\": \"JC Buttler\", \"text\": [\"JC Buttler\"], \"textfont\": {\"color\": \"#4D5663\"}, \"type\": \"scatter\", \"uid\": \"b1b53987-ee16-4216-88c9-663655098762\", \"x\": [0.2138364779874214], \"y\": [1.5]}, {\"marker\": {\"color\": \"rgba(128, 0, 128, 0.8999999999999999)\", \"line\": {\"width\": 1.3}, \"opacity\": 0.8, \"size\": [59], \"symbol\": \"circle\"}, \"mode\": \"markers\", \"name\": \"V Sehwag\", \"text\": [\"V Sehwag\"], \"textfont\": {\"color\": \"#4D5663\"}, \"type\": \"scatter\", \"uid\": \"60fdfe60-e0ac-4f37-b342-38cd4cfc7850\", \"x\": [0.24004364429896344], \"y\": [1.4882705946535735]}, {\"marker\": {\"color\": \"rgba(219, 64, 82, 0.8999999999999999)\", \"line\": {\"width\": 1.3}, \"opacity\": 0.8, \"size\": [103], \"symbol\": \"circle\"}, \"mode\": \"markers\", \"name\": \"AB de Villiers\", \"text\": [\"AB de Villiers\"], \"textfont\": {\"color\": \"#4D5663\"}, \"type\": \"scatter\", \"uid\": \"d9f75ea7-3130-4900-82eb-6415e2c50d12\", \"x\": [0.1918038293584145], \"y\": [1.487403426268055]}, {\"marker\": {\"color\": \"rgba(0, 128, 128, 0.8999999999999999)\", \"line\": {\"width\": 1.3}, \"opacity\": 0.8, \"size\": [107], \"symbol\": \"circle\"}, \"mode\": \"markers\", \"name\": \"CH Gayle\", \"text\": [\"CH Gayle\"], \"textfont\": {\"color\": \"#4D5663\"}, \"type\": \"scatter\", \"uid\": \"a6d7ad7e-ba48-47f9-8261-16b1e59346c1\", \"x\": [0.22452890450335355], \"y\": [1.4564037048866176]}, {\"marker\": {\"color\": \"rgba(255, 255, 51, 0.8999999999999999)\", \"line\": {\"width\": 1.3}, \"opacity\": 0.8, \"size\": [61], \"symbol\": \"circle\"}, \"mode\": \"markers\", \"name\": \"KA Pollard\", \"text\": [\"KA Pollard\"], \"textfont\": {\"color\": \"#4D5663\"}, \"type\": \"scatter\", \"uid\": \"0194ad3c-93ab-4c79-af94-f433274fdbc4\", \"x\": [0.18177189409368635], \"y\": [1.4175152749490836]}, {\"marker\": {\"color\": \"rgba(128, 128, 0, 0.8999999999999999)\", \"line\": {\"width\": 1.3}, \"opacity\": 0.8, \"size\": [112], \"symbol\": \"circle\"}, \"mode\": \"markers\", \"name\": \"DA Warner\", \"text\": [\"DA Warner\"], \"textfont\": {\"color\": \"#4D5663\"}, \"type\": \"scatter\", \"uid\": \"90c36b23-13b2-4593-84c4-fb85695258ca\", \"x\": [0.1883460859329017], \"y\": [1.3952324896998234]}, {\"marker\": {\"color\": \"rgba(251, 128, 114, 0.8999999999999999)\", \"line\": {\"width\": 1.3}, \"opacity\": 0.8, \"size\": [22], \"symbol\": \"circle\"}, \"mode\": \"markers\", \"name\": \"CA Lynn\", \"text\": [\"CA Lynn\"], \"textfont\": {\"color\": \"#4D5663\"}, \"type\": \"scatter\", \"uid\": \"97f4983c-3717-4a7e-8e0b-c54e9bc07e76\", \"x\": [0.20234291799787008], \"y\": [1.3929712460063899]}],\n",
       "                        {\"legend\": {\"x\": 1, \"y\": 0}, \"title\": {\"font\": {\"size\": 20}, \"text\": \"10 Best and 10 Worst Batsman\", \"x\": 0, \"xref\": \"paper\"}, \"xaxis\": {\"exponentformat\": \"e\", \"showexponent\": \"all\", \"showticklabels\": true, \"tickfont\": {\"size\": 14}, \"title\": {\"font\": {\"size\": 20}, \"text\": \"Hard Hit\"}}, \"yaxis\": {\"exponentformat\": \"e\", \"showexponent\": \"all\", \"showticklabels\": true, \"tickfont\": {\"color\": \"black\", \"family\": \"Old Standard TT, serif\", \"size\": 14}, \"title\": {\"font\": {\"family\": \"Arial, sans-serif\", \"size\": 20}, \"text\": \"Fast Scoring Ability\"}}},\n",
       "                        {\"showLink\": true, \"linkText\": \"Export to plot.ly\", \"plotlyServerURL\": \"https://plot.ly\", \"responsive\": true}\n",
       "                    ).then(function(){\n",
       "                            \n",
       "var gd = document.getElementById('5165c9e7-f0b2-4d3e-9a92-b775e2f8d554');\n",
       "var x = new MutationObserver(function (mutations, observer) {{\n",
       "        var display = window.getComputedStyle(gd).display;\n",
       "        if (!display || display === 'none') {{\n",
       "            console.log([gd, 'removed!']);\n",
       "            Plotly.purge(gd);\n",
       "            observer.disconnect();\n",
       "        }}\n",
       "}});\n",
       "\n",
       "// Listen for the removal of the full notebook cells\n",
       "var notebookContainer = gd.closest('#notebook-container');\n",
       "if (notebookContainer) {{\n",
       "    x.observe(notebookContainer, {childList: true});\n",
       "}}\n",
       "\n",
       "// Listen for the clearing of the current output cell\n",
       "var outputEl = gd.closest('.output');\n",
       "if (outputEl) {{\n",
       "    x.observe(outputEl, {childList: true});\n",
       "}}\n",
       "\n",
       "                        })\n",
       "                };\n",
       "                });\n",
       "            </script>\n",
       "        </div>"
      ]
     },
     "metadata": {},
     "output_type": "display_data"
    }
   ],
   "source": [
    "# Generate and Format Plot\n",
    "\n",
    "out_best = out.nsmallest(10, 'Fast Scoring')\n",
    "out_worst = out.nlargest(10, 'Fast Scoring')\n",
    "\n",
    "layout = go.Layout(\n",
    "    title=dict(\n",
    "        text=\"10 Best and 10 Worst Batsman\",\n",
    "        xref=\"paper\",\n",
    "        font = dict(size=20),\n",
    "        x=0\n",
    "    \n",
    "    ),\n",
    "  legend = dict(\n",
    "    x = 1,\n",
    "    y = 0\n",
    "  ),\n",
    "    xaxis=dict(\n",
    "        title='Hard Hit',\n",
    "        titlefont=dict(\n",
    "            size=20,\n",
    "        ),\n",
    "        showticklabels=True,\n",
    "        tickfont=dict(\n",
    "            size=14,\n",
    "        ),\n",
    "        exponentformat='e',\n",
    "        showexponent='all'\n",
    "    ),\n",
    "    yaxis=dict(\n",
    "        title='Fast Scoring Ability',\n",
    "        titlefont=dict(\n",
    "            family='Arial, sans-serif',\n",
    "            size=20,\n",
    "        ),\n",
    "        showticklabels=True,\n",
    "        tickfont=dict(\n",
    "            family='Old Standard TT, serif',\n",
    "            size=14,\n",
    "            color='black'\n",
    "        ),\n",
    "        exponentformat='e',\n",
    "        showexponent='all'\n",
    "    )\n",
    ")\n",
    "\n",
    "b_comp = pd.concat([out_best, out_worst])\n",
    "b_comp.iplot(layout=layout, kind='bubble', x='Hard Hit', y='Fast Scoring', categories='batsman', size='runs', text='batsman',\n",
    "          xTitle='Hard Hit', yTitle='Fast Scoring Ability', filename='cufflinks/simple-bubble-chart')"
   ]
  },
  {
   "cell_type": "markdown",
   "metadata": {
    "pycharm": {
     "name": "#%%\n"
    }
   },
   "source": [
    "### Team Wise Analysis (2 Best and 2 Worst)"
   ]
  },
  {
   "cell_type": "code",
   "execution_count": 8,
   "metadata": {
    "pycharm": {
     "name": "#%%\n"
    }
   },
   "outputs": [],
   "source": [
    "# Team-wise bowling stats\n",
    "eco = economy(ball_data.copy(), bowler='bowling_team')\n",
    "wick = wicket_taking(ball_data.copy(), bowler='bowling_team')\n",
    "eco_100 = eco[eco['Number of Balls Thrown']>10000]\n",
    "wick_100 = wick[wick['Number of Balls Thrown']>10000]\n",
    "out_bowl = pd.merge(wick_100, eco_100, how='inner', on=['bowling_team','Number of Balls Thrown'])\n",
    "\n",
    "# Team-wise batting stats\n",
    "hh = hard_hit(ball_data.copy(), batter='batting_team')\n",
    "fs = fast_scoring(ball_data.copy(), batter='batting_team')\n",
    "hh_100 = hh[hh['Number of Balls Faced']>10000]\n",
    "fs_100 = fs[fs['Number of Balls Faced']>10000]\n",
    "out_bat = pd.merge(hh_100, fs_100, how='inner', on=['batting_team','Number of Balls Faced'])\n",
    "\n",
    "\n",
    "out_bowl.drop(out_bowl.columns.difference(['bowling_team', 'Wicket Taking Ability', 'Economy']), 1, inplace=True)\n",
    "out_bat.drop(out_bat.columns.difference(['batting_team', 'Fast Scoring','Hard Hit']),1,inplace=True)\n",
    "\n",
    "out_bowl.rename(columns={'bowling_team':'team'}, inplace=True)\n",
    "out_bat.rename(columns={'batting_team': 'team'}, inplace=True)\n",
    "\n",
    "out_full = pd.merge(out_bat, out_bowl, how='inner', on=['team'])\n",
    "\n",
    "# scale values to fit and outwards = better\n",
    "\n",
    "o = out_full.copy()\n",
    "min_max_scaler = preprocessing.StandardScaler( with_std=False)\n",
    "o['Hard Hit'] = pd.DataFrame(min_max_scaler.fit_transform(o['Hard Hit'].values.reshape(-1,1)))\n",
    "o['Fast Scoring'] = pd.DataFrame(min_max_scaler.fit_transform(o['Fast Scoring'].values.reshape(-1,1)))\n",
    "o['Economy'] = pd.DataFrame(min_max_scaler.fit_transform(o['Economy'].values.reshape(-1,1)))\n",
    "o['Wicket Taking Ability'] = pd.DataFrame(min_max_scaler.fit_transform(o['Wicket Taking Ability'].values.reshape(-1,1)))\n",
    "o.replace('Delhi Daredevils', 'Delhi Capitals', inplace=True)"
   ]
  },
  {
   "cell_type": "code",
   "execution_count": 9,
   "metadata": {
    "pycharm": {
     "name": "#%%\n"
    }
   },
   "outputs": [
    {
     "data": {
      "application/vnd.plotly.v1+json": {
       "config": {
        "linkText": "Export to plot.ly",
        "plotlyServerURL": "https://plot.ly",
        "responsive": true,
        "showLink": false
       },
       "data": [
        {
         "fill": "toself",
         "name": "Chennai Super Kings",
         "r": [
          -0.190830584719498,
          1.7116499026425425,
          1.336163253925129,
          5.9951979544587175,
          -0.190830584719498
         ],
         "subplot": "polar",
         "theta": [
          "Hard Hit",
          "Fast Scoring",
          "Economy",
          "Wicket Taking Ability",
          "Hard Hit"
         ],
         "type": "scatterpolar",
         "uid": "c5a93006-ba9a-47aa-940a-12263e6c9810"
        },
        {
         "fill": "toself",
         "name": "Mumbai Indians",
         "r": [
          2.474634414552812,
          -0.8052386009449464,
          2.196833348935634,
          2.0054153874614045,
          2.474634414552812
         ],
         "subplot": "polar2",
         "theta": [
          "Hard Hit",
          "Fast Scoring",
          "Economy",
          "Wicket Taking Ability",
          "Hard Hit"
         ],
         "type": "scatterpolar",
         "uid": "491b16ad-5f8f-4b71-8b02-607c7b08f866"
        },
        {
         "fill": "toself",
         "name": "Delhi Capitals",
         "r": [
          -2.886375039511363,
          -2.2762710646290873,
          -0.5256250007355501,
          -1.7726859126469385,
          -2.886375039511363
         ],
         "subplot": "polar3",
         "theta": [
          "Hard Hit",
          "Fast Scoring",
          "Economy",
          "Wicket Taking Ability",
          "Hard Hit"
         ],
         "type": "scatterpolar",
         "uid": "abafd684-b098-47e2-8d09-4f1098c4cb93"
        },
        {
         "fill": "toself",
         "name": "Kings XI Punjab",
         "r": [
          3.6655858291309573,
          1.1335585376194057,
          -2.6728512064268095,
          -3.953793480508807,
          3.6655858291309573
         ],
         "subplot": "polar4",
         "theta": [
          "Hard Hit",
          "Fast Scoring",
          "Economy",
          "Wicket Taking Ability",
          "Hard Hit"
         ],
         "type": "scatterpolar",
         "uid": "29370277-e356-4ab8-9b80-d685aa0803f3"
        }
       ],
       "layout": {
        "margin": {
         "b": 10,
         "l": 10,
         "pad": 0,
         "r": 10,
         "t": 10
        },
        "polar": {
         "domain": {
          "x": [
           0,
           0.46
          ],
          "y": [
           0.56,
           1
          ]
         },
         "radialaxis": {
          "range": [
           -10,
           7
          ],
          "visible": true
         }
        },
        "polar2": {
         "domain": {
          "x": [
           0,
           0.46
          ],
          "y": [
           0,
           0.44
          ]
         },
         "radialaxis": {
          "range": [
           -10,
           7
          ],
          "visible": true
         }
        },
        "polar3": {
         "domain": {
          "x": [
           0.54,
           1
          ],
          "y": [
           0.56,
           1
          ]
         },
         "radialaxis": {
          "range": [
           -10,
           7
          ],
          "visible": true
         }
        },
        "polar4": {
         "domain": {
          "x": [
           0.54,
           1
          ],
          "y": [
           0,
           0.44
          ]
         },
         "radialaxis": {
          "range": [
           -10,
           7
          ],
          "visible": true
         }
        },
        "showlegend": true
       }
      },
      "text/html": [
       "<div>\n",
       "        \n",
       "        \n",
       "            <div id=\"9c45574d-31be-4326-bcc7-c8eb69b0b17f\" class=\"plotly-graph-div\" style=\"height:525px; width:100%;\"></div>\n",
       "            <script type=\"text/javascript\">\n",
       "                require([\"plotly\"], function(Plotly) {\n",
       "                    window.PLOTLYENV=window.PLOTLYENV || {};\n",
       "                    window.PLOTLYENV.BASE_URL='https://plot.ly';\n",
       "                    \n",
       "                if (document.getElementById(\"9c45574d-31be-4326-bcc7-c8eb69b0b17f\")) {\n",
       "                    Plotly.newPlot(\n",
       "                        '9c45574d-31be-4326-bcc7-c8eb69b0b17f',\n",
       "                        [{\"fill\": \"toself\", \"name\": \"Chennai Super Kings\", \"r\": [-0.190830584719498, 1.7116499026425425, 1.336163253925129, 5.9951979544587175, -0.190830584719498], \"subplot\": \"polar\", \"theta\": [\"Hard Hit\", \"Fast Scoring\", \"Economy\", \"Wicket Taking Ability\", \"Hard Hit\"], \"type\": \"scatterpolar\", \"uid\": \"c5f0695e-8d66-4400-bda8-268a365557de\"}, {\"fill\": \"toself\", \"name\": \"Mumbai Indians\", \"r\": [2.474634414552812, -0.8052386009449464, 2.196833348935634, 2.0054153874614045, 2.474634414552812], \"subplot\": \"polar2\", \"theta\": [\"Hard Hit\", \"Fast Scoring\", \"Economy\", \"Wicket Taking Ability\", \"Hard Hit\"], \"type\": \"scatterpolar\", \"uid\": \"14111276-32c7-48a8-97bc-32fe0df9184c\"}, {\"fill\": \"toself\", \"name\": \"Delhi Capitals\", \"r\": [-2.886375039511363, -2.2762710646290873, -0.5256250007355501, -1.7726859126469385, -2.886375039511363], \"subplot\": \"polar3\", \"theta\": [\"Hard Hit\", \"Fast Scoring\", \"Economy\", \"Wicket Taking Ability\", \"Hard Hit\"], \"type\": \"scatterpolar\", \"uid\": \"89e83ce6-ddf9-47a5-9ddf-812baefa063b\"}, {\"fill\": \"toself\", \"name\": \"Kings XI Punjab\", \"r\": [3.6655858291309573, 1.1335585376194057, -2.6728512064268095, -3.953793480508807, 3.6655858291309573], \"subplot\": \"polar4\", \"theta\": [\"Hard Hit\", \"Fast Scoring\", \"Economy\", \"Wicket Taking Ability\", \"Hard Hit\"], \"type\": \"scatterpolar\", \"uid\": \"f9702ed4-c4bb-42eb-a37c-c965aabe0d53\"}],\n",
       "                        {\"margin\": {\"b\": 10, \"l\": 10, \"pad\": 0, \"r\": 10, \"t\": 10}, \"polar\": {\"domain\": {\"x\": [0, 0.46], \"y\": [0.56, 1]}, \"radialaxis\": {\"range\": [-10, 7], \"visible\": true}}, \"polar2\": {\"domain\": {\"x\": [0, 0.46], \"y\": [0, 0.44]}, \"radialaxis\": {\"range\": [-10, 7], \"visible\": true}}, \"polar3\": {\"domain\": {\"x\": [0.54, 1], \"y\": [0.56, 1]}, \"radialaxis\": {\"range\": [-10, 7], \"visible\": true}}, \"polar4\": {\"domain\": {\"x\": [0.54, 1], \"y\": [0, 0.44]}, \"radialaxis\": {\"range\": [-10, 7], \"visible\": true}}, \"showlegend\": true},\n",
       "                        {\"showLink\": false, \"linkText\": \"Export to plot.ly\", \"plotlyServerURL\": \"https://plot.ly\", \"responsive\": true}\n",
       "                    ).then(function(){\n",
       "                            \n",
       "var gd = document.getElementById('9c45574d-31be-4326-bcc7-c8eb69b0b17f');\n",
       "var x = new MutationObserver(function (mutations, observer) {{\n",
       "        var display = window.getComputedStyle(gd).display;\n",
       "        if (!display || display === 'none') {{\n",
       "            console.log([gd, 'removed!']);\n",
       "            Plotly.purge(gd);\n",
       "            observer.disconnect();\n",
       "        }}\n",
       "}});\n",
       "\n",
       "// Listen for the removal of the full notebook cells\n",
       "var notebookContainer = gd.closest('#notebook-container');\n",
       "if (notebookContainer) {{\n",
       "    x.observe(notebookContainer, {childList: true});\n",
       "}}\n",
       "\n",
       "// Listen for the clearing of the current output cell\n",
       "var outputEl = gd.closest('.output');\n",
       "if (outputEl) {{\n",
       "    x.observe(outputEl, {childList: true});\n",
       "}}\n",
       "\n",
       "                        })\n",
       "                };\n",
       "                });\n",
       "            </script>\n",
       "        </div>"
      ]
     },
     "metadata": {},
     "output_type": "display_data"
    }
   ],
   "source": [
    "# Generate and Format Plots\n",
    "data = []\n",
    "\n",
    "count = 0\n",
    "for i in [4, 2, 5, 1]:\n",
    "    r = o.iloc[i,:]\n",
    "    t = go.Scatterpolar(\n",
    "      r = [r['Hard Hit']*1000, r['Fast Scoring']*100, r['Economy']*-10, r['Wicket Taking Ability']*-5, r['Hard Hit']*1000],\n",
    "      theta = ['Hard Hit','Fast Scoring','Economy', 'Wicket Taking Ability', 'Hard Hit'],\n",
    "      fill = 'toself',\n",
    "      name = r['team'],\n",
    "      subplot = \"polar\"+str(count+1) if i>0 else \"polar\"\n",
    "    )\n",
    "    count = count+1\n",
    "    data.append(t)\n",
    "\n",
    "\n",
    "layout = go.Layout(\n",
    "    margin=go.layout.Margin(\n",
    "        l=10,\n",
    "        r=10,\n",
    "        b=10,\n",
    "        t=10,\n",
    "        pad=0\n",
    "    ),\n",
    "  polar = dict(\n",
    "      domain = dict(\n",
    "        x = [0, 0.46],\n",
    "        y = [0.56, 1]\n",
    "      ),\n",
    "    radialaxis = dict(\n",
    "      visible = True,\n",
    "      range = [-10, 7]\n",
    "    )\n",
    "  ),\n",
    "  polar2 = dict(\n",
    "     domain = dict(\n",
    "        x = [0, 0.46],\n",
    "        y = [0, 0.44]\n",
    "      ),\n",
    "    radialaxis = dict(\n",
    "      visible = True,\n",
    "      range = [-10, 7]\n",
    "    )\n",
    "  ),\n",
    "  polar3 = dict(\n",
    "      domain = dict(\n",
    "        x = [0.54, 1],\n",
    "        y = [0.56, 1]\n",
    "      ),\n",
    "    radialaxis = dict(\n",
    "      visible = True,\n",
    "      range = [-10, 7]\n",
    "    )\n",
    "  ),\n",
    "  polar4 = dict(\n",
    "      domain = dict(\n",
    "        x = [0.54, 1],\n",
    "        y = [0, 0.44]\n",
    "      ),\n",
    "    radialaxis = dict(\n",
    "      visible = True,\n",
    "      range = [-10, 7]\n",
    "    )\n",
    "  ),\n",
    "  showlegend = True\n",
    "    \n",
    ")\n",
    "\n",
    "fig = go.Figure(data=data, layout=layout)\n",
    "t = plotly.offline.iplot(fig, filename=\"multiple-subplots\")"
   ]
  },
  {
   "cell_type": "code",
   "execution_count": 10,
   "metadata": {
    "pycharm": {
     "name": "#%%\n"
    }
   },
   "outputs": [
    {
     "data": {
      "application/vnd.plotly.v1+json": {
       "config": {
        "linkText": "Export to plot.ly",
        "plotlyServerURL": "https://plot.ly",
        "responsive": true,
        "showLink": false
       },
       "data": [
        {
         "fill": "toself",
         "name": "Chennai Super Kings",
         "r": [
          -0.190830584719498,
          1.7116499026425425,
          1.336163253925129,
          5.9951979544587175,
          -0.190830584719498
         ],
         "theta": [
          "Hard Hit",
          "Fast Scoring",
          "Economy",
          "Wicket Taking Ability",
          "Hard Hit"
         ],
         "type": "scatterpolar",
         "uid": "6d6ce28c-1362-4208-a3f6-15cc62a2c99a"
        },
        {
         "fill": "toself",
         "name": "Mumbai Indians",
         "r": [
          2.474634414552812,
          -0.8052386009449464,
          2.196833348935634,
          2.0054153874614045,
          2.474634414552812
         ],
         "theta": [
          "Hard Hit",
          "Fast Scoring",
          "Economy",
          "Wicket Taking Ability",
          "Hard Hit"
         ],
         "type": "scatterpolar",
         "uid": "606f7404-6651-4372-a63e-0aec39c2b8ad"
        },
        {
         "fill": "toself",
         "name": "Delhi Capitals",
         "r": [
          -2.886375039511363,
          -2.2762710646290873,
          -0.5256250007355501,
          -1.7726859126469385,
          -2.886375039511363
         ],
         "theta": [
          "Hard Hit",
          "Fast Scoring",
          "Economy",
          "Wicket Taking Ability",
          "Hard Hit"
         ],
         "type": "scatterpolar",
         "uid": "2f1cb431-7257-43ff-a651-513b8975c6e8"
        },
        {
         "fill": "toself",
         "name": "Kings XI Punjab",
         "r": [
          3.6655858291309573,
          1.1335585376194057,
          -2.6728512064268095,
          -3.953793480508807,
          3.6655858291309573
         ],
         "theta": [
          "Hard Hit",
          "Fast Scoring",
          "Economy",
          "Wicket Taking Ability",
          "Hard Hit"
         ],
         "type": "scatterpolar",
         "uid": "f71648c2-a95e-43b5-ac1f-52dec0982d66"
        }
       ],
       "layout": {
        "polar": {
         "radialaxis": {
          "range": [
           -10,
           7
          ],
          "visible": true
         }
        },
        "showlegend": true
       }
      },
      "text/html": [
       "<div>\n",
       "        \n",
       "        \n",
       "            <div id=\"f15eb688-e270-430d-9fc0-593a69cace2f\" class=\"plotly-graph-div\" style=\"height:525px; width:100%;\"></div>\n",
       "            <script type=\"text/javascript\">\n",
       "                require([\"plotly\"], function(Plotly) {\n",
       "                    window.PLOTLYENV=window.PLOTLYENV || {};\n",
       "                    window.PLOTLYENV.BASE_URL='https://plot.ly';\n",
       "                    \n",
       "                if (document.getElementById(\"f15eb688-e270-430d-9fc0-593a69cace2f\")) {\n",
       "                    Plotly.newPlot(\n",
       "                        'f15eb688-e270-430d-9fc0-593a69cace2f',\n",
       "                        [{\"fill\": \"toself\", \"name\": \"Chennai Super Kings\", \"r\": [-0.190830584719498, 1.7116499026425425, 1.336163253925129, 5.9951979544587175, -0.190830584719498], \"theta\": [\"Hard Hit\", \"Fast Scoring\", \"Economy\", \"Wicket Taking Ability\", \"Hard Hit\"], \"type\": \"scatterpolar\", \"uid\": \"d2126ad2-bd88-43bb-8446-ba55c4fbf99d\"}, {\"fill\": \"toself\", \"name\": \"Mumbai Indians\", \"r\": [2.474634414552812, -0.8052386009449464, 2.196833348935634, 2.0054153874614045, 2.474634414552812], \"theta\": [\"Hard Hit\", \"Fast Scoring\", \"Economy\", \"Wicket Taking Ability\", \"Hard Hit\"], \"type\": \"scatterpolar\", \"uid\": \"c930b70c-1b6c-4b83-8731-b9012043abdd\"}, {\"fill\": \"toself\", \"name\": \"Delhi Capitals\", \"r\": [-2.886375039511363, -2.2762710646290873, -0.5256250007355501, -1.7726859126469385, -2.886375039511363], \"theta\": [\"Hard Hit\", \"Fast Scoring\", \"Economy\", \"Wicket Taking Ability\", \"Hard Hit\"], \"type\": \"scatterpolar\", \"uid\": \"e1c521e0-59eb-4ce7-8244-1af6c022f8ec\"}, {\"fill\": \"toself\", \"name\": \"Kings XI Punjab\", \"r\": [3.6655858291309573, 1.1335585376194057, -2.6728512064268095, -3.953793480508807, 3.6655858291309573], \"theta\": [\"Hard Hit\", \"Fast Scoring\", \"Economy\", \"Wicket Taking Ability\", \"Hard Hit\"], \"type\": \"scatterpolar\", \"uid\": \"99cd1805-1b63-48a9-9f94-19bd67f2aead\"}],\n",
       "                        {\"polar\": {\"radialaxis\": {\"range\": [-10, 7], \"visible\": true}}, \"showlegend\": true},\n",
       "                        {\"showLink\": false, \"linkText\": \"Export to plot.ly\", \"plotlyServerURL\": \"https://plot.ly\", \"responsive\": true}\n",
       "                    ).then(function(){\n",
       "                            \n",
       "var gd = document.getElementById('f15eb688-e270-430d-9fc0-593a69cace2f');\n",
       "var x = new MutationObserver(function (mutations, observer) {{\n",
       "        var display = window.getComputedStyle(gd).display;\n",
       "        if (!display || display === 'none') {{\n",
       "            console.log([gd, 'removed!']);\n",
       "            Plotly.purge(gd);\n",
       "            observer.disconnect();\n",
       "        }}\n",
       "}});\n",
       "\n",
       "// Listen for the removal of the full notebook cells\n",
       "var notebookContainer = gd.closest('#notebook-container');\n",
       "if (notebookContainer) {{\n",
       "    x.observe(notebookContainer, {childList: true});\n",
       "}}\n",
       "\n",
       "// Listen for the clearing of the current output cell\n",
       "var outputEl = gd.closest('.output');\n",
       "if (outputEl) {{\n",
       "    x.observe(outputEl, {childList: true});\n",
       "}}\n",
       "\n",
       "                        })\n",
       "                };\n",
       "                });\n",
       "            </script>\n",
       "        </div>"
      ]
     },
     "metadata": {},
     "output_type": "display_data"
    }
   ],
   "source": [
    "# Generate and Format overlapped Plots\n",
    "data = []\n",
    "\n",
    "count = 0\n",
    "for i in [4, 2, 5, 1]:\n",
    "    r = o.iloc[i,:]\n",
    "    t = go.Scatterpolar(\n",
    "      r = [r['Hard Hit']*1000, r['Fast Scoring']*100, r['Economy']*-10, r['Wicket Taking Ability']*-5, r['Hard Hit']*1000],\n",
    "      theta = ['Hard Hit','Fast Scoring','Economy', 'Wicket Taking Ability', 'Hard Hit'],\n",
    "      fill = 'toself',\n",
    "      name = r['team']\n",
    "    )\n",
    "    count = count+1\n",
    "    data.append(t)\n",
    "\n",
    "\n",
    "layout = go.Layout(\n",
    "\n",
    "  polar = dict(\n",
    "    radialaxis = dict(\n",
    "      visible = True,\n",
    "      range = [-10, 7]\n",
    "    )\n",
    "  ),\n",
    "  showlegend = True\n",
    "    \n",
    ")\n",
    "\n",
    "fig = go.Figure(data=data, layout=layout)\n",
    "t = plotly.offline.iplot(fig, filename=\"multiple-subplots\")"
   ]
  },
  {
   "cell_type": "code",
   "execution_count": null,
   "metadata": {},
   "outputs": [],
   "source": []
  },
  {
   "cell_type": "code",
   "execution_count": null,
   "metadata": {},
   "outputs": [],
   "source": []
  }
 ],
 "metadata": {
  "kernelspec": {
   "display_name": "Python 3",
   "language": "python",
   "name": "python3"
  },
  "language_info": {
   "codemirror_mode": {
    "name": "ipython",
    "version": 3
   },
   "file_extension": ".py",
   "mimetype": "text/x-python",
   "name": "python",
   "nbconvert_exporter": "python",
   "pygments_lexer": "ipython3",
   "version": "3.6.7"
  },
  "pycharm": {
   "stem_cell": {
    "cell_type": "raw",
    "metadata": {
     "collapsed": false
    },
    "source": []
   }
  }
 },
 "nbformat": 4,
 "nbformat_minor": 1
}
