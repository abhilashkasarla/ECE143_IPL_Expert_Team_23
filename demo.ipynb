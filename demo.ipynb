{
 "cells": [
  {
   "cell_type": "markdown",
   "metadata": {},
   "source": [
    "# IPL Data Visualization Demo Notebook"
   ]
  },
  {
   "cell_type": "markdown",
   "metadata": {},
   "source": [
    "## Resolve Imports"
   ]
  },
  {
   "cell_type": "code",
   "execution_count": 10,
   "metadata": {
    "pycharm": {
     "is_executing": false,
     "name": "#%%\n"
    }
   },
   "outputs": [
    {
     "data": {
      "text/html": [
       "        <script type=\"text/javascript\">\n",
       "        window.PlotlyConfig = {MathJaxConfig: 'local'};\n",
       "        if (window.MathJax) {MathJax.Hub.Config({SVG: {font: \"STIX-Web\"}});}\n",
       "        if (typeof require !== 'undefined') {\n",
       "        require.undef(\"plotly\");\n",
       "        requirejs.config({\n",
       "            paths: {\n",
       "                'plotly': ['https://cdn.plot.ly/plotly-latest.min']\n",
       "            }\n",
       "        });\n",
       "        require(['plotly'], function(Plotly) {\n",
       "            window._Plotly = Plotly;\n",
       "        });\n",
       "        }\n",
       "        </script>\n",
       "        "
      ]
     },
     "metadata": {},
     "output_type": "display_data"
    },
    {
     "data": {
      "text/html": [
       "        <script type=\"text/javascript\">\n",
       "        window.PlotlyConfig = {MathJaxConfig: 'local'};\n",
       "        if (window.MathJax) {MathJax.Hub.Config({SVG: {font: \"STIX-Web\"}});}\n",
       "        if (typeof require !== 'undefined') {\n",
       "        require.undef(\"plotly\");\n",
       "        requirejs.config({\n",
       "            paths: {\n",
       "                'plotly': ['https://cdn.plot.ly/plotly-latest.min']\n",
       "            }\n",
       "        });\n",
       "        require(['plotly'], function(Plotly) {\n",
       "            window._Plotly = Plotly;\n",
       "        });\n",
       "        }\n",
       "        </script>\n",
       "        "
      ]
     },
     "metadata": {},
     "output_type": "display_data"
    }
   ],
   "source": [
    "import numpy as np \n",
    "import pandas as pd\n",
    "import matplotlib.pyplot as plt\n",
    "import os\n",
    "from sklearn import preprocessing\n",
    "\n",
    "# Ploty Related Imports\n",
    "\n",
    "import plotly.plotly as py\n",
    "import plotly\n",
    "import cufflinks as cf\n",
    "cf.set_config_file(offline=True, world_readable=True, theme='pearl')\n",
    "\n",
    "import plotly.graph_objs as go\n",
    "plotly.offline.init_notebook_mode(connected=True) # Use Plotly offline mode without tokens\n",
    "\n",
    "# Custom Imports\n",
    "from utilities.metrics import *\n",
    "from utilities.vis_funcs import *\n"
   ]
  },
  {
   "cell_type": "markdown",
   "metadata": {},
   "source": [
    "## Check Data Files"
   ]
  },
  {
   "cell_type": "code",
   "execution_count": 2,
   "metadata": {
    "pycharm": {
     "name": "#%%\n"
    }
   },
   "outputs": [
    {
     "name": "stdout",
     "output_type": "stream",
     "text": [
      "['player_batting_performance.csv', 'players_wiki.csv', 'leader_wiki2.csv', 'player_bowling_performance.csv', 'players_age_wiki.csv', 'team_performance.csv', 'toss_result.csv', 'deliveries.csv', 'leader_wiki1.csv', 'match_result.csv', 'matches.csv']\n"
     ]
    }
   ],
   "source": [
    "data_path = './data'\n",
    "print(os.listdir(data_path))"
   ]
  },
  {
   "cell_type": "code",
   "execution_count": null,
   "metadata": {
    "pycharm": {
     "name": "#%%\n"
    }
   },
   "outputs": [],
   "source": []
  },
  {
   "cell_type": "code",
   "execution_count": null,
   "metadata": {
    "pycharm": {
     "name": "#%%\n"
    }
   },
   "outputs": [],
   "source": []
  },
  {
   "cell_type": "code",
   "execution_count": null,
   "metadata": {
    "pycharm": {
     "name": "#%%\n"
    }
   },
   "outputs": [],
   "source": []
  },
  {
   "cell_type": "code",
   "execution_count": null,
   "metadata": {
    "pycharm": {
     "name": "#%%\n"
    }
   },
   "outputs": [],
   "source": []
  },
  {
   "cell_type": "code",
   "execution_count": null,
   "metadata": {
    "pycharm": {
     "name": "#%%\n"
    }
   },
   "outputs": [],
   "source": []
  },
  {
   "cell_type": "markdown",
   "metadata": {
    "pycharm": {
     "name": "#%%\n"
    }
   },
   "source": [
    "## Batting and Bowling Ability Analysis for Teams and Players"
   ]
  },
  {
   "cell_type": "markdown",
   "metadata": {},
   "source": [
    "### 10 Best and 10 Worst Bowlers"
   ]
  },
  {
   "cell_type": "code",
   "execution_count": 3,
   "metadata": {
    "pycharm": {
     "name": "#%%\n"
    }
   },
   "outputs": [],
   "source": [
    "ball_data = load_data_as_df(os.path.join(data_path, 'deliveries.csv'))\n",
    "\n",
    "#Get Bowling Stats Player-wise\n",
    "eco = economy(ball_data.copy())\n",
    "wick = wicket_taking(ball_data.copy())\n",
    "\n",
    "# Keep only regular bowlers\n",
    "eco_100 = eco[eco['Number of Balls Thrown']>1000]\n",
    "wick_100 = wick[wick['Number of Balls Thrown']>1000]\n",
    "\n",
    "# Merge Stats\n",
    "out = pd.merge(wick_100, eco_100, how='inner', on=['bowler','Number of Balls Thrown'])"
   ]
  },
  {
   "cell_type": "code",
   "execution_count": 4,
   "metadata": {
    "pycharm": {
     "name": "#%%\n"
    }
   },
   "outputs": [
    {
     "data": {
      "application/vnd.plotly.v1+json": {
       "config": {
        "linkText": "Export to plot.ly",
        "plotlyServerURL": "https://plot.ly",
        "responsive": true,
        "showLink": true
       },
       "data": [
        {
         "marker": {
          "color": "rgba(255, 153, 51, 1.0)",
          "line": {
           "width": 1.3
          },
          "opacity": 0.8,
          "size": [
           54
          ],
          "symbol": "circle"
         },
         "mode": "markers",
         "name": "DW Steyn",
         "text": [
          "DW Steyn"
         ],
         "textfont": {
          "color": "#4D5663"
         },
         "type": "scatter",
         "uid": "8ee86682-3431-470c-8bba-71428c5a9462",
         "x": [
          6.206615314907114
         ],
         "y": [
          21.42718446601942
         ]
        },
        {
         "marker": {
          "color": "rgba(55, 128, 191, 1.0)",
          "line": {
           "width": 1.3
          },
          "opacity": 0.8,
          "size": [
           30
          ],
          "symbol": "circle"
         },
         "mode": "markers",
         "name": "M Muralitharan",
         "text": [
          "M Muralitharan"
         ],
         "textfont": {
          "color": "#4D5663"
         },
         "type": "scatter",
         "uid": "cd375e99-38aa-4730-b9c6-243b6ee2fd67",
         "x": [
          6.2314990512333965
         ],
         "y": [
          23.597014925373134
         ]
        },
        {
         "marker": {
          "color": "rgba(50, 171, 96, 1.0)",
          "line": {
           "width": 1.3
          },
          "opacity": 0.8,
          "size": [
           78
          ],
          "symbol": "circle"
         },
         "mode": "markers",
         "name": "R Ashwin",
         "text": [
          "R Ashwin"
         ],
         "textfont": {
          "color": "#4D5663"
         },
         "type": "scatter",
         "uid": "51f67d0f-f215-4753-985e-2653636c3a14",
         "x": [
          6.413793103448276
         ],
         "y": [
          21.855072463768117
         ]
        },
        {
         "marker": {
          "color": "rgba(128, 0, 128, 1.0)",
          "line": {
           "width": 1.3
          },
          "opacity": 0.8,
          "size": [
           112
          ],
          "symbol": "circle"
         },
         "mode": "markers",
         "name": "SL Malinga",
         "text": [
          "SL Malinga"
         ],
         "textfont": {
          "color": "#4D5663"
         },
         "type": "scatter",
         "uid": "3b2d032a-4d0c-4cbb-b10a-9a3468bf27cf",
         "x": [
          6.49226630800269
         ],
         "y": [
          15.819148936170214
         ]
        },
        {
         "marker": {
          "color": "rgba(219, 64, 82, 1.0)",
          "line": {
           "width": 1.3
          },
          "opacity": 0.8,
          "size": [
           77
          ],
          "symbol": "circle"
         },
         "mode": "markers",
         "name": "SP Narine",
         "text": [
          "SP Narine"
         ],
         "textfont": {
          "color": "#4D5663"
         },
         "type": "scatter",
         "uid": "3ca078b9-ff1f-476d-8fe0-0a2050b0a360",
         "x": [
          6.519230769230769
         ],
         "y": [
          18.978102189781023
         ]
        },
        {
         "marker": {
          "color": "rgba(0, 128, 128, 1.0)",
          "line": {
           "width": 1.3
          },
          "opacity": 0.8,
          "size": [
           26
          ],
          "symbol": "circle"
         },
         "mode": "markers",
         "name": "Rashid Khan",
         "text": [
          "Rashid Khan"
         ],
         "textfont": {
          "color": "#4D5663"
         },
         "type": "scatter",
         "uid": "451aeadb-3269-4729-94f3-e07bb23600ca",
         "x": [
          6.585895117540687
         ],
         "y": [
          18.433333333333334
         ]
        },
        {
         "marker": {
          "color": "rgba(255, 255, 51, 1.0)",
          "line": {
           "width": 1.3
          },
          "opacity": 0.8,
          "size": [
           93
          ],
          "symbol": "circle"
         },
         "mode": "markers",
         "name": "Harbhajan Singh",
         "text": [
          "Harbhajan Singh"
         ],
         "textfont": {
          "color": "#4D5663"
         },
         "type": "scatter",
         "uid": "1fb5c279-2ab6-4640-9535-0ab5aafcdc39",
         "x": [
          6.745870762097943
         ],
         "y": [
          21.56875
         ]
        },
        {
         "marker": {
          "color": "rgba(128, 128, 0, 1.0)",
          "line": {
           "width": 1.3
          },
          "opacity": 0.8,
          "size": [
           80
          ],
          "symbol": "circle"
         },
         "mode": "markers",
         "name": "B Kumar",
         "text": [
          "B Kumar"
         ],
         "textfont": {
          "color": "#4D5663"
         },
         "type": "scatter",
         "uid": "e1ed6759-a034-4f4c-8c81-3f287e1d0bbf",
         "x": [
          6.7979312892500925
         ],
         "y": [
          19.19858156028369
         ]
        },
        {
         "marker": {
          "color": "rgba(251, 128, 114, 1.0)",
          "line": {
           "width": 1.3
          },
          "opacity": 0.8,
          "size": [
           12
          ],
          "symbol": "circle"
         },
         "mode": "markers",
         "name": "M Kartik",
         "text": [
          "M Kartik"
         ],
         "textfont": {
          "color": "#4D5663"
         },
         "type": "scatter",
         "uid": "d84f9185-3bb8-4be8-94e4-727983cb08a1",
         "x": [
          6.807106598984771
         ],
         "y": [
          30.307692307692307
         ]
        },
        {
         "marker": {
          "color": "rgba(128, 177, 211, 1.0)",
          "line": {
           "width": 1.3
          },
          "opacity": 0.8,
          "size": [
           26
          ],
          "symbol": "circle"
         },
         "mode": "markers",
         "name": "SK Warne",
         "text": [
          "SK Warne"
         ],
         "textfont": {
          "color": "#4D5663"
         },
         "type": "scatter",
         "uid": "2a83950f-4f0e-4b29-ac30-fdebae811150",
         "x": [
          6.907604251839738
         ],
         "y": [
          20.383333333333333
         ]
        },
        {
         "marker": {
          "color": "rgba(128, 177, 211, 0.8999999999999999)",
          "line": {
           "width": 1.3
          },
          "opacity": 0.8,
          "size": [
           40
          ],
          "symbol": "circle"
         },
         "mode": "markers",
         "name": "JD Unadkat",
         "text": [
          "JD Unadkat"
         ],
         "textfont": {
          "color": "#4D5663"
         },
         "type": "scatter",
         "uid": "43282a57-0ee4-4dcc-90da-e2d2d87b281d",
         "x": [
          8.499675535366645
         ],
         "y": [
          18.79268292682927
         ]
        },
        {
         "marker": {
          "color": "rgba(255, 153, 51, 0.8999999999999999)",
          "line": {
           "width": 1.3
          },
          "opacity": 0.8,
          "size": [
           25
          ],
          "symbol": "circle"
         },
         "mode": "markers",
         "name": "AD Russell",
         "text": [
          "AD Russell"
         ],
         "textfont": {
          "color": "#4D5663"
         },
         "type": "scatter",
         "uid": "420d9ae6-0df1-4a16-b46b-4cf0b23202f8",
         "x": [
          8.496268656716419
         ],
         "y": [
          18.16949152542373
         ]
        },
        {
         "marker": {
          "color": "rgba(55, 128, 191, 0.8999999999999999)",
          "line": {
           "width": 1.3
          },
          "opacity": 0.8,
          "size": [
           20
          ],
          "symbol": "circle"
         },
         "mode": "markers",
         "name": "Mohammed Shami",
         "text": [
          "Mohammed Shami"
         ],
         "textfont": {
          "color": "#4D5663"
         },
         "type": "scatter",
         "uid": "8653e95e-8c72-42e6-b676-55b560084f33",
         "x": [
          8.4
         ],
         "y": [
          20.673076923076923
         ]
        },
        {
         "marker": {
          "color": "rgba(50, 171, 96, 0.8999999999999999)",
          "line": {
           "width": 1.3
          },
          "opacity": 0.8,
          "size": [
           21
          ],
          "symbol": "circle"
         },
         "mode": "markers",
         "name": "S Kaul",
         "text": [
          "S Kaul"
         ],
         "textfont": {
          "color": "#4D5663"
         },
         "type": "scatter",
         "uid": "93153757-1c85-4d85-86f7-22bfad62f83a",
         "x": [
          8.222442899702084
         ],
         "y": [
          19
         ]
        },
        {
         "marker": {
          "color": "rgba(128, 0, 128, 0.8999999999999999)",
          "line": {
           "width": 1.3
          },
          "opacity": 0.8,
          "size": [
           36
          ],
          "symbol": "circle"
         },
         "mode": "markers",
         "name": "JP Faulkner",
         "text": [
          "JP Faulkner"
         ],
         "textfont": {
          "color": "#4D5663"
         },
         "type": "scatter",
         "uid": "dc6142b9-1c55-4db9-bf35-2f2679864ff4",
         "x": [
          8.13053613053613
         ],
         "y": [
          16.93421052631579
         ]
        },
        {
         "marker": {
          "color": "rgba(219, 64, 82, 0.8999999999999999)",
          "line": {
           "width": 1.3
          },
          "opacity": 0.8,
          "size": [
           52
          ],
          "symbol": "circle"
         },
         "mode": "markers",
         "name": "MM Sharma",
         "text": [
          "MM Sharma"
         ],
         "textfont": {
          "color": "#4D5663"
         },
         "type": "scatter",
         "uid": "b01f8352-96ef-4a4a-90a3-93d30a4e657e",
         "x": [
          8.128813559322033
         ],
         "y": [
          17.87878787878788
         ]
        },
        {
         "marker": {
          "color": "rgba(0, 128, 128, 0.8999999999999999)",
          "line": {
           "width": 1.3
          },
          "opacity": 0.8,
          "size": [
           71
          ],
          "symbol": "circle"
         },
         "mode": "markers",
         "name": "R Vinay Kumar",
         "text": [
          "R Vinay Kumar"
         ],
         "textfont": {
          "color": "#4D5663"
         },
         "type": "scatter",
         "uid": "c225fcdd-c8af-48ba-a175-1daacaf1ea3b",
         "x": [
          8.033851784080513
         ],
         "y": [
          17.212598425196852
         ]
        },
        {
         "marker": {
          "color": "rgba(255, 255, 51, 0.8999999999999999)",
          "line": {
           "width": 1.3
          },
          "opacity": 0.8,
          "size": [
           30
          ],
          "symbol": "circle"
         },
         "mode": "markers",
         "name": "KA Pollard",
         "text": [
          "KA Pollard"
         ],
         "textfont": {
          "color": "#4D5663"
         },
         "type": "scatter",
         "uid": "0f9716e5-9373-4e9f-bdb2-45f72814c9c3",
         "x": [
          7.93730407523511
         ],
         "y": [
          19.044776119402986
         ]
        },
        {
         "marker": {
          "color": "rgba(128, 128, 0, 0.8999999999999999)",
          "line": {
           "width": 1.3
          },
          "opacity": 0.8,
          "size": [
           77
          ],
          "symbol": "circle"
         },
         "mode": "markers",
         "name": "UT Yadav",
         "text": [
          "UT Yadav"
         ],
         "textfont": {
          "color": "#4D5663"
         },
         "type": "scatter",
         "uid": "82c51cc1-8763-423d-b910-371e642bb203",
         "x": [
          7.879462571976967
         ],
         "y": [
          19.154411764705884
         ]
        },
        {
         "marker": {
          "color": "rgba(251, 128, 114, 0.8999999999999999)",
          "line": {
           "width": 1.3
          },
          "opacity": 0.8,
          "size": [
           35
          ],
          "symbol": "circle"
         },
         "mode": "markers",
         "name": "MJ McClenaghan",
         "text": [
          "MJ McClenaghan"
         ],
         "textfont": {
          "color": "#4D5663"
         },
         "type": "scatter",
         "uid": "49c12ba3-4155-43b9-91e3-63d6afc0c629",
         "x": [
          7.827637444279346
         ],
         "y": [
          18.18918918918919
         ]
        }
       ],
       "layout": {
        "legend": {
         "x": 1,
         "y": 0
        },
        "title": {
         "font": {
          "size": 20
         },
         "text": "10 Best and 10 Worst Bowlers",
         "x": 0,
         "xref": "paper"
        },
        "xaxis": {
         "exponentformat": "e",
         "showexponent": "all",
         "showticklabels": true,
         "tickfont": {
          "size": 14
         },
         "title": {
          "font": {
           "size": 20
          },
          "text": "Economy"
         }
        },
        "yaxis": {
         "exponentformat": "e",
         "showexponent": "all",
         "showticklabels": true,
         "tickfont": {
          "color": "black",
          "family": "Old Standard TT, serif",
          "size": 14
         },
         "title": {
          "font": {
           "family": "Arial, sans-serif",
           "size": 20
          },
          "text": "Wicket Taking Ability"
         }
        }
       }
      },
      "text/html": [
       "<div>\n",
       "        \n",
       "        \n",
       "            <div id=\"4aebbe88-cf9f-4c19-bc87-ec5bef50ccdc\" class=\"plotly-graph-div\" style=\"height:525px; width:100%;\"></div>\n",
       "            <script type=\"text/javascript\">\n",
       "                require([\"plotly\"], function(Plotly) {\n",
       "                    window.PLOTLYENV=window.PLOTLYENV || {};\n",
       "                    window.PLOTLYENV.BASE_URL='https://plot.ly';\n",
       "                    \n",
       "                if (document.getElementById(\"4aebbe88-cf9f-4c19-bc87-ec5bef50ccdc\")) {\n",
       "                    Plotly.newPlot(\n",
       "                        '4aebbe88-cf9f-4c19-bc87-ec5bef50ccdc',\n",
       "                        [{\"marker\": {\"color\": \"rgba(255, 153, 51, 1.0)\", \"line\": {\"width\": 1.3}, \"opacity\": 0.8, \"size\": [54], \"symbol\": \"circle\"}, \"mode\": \"markers\", \"name\": \"DW Steyn\", \"text\": [\"DW Steyn\"], \"textfont\": {\"color\": \"#4D5663\"}, \"type\": \"scatter\", \"uid\": \"5111cc69-b32b-4b76-ae8f-064401452d73\", \"x\": [6.206615314907114], \"y\": [21.42718446601942]}, {\"marker\": {\"color\": \"rgba(55, 128, 191, 1.0)\", \"line\": {\"width\": 1.3}, \"opacity\": 0.8, \"size\": [30], \"symbol\": \"circle\"}, \"mode\": \"markers\", \"name\": \"M Muralitharan\", \"text\": [\"M Muralitharan\"], \"textfont\": {\"color\": \"#4D5663\"}, \"type\": \"scatter\", \"uid\": \"f96f2098-e053-465a-804b-1d2ff69a6025\", \"x\": [6.2314990512333965], \"y\": [23.597014925373134]}, {\"marker\": {\"color\": \"rgba(50, 171, 96, 1.0)\", \"line\": {\"width\": 1.3}, \"opacity\": 0.8, \"size\": [78], \"symbol\": \"circle\"}, \"mode\": \"markers\", \"name\": \"R Ashwin\", \"text\": [\"R Ashwin\"], \"textfont\": {\"color\": \"#4D5663\"}, \"type\": \"scatter\", \"uid\": \"3c71245e-8954-4a9e-9538-1c3079ad9805\", \"x\": [6.413793103448276], \"y\": [21.855072463768117]}, {\"marker\": {\"color\": \"rgba(128, 0, 128, 1.0)\", \"line\": {\"width\": 1.3}, \"opacity\": 0.8, \"size\": [112], \"symbol\": \"circle\"}, \"mode\": \"markers\", \"name\": \"SL Malinga\", \"text\": [\"SL Malinga\"], \"textfont\": {\"color\": \"#4D5663\"}, \"type\": \"scatter\", \"uid\": \"07b3fbe8-8190-4f06-a3e9-2d2f2d70cafd\", \"x\": [6.49226630800269], \"y\": [15.819148936170214]}, {\"marker\": {\"color\": \"rgba(219, 64, 82, 1.0)\", \"line\": {\"width\": 1.3}, \"opacity\": 0.8, \"size\": [77], \"symbol\": \"circle\"}, \"mode\": \"markers\", \"name\": \"SP Narine\", \"text\": [\"SP Narine\"], \"textfont\": {\"color\": \"#4D5663\"}, \"type\": \"scatter\", \"uid\": \"02b0a92e-53b8-436b-82a0-14d91dfc86b8\", \"x\": [6.519230769230769], \"y\": [18.978102189781023]}, {\"marker\": {\"color\": \"rgba(0, 128, 128, 1.0)\", \"line\": {\"width\": 1.3}, \"opacity\": 0.8, \"size\": [26], \"symbol\": \"circle\"}, \"mode\": \"markers\", \"name\": \"Rashid Khan\", \"text\": [\"Rashid Khan\"], \"textfont\": {\"color\": \"#4D5663\"}, \"type\": \"scatter\", \"uid\": \"0374d3c5-a79f-448c-afb5-990fdc0730c3\", \"x\": [6.585895117540687], \"y\": [18.433333333333334]}, {\"marker\": {\"color\": \"rgba(255, 255, 51, 1.0)\", \"line\": {\"width\": 1.3}, \"opacity\": 0.8, \"size\": [93], \"symbol\": \"circle\"}, \"mode\": \"markers\", \"name\": \"Harbhajan Singh\", \"text\": [\"Harbhajan Singh\"], \"textfont\": {\"color\": \"#4D5663\"}, \"type\": \"scatter\", \"uid\": \"3cd67c12-e2a8-4bb9-ae60-e5cce13481f1\", \"x\": [6.745870762097943], \"y\": [21.56875]}, {\"marker\": {\"color\": \"rgba(128, 128, 0, 1.0)\", \"line\": {\"width\": 1.3}, \"opacity\": 0.8, \"size\": [80], \"symbol\": \"circle\"}, \"mode\": \"markers\", \"name\": \"B Kumar\", \"text\": [\"B Kumar\"], \"textfont\": {\"color\": \"#4D5663\"}, \"type\": \"scatter\", \"uid\": \"2d204e69-c6ee-4141-97be-cb7b6806a7a1\", \"x\": [6.7979312892500925], \"y\": [19.19858156028369]}, {\"marker\": {\"color\": \"rgba(251, 128, 114, 1.0)\", \"line\": {\"width\": 1.3}, \"opacity\": 0.8, \"size\": [12], \"symbol\": \"circle\"}, \"mode\": \"markers\", \"name\": \"M Kartik\", \"text\": [\"M Kartik\"], \"textfont\": {\"color\": \"#4D5663\"}, \"type\": \"scatter\", \"uid\": \"e4d57ce8-e8c7-4c5b-9b48-8ff51704b309\", \"x\": [6.807106598984771], \"y\": [30.307692307692307]}, {\"marker\": {\"color\": \"rgba(128, 177, 211, 1.0)\", \"line\": {\"width\": 1.3}, \"opacity\": 0.8, \"size\": [26], \"symbol\": \"circle\"}, \"mode\": \"markers\", \"name\": \"SK Warne\", \"text\": [\"SK Warne\"], \"textfont\": {\"color\": \"#4D5663\"}, \"type\": \"scatter\", \"uid\": \"27b8a584-ddf7-40af-9efb-4d1e9cf0b6c4\", \"x\": [6.907604251839738], \"y\": [20.383333333333333]}, {\"marker\": {\"color\": \"rgba(128, 177, 211, 0.8999999999999999)\", \"line\": {\"width\": 1.3}, \"opacity\": 0.8, \"size\": [40], \"symbol\": \"circle\"}, \"mode\": \"markers\", \"name\": \"JD Unadkat\", \"text\": [\"JD Unadkat\"], \"textfont\": {\"color\": \"#4D5663\"}, \"type\": \"scatter\", \"uid\": \"40d3a824-7f78-4b4a-958a-a9b94ff3d236\", \"x\": [8.499675535366645], \"y\": [18.79268292682927]}, {\"marker\": {\"color\": \"rgba(255, 153, 51, 0.8999999999999999)\", \"line\": {\"width\": 1.3}, \"opacity\": 0.8, \"size\": [25], \"symbol\": \"circle\"}, \"mode\": \"markers\", \"name\": \"AD Russell\", \"text\": [\"AD Russell\"], \"textfont\": {\"color\": \"#4D5663\"}, \"type\": \"scatter\", \"uid\": \"5675c3ff-b5d8-4611-85c5-4325316334fc\", \"x\": [8.496268656716419], \"y\": [18.16949152542373]}, {\"marker\": {\"color\": \"rgba(55, 128, 191, 0.8999999999999999)\", \"line\": {\"width\": 1.3}, \"opacity\": 0.8, \"size\": [20], \"symbol\": \"circle\"}, \"mode\": \"markers\", \"name\": \"Mohammed Shami\", \"text\": [\"Mohammed Shami\"], \"textfont\": {\"color\": \"#4D5663\"}, \"type\": \"scatter\", \"uid\": \"5d274142-55c2-410c-8f07-88a94c767cd2\", \"x\": [8.4], \"y\": [20.673076923076923]}, {\"marker\": {\"color\": \"rgba(50, 171, 96, 0.8999999999999999)\", \"line\": {\"width\": 1.3}, \"opacity\": 0.8, \"size\": [21], \"symbol\": \"circle\"}, \"mode\": \"markers\", \"name\": \"S Kaul\", \"text\": [\"S Kaul\"], \"textfont\": {\"color\": \"#4D5663\"}, \"type\": \"scatter\", \"uid\": \"20a70ecb-5887-422b-8f45-9707938cda0e\", \"x\": [8.222442899702084], \"y\": [19.0]}, {\"marker\": {\"color\": \"rgba(128, 0, 128, 0.8999999999999999)\", \"line\": {\"width\": 1.3}, \"opacity\": 0.8, \"size\": [36], \"symbol\": \"circle\"}, \"mode\": \"markers\", \"name\": \"JP Faulkner\", \"text\": [\"JP Faulkner\"], \"textfont\": {\"color\": \"#4D5663\"}, \"type\": \"scatter\", \"uid\": \"e5cb5f87-89d0-43c6-8d21-449ed81d6cdf\", \"x\": [8.13053613053613], \"y\": [16.93421052631579]}, {\"marker\": {\"color\": \"rgba(219, 64, 82, 0.8999999999999999)\", \"line\": {\"width\": 1.3}, \"opacity\": 0.8, \"size\": [52], \"symbol\": \"circle\"}, \"mode\": \"markers\", \"name\": \"MM Sharma\", \"text\": [\"MM Sharma\"], \"textfont\": {\"color\": \"#4D5663\"}, \"type\": \"scatter\", \"uid\": \"abaf4525-fb1e-42a0-a375-11f38aa47a52\", \"x\": [8.128813559322033], \"y\": [17.87878787878788]}, {\"marker\": {\"color\": \"rgba(0, 128, 128, 0.8999999999999999)\", \"line\": {\"width\": 1.3}, \"opacity\": 0.8, \"size\": [71], \"symbol\": \"circle\"}, \"mode\": \"markers\", \"name\": \"R Vinay Kumar\", \"text\": [\"R Vinay Kumar\"], \"textfont\": {\"color\": \"#4D5663\"}, \"type\": \"scatter\", \"uid\": \"1b879fb6-b2f4-4339-b4c1-8c23867995fe\", \"x\": [8.033851784080513], \"y\": [17.212598425196852]}, {\"marker\": {\"color\": \"rgba(255, 255, 51, 0.8999999999999999)\", \"line\": {\"width\": 1.3}, \"opacity\": 0.8, \"size\": [30], \"symbol\": \"circle\"}, \"mode\": \"markers\", \"name\": \"KA Pollard\", \"text\": [\"KA Pollard\"], \"textfont\": {\"color\": \"#4D5663\"}, \"type\": \"scatter\", \"uid\": \"80545298-27a3-41b2-a196-7bd036a59154\", \"x\": [7.93730407523511], \"y\": [19.044776119402986]}, {\"marker\": {\"color\": \"rgba(128, 128, 0, 0.8999999999999999)\", \"line\": {\"width\": 1.3}, \"opacity\": 0.8, \"size\": [77], \"symbol\": \"circle\"}, \"mode\": \"markers\", \"name\": \"UT Yadav\", \"text\": [\"UT Yadav\"], \"textfont\": {\"color\": \"#4D5663\"}, \"type\": \"scatter\", \"uid\": \"1b421620-f769-4e50-a18a-0bba10846afa\", \"x\": [7.879462571976967], \"y\": [19.154411764705884]}, {\"marker\": {\"color\": \"rgba(251, 128, 114, 0.8999999999999999)\", \"line\": {\"width\": 1.3}, \"opacity\": 0.8, \"size\": [35], \"symbol\": \"circle\"}, \"mode\": \"markers\", \"name\": \"MJ McClenaghan\", \"text\": [\"MJ McClenaghan\"], \"textfont\": {\"color\": \"#4D5663\"}, \"type\": \"scatter\", \"uid\": \"0bf1a440-e42d-4b1c-a4ec-4a1e5def5f66\", \"x\": [7.827637444279346], \"y\": [18.18918918918919]}],\n",
       "                        {\"legend\": {\"x\": 1, \"y\": 0}, \"title\": {\"font\": {\"size\": 20}, \"text\": \"10 Best and 10 Worst Bowlers\", \"x\": 0, \"xref\": \"paper\"}, \"xaxis\": {\"exponentformat\": \"e\", \"showexponent\": \"all\", \"showticklabels\": true, \"tickfont\": {\"size\": 14}, \"title\": {\"font\": {\"size\": 20}, \"text\": \"Economy\"}}, \"yaxis\": {\"exponentformat\": \"e\", \"showexponent\": \"all\", \"showticklabels\": true, \"tickfont\": {\"color\": \"black\", \"family\": \"Old Standard TT, serif\", \"size\": 14}, \"title\": {\"font\": {\"family\": \"Arial, sans-serif\", \"size\": 20}, \"text\": \"Wicket Taking Ability\"}}},\n",
       "                        {\"showLink\": true, \"linkText\": \"Export to plot.ly\", \"plotlyServerURL\": \"https://plot.ly\", \"responsive\": true}\n",
       "                    ).then(function(){\n",
       "                            \n",
       "var gd = document.getElementById('4aebbe88-cf9f-4c19-bc87-ec5bef50ccdc');\n",
       "var x = new MutationObserver(function (mutations, observer) {{\n",
       "        var display = window.getComputedStyle(gd).display;\n",
       "        if (!display || display === 'none') {{\n",
       "            console.log([gd, 'removed!']);\n",
       "            Plotly.purge(gd);\n",
       "            observer.disconnect();\n",
       "        }}\n",
       "}});\n",
       "\n",
       "// Listen for the removal of the full notebook cells\n",
       "var notebookContainer = gd.closest('#notebook-container');\n",
       "if (notebookContainer) {{\n",
       "    x.observe(notebookContainer, {childList: true});\n",
       "}}\n",
       "\n",
       "// Listen for the clearing of the current output cell\n",
       "var outputEl = gd.closest('.output');\n",
       "if (outputEl) {{\n",
       "    x.observe(outputEl, {childList: true});\n",
       "}}\n",
       "\n",
       "                        })\n",
       "                };\n",
       "                });\n",
       "            </script>\n",
       "        </div>"
      ]
     },
     "metadata": {},
     "output_type": "display_data"
    }
   ],
   "source": [
    "## Generate and format Plot\n",
    "\n",
    "out_best = out.nsmallest(10, 'Economy')\n",
    "out_worst = out.nlargest(10, 'Economy')\n",
    "\n",
    "b_comp = pd.concat([out_best, out_worst])\n",
    "layout = go.Layout(\n",
    "    title=dict(\n",
    "        text=\"10 Best and 10 Worst Bowlers\",\n",
    "        xref=\"paper\",\n",
    "        font = dict(size=20),\n",
    "        x=0\n",
    "    \n",
    "    ),\n",
    "  legend = dict(\n",
    "    x = 1,\n",
    "    y = 0\n",
    "  ),\n",
    "    xaxis=dict(\n",
    "        title='Economy',\n",
    "        titlefont=dict(\n",
    "            size=20,\n",
    "        ),\n",
    "        showticklabels=True,\n",
    "        tickfont=dict(\n",
    "            size=14,\n",
    "        ),\n",
    "        exponentformat='e',\n",
    "        showexponent='all'\n",
    "    ),\n",
    "    yaxis=dict(\n",
    "        title='Wicket Taking Ability',\n",
    "        titlefont=dict(\n",
    "            family='Arial, sans-serif',\n",
    "            size=20,\n",
    "        ),\n",
    "        showticklabels=True,\n",
    "        tickfont=dict(\n",
    "            family='Old Standard TT, serif',\n",
    "            size=14,\n",
    "            color='black'\n",
    "        ),\n",
    "        exponentformat='e',\n",
    "        showexponent='all'\n",
    "    )\n",
    ")\n",
    "b_comp.iplot(layout= layout, kind='bubble', x='Economy', y='Wicket Taking Ability', categories='bowler', size='Number of Wickets taken', text='bowler',\n",
    "          xTitle='Bowler Economy', yTitle='Bowler Wicket Taking Ability', filename='cufflinks/simple-bubble-chart')"
   ]
  },
  {
   "cell_type": "markdown",
   "metadata": {
    "pycharm": {
     "name": "#%%\n"
    }
   },
   "source": [
    "### 10 Best and 10 Worst Batsmen"
   ]
  },
  {
   "cell_type": "code",
   "execution_count": 5,
   "metadata": {
    "pycharm": {
     "name": "#%%\n"
    }
   },
   "outputs": [],
   "source": [
    "# Calculate Metrics\n",
    "hh = hard_hit(ball_data.copy())\n",
    "fs = fast_scoring(ball_data.copy())\n",
    "\n",
    "# Keep regular batsmen\n",
    "hh_100 = hh[hh['Number of Balls Faced']>800]\n",
    "fs_100 = fs[fs['Number of Balls Faced']>800]\n",
    "out = pd.merge(hh_100, fs_100, how='inner', on=['batsman','Number of Balls Faced'])"
   ]
  },
  {
   "cell_type": "code",
   "execution_count": 6,
   "metadata": {
    "pycharm": {
     "name": "#%%\n"
    }
   },
   "outputs": [
    {
     "data": {
      "application/vnd.plotly.v1+json": {
       "config": {
        "linkText": "Export to plot.ly",
        "plotlyServerURL": "https://plot.ly",
        "responsive": true,
        "showLink": true
       },
       "data": [
        {
         "marker": {
          "color": "rgba(255, 153, 51, 1.0)",
          "line": {
           "width": 1.3
          },
          "opacity": 0.8,
          "size": [
           24
          ],
          "symbol": "circle"
         },
         "mode": "markers",
         "name": "SC Ganguly",
         "text": [
          "SC Ganguly"
         ],
         "textfont": {
          "color": "#4D5663"
         },
         "type": "scatter",
         "uid": "38b1b207-e31c-4637-b5ba-d05e5a4f714c",
         "x": [
          0.13499245852187028
         ],
         "y": [
          1.0173453996983408
         ]
        },
        {
         "marker": {
          "color": "rgba(55, 128, 191, 1.0)",
          "line": {
           "width": 1.3
          },
          "opacity": 0.8,
          "size": [
           12
          ],
          "symbol": "circle"
         },
         "mode": "markers",
         "name": "HH Gibbs",
         "text": [
          "HH Gibbs"
         ],
         "textfont": {
          "color": "#4D5663"
         },
         "type": "scatter",
         "uid": "87ce0a81-9f4e-49a5-9535-5e990cd8d520",
         "x": [
          0.13620071684587814
         ],
         "y": [
          1.058542413381123
         ]
        },
        {
         "marker": {
          "color": "rgba(50, 171, 96, 1.0)",
          "line": {
           "width": 1.3
          },
          "opacity": 0.8,
          "size": [
           51
          ],
          "symbol": "circle"
         },
         "mode": "markers",
         "name": "JH Kallis",
         "text": [
          "JH Kallis"
         ],
         "textfont": {
          "color": "#4D5663"
         },
         "type": "scatter",
         "uid": "3e6333c3-1ad3-4013-947f-3d3ae8625364",
         "x": [
          0.13051069402007856
         ],
         "y": [
          1.0593627237014405
         ]
        },
        {
         "marker": {
          "color": "rgba(128, 0, 128, 1.0)",
          "line": {
           "width": 1.3
          },
          "opacity": 0.8,
          "size": [
           18
          ],
          "symbol": "circle"
         },
         "mode": "markers",
         "name": "TM Dilshan",
         "text": [
          "TM Dilshan"
         ],
         "textfont": {
          "color": "#4D5663"
         },
         "type": "scatter",
         "uid": "e0f3e82c-ea7c-4f46-a623-4f3f7d612875",
         "x": [
          0.15663801337153774
         ],
         "y": [
          1.1012416427889207
         ]
        },
        {
         "marker": {
          "color": "rgba(219, 64, 82, 1.0)",
          "line": {
           "width": 1.3
          },
          "opacity": 0.8,
          "size": [
           45
          ],
          "symbol": "circle"
         },
         "mode": "markers",
         "name": "R Dravid",
         "text": [
          "R Dravid"
         ],
         "textfont": {
          "color": "#4D5663"
         },
         "type": "scatter",
         "uid": "27b0aabc-9065-4db2-b975-9a1c6c90a177",
         "x": [
          0.1548488008342023
         ],
         "y": [
          1.1334723670490094
         ]
        },
        {
         "marker": {
          "color": "rgba(0, 128, 128, 1.0)",
          "line": {
           "width": 1.3
          },
          "opacity": 0.8,
          "size": [
           14
          ],
          "symbol": "circle"
         },
         "mode": "markers",
         "name": "Y Venugopal Rao",
         "text": [
          "Y Venugopal Rao"
         ],
         "textfont": {
          "color": "#4D5663"
         },
         "type": "scatter",
         "uid": "2035f9e4-d2bc-40c8-b931-233a65fd6893",
         "x": [
          0.13179190751445086
         ],
         "y": [
          1.138728323699422
         ]
        },
        {
         "marker": {
          "color": "rgba(255, 255, 51, 1.0)",
          "line": {
           "width": 1.3
          },
          "opacity": 0.8,
          "size": [
           33
          ],
          "symbol": "circle"
         },
         "mode": "markers",
         "name": "MK Tiwary",
         "text": [
          "MK Tiwary"
         ],
         "textfont": {
          "color": "#4D5663"
         },
         "type": "scatter",
         "uid": "a14f1acd-f77f-4bba-9f9b-258c54a735b9",
         "x": [
          0.13163196776359973
         ],
         "y": [
          1.1396910678307588
         ]
        },
        {
         "marker": {
          "color": "rgba(128, 128, 0, 1.0)",
          "line": {
           "width": 1.3
          },
          "opacity": 0.8,
          "size": [
           49
          ],
          "symbol": "circle"
         },
         "mode": "markers",
         "name": "SR Tendulkar",
         "text": [
          "SR Tendulkar"
         ],
         "textfont": {
          "color": "#4D5663"
         },
         "type": "scatter",
         "uid": "f0f7b147-4e48-4114-ac52-13d3ea78397d",
         "x": [
          0.15900195694716243
         ],
         "y": [
          1.1418786692759295
         ]
        },
        {
         "marker": {
          "color": "rgba(251, 128, 114, 1.0)",
          "line": {
           "width": 1.3
          },
          "opacity": 0.8,
          "size": [
           29
          ],
          "symbol": "circle"
         },
         "mode": "markers",
         "name": "NV Ojha",
         "text": [
          "NV Ojha"
         ],
         "textfont": {
          "color": "#4D5663"
         },
         "type": "scatter",
         "uid": "be82066e-86d7-4a7d-a11a-1eef112ec7dd",
         "x": [
          0.14705882352941177
         ],
         "y": [
          1.1433823529411764
         ]
        },
        {
         "marker": {
          "color": "rgba(128, 177, 211, 1.0)",
          "line": {
           "width": 1.3
          },
          "opacity": 0.8,
          "size": [
           22
          ],
          "symbol": "circle"
         },
         "mode": "markers",
         "name": "SS Tiwary",
         "text": [
          "SS Tiwary"
         ],
         "textfont": {
          "color": "#4D5663"
         },
         "type": "scatter",
         "uid": "bacb1b4a-129b-4500-afe0-d787c667bc8c",
         "x": [
          0.12421242124212421
         ],
         "y": [
          1.1485148514851484
         ]
        },
        {
         "marker": {
          "color": "rgba(128, 177, 211, 0.8999999999999999)",
          "line": {
           "width": 1.3
          },
          "opacity": 0.8,
          "size": [
           26
          ],
          "symbol": "circle"
         },
         "mode": "markers",
         "name": "AD Russell",
         "text": [
          "AD Russell"
         ],
         "textfont": {
          "color": "#4D5663"
         },
         "type": "scatter",
         "uid": "ef81e087-d22c-4b3a-b3cc-be86c4d766be",
         "x": [
          0.27023661270236615
         ],
         "y": [
          1.7995018679950188
         ]
        },
        {
         "marker": {
          "color": "rgba(255, 153, 51, 0.8999999999999999)",
          "line": {
           "width": 1.3
          },
          "opacity": 0.8,
          "size": [
           35
          ],
          "symbol": "circle"
         },
         "mode": "markers",
         "name": "RR Pant",
         "text": [
          "RR Pant"
         ],
         "textfont": {
          "color": "#4D5663"
         },
         "type": "scatter",
         "uid": "5df5c54a-9a83-4a4a-add9-c0f8d70b2009",
         "x": [
          0.2246376811594203
         ],
         "y": [
          1.6231884057971016
         ]
        },
        {
         "marker": {
          "color": "rgba(55, 128, 191, 0.8999999999999999)",
          "line": {
           "width": 1.3
          },
          "opacity": 0.8,
          "size": [
           25
          ],
          "symbol": "circle"
         },
         "mode": "markers",
         "name": "GJ Maxwell",
         "text": [
          "GJ Maxwell"
         ],
         "textfont": {
          "color": "#4D5663"
         },
         "type": "scatter",
         "uid": "5389d3ef-a30d-4003-bbf9-6345346bb453",
         "x": [
          0.22283813747228381
         ],
         "y": [
          1.5554323725055432
         ]
        },
        {
         "marker": {
          "color": "rgba(50, 171, 96, 0.8999999999999999)",
          "line": {
           "width": 1.3
          },
          "opacity": 0.8,
          "size": [
           26
          ],
          "symbol": "circle"
         },
         "mode": "markers",
         "name": "JC Buttler",
         "text": [
          "JC Buttler"
         ],
         "textfont": {
          "color": "#4D5663"
         },
         "type": "scatter",
         "uid": "f970bd22-457c-487e-b0aa-19ccf38f0471",
         "x": [
          0.2138364779874214
         ],
         "y": [
          1.5
         ]
        },
        {
         "marker": {
          "color": "rgba(128, 0, 128, 0.8999999999999999)",
          "line": {
           "width": 1.3
          },
          "opacity": 0.8,
          "size": [
           59
          ],
          "symbol": "circle"
         },
         "mode": "markers",
         "name": "V Sehwag",
         "text": [
          "V Sehwag"
         ],
         "textfont": {
          "color": "#4D5663"
         },
         "type": "scatter",
         "uid": "69f2dee1-8223-4e0a-a494-03bae277083e",
         "x": [
          0.24004364429896344
         ],
         "y": [
          1.4882705946535735
         ]
        },
        {
         "marker": {
          "color": "rgba(219, 64, 82, 0.8999999999999999)",
          "line": {
           "width": 1.3
          },
          "opacity": 0.8,
          "size": [
           103
          ],
          "symbol": "circle"
         },
         "mode": "markers",
         "name": "AB de Villiers",
         "text": [
          "AB de Villiers"
         ],
         "textfont": {
          "color": "#4D5663"
         },
         "type": "scatter",
         "uid": "3e617cfa-1de3-4aa7-9f0f-d7fab90ff4f4",
         "x": [
          0.1918038293584145
         ],
         "y": [
          1.487403426268055
         ]
        },
        {
         "marker": {
          "color": "rgba(0, 128, 128, 0.8999999999999999)",
          "line": {
           "width": 1.3
          },
          "opacity": 0.8,
          "size": [
           107
          ],
          "symbol": "circle"
         },
         "mode": "markers",
         "name": "CH Gayle",
         "text": [
          "CH Gayle"
         ],
         "textfont": {
          "color": "#4D5663"
         },
         "type": "scatter",
         "uid": "6009cfad-0b94-4612-b586-4e184f20ad24",
         "x": [
          0.22452890450335355
         ],
         "y": [
          1.4564037048866176
         ]
        },
        {
         "marker": {
          "color": "rgba(255, 255, 51, 0.8999999999999999)",
          "line": {
           "width": 1.3
          },
          "opacity": 0.8,
          "size": [
           61
          ],
          "symbol": "circle"
         },
         "mode": "markers",
         "name": "KA Pollard",
         "text": [
          "KA Pollard"
         ],
         "textfont": {
          "color": "#4D5663"
         },
         "type": "scatter",
         "uid": "b83aa191-795d-4bbe-babb-9eba06d1af01",
         "x": [
          0.18177189409368635
         ],
         "y": [
          1.4175152749490836
         ]
        },
        {
         "marker": {
          "color": "rgba(128, 128, 0, 0.8999999999999999)",
          "line": {
           "width": 1.3
          },
          "opacity": 0.8,
          "size": [
           112
          ],
          "symbol": "circle"
         },
         "mode": "markers",
         "name": "DA Warner",
         "text": [
          "DA Warner"
         ],
         "textfont": {
          "color": "#4D5663"
         },
         "type": "scatter",
         "uid": "806cc357-0016-4621-9f30-40263f065265",
         "x": [
          0.1883460859329017
         ],
         "y": [
          1.3952324896998234
         ]
        },
        {
         "marker": {
          "color": "rgba(251, 128, 114, 0.8999999999999999)",
          "line": {
           "width": 1.3
          },
          "opacity": 0.8,
          "size": [
           22
          ],
          "symbol": "circle"
         },
         "mode": "markers",
         "name": "CA Lynn",
         "text": [
          "CA Lynn"
         ],
         "textfont": {
          "color": "#4D5663"
         },
         "type": "scatter",
         "uid": "4d56ff6e-264d-4b2b-9b00-9a6befe9466d",
         "x": [
          0.20234291799787008
         ],
         "y": [
          1.3929712460063899
         ]
        }
       ],
       "layout": {
        "legend": {
         "x": 1,
         "y": 0
        },
        "title": {
         "font": {
          "size": 20
         },
         "text": "10 Best and 10 Worst Batsman",
         "x": 0,
         "xref": "paper"
        },
        "xaxis": {
         "exponentformat": "e",
         "showexponent": "all",
         "showticklabels": true,
         "tickfont": {
          "size": 14
         },
         "title": {
          "font": {
           "size": 20
          },
          "text": "Hard Hit"
         }
        },
        "yaxis": {
         "exponentformat": "e",
         "showexponent": "all",
         "showticklabels": true,
         "tickfont": {
          "color": "black",
          "family": "Old Standard TT, serif",
          "size": 14
         },
         "title": {
          "font": {
           "family": "Arial, sans-serif",
           "size": 20
          },
          "text": "Fast Scoring Ability"
         }
        }
       }
      },
      "text/html": [
       "<div>\n",
       "        \n",
       "        \n",
       "            <div id=\"497d86d2-069e-43bc-8f3f-ecbd35d5edcc\" class=\"plotly-graph-div\" style=\"height:525px; width:100%;\"></div>\n",
       "            <script type=\"text/javascript\">\n",
       "                require([\"plotly\"], function(Plotly) {\n",
       "                    window.PLOTLYENV=window.PLOTLYENV || {};\n",
       "                    window.PLOTLYENV.BASE_URL='https://plot.ly';\n",
       "                    \n",
       "                if (document.getElementById(\"497d86d2-069e-43bc-8f3f-ecbd35d5edcc\")) {\n",
       "                    Plotly.newPlot(\n",
       "                        '497d86d2-069e-43bc-8f3f-ecbd35d5edcc',\n",
       "                        [{\"marker\": {\"color\": \"rgba(255, 153, 51, 1.0)\", \"line\": {\"width\": 1.3}, \"opacity\": 0.8, \"size\": [24], \"symbol\": \"circle\"}, \"mode\": \"markers\", \"name\": \"SC Ganguly\", \"text\": [\"SC Ganguly\"], \"textfont\": {\"color\": \"#4D5663\"}, \"type\": \"scatter\", \"uid\": \"73c876e6-9134-4066-970d-e63a4b97bf8d\", \"x\": [0.13499245852187028], \"y\": [1.0173453996983408]}, {\"marker\": {\"color\": \"rgba(55, 128, 191, 1.0)\", \"line\": {\"width\": 1.3}, \"opacity\": 0.8, \"size\": [12], \"symbol\": \"circle\"}, \"mode\": \"markers\", \"name\": \"HH Gibbs\", \"text\": [\"HH Gibbs\"], \"textfont\": {\"color\": \"#4D5663\"}, \"type\": \"scatter\", \"uid\": \"0d9e2a3b-76bb-459c-a3ce-4929b5f6a3da\", \"x\": [0.13620071684587814], \"y\": [1.058542413381123]}, {\"marker\": {\"color\": \"rgba(50, 171, 96, 1.0)\", \"line\": {\"width\": 1.3}, \"opacity\": 0.8, \"size\": [51], \"symbol\": \"circle\"}, \"mode\": \"markers\", \"name\": \"JH Kallis\", \"text\": [\"JH Kallis\"], \"textfont\": {\"color\": \"#4D5663\"}, \"type\": \"scatter\", \"uid\": \"798521ce-55c3-4c0c-996f-2a78a2b0a754\", \"x\": [0.13051069402007856], \"y\": [1.0593627237014405]}, {\"marker\": {\"color\": \"rgba(128, 0, 128, 1.0)\", \"line\": {\"width\": 1.3}, \"opacity\": 0.8, \"size\": [18], \"symbol\": \"circle\"}, \"mode\": \"markers\", \"name\": \"TM Dilshan\", \"text\": [\"TM Dilshan\"], \"textfont\": {\"color\": \"#4D5663\"}, \"type\": \"scatter\", \"uid\": \"4bd3ef60-2957-4698-a9b6-1792fa240739\", \"x\": [0.15663801337153774], \"y\": [1.1012416427889207]}, {\"marker\": {\"color\": \"rgba(219, 64, 82, 1.0)\", \"line\": {\"width\": 1.3}, \"opacity\": 0.8, \"size\": [45], \"symbol\": \"circle\"}, \"mode\": \"markers\", \"name\": \"R Dravid\", \"text\": [\"R Dravid\"], \"textfont\": {\"color\": \"#4D5663\"}, \"type\": \"scatter\", \"uid\": \"ee273e6c-743c-4ee9-a778-4338373775a4\", \"x\": [0.1548488008342023], \"y\": [1.1334723670490094]}, {\"marker\": {\"color\": \"rgba(0, 128, 128, 1.0)\", \"line\": {\"width\": 1.3}, \"opacity\": 0.8, \"size\": [14], \"symbol\": \"circle\"}, \"mode\": \"markers\", \"name\": \"Y Venugopal Rao\", \"text\": [\"Y Venugopal Rao\"], \"textfont\": {\"color\": \"#4D5663\"}, \"type\": \"scatter\", \"uid\": \"1d339c55-904b-48bb-af97-f34c5f163d6d\", \"x\": [0.13179190751445086], \"y\": [1.138728323699422]}, {\"marker\": {\"color\": \"rgba(255, 255, 51, 1.0)\", \"line\": {\"width\": 1.3}, \"opacity\": 0.8, \"size\": [33], \"symbol\": \"circle\"}, \"mode\": \"markers\", \"name\": \"MK Tiwary\", \"text\": [\"MK Tiwary\"], \"textfont\": {\"color\": \"#4D5663\"}, \"type\": \"scatter\", \"uid\": \"456b9a5c-ed2d-4d0a-a6bc-00d933d02724\", \"x\": [0.13163196776359973], \"y\": [1.1396910678307588]}, {\"marker\": {\"color\": \"rgba(128, 128, 0, 1.0)\", \"line\": {\"width\": 1.3}, \"opacity\": 0.8, \"size\": [49], \"symbol\": \"circle\"}, \"mode\": \"markers\", \"name\": \"SR Tendulkar\", \"text\": [\"SR Tendulkar\"], \"textfont\": {\"color\": \"#4D5663\"}, \"type\": \"scatter\", \"uid\": \"32a7e1c1-706b-481b-9a65-2c673ec011cd\", \"x\": [0.15900195694716243], \"y\": [1.1418786692759295]}, {\"marker\": {\"color\": \"rgba(251, 128, 114, 1.0)\", \"line\": {\"width\": 1.3}, \"opacity\": 0.8, \"size\": [29], \"symbol\": \"circle\"}, \"mode\": \"markers\", \"name\": \"NV Ojha\", \"text\": [\"NV Ojha\"], \"textfont\": {\"color\": \"#4D5663\"}, \"type\": \"scatter\", \"uid\": \"dbdac29e-0549-474f-b546-b1abe3de706c\", \"x\": [0.14705882352941177], \"y\": [1.1433823529411764]}, {\"marker\": {\"color\": \"rgba(128, 177, 211, 1.0)\", \"line\": {\"width\": 1.3}, \"opacity\": 0.8, \"size\": [22], \"symbol\": \"circle\"}, \"mode\": \"markers\", \"name\": \"SS Tiwary\", \"text\": [\"SS Tiwary\"], \"textfont\": {\"color\": \"#4D5663\"}, \"type\": \"scatter\", \"uid\": \"e0fd699d-f770-4104-b1d2-9335205c4f1a\", \"x\": [0.12421242124212421], \"y\": [1.1485148514851484]}, {\"marker\": {\"color\": \"rgba(128, 177, 211, 0.8999999999999999)\", \"line\": {\"width\": 1.3}, \"opacity\": 0.8, \"size\": [26], \"symbol\": \"circle\"}, \"mode\": \"markers\", \"name\": \"AD Russell\", \"text\": [\"AD Russell\"], \"textfont\": {\"color\": \"#4D5663\"}, \"type\": \"scatter\", \"uid\": \"0d310bd2-a4c5-4a99-a1bf-ebc2112730f0\", \"x\": [0.27023661270236615], \"y\": [1.7995018679950188]}, {\"marker\": {\"color\": \"rgba(255, 153, 51, 0.8999999999999999)\", \"line\": {\"width\": 1.3}, \"opacity\": 0.8, \"size\": [35], \"symbol\": \"circle\"}, \"mode\": \"markers\", \"name\": \"RR Pant\", \"text\": [\"RR Pant\"], \"textfont\": {\"color\": \"#4D5663\"}, \"type\": \"scatter\", \"uid\": \"69a5e6e9-c4d0-46ee-aff3-91ca2475b302\", \"x\": [0.2246376811594203], \"y\": [1.6231884057971016]}, {\"marker\": {\"color\": \"rgba(55, 128, 191, 0.8999999999999999)\", \"line\": {\"width\": 1.3}, \"opacity\": 0.8, \"size\": [25], \"symbol\": \"circle\"}, \"mode\": \"markers\", \"name\": \"GJ Maxwell\", \"text\": [\"GJ Maxwell\"], \"textfont\": {\"color\": \"#4D5663\"}, \"type\": \"scatter\", \"uid\": \"3f612c92-2c0c-4079-89c2-2141ea84dcc7\", \"x\": [0.22283813747228381], \"y\": [1.5554323725055432]}, {\"marker\": {\"color\": \"rgba(50, 171, 96, 0.8999999999999999)\", \"line\": {\"width\": 1.3}, \"opacity\": 0.8, \"size\": [26], \"symbol\": \"circle\"}, \"mode\": \"markers\", \"name\": \"JC Buttler\", \"text\": [\"JC Buttler\"], \"textfont\": {\"color\": \"#4D5663\"}, \"type\": \"scatter\", \"uid\": \"b9952ae5-aff6-4000-b951-132b2bc00715\", \"x\": [0.2138364779874214], \"y\": [1.5]}, {\"marker\": {\"color\": \"rgba(128, 0, 128, 0.8999999999999999)\", \"line\": {\"width\": 1.3}, \"opacity\": 0.8, \"size\": [59], \"symbol\": \"circle\"}, \"mode\": \"markers\", \"name\": \"V Sehwag\", \"text\": [\"V Sehwag\"], \"textfont\": {\"color\": \"#4D5663\"}, \"type\": \"scatter\", \"uid\": \"478850e3-7345-4aca-a1ea-1620286fdf1f\", \"x\": [0.24004364429896344], \"y\": [1.4882705946535735]}, {\"marker\": {\"color\": \"rgba(219, 64, 82, 0.8999999999999999)\", \"line\": {\"width\": 1.3}, \"opacity\": 0.8, \"size\": [103], \"symbol\": \"circle\"}, \"mode\": \"markers\", \"name\": \"AB de Villiers\", \"text\": [\"AB de Villiers\"], \"textfont\": {\"color\": \"#4D5663\"}, \"type\": \"scatter\", \"uid\": \"48bc01ab-4933-4373-9849-4c957faaeaf4\", \"x\": [0.1918038293584145], \"y\": [1.487403426268055]}, {\"marker\": {\"color\": \"rgba(0, 128, 128, 0.8999999999999999)\", \"line\": {\"width\": 1.3}, \"opacity\": 0.8, \"size\": [107], \"symbol\": \"circle\"}, \"mode\": \"markers\", \"name\": \"CH Gayle\", \"text\": [\"CH Gayle\"], \"textfont\": {\"color\": \"#4D5663\"}, \"type\": \"scatter\", \"uid\": \"b7614033-c660-4e14-8980-1ceeb348f7f4\", \"x\": [0.22452890450335355], \"y\": [1.4564037048866176]}, {\"marker\": {\"color\": \"rgba(255, 255, 51, 0.8999999999999999)\", \"line\": {\"width\": 1.3}, \"opacity\": 0.8, \"size\": [61], \"symbol\": \"circle\"}, \"mode\": \"markers\", \"name\": \"KA Pollard\", \"text\": [\"KA Pollard\"], \"textfont\": {\"color\": \"#4D5663\"}, \"type\": \"scatter\", \"uid\": \"19752e1c-e9e2-4ae6-a460-95035bc9c377\", \"x\": [0.18177189409368635], \"y\": [1.4175152749490836]}, {\"marker\": {\"color\": \"rgba(128, 128, 0, 0.8999999999999999)\", \"line\": {\"width\": 1.3}, \"opacity\": 0.8, \"size\": [112], \"symbol\": \"circle\"}, \"mode\": \"markers\", \"name\": \"DA Warner\", \"text\": [\"DA Warner\"], \"textfont\": {\"color\": \"#4D5663\"}, \"type\": \"scatter\", \"uid\": \"52304eba-12b0-4f87-b7f9-50e4c2e60821\", \"x\": [0.1883460859329017], \"y\": [1.3952324896998234]}, {\"marker\": {\"color\": \"rgba(251, 128, 114, 0.8999999999999999)\", \"line\": {\"width\": 1.3}, \"opacity\": 0.8, \"size\": [22], \"symbol\": \"circle\"}, \"mode\": \"markers\", \"name\": \"CA Lynn\", \"text\": [\"CA Lynn\"], \"textfont\": {\"color\": \"#4D5663\"}, \"type\": \"scatter\", \"uid\": \"fea6da21-055e-47f6-a4e7-de811baeb2c9\", \"x\": [0.20234291799787008], \"y\": [1.3929712460063899]}],\n",
       "                        {\"legend\": {\"x\": 1, \"y\": 0}, \"title\": {\"font\": {\"size\": 20}, \"text\": \"10 Best and 10 Worst Batsman\", \"x\": 0, \"xref\": \"paper\"}, \"xaxis\": {\"exponentformat\": \"e\", \"showexponent\": \"all\", \"showticklabels\": true, \"tickfont\": {\"size\": 14}, \"title\": {\"font\": {\"size\": 20}, \"text\": \"Hard Hit\"}}, \"yaxis\": {\"exponentformat\": \"e\", \"showexponent\": \"all\", \"showticklabels\": true, \"tickfont\": {\"color\": \"black\", \"family\": \"Old Standard TT, serif\", \"size\": 14}, \"title\": {\"font\": {\"family\": \"Arial, sans-serif\", \"size\": 20}, \"text\": \"Fast Scoring Ability\"}}},\n",
       "                        {\"showLink\": true, \"linkText\": \"Export to plot.ly\", \"plotlyServerURL\": \"https://plot.ly\", \"responsive\": true}\n",
       "                    ).then(function(){\n",
       "                            \n",
       "var gd = document.getElementById('497d86d2-069e-43bc-8f3f-ecbd35d5edcc');\n",
       "var x = new MutationObserver(function (mutations, observer) {{\n",
       "        var display = window.getComputedStyle(gd).display;\n",
       "        if (!display || display === 'none') {{\n",
       "            console.log([gd, 'removed!']);\n",
       "            Plotly.purge(gd);\n",
       "            observer.disconnect();\n",
       "        }}\n",
       "}});\n",
       "\n",
       "// Listen for the removal of the full notebook cells\n",
       "var notebookContainer = gd.closest('#notebook-container');\n",
       "if (notebookContainer) {{\n",
       "    x.observe(notebookContainer, {childList: true});\n",
       "}}\n",
       "\n",
       "// Listen for the clearing of the current output cell\n",
       "var outputEl = gd.closest('.output');\n",
       "if (outputEl) {{\n",
       "    x.observe(outputEl, {childList: true});\n",
       "}}\n",
       "\n",
       "                        })\n",
       "                };\n",
       "                });\n",
       "            </script>\n",
       "        </div>"
      ]
     },
     "metadata": {},
     "output_type": "display_data"
    }
   ],
   "source": [
    "# Generate and Format Plot\n",
    "\n",
    "out_best = out.nsmallest(10, 'Fast Scoring')\n",
    "out_worst = out.nlargest(10, 'Fast Scoring')\n",
    "\n",
    "layout = go.Layout(\n",
    "    title=dict(\n",
    "        text=\"10 Best and 10 Worst Batsman\",\n",
    "        xref=\"paper\",\n",
    "        font = dict(size=20),\n",
    "        x=0\n",
    "    \n",
    "    ),\n",
    "  legend = dict(\n",
    "    x = 1,\n",
    "    y = 0\n",
    "  ),\n",
    "    xaxis=dict(\n",
    "        title='Hard Hit',\n",
    "        titlefont=dict(\n",
    "            size=20,\n",
    "        ),\n",
    "        showticklabels=True,\n",
    "        tickfont=dict(\n",
    "            size=14,\n",
    "        ),\n",
    "        exponentformat='e',\n",
    "        showexponent='all'\n",
    "    ),\n",
    "    yaxis=dict(\n",
    "        title='Fast Scoring Ability',\n",
    "        titlefont=dict(\n",
    "            family='Arial, sans-serif',\n",
    "            size=20,\n",
    "        ),\n",
    "        showticklabels=True,\n",
    "        tickfont=dict(\n",
    "            family='Old Standard TT, serif',\n",
    "            size=14,\n",
    "            color='black'\n",
    "        ),\n",
    "        exponentformat='e',\n",
    "        showexponent='all'\n",
    "    )\n",
    ")\n",
    "\n",
    "b_comp = pd.concat([out_best, out_worst])\n",
    "b_comp.iplot(layout=layout, kind='bubble', x='Hard Hit', y='Fast Scoring', categories='batsman', size='runs', text='batsman',\n",
    "          xTitle='Hard Hit', yTitle='Fast Scoring Ability', filename='cufflinks/simple-bubble-chart')"
   ]
  },
  {
   "cell_type": "markdown",
   "metadata": {
    "pycharm": {
     "name": "#%%\n"
    }
   },
   "source": [
    "### Team Wise Analysis (2 Best and 2 Worst)"
   ]
  },
  {
   "cell_type": "code",
   "execution_count": 11,
   "metadata": {
    "pycharm": {
     "name": "#%%\n"
    }
   },
   "outputs": [],
   "source": [
    "# Team-wise bowling stats\n",
    "eco = economy(ball_data.copy(), bowler='bowling_team')\n",
    "wick = wicket_taking(ball_data.copy(), bowler='bowling_team')\n",
    "eco_100 = eco[eco['Number of Balls Thrown']>10000]\n",
    "wick_100 = wick[wick['Number of Balls Thrown']>10000]\n",
    "out_bowl = pd.merge(wick_100, eco_100, how='inner', on=['bowling_team','Number of Balls Thrown'])\n",
    "\n",
    "# Team-wise batting stats\n",
    "hh = hard_hit(ball_data.copy(), batter='batting_team')\n",
    "fs = fast_scoring(ball_data.copy(), batter='batting_team')\n",
    "hh_100 = hh[hh['Number of Balls Faced']>10000]\n",
    "fs_100 = fs[fs['Number of Balls Faced']>10000]\n",
    "out_bat = pd.merge(hh_100, fs_100, how='inner', on=['batting_team','Number of Balls Faced'])\n",
    "\n",
    "\n",
    "out_bowl.drop(out_bowl.columns.difference(['bowling_team', 'Wicket Taking Ability', 'Economy']), 1, inplace=True)\n",
    "out_bat.drop(out_bat.columns.difference(['batting_team', 'Fast Scoring','Hard Hit']),1,inplace=True)\n",
    "\n",
    "out_bowl.rename(columns={'bowling_team':'team'}, inplace=True)\n",
    "out_bat.rename(columns={'batting_team': 'team'}, inplace=True)\n",
    "\n",
    "out_full = pd.merge(out_bat, out_bowl, how='inner', on=['team'])\n",
    "\n",
    "# scale values to fit and outwards = better\n",
    "\n",
    "o = out_full.copy()\n",
    "min_max_scaler = preprocessing.StandardScaler( with_std=False)\n",
    "o['Hard Hit'] = pd.DataFrame(min_max_scaler.fit_transform(o['Hard Hit'].values.reshape(-1,1)))\n",
    "o['Fast Scoring'] = pd.DataFrame(min_max_scaler.fit_transform(o['Fast Scoring'].values.reshape(-1,1)))\n",
    "o['Economy'] = pd.DataFrame(min_max_scaler.fit_transform(o['Economy'].values.reshape(-1,1)))\n",
    "o['Wicket Taking Ability'] = pd.DataFrame(min_max_scaler.fit_transform(o['Wicket Taking Ability'].values.reshape(-1,1)))\n",
    "o.replace('Delhi Daredevils', 'Delhi Capitals', inplace=True)"
   ]
  },
  {
   "cell_type": "code",
   "execution_count": 12,
   "metadata": {
    "pycharm": {
     "name": "#%%\n"
    }
   },
   "outputs": [
    {
     "data": {
      "application/vnd.plotly.v1+json": {
       "config": {
        "linkText": "Export to plot.ly",
        "plotlyServerURL": "https://plot.ly",
        "responsive": true,
        "showLink": false
       },
       "data": [
        {
         "fill": "toself",
         "name": "Chennai Super Kings",
         "r": [
          -0.190830584719498,
          1.7116499026425425,
          1.336163253925129,
          5.9951979544587175,
          -0.190830584719498
         ],
         "subplot": "polar",
         "theta": [
          "Hard Hit",
          "Fast Scoring",
          "Economy",
          "Wicket Taking Ability",
          "Hard Hit"
         ],
         "type": "scatterpolar",
         "uid": "c509f236-14c6-4154-a1f5-1d2007e395d2"
        },
        {
         "fill": "toself",
         "name": "Mumbai Indians",
         "r": [
          2.474634414552812,
          -0.8052386009449464,
          2.196833348935634,
          2.0054153874614045,
          2.474634414552812
         ],
         "subplot": "polar2",
         "theta": [
          "Hard Hit",
          "Fast Scoring",
          "Economy",
          "Wicket Taking Ability",
          "Hard Hit"
         ],
         "type": "scatterpolar",
         "uid": "ff1d8170-f37c-4325-b315-51c15e531523"
        },
        {
         "fill": "toself",
         "name": "Delhi Capitals",
         "r": [
          -2.886375039511363,
          -2.2762710646290873,
          -0.5256250007355501,
          -1.7726859126469385,
          -2.886375039511363
         ],
         "subplot": "polar3",
         "theta": [
          "Hard Hit",
          "Fast Scoring",
          "Economy",
          "Wicket Taking Ability",
          "Hard Hit"
         ],
         "type": "scatterpolar",
         "uid": "0d83865b-5a52-484c-ba73-7406d4fd94c3"
        },
        {
         "fill": "toself",
         "name": "Kings XI Punjab",
         "r": [
          3.6655858291309573,
          1.1335585376194057,
          -2.6728512064268095,
          -3.953793480508807,
          3.6655858291309573
         ],
         "subplot": "polar4",
         "theta": [
          "Hard Hit",
          "Fast Scoring",
          "Economy",
          "Wicket Taking Ability",
          "Hard Hit"
         ],
         "type": "scatterpolar",
         "uid": "faae7797-7e80-453e-9c02-62eefb8ab188"
        }
       ],
       "layout": {
        "margin": {
         "b": 10,
         "l": 10,
         "pad": 0,
         "r": 10,
         "t": 10
        },
        "polar": {
         "domain": {
          "x": [
           0,
           0.46
          ],
          "y": [
           0.56,
           1
          ]
         },
         "radialaxis": {
          "range": [
           -10,
           7
          ],
          "visible": true
         }
        },
        "polar2": {
         "domain": {
          "x": [
           0,
           0.46
          ],
          "y": [
           0,
           0.44
          ]
         },
         "radialaxis": {
          "range": [
           -10,
           7
          ],
          "visible": true
         }
        },
        "polar3": {
         "domain": {
          "x": [
           0.54,
           1
          ],
          "y": [
           0.56,
           1
          ]
         },
         "radialaxis": {
          "range": [
           -10,
           7
          ],
          "visible": true
         }
        },
        "polar4": {
         "domain": {
          "x": [
           0.54,
           1
          ],
          "y": [
           0,
           0.44
          ]
         },
         "radialaxis": {
          "range": [
           -10,
           7
          ],
          "visible": true
         }
        },
        "showlegend": true
       }
      },
      "text/html": [
       "<div>\n",
       "        \n",
       "        \n",
       "            <div id=\"949997a2-ea80-4699-b247-1139f12e6e91\" class=\"plotly-graph-div\" style=\"height:525px; width:100%;\"></div>\n",
       "            <script type=\"text/javascript\">\n",
       "                require([\"plotly\"], function(Plotly) {\n",
       "                    window.PLOTLYENV=window.PLOTLYENV || {};\n",
       "                    window.PLOTLYENV.BASE_URL='https://plot.ly';\n",
       "                    \n",
       "                if (document.getElementById(\"949997a2-ea80-4699-b247-1139f12e6e91\")) {\n",
       "                    Plotly.newPlot(\n",
       "                        '949997a2-ea80-4699-b247-1139f12e6e91',\n",
       "                        [{\"fill\": \"toself\", \"name\": \"Chennai Super Kings\", \"r\": [-0.190830584719498, 1.7116499026425425, 1.336163253925129, 5.9951979544587175, -0.190830584719498], \"subplot\": \"polar\", \"theta\": [\"Hard Hit\", \"Fast Scoring\", \"Economy\", \"Wicket Taking Ability\", \"Hard Hit\"], \"type\": \"scatterpolar\", \"uid\": \"1cb4ada8-1042-47e7-8bd1-20e8e3a8bb0f\"}, {\"fill\": \"toself\", \"name\": \"Mumbai Indians\", \"r\": [2.474634414552812, -0.8052386009449464, 2.196833348935634, 2.0054153874614045, 2.474634414552812], \"subplot\": \"polar2\", \"theta\": [\"Hard Hit\", \"Fast Scoring\", \"Economy\", \"Wicket Taking Ability\", \"Hard Hit\"], \"type\": \"scatterpolar\", \"uid\": \"6a299ce0-d5ff-4f5b-ae39-94f6aebabeef\"}, {\"fill\": \"toself\", \"name\": \"Delhi Capitals\", \"r\": [-2.886375039511363, -2.2762710646290873, -0.5256250007355501, -1.7726859126469385, -2.886375039511363], \"subplot\": \"polar3\", \"theta\": [\"Hard Hit\", \"Fast Scoring\", \"Economy\", \"Wicket Taking Ability\", \"Hard Hit\"], \"type\": \"scatterpolar\", \"uid\": \"e2284bbe-b966-4a56-a5b1-c4762fecd82f\"}, {\"fill\": \"toself\", \"name\": \"Kings XI Punjab\", \"r\": [3.6655858291309573, 1.1335585376194057, -2.6728512064268095, -3.953793480508807, 3.6655858291309573], \"subplot\": \"polar4\", \"theta\": [\"Hard Hit\", \"Fast Scoring\", \"Economy\", \"Wicket Taking Ability\", \"Hard Hit\"], \"type\": \"scatterpolar\", \"uid\": \"d000e51e-9363-47ad-836f-a530175f4489\"}],\n",
       "                        {\"margin\": {\"b\": 10, \"l\": 10, \"pad\": 0, \"r\": 10, \"t\": 10}, \"polar\": {\"domain\": {\"x\": [0, 0.46], \"y\": [0.56, 1]}, \"radialaxis\": {\"range\": [-10, 7], \"visible\": true}}, \"polar2\": {\"domain\": {\"x\": [0, 0.46], \"y\": [0, 0.44]}, \"radialaxis\": {\"range\": [-10, 7], \"visible\": true}}, \"polar3\": {\"domain\": {\"x\": [0.54, 1], \"y\": [0.56, 1]}, \"radialaxis\": {\"range\": [-10, 7], \"visible\": true}}, \"polar4\": {\"domain\": {\"x\": [0.54, 1], \"y\": [0, 0.44]}, \"radialaxis\": {\"range\": [-10, 7], \"visible\": true}}, \"showlegend\": true},\n",
       "                        {\"showLink\": false, \"linkText\": \"Export to plot.ly\", \"plotlyServerURL\": \"https://plot.ly\", \"responsive\": true}\n",
       "                    ).then(function(){\n",
       "                            \n",
       "var gd = document.getElementById('949997a2-ea80-4699-b247-1139f12e6e91');\n",
       "var x = new MutationObserver(function (mutations, observer) {{\n",
       "        var display = window.getComputedStyle(gd).display;\n",
       "        if (!display || display === 'none') {{\n",
       "            console.log([gd, 'removed!']);\n",
       "            Plotly.purge(gd);\n",
       "            observer.disconnect();\n",
       "        }}\n",
       "}});\n",
       "\n",
       "// Listen for the removal of the full notebook cells\n",
       "var notebookContainer = gd.closest('#notebook-container');\n",
       "if (notebookContainer) {{\n",
       "    x.observe(notebookContainer, {childList: true});\n",
       "}}\n",
       "\n",
       "// Listen for the clearing of the current output cell\n",
       "var outputEl = gd.closest('.output');\n",
       "if (outputEl) {{\n",
       "    x.observe(outputEl, {childList: true});\n",
       "}}\n",
       "\n",
       "                        })\n",
       "                };\n",
       "                });\n",
       "            </script>\n",
       "        </div>"
      ]
     },
     "metadata": {},
     "output_type": "display_data"
    }
   ],
   "source": [
    "# Generate and Format Plots\n",
    "data = []\n",
    "\n",
    "count = 0\n",
    "for i in [4, 2, 5, 1]:\n",
    "    r = o.iloc[i,:]\n",
    "    t = go.Scatterpolar(\n",
    "      r = [r['Hard Hit']*1000, r['Fast Scoring']*100, r['Economy']*-10, r['Wicket Taking Ability']*-5, r['Hard Hit']*1000],\n",
    "      theta = ['Hard Hit','Fast Scoring','Economy', 'Wicket Taking Ability', 'Hard Hit'],\n",
    "      fill = 'toself',\n",
    "      name = r['team'],\n",
    "      subplot = \"polar\"+str(count+1) if i>0 else \"polar\"\n",
    "    )\n",
    "    count = count+1\n",
    "    data.append(t)\n",
    "\n",
    "\n",
    "layout = go.Layout(\n",
    "    margin=go.layout.Margin(\n",
    "        l=10,\n",
    "        r=10,\n",
    "        b=10,\n",
    "        t=10,\n",
    "        pad=0\n",
    "    ),\n",
    "  polar = dict(\n",
    "      domain = dict(\n",
    "        x = [0, 0.46],\n",
    "        y = [0.56, 1]\n",
    "      ),\n",
    "    radialaxis = dict(\n",
    "      visible = True,\n",
    "      range = [-10, 7]\n",
    "    )\n",
    "  ),\n",
    "  polar2 = dict(\n",
    "     domain = dict(\n",
    "        x = [0, 0.46],\n",
    "        y = [0, 0.44]\n",
    "      ),\n",
    "    radialaxis = dict(\n",
    "      visible = True,\n",
    "      range = [-10, 7]\n",
    "    )\n",
    "  ),\n",
    "  polar3 = dict(\n",
    "      domain = dict(\n",
    "        x = [0.54, 1],\n",
    "        y = [0.56, 1]\n",
    "      ),\n",
    "    radialaxis = dict(\n",
    "      visible = True,\n",
    "      range = [-10, 7]\n",
    "    )\n",
    "  ),\n",
    "  polar4 = dict(\n",
    "      domain = dict(\n",
    "        x = [0.54, 1],\n",
    "        y = [0, 0.44]\n",
    "      ),\n",
    "    radialaxis = dict(\n",
    "      visible = True,\n",
    "      range = [-10, 7]\n",
    "    )\n",
    "  ),\n",
    "  showlegend = True\n",
    "    \n",
    ")\n",
    "\n",
    "fig = go.Figure(data=data, layout=layout)\n",
    "t = plotly.offline.iplot(fig, filename=\"multiple-subplots\")"
   ]
  },
  {
   "cell_type": "code",
   "execution_count": 13,
   "metadata": {
    "pycharm": {
     "name": "#%%\n"
    }
   },
   "outputs": [
    {
     "data": {
      "application/vnd.plotly.v1+json": {
       "config": {
        "linkText": "Export to plot.ly",
        "plotlyServerURL": "https://plot.ly",
        "responsive": true,
        "showLink": false
       },
       "data": [
        {
         "fill": "toself",
         "name": "Chennai Super Kings",
         "r": [
          -0.190830584719498,
          1.7116499026425425,
          1.336163253925129,
          5.9951979544587175,
          -0.190830584719498
         ],
         "theta": [
          "Hard Hit",
          "Fast Scoring",
          "Economy",
          "Wicket Taking Ability",
          "Hard Hit"
         ],
         "type": "scatterpolar",
         "uid": "21421c15-df0c-4358-8f04-065374b9cda5"
        },
        {
         "fill": "toself",
         "name": "Mumbai Indians",
         "r": [
          2.474634414552812,
          -0.8052386009449464,
          2.196833348935634,
          2.0054153874614045,
          2.474634414552812
         ],
         "theta": [
          "Hard Hit",
          "Fast Scoring",
          "Economy",
          "Wicket Taking Ability",
          "Hard Hit"
         ],
         "type": "scatterpolar",
         "uid": "9cc66cbd-54bc-466f-a673-0d0fa51518ef"
        },
        {
         "fill": "toself",
         "name": "Delhi Capitals",
         "r": [
          -2.886375039511363,
          -2.2762710646290873,
          -0.5256250007355501,
          -1.7726859126469385,
          -2.886375039511363
         ],
         "theta": [
          "Hard Hit",
          "Fast Scoring",
          "Economy",
          "Wicket Taking Ability",
          "Hard Hit"
         ],
         "type": "scatterpolar",
         "uid": "5bd7563d-14c8-442a-893d-432716d70ef2"
        },
        {
         "fill": "toself",
         "name": "Kings XI Punjab",
         "r": [
          3.6655858291309573,
          1.1335585376194057,
          -2.6728512064268095,
          -3.953793480508807,
          3.6655858291309573
         ],
         "theta": [
          "Hard Hit",
          "Fast Scoring",
          "Economy",
          "Wicket Taking Ability",
          "Hard Hit"
         ],
         "type": "scatterpolar",
         "uid": "8f418ffc-8325-4806-a04d-6fd99a22aad8"
        }
       ],
       "layout": {
        "polar": {
         "radialaxis": {
          "range": [
           -10,
           7
          ],
          "visible": true
         }
        },
        "showlegend": true
       }
      },
      "text/html": [
       "<div>\n",
       "        \n",
       "        \n",
       "            <div id=\"8181de62-1636-498a-8bc2-7cdbca3ea068\" class=\"plotly-graph-div\" style=\"height:525px; width:100%;\"></div>\n",
       "            <script type=\"text/javascript\">\n",
       "                require([\"plotly\"], function(Plotly) {\n",
       "                    window.PLOTLYENV=window.PLOTLYENV || {};\n",
       "                    window.PLOTLYENV.BASE_URL='https://plot.ly';\n",
       "                    \n",
       "                if (document.getElementById(\"8181de62-1636-498a-8bc2-7cdbca3ea068\")) {\n",
       "                    Plotly.newPlot(\n",
       "                        '8181de62-1636-498a-8bc2-7cdbca3ea068',\n",
       "                        [{\"fill\": \"toself\", \"name\": \"Chennai Super Kings\", \"r\": [-0.190830584719498, 1.7116499026425425, 1.336163253925129, 5.9951979544587175, -0.190830584719498], \"theta\": [\"Hard Hit\", \"Fast Scoring\", \"Economy\", \"Wicket Taking Ability\", \"Hard Hit\"], \"type\": \"scatterpolar\", \"uid\": \"aff3a605-b08e-41bc-8742-b2368ea67805\"}, {\"fill\": \"toself\", \"name\": \"Mumbai Indians\", \"r\": [2.474634414552812, -0.8052386009449464, 2.196833348935634, 2.0054153874614045, 2.474634414552812], \"theta\": [\"Hard Hit\", \"Fast Scoring\", \"Economy\", \"Wicket Taking Ability\", \"Hard Hit\"], \"type\": \"scatterpolar\", \"uid\": \"c3c9e6f4-877f-4963-a4e4-fd36e3e827df\"}, {\"fill\": \"toself\", \"name\": \"Delhi Capitals\", \"r\": [-2.886375039511363, -2.2762710646290873, -0.5256250007355501, -1.7726859126469385, -2.886375039511363], \"theta\": [\"Hard Hit\", \"Fast Scoring\", \"Economy\", \"Wicket Taking Ability\", \"Hard Hit\"], \"type\": \"scatterpolar\", \"uid\": \"44f276fe-ab44-482c-b2bc-5cdf552046ec\"}, {\"fill\": \"toself\", \"name\": \"Kings XI Punjab\", \"r\": [3.6655858291309573, 1.1335585376194057, -2.6728512064268095, -3.953793480508807, 3.6655858291309573], \"theta\": [\"Hard Hit\", \"Fast Scoring\", \"Economy\", \"Wicket Taking Ability\", \"Hard Hit\"], \"type\": \"scatterpolar\", \"uid\": \"c8c3ac1d-931e-497e-8213-bb42f617d3d6\"}],\n",
       "                        {\"polar\": {\"radialaxis\": {\"range\": [-10, 7], \"visible\": true}}, \"showlegend\": true},\n",
       "                        {\"showLink\": false, \"linkText\": \"Export to plot.ly\", \"plotlyServerURL\": \"https://plot.ly\", \"responsive\": true}\n",
       "                    ).then(function(){\n",
       "                            \n",
       "var gd = document.getElementById('8181de62-1636-498a-8bc2-7cdbca3ea068');\n",
       "var x = new MutationObserver(function (mutations, observer) {{\n",
       "        var display = window.getComputedStyle(gd).display;\n",
       "        if (!display || display === 'none') {{\n",
       "            console.log([gd, 'removed!']);\n",
       "            Plotly.purge(gd);\n",
       "            observer.disconnect();\n",
       "        }}\n",
       "}});\n",
       "\n",
       "// Listen for the removal of the full notebook cells\n",
       "var notebookContainer = gd.closest('#notebook-container');\n",
       "if (notebookContainer) {{\n",
       "    x.observe(notebookContainer, {childList: true});\n",
       "}}\n",
       "\n",
       "// Listen for the clearing of the current output cell\n",
       "var outputEl = gd.closest('.output');\n",
       "if (outputEl) {{\n",
       "    x.observe(outputEl, {childList: true});\n",
       "}}\n",
       "\n",
       "                        })\n",
       "                };\n",
       "                });\n",
       "            </script>\n",
       "        </div>"
      ]
     },
     "metadata": {},
     "output_type": "display_data"
    }
   ],
   "source": [
    "# Generate and Format overlapped Plots\n",
    "data = []\n",
    "\n",
    "count = 0\n",
    "for i in [4, 2, 5, 1]:\n",
    "    r = o.iloc[i,:]\n",
    "    t = go.Scatterpolar(\n",
    "      r = [r['Hard Hit']*1000, r['Fast Scoring']*100, r['Economy']*-10, r['Wicket Taking Ability']*-5, r['Hard Hit']*1000],\n",
    "      theta = ['Hard Hit','Fast Scoring','Economy', 'Wicket Taking Ability', 'Hard Hit'],\n",
    "      fill = 'toself',\n",
    "      name = r['team']\n",
    "    )\n",
    "    count = count+1\n",
    "    data.append(t)\n",
    "\n",
    "\n",
    "layout = go.Layout(\n",
    "\n",
    "  polar = dict(\n",
    "    radialaxis = dict(\n",
    "      visible = True,\n",
    "      range = [-10, 7]\n",
    "    )\n",
    "  ),\n",
    "  showlegend = True\n",
    "    \n",
    ")\n",
    "\n",
    "fig = go.Figure(data=data, layout=layout)\n",
    "t = plotly.offline.iplot(fig, filename=\"multiple-subplots\")"
   ]
  },
  {
   "cell_type": "code",
   "execution_count": null,
   "metadata": {},
   "outputs": [],
   "source": []
  },
  {
   "cell_type": "code",
   "execution_count": null,
   "metadata": {},
   "outputs": [],
   "source": []
  }
 ],
 "metadata": {
  "kernelspec": {
   "display_name": "Python 3",
   "language": "python",
   "name": "python3"
  },
  "language_info": {
   "codemirror_mode": {
    "name": "ipython",
    "version": 3
   },
   "file_extension": ".py",
   "mimetype": "text/x-python",
   "name": "python",
   "nbconvert_exporter": "python",
   "pygments_lexer": "ipython3",
   "version": "3.6.7"
  },
  "pycharm": {
   "stem_cell": {
    "cell_type": "raw",
    "metadata": {
     "collapsed": false
    },
    "source": []
   }
  }
 },
 "nbformat": 4,
 "nbformat_minor": 1
}
