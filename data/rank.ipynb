{
 "cells": [
  {
   "cell_type": "code",
   "execution_count": 4,
   "metadata": {},
   "outputs": [],
   "source": [
    "import pandas as pd\n",
    "import plotly.plotly as py\n",
    "import plotly.graph_objs as go\n",
    "import plotly\n",
    "import cufflinks as cf\n",
    "import colorlover as cl"
   ]
  },
  {
   "cell_type": "markdown",
   "metadata": {},
   "source": [
    "### Quesiton 1 ranking(line chart)"
   ]
  },
  {
   "cell_type": "code",
   "execution_count": 5,
   "metadata": {},
   "outputs": [],
   "source": [
    "file_1 = pd.read_csv('team_performance.csv')"
   ]
  },
  {
   "cell_type": "code",
   "execution_count": 6,
   "metadata": {},
   "outputs": [],
   "source": [
    "def rank(file):\n",
    "    team_name = ['Royal Challengers Bangalore','Kings XI Punjab','Mumbai Indians','Kolkata Knight Riders',\\\n",
    "                 'Chennai Super Kings','Delhi Capitals','Rajasthan Royals','Sunrisers Hyderabad']\n",
    "    year = sorted(list(set(file['year'])))\n",
    "    grp = file.loc[:,['year','Team']]\n",
    "    grp1 = grp.groupby('year')\n",
    "    result = [[0]*len(year) for x in range(len(team_name))]\n",
    "\n",
    "    for i in range(len(year)):\n",
    "        grp2 = grp1.get_group(year[i])\n",
    "        for j in range(len(team_name)):\n",
    "            if team_name[j] in list(grp2['Team']):\n",
    "                result[j][i] = list(grp2['Team']).index(team_name[j]) + 1\n",
    "            else:\n",
    "                result[j][i] = '-'\n",
    "    return result"
   ]
  },
  {
   "cell_type": "code",
   "execution_count": 7,
   "metadata": {},
   "outputs": [],
   "source": [
    "result_rank = rank(file_1)\n",
    "team_name_rank = ['Royal Challengers Bangalore','Kings XI Punjab','Mumbai Indians','Kolkata Knight Riders',\\\n",
    "                 'Chennai Super Kings','Delhi Capitals','Rajasthan Royals','Sunrisers Hyderabad']"
   ]
  },
  {
   "cell_type": "code",
   "execution_count": 9,
   "metadata": {},
   "outputs": [],
   "source": [
    "plotly.tools.set_credentials_file(username='ryanzhao9459', api_key='0rWuTS32zBMaefc0mWUj')"
   ]
  },
  {
   "cell_type": "code",
   "execution_count": 10,
   "metadata": {},
   "outputs": [
    {
     "data": {
      "text/html": [
       "<iframe id=\"igraph\" scrolling=\"no\" style=\"border:none;\" seamless=\"seamless\" src=\"https://plot.ly/~ryanzhao9459/28.embed\" height=\"525px\" width=\"100%\"></iframe>"
      ],
      "text/plain": [
       "<chart_studio.tools.PlotlyDisplay object>"
      ]
     },
     "execution_count": 10,
     "metadata": {},
     "output_type": "execute_result"
    }
   ],
   "source": [
    "data = []\n",
    "for i in range(len(result_rank)):\n",
    "    data.append(go.Scatter(\n",
    "    x = list(range(2008,2019)),\n",
    "    y = list(result_rank[i]),\n",
    "    name = team_name_rank[i],\n",
    "#     marker = dict(color= 'rgba(219, 64, 82, 1.0)')\n",
    "    ))\n",
    "    \n",
    "# layout = go.Layout(\n",
    "#     yaxis=dict(range=[10, 0])\n",
    "# )\n",
    "\n",
    "layout = go.Layout(\n",
    "  annotations = [\n",
    "    dict(\n",
    "      x = 2007.5,\n",
    "      y = 2,\n",
    "      showarrow = False,\n",
    "      text = \"Top Four\",\n",
    "      xref = \"paper\",\n",
    "      yref = \"paper\"\n",
    "    ),\n",
    "    dict(\n",
    "      x = 2007.5,\n",
    "      y = 6,\n",
    "      showarrow = False,\n",
    "      text = \"trash\",\n",
    "      xref = \"paper\",\n",
    "      yref = \"paper\"\n",
    "    )\n",
    "  ],\n",
    "#   height = 400,\n",
    "#   hovermode = \"closest\",\n",
    "#   legend = dict(\n",
    "#     x = 0.986145833333,\n",
    "#     y = 0.936263886049\n",
    "#   ),\n",
    "#   margin = dict(\n",
    "#     r = 10,\n",
    "#     t = 25,\n",
    "#     b = 40,\n",
    "#     l = 110\n",
    "#   ),\n",
    "#   shapes = [\n",
    "#     dict(\n",
    "#       line = dict(\n",
    "#         color = \"rgba(68, 68, 68, 0.5)\",\n",
    "#         width = 1\n",
    "#       ),\n",
    "#       type = \"line\",\n",
    "#       x0 = -0.3,\n",
    "#       x1 = 1.2,\n",
    "#       xref = \"paper\",\n",
    "#       y0 = 0.5,\n",
    "#       y1 = 0.5,\n",
    "#       yref = \"paper\"\n",
    "#     ),\n",
    "#     dict(\n",
    "#       line = dict(\n",
    "#         color = \"rgba(68, 68, 68, 0.63)\",\n",
    "#         width = 1\n",
    "#       ),\n",
    "#       type = \"line\",\n",
    "#       x0 = -0.3,\n",
    "#       x1 = 1.2,\n",
    "#       xref = \"paper\",\n",
    "#       y0 = 1,\n",
    "#       y1 = 1,\n",
    "#       yref = \"paper\"\n",
    "#     )\n",
    "#   ],\n",
    "  showlegend = True,\n",
    "  title = dict(\n",
    "          text = \"Ranking\"\n",
    "  ),\n",
    "  yaxis = dict(\n",
    "    autorange='reversed',\n",
    "#     categoryorder = \"category descending\",\n",
    "#     range = [10.5,0],\n",
    "#     showline = True,\n",
    "#     type = \"category\"\n",
    "  )\n",
    ")\n",
    "\n",
    "fig = go.Figure(data=data, layout=layout)\n",
    "py.iplot(fig,filename='rank')"
   ]
  }
 ],
 "metadata": {
  "kernelspec": {
   "display_name": "Python 3",
   "language": "python",
   "name": "python3"
  },
  "language_info": {
   "codemirror_mode": {
    "name": "ipython",
    "version": 3
   },
   "file_extension": ".py",
   "mimetype": "text/x-python",
   "name": "python",
   "nbconvert_exporter": "python",
   "pygments_lexer": "ipython3",
   "version": "3.7.0"
  }
 },
 "nbformat": 4,
 "nbformat_minor": 2
}
