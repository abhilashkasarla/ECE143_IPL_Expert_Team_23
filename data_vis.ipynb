{
 "cells": [
  {
   "cell_type": "code",
   "execution_count": 40,
   "metadata": {
    "collapsed": true,
    "pycharm": {
     "is_executing": false
    }
   },
   "outputs": [
    {
     "name": "stdout",
     "text": [
      "['deliveries.csv', 'matches.csv']\n"
     ],
     "output_type": "stream"
    }
   ],
   "source": [
    "import numpy as np # linear algebra\n",
    "import pandas as pd # data processing, CSV file I/O (e.g. pd.read_csv)\n",
    "\n",
    "import matplotlib.pyplot as plt\n",
    "import seaborn as sns               # Provides a high level interface for drawing attractive and informative statistical graphics\n",
    "%matplotlib inline\n",
    "sns.set()\n",
    "from subprocess import check_output\n",
    "\n",
    "import warnings                                            # Ignore warning related to pandas_profiling\n",
    "warnings.filterwarnings('ignore') \n",
    "import os\n",
    "print(os.listdir(\"./data_csv_kaggle\"))"
   ]
  },
  {
   "cell_type": "code",
   "execution_count": 48,
   "outputs": [
    {
     "data": {
      "text/plain": "   id  season       city        date                        team1  \\\n0   1    2017  Hyderabad  2017-04-05          Sunrisers Hyderabad   \n1   2    2017       Pune  2017-04-06               Mumbai Indians   \n2   3    2017     Rajkot  2017-04-07                Gujarat Lions   \n3   4    2017     Indore  2017-04-08       Rising Pune Supergiant   \n4   5    2017  Bangalore  2017-04-08  Royal Challengers Bangalore   \n\n                         team2                  toss_winner toss_decision  \\\n0  Royal Challengers Bangalore  Royal Challengers Bangalore         field   \n1       Rising Pune Supergiant       Rising Pune Supergiant         field   \n2        Kolkata Knight Riders        Kolkata Knight Riders         field   \n3              Kings XI Punjab              Kings XI Punjab         field   \n4             Delhi Daredevils  Royal Challengers Bangalore           bat   \n\n   result  dl_applied                       winner  win_by_runs  \\\n0  normal           0          Sunrisers Hyderabad           35   \n1  normal           0       Rising Pune Supergiant            0   \n2  normal           0        Kolkata Knight Riders            0   \n3  normal           0              Kings XI Punjab            0   \n4  normal           0  Royal Challengers Bangalore           15   \n\n   win_by_wickets player_of_match                                      venue  \\\n0               0    Yuvraj Singh  Rajiv Gandhi International Stadium, Uppal   \n1               7       SPD Smith    Maharashtra Cricket Association Stadium   \n2              10         CA Lynn     Saurashtra Cricket Association Stadium   \n3               6      GJ Maxwell                     Holkar Cricket Stadium   \n4               0       KM Jadhav                      M Chinnaswamy Stadium   \n\n          umpire1        umpire2 umpire3  \n0     AY Dandekar       NJ Llong     NaN  \n1  A Nand Kishore         S Ravi     NaN  \n2     Nitin Menon      CK Nandan     NaN  \n3    AK Chaudhary  C Shamshuddin     NaN  \n4             NaN            NaN     NaN  ",
      "text/html": "<div>\n<style scoped>\n    .dataframe tbody tr th:only-of-type {\n        vertical-align: middle;\n    }\n\n    .dataframe tbody tr th {\n        vertical-align: top;\n    }\n\n    .dataframe thead th {\n        text-align: right;\n    }\n</style>\n<table border=\"1\" class=\"dataframe\">\n  <thead>\n    <tr style=\"text-align: right;\">\n      <th></th>\n      <th>id</th>\n      <th>season</th>\n      <th>city</th>\n      <th>date</th>\n      <th>team1</th>\n      <th>team2</th>\n      <th>toss_winner</th>\n      <th>toss_decision</th>\n      <th>result</th>\n      <th>dl_applied</th>\n      <th>winner</th>\n      <th>win_by_runs</th>\n      <th>win_by_wickets</th>\n      <th>player_of_match</th>\n      <th>venue</th>\n      <th>umpire1</th>\n      <th>umpire2</th>\n      <th>umpire3</th>\n    </tr>\n  </thead>\n  <tbody>\n    <tr>\n      <th>0</th>\n      <td>1</td>\n      <td>2017</td>\n      <td>Hyderabad</td>\n      <td>2017-04-05</td>\n      <td>Sunrisers Hyderabad</td>\n      <td>Royal Challengers Bangalore</td>\n      <td>Royal Challengers Bangalore</td>\n      <td>field</td>\n      <td>normal</td>\n      <td>0</td>\n      <td>Sunrisers Hyderabad</td>\n      <td>35</td>\n      <td>0</td>\n      <td>Yuvraj Singh</td>\n      <td>Rajiv Gandhi International Stadium, Uppal</td>\n      <td>AY Dandekar</td>\n      <td>NJ Llong</td>\n      <td>NaN</td>\n    </tr>\n    <tr>\n      <th>1</th>\n      <td>2</td>\n      <td>2017</td>\n      <td>Pune</td>\n      <td>2017-04-06</td>\n      <td>Mumbai Indians</td>\n      <td>Rising Pune Supergiant</td>\n      <td>Rising Pune Supergiant</td>\n      <td>field</td>\n      <td>normal</td>\n      <td>0</td>\n      <td>Rising Pune Supergiant</td>\n      <td>0</td>\n      <td>7</td>\n      <td>SPD Smith</td>\n      <td>Maharashtra Cricket Association Stadium</td>\n      <td>A Nand Kishore</td>\n      <td>S Ravi</td>\n      <td>NaN</td>\n    </tr>\n    <tr>\n      <th>2</th>\n      <td>3</td>\n      <td>2017</td>\n      <td>Rajkot</td>\n      <td>2017-04-07</td>\n      <td>Gujarat Lions</td>\n      <td>Kolkata Knight Riders</td>\n      <td>Kolkata Knight Riders</td>\n      <td>field</td>\n      <td>normal</td>\n      <td>0</td>\n      <td>Kolkata Knight Riders</td>\n      <td>0</td>\n      <td>10</td>\n      <td>CA Lynn</td>\n      <td>Saurashtra Cricket Association Stadium</td>\n      <td>Nitin Menon</td>\n      <td>CK Nandan</td>\n      <td>NaN</td>\n    </tr>\n    <tr>\n      <th>3</th>\n      <td>4</td>\n      <td>2017</td>\n      <td>Indore</td>\n      <td>2017-04-08</td>\n      <td>Rising Pune Supergiant</td>\n      <td>Kings XI Punjab</td>\n      <td>Kings XI Punjab</td>\n      <td>field</td>\n      <td>normal</td>\n      <td>0</td>\n      <td>Kings XI Punjab</td>\n      <td>0</td>\n      <td>6</td>\n      <td>GJ Maxwell</td>\n      <td>Holkar Cricket Stadium</td>\n      <td>AK Chaudhary</td>\n      <td>C Shamshuddin</td>\n      <td>NaN</td>\n    </tr>\n    <tr>\n      <th>4</th>\n      <td>5</td>\n      <td>2017</td>\n      <td>Bangalore</td>\n      <td>2017-04-08</td>\n      <td>Royal Challengers Bangalore</td>\n      <td>Delhi Daredevils</td>\n      <td>Royal Challengers Bangalore</td>\n      <td>bat</td>\n      <td>normal</td>\n      <td>0</td>\n      <td>Royal Challengers Bangalore</td>\n      <td>15</td>\n      <td>0</td>\n      <td>KM Jadhav</td>\n      <td>M Chinnaswamy Stadium</td>\n      <td>NaN</td>\n      <td>NaN</td>\n      <td>NaN</td>\n    </tr>\n  </tbody>\n</table>\n</div>"
     },
     "metadata": {},
     "output_type": "execute_result",
     "execution_count": 48
    }
   ],
   "source": [
    "df = pd.read_csv('./data_csv_kaggle/matches.csv')\n",
    "df.head()"
   ],
   "metadata": {
    "collapsed": false,
    "pycharm": {
     "name": "#%%\n",
     "is_executing": false
    }
   }
  },
  {
   "cell_type": "code",
   "execution_count": 23,
   "outputs": [
    {
     "name": "stdout",
     "text": [
      "                             win_by_runs\nwinner                                  \nChennai Super Kings            34.192308\nDeccan Chargers                23.388889\nDelhi Capitals                 30.666667\nDelhi Daredevils               27.000000\nGujarat Lions                   1.000000\nKings XI Punjab                24.342105\nKochi Tuskers Kerala           11.500000\nKolkata Knight Riders          30.166667\nMumbai Indians                 32.736842\nPune Warriors                  23.166667\nRajasthan Royals               33.148148\nRising Pune Supergiant         24.600000\nRising Pune Supergiants        26.500000\nRoyal Challengers Bangalore    35.771429\nSunrisers Hyderabad            23.766667\n                             win_by_wickets\nwinner                                     \nChennai Super Kings                6.020833\nDeccan Chargers                    6.545455\nDelhi Capitals                     4.833333\nDelhi Daredevils                   6.547619\nGujarat Lions                      5.416667\nKings XI Punjab                    6.380952\nKochi Tuskers Kerala               7.500000\nKolkata Knight Riders              6.267857\nMumbai Indians                     6.140000\nPune Warriors                      6.000000\nRajasthan Royals                   5.934783\nRising Pune Supergiant             6.200000\nRising Pune Supergiants            6.666667\nRoyal Challengers Bangalore        6.541667\nSunrisers Hyderabad                6.407407\n"
     ],
     "output_type": "stream"
    }
   ],
   "source": [
    "wr = df[df['win_by_runs']>0]\n",
    "wt = df[df['win_by_wickets']>0]\n",
    "\n",
    "gr = wr.groupby('winner').mean()\n",
    "gr.drop(gr.columns.difference(['win_by_runs','winner']), 1, inplace=True)\n",
    "gt = wt.groupby('winner').mean()\n",
    "gt.drop(gt.columns.difference(['win_by_wickets','winner']), 1, inplace=True)\n",
    "\n",
    "print(gr)\n",
    "print(gt)"
   ],
   "metadata": {
    "collapsed": false,
    "pycharm": {
     "name": "#%%\n",
     "is_executing": false
    }
   }
  },
  {
   "cell_type": "code",
   "execution_count": 32,
   "outputs": [
    {
     "name": "stdout",
     "text": [
      "                             win_by_runs  win_by_wickets\nwinner                                                  \nChennai Super Kings            34.192308        6.020833\nDeccan Chargers                23.388889        6.545455\nDelhi Capitals                 30.666667        4.833333\nDelhi Daredevils               27.000000        6.547619\nGujarat Lions                   1.000000        5.416667\nKings XI Punjab                24.342105        6.380952\nKochi Tuskers Kerala           11.500000        7.500000\nKolkata Knight Riders          30.166667        6.267857\nMumbai Indians                 32.736842        6.140000\nPune Warriors                  23.166667        6.000000\nRajasthan Royals               33.148148        5.934783\nRising Pune Supergiant         24.600000        6.200000\nRising Pune Supergiants        26.500000        6.666667\nRoyal Challengers Bangalore    35.771429        6.541667\nSunrisers Hyderabad            23.766667        6.407407\n"
     ],
     "output_type": "stream"
    },
    {
     "data": {
      "text/plain": "Index(['Chennai Super Kings', 'Deccan Chargers', 'Delhi Capitals',\n       'Delhi Daredevils', 'Gujarat Lions', 'Kings XI Punjab',\n       'Kochi Tuskers Kerala', 'Kolkata Knight Riders', 'Mumbai Indians',\n       'Pune Warriors', 'Rajasthan Royals', 'Rising Pune Supergiant',\n       'Rising Pune Supergiants', 'Royal Challengers Bangalore',\n       'Sunrisers Hyderabad'],\n      dtype='object', name='winner')"
     },
     "metadata": {},
     "output_type": "execute_result",
     "execution_count": 32
    }
   ],
   "source": [
    "m = pd.merge(gr, gt, on='winner', how='outer')\n",
    "print(m)\n",
    "m.index"
   ],
   "metadata": {
    "collapsed": false,
    "pycharm": {
     "name": "#%%\n",
     "is_executing": false
    }
   }
  },
  {
   "cell_type": "code",
   "execution_count": 34,
   "outputs": [
    {
     "traceback": [
      "\u001b[0;31m---------------------------------------------------------------------------\u001b[0m",
      "\u001b[0;31mTypeError\u001b[0m                                 Traceback (most recent call last)",
      "\u001b[0;32m<ipython-input-34-8cb517b40685>\u001b[0m in \u001b[0;36m<module>\u001b[0;34m\u001b[0m\n\u001b[1;32m      1\u001b[0m \u001b[0;32mfor\u001b[0m \u001b[0mcol\u001b[0m \u001b[0;32min\u001b[0m \u001b[0;34m(\u001b[0m\u001b[0;34m'win_by_wickets'\u001b[0m\u001b[0;34m,\u001b[0m \u001b[0;34m'win_by_runs'\u001b[0m\u001b[0;34m)\u001b[0m\u001b[0;34m:\u001b[0m\u001b[0;34m\u001b[0m\u001b[0;34m\u001b[0m\u001b[0m\n\u001b[0;32m----> 2\u001b[0;31m     \u001b[0max\u001b[0m \u001b[0;34m=\u001b[0m \u001b[0msns\u001b[0m\u001b[0;34m.\u001b[0m\u001b[0mcountplot\u001b[0m\u001b[0;34m(\u001b[0m\u001b[0mdata\u001b[0m \u001b[0;34m=\u001b[0m \u001b[0mgr\u001b[0m\u001b[0;34m,\u001b[0m \u001b[0morder\u001b[0m \u001b[0;34m=\u001b[0m \u001b[0mgr\u001b[0m\u001b[0;34m.\u001b[0m\u001b[0mindex\u001b[0m\u001b[0;34m,\u001b[0m \u001b[0mpalette\u001b[0m\u001b[0;34m=\u001b[0m\u001b[0;34m'viridis'\u001b[0m\u001b[0;34m)\u001b[0m\u001b[0;34m\u001b[0m\u001b[0;34m\u001b[0m\u001b[0m\n\u001b[0m",
      "\u001b[0;32m~/.virtualenvs/ECE143Project/lib/python3.6/site-packages/seaborn/categorical.py\u001b[0m in \u001b[0;36mcountplot\u001b[0;34m(x, y, hue, data, order, hue_order, orient, color, palette, saturation, dodge, ax, **kwargs)\u001b[0m\n\u001b[1;32m   3546\u001b[0m         \u001b[0;32mraise\u001b[0m \u001b[0mTypeError\u001b[0m\u001b[0;34m(\u001b[0m\u001b[0;34m\"Cannot pass values for both `x` and `y`\"\u001b[0m\u001b[0;34m)\u001b[0m\u001b[0;34m\u001b[0m\u001b[0;34m\u001b[0m\u001b[0m\n\u001b[1;32m   3547\u001b[0m     \u001b[0;32melse\u001b[0m\u001b[0;34m:\u001b[0m\u001b[0;34m\u001b[0m\u001b[0;34m\u001b[0m\u001b[0m\n\u001b[0;32m-> 3548\u001b[0;31m         \u001b[0;32mraise\u001b[0m \u001b[0mTypeError\u001b[0m\u001b[0;34m(\u001b[0m\u001b[0;34m\"Must pass values for either `x` or `y`\"\u001b[0m\u001b[0;34m)\u001b[0m\u001b[0;34m\u001b[0m\u001b[0;34m\u001b[0m\u001b[0m\n\u001b[0m\u001b[1;32m   3549\u001b[0m \u001b[0;34m\u001b[0m\u001b[0m\n\u001b[1;32m   3550\u001b[0m     plotter = _BarPlotter(x, y, hue, data, order, hue_order,\n",
      "\u001b[0;31mTypeError\u001b[0m: Must pass values for either `x` or `y`"
     ],
     "ename": "TypeError",
     "evalue": "Must pass values for either `x` or `y`",
     "output_type": "error"
    }
   ],
   "source": [
    "for col in ('win_by_wickets', 'win_by_runs'):\n",
    "    ax = sns.countplot(\"winner\", data = gr, order = gr.index, palette='viridis')"
   ],
   "metadata": {
    "collapsed": false,
    "pycharm": {
     "name": "#%%\n",
     "is_executing": false
    }
   }
  },
  {
   "cell_type": "code",
   "execution_count": 49,
   "outputs": [],
   "source": [
    "wins = df\n",
    "wins.drop(wins.columns.difference(['winner']), 1,inplace=True)"
   ],
   "metadata": {
    "collapsed": false,
    "pycharm": {
     "name": "#%%\n",
     "is_executing": false
    }
   }
  },
  {
   "cell_type": "code",
   "execution_count": 51,
   "outputs": [
    {
     "data": {
      "text/plain": "Mumbai Indians                 109\nChennai Super Kings            100\nKolkata Knight Riders           92\nRoyal Challengers Bangalore     84\nKings XI Punjab                 82\nRajasthan Royals                75\nDelhi Daredevils                67\nSunrisers Hyderabad             58\nDeccan Chargers                 29\nGujarat Lions                   13\nPune Warriors                   12\nRising Pune Supergiant          10\nDelhi Capitals                  10\nKochi Tuskers Kerala             6\nRising Pune Supergiants          5\nName: winner, dtype: int64"
     },
     "metadata": {},
     "output_type": "execute_result",
     "execution_count": 51
    }
   ],
   "source": [
    "wins['winner'].value_counts()\n"
   ],
   "metadata": {
    "collapsed": false,
    "pycharm": {
     "name": "#%%\n",
     "is_executing": false
    }
   }
  },
  {
   "cell_type": "code",
   "execution_count": null,
   "outputs": [],
   "source": [
    "\n"
   ],
   "metadata": {
    "collapsed": false,
    "pycharm": {
     "name": "#%%\n"
    }
   }
  }
 ],
 "metadata": {
  "language_info": {
   "codemirror_mode": {
    "name": "ipython",
    "version": 2
   },
   "file_extension": ".py",
   "mimetype": "text/x-python",
   "name": "python",
   "nbconvert_exporter": "python",
   "pygments_lexer": "ipython2",
   "version": "2.7.6"
  },
  "kernelspec": {
   "name": "pycharm-2bbe9730",
   "language": "python",
   "display_name": "PyCharm (ECE143Project)"
  },
  "pycharm": {
   "stem_cell": {
    "cell_type": "raw",
    "source": [],
    "metadata": {
     "collapsed": false
    }
   }
  }
 },
 "nbformat": 4,
 "nbformat_minor": 0
}