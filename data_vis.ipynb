{
 "cells": [
  {
   "cell_type": "code",
   "execution_count": 4,
   "metadata": {
    "pycharm": {
     "is_executing": false
    }
   },
   "outputs": [
    {
     "name": "stdout",
     "output_type": "stream",
     "text": [
      "['deliveries.csv', 'matches.csv']\n"
     ]
    }
   ],
   "source": [
    "import numpy as np # linear algebra\n",
    "import pandas as pd # data processing, CSV file I/O (e.g. pd.read_csv)\n",
    "\n",
    "import matplotlib.pyplot as plt\n",
    "import seaborn as sns               # Provides a high level interface for drawing attractive and informative statistical graphics\n",
    "%matplotlib inline\n",
    "sns.set()\n",
    "from subprocess import check_output\n",
    "\n",
    "import warnings                                            # Ignore warning related to pandas_profiling\n",
    "warnings.filterwarnings('ignore') \n",
    "import os\n",
    "print(os.listdir(\"./data_csv_kaggle\"))"
   ]
  },
  {
   "cell_type": "code",
   "execution_count": 5,
   "metadata": {
    "pycharm": {
     "is_executing": false,
     "name": "#%%\n"
    }
   },
   "outputs": [
    {
     "data": {
      "text/html": [
       "<div>\n",
       "<style scoped>\n",
       "    .dataframe tbody tr th:only-of-type {\n",
       "        vertical-align: middle;\n",
       "    }\n",
       "\n",
       "    .dataframe tbody tr th {\n",
       "        vertical-align: top;\n",
       "    }\n",
       "\n",
       "    .dataframe thead th {\n",
       "        text-align: right;\n",
       "    }\n",
       "</style>\n",
       "<table border=\"1\" class=\"dataframe\">\n",
       "  <thead>\n",
       "    <tr style=\"text-align: right;\">\n",
       "      <th></th>\n",
       "      <th>id</th>\n",
       "      <th>season</th>\n",
       "      <th>city</th>\n",
       "      <th>date</th>\n",
       "      <th>team1</th>\n",
       "      <th>team2</th>\n",
       "      <th>toss_winner</th>\n",
       "      <th>toss_decision</th>\n",
       "      <th>result</th>\n",
       "      <th>dl_applied</th>\n",
       "      <th>winner</th>\n",
       "      <th>win_by_runs</th>\n",
       "      <th>win_by_wickets</th>\n",
       "      <th>player_of_match</th>\n",
       "      <th>venue</th>\n",
       "      <th>umpire1</th>\n",
       "      <th>umpire2</th>\n",
       "      <th>umpire3</th>\n",
       "    </tr>\n",
       "  </thead>\n",
       "  <tbody>\n",
       "    <tr>\n",
       "      <th>0</th>\n",
       "      <td>1</td>\n",
       "      <td>2017</td>\n",
       "      <td>Hyderabad</td>\n",
       "      <td>2017-04-05</td>\n",
       "      <td>Sunrisers Hyderabad</td>\n",
       "      <td>Royal Challengers Bangalore</td>\n",
       "      <td>Royal Challengers Bangalore</td>\n",
       "      <td>field</td>\n",
       "      <td>normal</td>\n",
       "      <td>0</td>\n",
       "      <td>Sunrisers Hyderabad</td>\n",
       "      <td>35</td>\n",
       "      <td>0</td>\n",
       "      <td>Yuvraj Singh</td>\n",
       "      <td>Rajiv Gandhi International Stadium, Uppal</td>\n",
       "      <td>AY Dandekar</td>\n",
       "      <td>NJ Llong</td>\n",
       "      <td>NaN</td>\n",
       "    </tr>\n",
       "    <tr>\n",
       "      <th>1</th>\n",
       "      <td>2</td>\n",
       "      <td>2017</td>\n",
       "      <td>Pune</td>\n",
       "      <td>2017-04-06</td>\n",
       "      <td>Mumbai Indians</td>\n",
       "      <td>Rising Pune Supergiant</td>\n",
       "      <td>Rising Pune Supergiant</td>\n",
       "      <td>field</td>\n",
       "      <td>normal</td>\n",
       "      <td>0</td>\n",
       "      <td>Rising Pune Supergiant</td>\n",
       "      <td>0</td>\n",
       "      <td>7</td>\n",
       "      <td>SPD Smith</td>\n",
       "      <td>Maharashtra Cricket Association Stadium</td>\n",
       "      <td>A Nand Kishore</td>\n",
       "      <td>S Ravi</td>\n",
       "      <td>NaN</td>\n",
       "    </tr>\n",
       "    <tr>\n",
       "      <th>2</th>\n",
       "      <td>3</td>\n",
       "      <td>2017</td>\n",
       "      <td>Rajkot</td>\n",
       "      <td>2017-04-07</td>\n",
       "      <td>Gujarat Lions</td>\n",
       "      <td>Kolkata Knight Riders</td>\n",
       "      <td>Kolkata Knight Riders</td>\n",
       "      <td>field</td>\n",
       "      <td>normal</td>\n",
       "      <td>0</td>\n",
       "      <td>Kolkata Knight Riders</td>\n",
       "      <td>0</td>\n",
       "      <td>10</td>\n",
       "      <td>CA Lynn</td>\n",
       "      <td>Saurashtra Cricket Association Stadium</td>\n",
       "      <td>Nitin Menon</td>\n",
       "      <td>CK Nandan</td>\n",
       "      <td>NaN</td>\n",
       "    </tr>\n",
       "    <tr>\n",
       "      <th>3</th>\n",
       "      <td>4</td>\n",
       "      <td>2017</td>\n",
       "      <td>Indore</td>\n",
       "      <td>2017-04-08</td>\n",
       "      <td>Rising Pune Supergiant</td>\n",
       "      <td>Kings XI Punjab</td>\n",
       "      <td>Kings XI Punjab</td>\n",
       "      <td>field</td>\n",
       "      <td>normal</td>\n",
       "      <td>0</td>\n",
       "      <td>Kings XI Punjab</td>\n",
       "      <td>0</td>\n",
       "      <td>6</td>\n",
       "      <td>GJ Maxwell</td>\n",
       "      <td>Holkar Cricket Stadium</td>\n",
       "      <td>AK Chaudhary</td>\n",
       "      <td>C Shamshuddin</td>\n",
       "      <td>NaN</td>\n",
       "    </tr>\n",
       "    <tr>\n",
       "      <th>4</th>\n",
       "      <td>5</td>\n",
       "      <td>2017</td>\n",
       "      <td>Bangalore</td>\n",
       "      <td>2017-04-08</td>\n",
       "      <td>Royal Challengers Bangalore</td>\n",
       "      <td>Delhi Daredevils</td>\n",
       "      <td>Royal Challengers Bangalore</td>\n",
       "      <td>bat</td>\n",
       "      <td>normal</td>\n",
       "      <td>0</td>\n",
       "      <td>Royal Challengers Bangalore</td>\n",
       "      <td>15</td>\n",
       "      <td>0</td>\n",
       "      <td>KM Jadhav</td>\n",
       "      <td>M Chinnaswamy Stadium</td>\n",
       "      <td>NaN</td>\n",
       "      <td>NaN</td>\n",
       "      <td>NaN</td>\n",
       "    </tr>\n",
       "  </tbody>\n",
       "</table>\n",
       "</div>"
      ],
      "text/plain": [
       "   id  season       city        date                        team1  \\\n",
       "0   1    2017  Hyderabad  2017-04-05          Sunrisers Hyderabad   \n",
       "1   2    2017       Pune  2017-04-06               Mumbai Indians   \n",
       "2   3    2017     Rajkot  2017-04-07                Gujarat Lions   \n",
       "3   4    2017     Indore  2017-04-08       Rising Pune Supergiant   \n",
       "4   5    2017  Bangalore  2017-04-08  Royal Challengers Bangalore   \n",
       "\n",
       "                         team2                  toss_winner toss_decision  \\\n",
       "0  Royal Challengers Bangalore  Royal Challengers Bangalore         field   \n",
       "1       Rising Pune Supergiant       Rising Pune Supergiant         field   \n",
       "2        Kolkata Knight Riders        Kolkata Knight Riders         field   \n",
       "3              Kings XI Punjab              Kings XI Punjab         field   \n",
       "4             Delhi Daredevils  Royal Challengers Bangalore           bat   \n",
       "\n",
       "   result  dl_applied                       winner  win_by_runs  \\\n",
       "0  normal           0          Sunrisers Hyderabad           35   \n",
       "1  normal           0       Rising Pune Supergiant            0   \n",
       "2  normal           0        Kolkata Knight Riders            0   \n",
       "3  normal           0              Kings XI Punjab            0   \n",
       "4  normal           0  Royal Challengers Bangalore           15   \n",
       "\n",
       "   win_by_wickets player_of_match                                      venue  \\\n",
       "0               0    Yuvraj Singh  Rajiv Gandhi International Stadium, Uppal   \n",
       "1               7       SPD Smith    Maharashtra Cricket Association Stadium   \n",
       "2              10         CA Lynn     Saurashtra Cricket Association Stadium   \n",
       "3               6      GJ Maxwell                     Holkar Cricket Stadium   \n",
       "4               0       KM Jadhav                      M Chinnaswamy Stadium   \n",
       "\n",
       "          umpire1        umpire2 umpire3  \n",
       "0     AY Dandekar       NJ Llong     NaN  \n",
       "1  A Nand Kishore         S Ravi     NaN  \n",
       "2     Nitin Menon      CK Nandan     NaN  \n",
       "3    AK Chaudhary  C Shamshuddin     NaN  \n",
       "4             NaN            NaN     NaN  "
      ]
     },
     "execution_count": 5,
     "metadata": {},
     "output_type": "execute_result"
    }
   ],
   "source": [
    "df = pd.read_csv('./data_csv_kaggle/matches.csv')\n",
    "df.head()"
   ]
  },
  {
   "cell_type": "code",
   "execution_count": 6,
   "metadata": {
    "pycharm": {
     "is_executing": true,
     "name": "#%%\n"
    }
   },
   "outputs": [
    {
     "name": "stdout",
     "output_type": "stream",
     "text": [
      "                             win_by_runs\n",
      "winner                                  \n",
      "Chennai Super Kings            34.192308\n",
      "Deccan Chargers                23.388889\n",
      "Delhi Capitals                 30.666667\n",
      "Delhi Daredevils               27.000000\n",
      "Gujarat Lions                   1.000000\n",
      "Kings XI Punjab                24.342105\n",
      "Kochi Tuskers Kerala           11.500000\n",
      "Kolkata Knight Riders          30.166667\n",
      "Mumbai Indians                 32.736842\n",
      "Pune Warriors                  23.166667\n",
      "Rajasthan Royals               33.148148\n",
      "Rising Pune Supergiant         24.600000\n",
      "Rising Pune Supergiants        26.500000\n",
      "Royal Challengers Bangalore    35.771429\n",
      "Sunrisers Hyderabad            23.766667\n",
      "                             win_by_wickets\n",
      "winner                                     \n",
      "Chennai Super Kings                6.020833\n",
      "Deccan Chargers                    6.545455\n",
      "Delhi Capitals                     4.833333\n",
      "Delhi Daredevils                   6.547619\n",
      "Gujarat Lions                      5.416667\n",
      "Kings XI Punjab                    6.380952\n",
      "Kochi Tuskers Kerala               7.500000\n",
      "Kolkata Knight Riders              6.267857\n",
      "Mumbai Indians                     6.140000\n",
      "Pune Warriors                      6.000000\n",
      "Rajasthan Royals                   5.934783\n",
      "Rising Pune Supergiant             6.200000\n",
      "Rising Pune Supergiants            6.666667\n",
      "Royal Challengers Bangalore        6.541667\n",
      "Sunrisers Hyderabad                6.407407\n"
     ]
    }
   ],
   "source": [
    "wr = df[df['win_by_runs']>0]\n",
    "wt = df[df['win_by_wickets']>0]\n",
    "\n",
    "gr = wr.groupby('winner').mean()\n",
    "gr.drop(gr.columns.difference(['win_by_runs','winner']), 1, inplace=True)\n",
    "gt = wt.groupby('winner').mean()\n",
    "gt.drop(gt.columns.difference(['win_by_wickets','winner']), 1, inplace=True)\n",
    "\n",
    "print(gr)\n",
    "print(gt)"
   ]
  },
  {
   "cell_type": "code",
   "execution_count": 7,
   "metadata": {
    "pycharm": {
     "is_executing": false,
     "name": "#%%\n"
    }
   },
   "outputs": [
    {
     "name": "stdout",
     "output_type": "stream",
     "text": [
      "                             win_by_runs  win_by_wickets\n",
      "winner                                                  \n",
      "Chennai Super Kings            34.192308        6.020833\n",
      "Deccan Chargers                23.388889        6.545455\n",
      "Delhi Capitals                 30.666667        4.833333\n",
      "Delhi Daredevils               27.000000        6.547619\n",
      "Gujarat Lions                   1.000000        5.416667\n",
      "Kings XI Punjab                24.342105        6.380952\n",
      "Kochi Tuskers Kerala           11.500000        7.500000\n",
      "Kolkata Knight Riders          30.166667        6.267857\n",
      "Mumbai Indians                 32.736842        6.140000\n",
      "Pune Warriors                  23.166667        6.000000\n",
      "Rajasthan Royals               33.148148        5.934783\n",
      "Rising Pune Supergiant         24.600000        6.200000\n",
      "Rising Pune Supergiants        26.500000        6.666667\n",
      "Royal Challengers Bangalore    35.771429        6.541667\n",
      "Sunrisers Hyderabad            23.766667        6.407407\n"
     ]
    },
    {
     "data": {
      "text/plain": [
       "Index(['Chennai Super Kings', 'Deccan Chargers', 'Delhi Capitals',\n",
       "       'Delhi Daredevils', 'Gujarat Lions', 'Kings XI Punjab',\n",
       "       'Kochi Tuskers Kerala', 'Kolkata Knight Riders', 'Mumbai Indians',\n",
       "       'Pune Warriors', 'Rajasthan Royals', 'Rising Pune Supergiant',\n",
       "       'Rising Pune Supergiants', 'Royal Challengers Bangalore',\n",
       "       'Sunrisers Hyderabad'],\n",
       "      dtype='object', name='winner')"
      ]
     },
     "execution_count": 7,
     "metadata": {},
     "output_type": "execute_result"
    }
   ],
   "source": [
    "m = pd.merge(gr, gt, on='winner', how='outer')\n",
    "print(m)\n",
    "m.index"
   ]
  },
  {
   "cell_type": "code",
   "execution_count": 8,
   "metadata": {
    "pycharm": {
     "is_executing": false,
     "name": "#%%\n"
    }
   },
   "outputs": [],
   "source": [
    "# for col in ('win_by_wickets', 'win_by_runs'):\n",
    "#     ax = sns.countplot(\"winner\", data = gr, order = gr.index, palette='viridis')"
   ]
  },
  {
   "cell_type": "code",
   "execution_count": 9,
   "metadata": {
    "pycharm": {
     "is_executing": false,
     "name": "#%%\n"
    }
   },
   "outputs": [],
   "source": [
    "wins = df\n",
    "wins.drop(wins.columns.difference(['winner']), 1,inplace=True)"
   ]
  },
  {
   "cell_type": "code",
   "execution_count": 10,
   "metadata": {
    "pycharm": {
     "is_executing": false,
     "name": "#%%\n"
    }
   },
   "outputs": [
    {
     "data": {
      "text/plain": [
       "Mumbai Indians                 109\n",
       "Chennai Super Kings            100\n",
       "Kolkata Knight Riders           92\n",
       "Royal Challengers Bangalore     84\n",
       "Kings XI Punjab                 82\n",
       "Rajasthan Royals                75\n",
       "Delhi Daredevils                67\n",
       "Sunrisers Hyderabad             58\n",
       "Deccan Chargers                 29\n",
       "Gujarat Lions                   13\n",
       "Pune Warriors                   12\n",
       "Rising Pune Supergiant          10\n",
       "Delhi Capitals                  10\n",
       "Kochi Tuskers Kerala             6\n",
       "Rising Pune Supergiants          5\n",
       "Name: winner, dtype: int64"
      ]
     },
     "execution_count": 10,
     "metadata": {},
     "output_type": "execute_result"
    }
   ],
   "source": [
    "wins['winner'].value_counts()\n"
   ]
  },
  {
   "cell_type": "code",
   "execution_count": 11,
   "metadata": {
    "pycharm": {
     "is_executing": false,
     "name": "#%%\n"
    }
   },
   "outputs": [
    {
     "name": "stdout",
     "output_type": "stream",
     "text": [
      "            bowler  Number of Balls Thrown  Number of Wickets taken  \\\n",
      "351   AC Gilchrist                       1                        1   \n",
      "347    Sachin Baby                      10                        3   \n",
      "350      AM Rahane                       6                        1   \n",
      "349  LA Carseldine                       7                        1   \n",
      "348      SS Mundhe                       7                        1   \n",
      "\n",
      "     Wicket Taking Ability  \n",
      "351               1.000000  \n",
      "347               3.333333  \n",
      "350               6.000000  \n",
      "349               7.000000  \n",
      "348               7.000000  \n"
     ]
    }
   ],
   "source": [
    "from metrics import *\n",
    "from vis_funcs import *\n",
    "\n",
    "ball_data = load_data_as_df('./data_csv_kaggle/deliveries.csv')\n",
    "hh = hard_hit(ball_data.copy())\n",
    "fs = fast_scoring(ball_data.copy())\n",
    "eco = economy(ball_data.copy())\n",
    "wick = wicket_taking(ball_data.copy())\n",
    "print(wick.head())"
   ]
  },
  {
   "cell_type": "code",
   "execution_count": 53,
   "metadata": {
    "pycharm": {
     "name": "#%%\n"
    }
   },
   "outputs": [
    {
     "data": {
      "text/html": [
       "        <script type=\"text/javascript\">\n",
       "        window.PlotlyConfig = {MathJaxConfig: 'local'};\n",
       "        if (window.MathJax) {MathJax.Hub.Config({SVG: {font: \"STIX-Web\"}});}\n",
       "        if (typeof require !== 'undefined') {\n",
       "        require.undef(\"plotly\");\n",
       "        requirejs.config({\n",
       "            paths: {\n",
       "                'plotly': ['https://cdn.plot.ly/plotly-latest.min']\n",
       "            }\n",
       "        });\n",
       "        require(['plotly'], function(Plotly) {\n",
       "            window._Plotly = Plotly;\n",
       "        });\n",
       "        }\n",
       "        </script>\n",
       "        "
      ]
     },
     "metadata": {},
     "output_type": "display_data"
    }
   ],
   "source": [
    "import plotly.plotly as py\n",
    "import plotly\n",
    "import cufflinks as cf\n",
    "cf.set_config_file(offline=True, world_readable=True, theme='pearl')\n",
    "plotly.tools.set_credentials_file(username='ryanzhao9459', api_key='0rWuTS32zBMaefc0mWUj')\n",
    "\n",
    "import plotly.plotly as py\n",
    "import plotly\n",
    "import plotly.graph_objs as go"
   ]
  },
  {
   "cell_type": "code",
   "execution_count": 54,
   "metadata": {},
   "outputs": [
    {
     "data": {
      "application/vnd.plotly.v1+json": {
       "config": {
        "linkText": "Export to plot.ly",
        "plotlyServerURL": "https://plot.ly",
        "responsive": true,
        "showLink": true
       },
       "data": [
        {
         "marker": {
          "color": "rgba(255, 153, 51, 1.0)",
          "line": {
           "width": 1.3
          },
          "opacity": 0.8,
          "size": [
           40
          ],
          "symbol": "circle"
         },
         "mode": "markers",
         "name": "Imran Tahir",
         "text": [
          "Imran Tahir"
         ],
         "textfont": {
          "color": "#4D5663"
         },
         "type": "scatter",
         "uid": "7f9af5ef-ca77-4cb4-9730-bcdd017b5cd8",
         "x": [
          7.662129703763011
         ],
         "y": [
          15.231707317073171
         ]
        },
        {
         "marker": {
          "color": "rgba(55, 128, 191, 1.0)",
          "line": {
           "width": 1.3
          },
          "opacity": 0.8,
          "size": [
           112
          ],
          "symbol": "circle"
         },
         "mode": "markers",
         "name": "SL Malinga",
         "text": [
          "SL Malinga"
         ],
         "textfont": {
          "color": "#4D5663"
         },
         "type": "scatter",
         "uid": "bfbb74ec-fe37-482c-b84e-e0c48b1defed",
         "x": [
          6.49226630800269
         ],
         "y": [
          15.819148936170214
         ]
        },
        {
         "marker": {
          "color": "rgba(50, 171, 96, 1.0)",
          "line": {
           "width": 1.3
          },
          "opacity": 0.8,
          "size": [
           98
          ],
          "symbol": "circle"
         },
         "mode": "markers",
         "name": "DJ Bravo",
         "text": [
          "DJ Bravo"
         ],
         "textfont": {
          "color": "#4D5663"
         },
         "type": "scatter",
         "uid": "981589e4-b616-45e3-9af6-4da47f8cc698",
         "x": [
          7.817041682036149
         ],
         "y": [
          16.136904761904763
         ]
        },
        {
         "marker": {
          "color": "rgba(128, 0, 128, 1.0)",
          "line": {
           "width": 1.3
          },
          "opacity": 0.8,
          "size": [
           67
          ],
          "symbol": "circle"
         },
         "mode": "markers",
         "name": "A Nehra",
         "text": [
          "A Nehra"
         ],
         "textfont": {
          "color": "#4D5663"
         },
         "type": "scatter",
         "uid": "fada1791-2893-4120-8deb-d345a287cdfa",
         "x": [
          7.361702127659575
         ],
         "y": [
          16.31404958677686
         ]
        },
        {
         "marker": {
          "color": "rgba(219, 64, 82, 1.0)",
          "line": {
           "width": 1.3
          },
          "opacity": 0.8,
          "size": [
           40
          ],
          "symbol": "circle"
         },
         "mode": "markers",
         "name": "MM Patel",
         "text": [
          "MM Patel"
         ],
         "textfont": {
          "color": "#4D5663"
         },
         "type": "scatter",
         "uid": "94bfeddd-4cae-4ac0-b7f1-616459c30110",
         "x": [
          7.250361794500724
         ],
         "y": [
          16.853658536585368
         ]
        },
        {
         "marker": {
          "color": "rgba(0, 128, 128, 1.0)",
          "line": {
           "width": 1.3
          },
          "opacity": 0.8,
          "size": [
           36
          ],
          "symbol": "circle"
         },
         "mode": "markers",
         "name": "JP Faulkner",
         "text": [
          "JP Faulkner"
         ],
         "textfont": {
          "color": "#4D5663"
         },
         "type": "scatter",
         "uid": "af91b569-37cf-41b5-9336-c17b178eb8d8",
         "x": [
          8.13053613053613
         ],
         "y": [
          16.93421052631579
         ]
        },
        {
         "marker": {
          "color": "rgba(255, 255, 51, 1.0)",
          "line": {
           "width": 1.3
          },
          "opacity": 0.8,
          "size": [
           38
          ],
          "symbol": "circle"
         },
         "mode": "markers",
         "name": "CH Morris",
         "text": [
          "CH Morris"
         ],
         "textfont": {
          "color": "#4D5663"
         },
         "type": "scatter",
         "uid": "3e0fe6d5-132a-4e66-a7f3-06c28b47c206",
         "x": [
          7.604494382022472
         ],
         "y": [
          17.115384615384617
         ]
        },
        {
         "marker": {
          "color": "rgba(128, 128, 0, 1.0)",
          "line": {
           "width": 1.3
          },
          "opacity": 0.8,
          "size": [
           46
          ],
          "symbol": "circle"
         },
         "mode": "markers",
         "name": "Sandeep Sharma",
         "text": [
          "Sandeep Sharma"
         ],
         "textfont": {
          "color": "#4D5663"
         },
         "type": "scatter",
         "uid": "c2b9ee3e-20c0-409e-a0b9-7360b8f9fb15",
         "x": [
          7.26908150064683
         ],
         "y": [
          17.177777777777777
         ]
        },
        {
         "marker": {
          "color": "rgba(251, 128, 114, 1.0)",
          "line": {
           "width": 1.3
          },
          "opacity": 0.8,
          "size": [
           71
          ],
          "symbol": "circle"
         },
         "mode": "markers",
         "name": "R Vinay Kumar",
         "text": [
          "R Vinay Kumar"
         ],
         "textfont": {
          "color": "#4D5663"
         },
         "type": "scatter",
         "uid": "8f92af23-9f82-42d5-a24c-a6d2d3cd967d",
         "x": [
          8.033851784080513
         ],
         "y": [
          17.212598425196852
         ]
        },
        {
         "marker": {
          "color": "rgba(128, 177, 211, 1.0)",
          "line": {
           "width": 1.3
          },
          "opacity": 0.8,
          "size": [
           52
          ],
          "symbol": "circle"
         },
         "mode": "markers",
         "name": "MM Sharma",
         "text": [
          "MM Sharma"
         ],
         "textfont": {
          "color": "#4D5663"
         },
         "type": "scatter",
         "uid": "039c4f49-19a2-4ec8-a459-9ccaf5ad93cf",
         "x": [
          8.128813559322033
         ],
         "y": [
          17.87878787878788
         ]
        },
        {
         "marker": {
          "color": "rgba(128, 177, 211, 0.8999999999999999)",
          "line": {
           "width": 1.3
          },
          "opacity": 0.8,
          "size": [
           54
          ],
          "symbol": "circle"
         },
         "mode": "markers",
         "name": "YS Chahal",
         "text": [
          "YS Chahal"
         ],
         "textfont": {
          "color": "#4D5663"
         },
         "type": "scatter",
         "uid": "8b2e17ca-00e7-486d-bff4-d989b767c8ed",
         "x": [
          7.495926127104835
         ],
         "y": [
          18.04901960784314
         ]
        },
        {
         "marker": {
          "color": "rgba(255, 153, 51, 0.8999999999999999)",
          "line": {
           "width": 1.3
          },
          "opacity": 0.8,
          "size": [
           25
          ],
          "symbol": "circle"
         },
         "mode": "markers",
         "name": "AD Russell",
         "text": [
          "AD Russell"
         ],
         "textfont": {
          "color": "#4D5663"
         },
         "type": "scatter",
         "uid": "fce7f71a-8e14-4e49-b9b8-ae2950c9d13a",
         "x": [
          8.496268656716419
         ],
         "y": [
          18.16949152542373
         ]
        },
        {
         "marker": {
          "color": "rgba(55, 128, 191, 0.8999999999999999)",
          "line": {
           "width": 1.3
          },
          "opacity": 0.8,
          "size": [
           35
          ],
          "symbol": "circle"
         },
         "mode": "markers",
         "name": "MJ McClenaghan",
         "text": [
          "MJ McClenaghan"
         ],
         "textfont": {
          "color": "#4D5663"
         },
         "type": "scatter",
         "uid": "f3a42105-507d-4505-b30f-0daa03593a7e",
         "x": [
          7.827637444279346
         ],
         "y": [
          18.18918918918919
         ]
        },
        {
         "marker": {
          "color": "rgba(50, 171, 96, 0.8999999999999999)",
          "line": {
           "width": 1.3
          },
          "opacity": 0.8,
          "size": [
           26
          ],
          "symbol": "circle"
         },
         "mode": "markers",
         "name": "Rashid Khan",
         "text": [
          "Rashid Khan"
         ],
         "textfont": {
          "color": "#4D5663"
         },
         "type": "scatter",
         "uid": "d28d6b1e-0173-470d-b3ac-7485760127df",
         "x": [
          6.585895117540687
         ],
         "y": [
          18.433333333333334
         ]
        },
        {
         "marker": {
          "color": "rgba(128, 0, 128, 0.8999999999999999)",
          "line": {
           "width": 1.3
          },
          "opacity": 0.8,
          "size": [
           42
          ],
          "symbol": "circle"
         },
         "mode": "markers",
         "name": "L Balaji",
         "text": [
          "L Balaji"
         ],
         "textfont": {
          "color": "#4D5663"
         },
         "type": "scatter",
         "uid": "f2c2f82c-8083-4457-9c2e-8a83a354dbec",
         "x": [
          7.4409148665819576
         ],
         "y": [
          18.51764705882353
         ]
        },
        {
         "marker": {
          "color": "rgba(219, 64, 82, 0.8999999999999999)",
          "line": {
           "width": 1.3
          },
          "opacity": 0.8,
          "size": [
           52
          ],
          "symbol": "circle"
         },
         "mode": "markers",
         "name": "RP Singh",
         "text": [
          "RP Singh"
         ],
         "textfont": {
          "color": "#4D5663"
         },
         "type": "scatter",
         "uid": "5357a2d4-404d-48af-9621-722906ab2845",
         "x": [
          7.159018143009606
         ],
         "y": [
          18.74
         ]
        },
        {
         "marker": {
          "color": "rgba(0, 128, 128, 0.8999999999999999)",
          "line": {
           "width": 1.3
          },
          "opacity": 0.8,
          "size": [
           40
          ],
          "symbol": "circle"
         },
         "mode": "markers",
         "name": "JD Unadkat",
         "text": [
          "JD Unadkat"
         ],
         "textfont": {
          "color": "#4D5663"
         },
         "type": "scatter",
         "uid": "e1362013-08c3-4b47-93d6-9e02e9c83034",
         "x": [
          8.499675535366645
         ],
         "y": [
          18.79268292682927
         ]
        },
        {
         "marker": {
          "color": "rgba(255, 255, 51, 0.8999999999999999)",
          "line": {
           "width": 1.3
          },
          "opacity": 0.8,
          "size": [
           77
          ],
          "symbol": "circle"
         },
         "mode": "markers",
         "name": "SP Narine",
         "text": [
          "SP Narine"
         ],
         "textfont": {
          "color": "#4D5663"
         },
         "type": "scatter",
         "uid": "453c212a-96ed-45db-a243-a17b35ab4128",
         "x": [
          6.519230769230769
         ],
         "y": [
          18.978102189781023
         ]
        },
        {
         "marker": {
          "color": "rgba(128, 128, 0, 0.8999999999999999)",
          "line": {
           "width": 1.3
          },
          "opacity": 0.8,
          "size": [
           21
          ],
          "symbol": "circle"
         },
         "mode": "markers",
         "name": "S Kaul",
         "text": [
          "S Kaul"
         ],
         "textfont": {
          "color": "#4D5663"
         },
         "type": "scatter",
         "uid": "cc004158-8809-4e18-baf3-a70bd31a8028",
         "x": [
          8.222442899702084
         ],
         "y": [
          19
         ]
        },
        {
         "marker": {
          "color": "rgba(251, 128, 114, 0.8999999999999999)",
          "line": {
           "width": 1.3
          },
          "opacity": 0.8,
          "size": [
           49
          ],
          "symbol": "circle"
         },
         "mode": "markers",
         "name": "JA Morkel",
         "text": [
          "JA Morkel"
         ],
         "textfont": {
          "color": "#4D5663"
         },
         "type": "scatter",
         "uid": "88d0fe61-b1a1-4138-8ca9-e13f22d66ce7",
         "x": [
          7.490868843386829
         ],
         "y": [
          19.021052631578947
         ]
        },
        {
         "marker": {
          "color": "rgba(251, 128, 114, 0.7999999999999998)",
          "line": {
           "width": 1.3
          },
          "opacity": 0.8,
          "size": [
           30
          ],
          "symbol": "circle"
         },
         "mode": "markers",
         "name": "KA Pollard",
         "text": [
          "KA Pollard"
         ],
         "textfont": {
          "color": "#4D5663"
         },
         "type": "scatter",
         "uid": "24bd207e-d38f-4b42-a90b-9fa2c8ad8c98",
         "x": [
          7.93730407523511
         ],
         "y": [
          19.044776119402986
         ]
        },
        {
         "marker": {
          "color": "rgba(128, 177, 211, 0.7999999999999998)",
          "line": {
           "width": 1.3
          },
          "opacity": 0.8,
          "size": [
           77
          ],
          "symbol": "circle"
         },
         "mode": "markers",
         "name": "UT Yadav",
         "text": [
          "UT Yadav"
         ],
         "textfont": {
          "color": "#4D5663"
         },
         "type": "scatter",
         "uid": "c9c1acf2-4940-4e4f-944f-2aef1df5a4b9",
         "x": [
          7.879462571976967
         ],
         "y": [
          19.154411764705884
         ]
        },
        {
         "marker": {
          "color": "rgba(255, 153, 51, 0.7999999999999998)",
          "line": {
           "width": 1.3
          },
          "opacity": 0.8,
          "size": [
           80
          ],
          "symbol": "circle"
         },
         "mode": "markers",
         "name": "B Kumar",
         "text": [
          "B Kumar"
         ],
         "textfont": {
          "color": "#4D5663"
         },
         "type": "scatter",
         "uid": "09b84d28-464e-4ae6-973f-e295a040f703",
         "x": [
          6.7979312892500925
         ],
         "y": [
          19.19858156028369
         ]
        },
        {
         "marker": {
          "color": "rgba(55, 128, 191, 0.7999999999999998)",
          "line": {
           "width": 1.3
          },
          "opacity": 0.8,
          "size": [
           96
          ],
          "symbol": "circle"
         },
         "mode": "markers",
         "name": "A Mishra",
         "text": [
          "A Mishra"
         ],
         "textfont": {
          "color": "#4D5663"
         },
         "type": "scatter",
         "uid": "5f2866a4-2fb1-4df0-8700-ac60a1a8761b",
         "x": [
          7.0498108448928125
         ],
         "y": [
          19.224242424242423
         ]
        },
        {
         "marker": {
          "color": "rgba(50, 171, 96, 0.7999999999999998)",
          "line": {
           "width": 1.3
          },
          "opacity": 0.8,
          "size": [
           65
          ],
          "symbol": "circle"
         },
         "mode": "markers",
         "name": "Z Khan",
         "text": [
          "Z Khan"
         ],
         "textfont": {
          "color": "#4D5663"
         },
         "type": "scatter",
         "uid": "1de4059b-4c53-4250-8f7e-982432b4d15e",
         "x": [
          7.09402460456942
         ],
         "y": [
          19.28813559322034
         ]
        },
        {
         "marker": {
          "color": "rgba(128, 0, 128, 0.7999999999999998)",
          "line": {
           "width": 1.3
          },
          "opacity": 0.8,
          "size": [
           44
          ],
          "symbol": "circle"
         },
         "mode": "markers",
         "name": "M Morkel",
         "text": [
          "M Morkel"
         ],
         "textfont": {
          "color": "#4D5663"
         },
         "type": "scatter",
         "uid": "0ecbf972-d401-40ba-b3ab-2c335ab099f7",
         "x": [
          7.080635668040023
         ],
         "y": [
          19.306818181818183
         ]
        },
        {
         "marker": {
          "color": "rgba(219, 64, 82, 0.7999999999999998)",
          "line": {
           "width": 1.3
          },
          "opacity": 0.8,
          "size": [
           24
          ],
          "symbol": "circle"
         },
         "mode": "markers",
         "name": "KV Sharma",
         "text": [
          "KV Sharma"
         ],
         "textfont": {
          "color": "#4D5663"
         },
         "type": "scatter",
         "uid": "d4389013-1221-4871-b59b-dbd91e5b9f71",
         "x": [
          7.67528991971454
         ],
         "y": [
          19.32758620689655
         ]
        },
        {
         "marker": {
          "color": "rgba(0, 128, 128, 0.7999999999999998)",
          "line": {
           "width": 1.3
          },
          "opacity": 0.8,
          "size": [
           40
          ],
          "symbol": "circle"
         },
         "mode": "markers",
         "name": "AB Dinda",
         "text": [
          "AB Dinda"
         ],
         "textfont": {
          "color": "#4D5663"
         },
         "type": "scatter",
         "uid": "4980c9f3-3cda-4911-b450-2d5a3d8a1ce9",
         "x": [
          7.5028319697923225
         ],
         "y": [
          19.378048780487806
         ]
        },
        {
         "marker": {
          "color": "rgba(255, 255, 51, 0.7999999999999998)",
          "line": {
           "width": 1.3
          },
          "opacity": 0.8,
          "size": [
           52
          ],
          "symbol": "circle"
         },
         "mode": "markers",
         "name": "PP Ojha",
         "text": [
          "PP Ojha"
         ],
         "textfont": {
          "color": "#4D5663"
         },
         "type": "scatter",
         "uid": "39c2be02-84d8-41b6-ae9a-2598be7dfa6b",
         "x": [
          6.974807197943444
         ],
         "y": [
          19.646464646464647
         ]
        },
        {
         "marker": {
          "color": "rgba(128, 128, 0, 0.7999999999999998)",
          "line": {
           "width": 1.3
          },
          "opacity": 0.8,
          "size": [
           30
          ],
          "symbol": "circle"
         },
         "mode": "markers",
         "name": "MG Johnson",
         "text": [
          "MG Johnson"
         ],
         "textfont": {
          "color": "#4D5663"
         },
         "type": "scatter",
         "uid": "3be14b4f-2313-49c1-a8df-38b90667f5c7",
         "x": [
          7.572636433512682
         ],
         "y": [
          19.71212121212121
         ]
        },
        {
         "marker": {
          "color": "rgba(128, 128, 0, 0.7)",
          "line": {
           "width": 1.3
          },
          "opacity": 0.8,
          "size": [
           46
          ],
          "symbol": "circle"
         },
         "mode": "markers",
         "name": "JJ Bumrah",
         "text": [
          "JJ Bumrah"
         ],
         "textfont": {
          "color": "#4D5663"
         },
         "type": "scatter",
         "uid": "ae837049-7c91-4aa0-a49f-bd5cf3c49090",
         "x": [
          7.274749721913237
         ],
         "y": [
          19.75824175824176
         ]
        },
        {
         "marker": {
          "color": "rgba(251, 128, 114, 0.7)",
          "line": {
           "width": 1.3
          },
          "opacity": 0.8,
          "size": [
           57
          ],
          "symbol": "circle"
         },
         "mode": "markers",
         "name": "SR Watson",
         "text": [
          "SR Watson"
         ],
         "textfont": {
          "color": "#4D5663"
         },
         "type": "scatter",
         "uid": "d140a3df-01d1-442d-a974-aafe7e3bac46",
         "x": [
          7.243799719232569
         ],
         "y": [
          19.97196261682243
         ]
        },
        {
         "marker": {
          "color": "rgba(128, 177, 211, 0.7)",
          "line": {
           "width": 1.3
          },
          "opacity": 0.8,
          "size": [
           46
          ],
          "symbol": "circle"
         },
         "mode": "markers",
         "name": "DS Kulkarni",
         "text": [
          "DS Kulkarni"
         ],
         "textfont": {
          "color": "#4D5663"
         },
         "type": "scatter",
         "uid": "e9ac7327-be7c-4202-a469-e510e0f7f8f1",
         "x": [
          7.593442622950819
         ],
         "y": [
          20.10989010989011
         ]
        },
        {
         "marker": {
          "color": "rgba(255, 153, 51, 0.7)",
          "line": {
           "width": 1.3
          },
          "opacity": 0.8,
          "size": [
           90
          ],
          "symbol": "circle"
         },
         "mode": "markers",
         "name": "PP Chawla",
         "text": [
          "PP Chawla"
         ],
         "textfont": {
          "color": "#4D5663"
         },
         "type": "scatter",
         "uid": "d411860d-d040-4233-aa6c-284a9d7e27e3",
         "x": [
          7.643965790307254
         ],
         "y": [
          20.237179487179485
         ]
        },
        {
         "marker": {
          "color": "rgba(55, 128, 191, 0.7)",
          "line": {
           "width": 1.3
          },
          "opacity": 0.8,
          "size": [
           40
          ],
          "symbol": "circle"
         },
         "mode": "markers",
         "name": "R Bhatia",
         "text": [
          "R Bhatia"
         ],
         "textfont": {
          "color": "#4D5663"
         },
         "type": "scatter",
         "uid": "3468244c-af9b-4ab1-937f-bd0ba2ae1208",
         "x": [
          7.173991571342565
         ],
         "y": [
          20.25609756097561
         ]
        },
        {
         "marker": {
          "color": "rgba(50, 171, 96, 0.7)",
          "line": {
           "width": 1.3
          },
          "opacity": 0.8,
          "size": [
           26
          ],
          "symbol": "circle"
         },
         "mode": "markers",
         "name": "SK Warne",
         "text": [
          "SK Warne"
         ],
         "textfont": {
          "color": "#4D5663"
         },
         "type": "scatter",
         "uid": "67487920-47eb-491d-82f9-7eaecbfbf860",
         "x": [
          6.907604251839738
         ],
         "y": [
          20.383333333333333
         ]
        },
        {
         "marker": {
          "color": "rgba(128, 0, 128, 0.7)",
          "line": {
           "width": 1.3
          },
          "opacity": 0.8,
          "size": [
           30
          ],
          "symbol": "circle"
         },
         "mode": "markers",
         "name": "Shakib Al Hasan",
         "text": [
          "Shakib Al Hasan"
         ],
         "textfont": {
          "color": "#4D5663"
         },
         "type": "scatter",
         "uid": "ce8d39da-5301-41b8-aa5c-6d3693c2476d",
         "x": [
          7.178807947019868
         ],
         "y": [
          20.59090909090909
         ]
        },
        {
         "marker": {
          "color": "rgba(219, 64, 82, 0.7)",
          "line": {
           "width": 1.3
          },
          "opacity": 0.8,
          "size": [
           20
          ],
          "symbol": "circle"
         },
         "mode": "markers",
         "name": "Mohammed Shami",
         "text": [
          "Mohammed Shami"
         ],
         "textfont": {
          "color": "#4D5663"
         },
         "type": "scatter",
         "uid": "ab01fd50-93d5-421a-870b-6a5559dc1cca",
         "x": [
          8.4
         ],
         "y": [
          20.673076923076923
         ]
        },
        {
         "marker": {
          "color": "rgba(0, 128, 128, 0.7)",
          "line": {
           "width": 1.3
          },
          "opacity": 0.8,
          "size": [
           34
          ],
          "symbol": "circle"
         },
         "mode": "markers",
         "name": "SK Trivedi",
         "text": [
          "SK Trivedi"
         ],
         "textfont": {
          "color": "#4D5663"
         },
         "type": "scatter",
         "uid": "f9e573d4-15d0-45b8-a9ec-995af6ba87b7",
         "x": [
          7.090558766859345
         ],
         "y": [
          21.328767123287673
         ]
        },
        {
         "marker": {
          "color": "rgba(255, 255, 51, 0.7)",
          "line": {
           "width": 1.3
          },
          "opacity": 0.8,
          "size": [
           52
          ],
          "symbol": "circle"
         },
         "mode": "markers",
         "name": "IK Pathan",
         "text": [
          "IK Pathan"
         ],
         "textfont": {
          "color": "#4D5663"
         },
         "type": "scatter",
         "uid": "204ae8bf-376c-4929-83c2-5814571ebfc2",
         "x": [
          7.294841457643161
         ],
         "y": [
          21.343434343434343
         ]
        },
        {
         "marker": {
          "color": "rgba(255, 255, 51, 0.5999999999999999)",
          "line": {
           "width": 1.3
          },
          "opacity": 0.8,
          "size": [
           54
          ],
          "symbol": "circle"
         },
         "mode": "markers",
         "name": "DW Steyn",
         "text": [
          "DW Steyn"
         ],
         "textfont": {
          "color": "#4D5663"
         },
         "type": "scatter",
         "uid": "b4cd6857-063f-4144-a2af-537f4fcfae1b",
         "x": [
          6.206615314907114
         ],
         "y": [
          21.42718446601942
         ]
        },
        {
         "marker": {
          "color": "rgba(128, 128, 0, 0.5999999999999999)",
          "line": {
           "width": 1.3
          },
          "opacity": 0.8,
          "size": [
           93
          ],
          "symbol": "circle"
         },
         "mode": "markers",
         "name": "Harbhajan Singh",
         "text": [
          "Harbhajan Singh"
         ],
         "textfont": {
          "color": "#4D5663"
         },
         "type": "scatter",
         "uid": "5bd79a04-51d2-4ddb-8178-1fa7131c52e5",
         "x": [
          6.745870762097943
         ],
         "y": [
          21.56875
         ]
        },
        {
         "marker": {
          "color": "rgba(251, 128, 114, 0.5999999999999999)",
          "line": {
           "width": 1.3
          },
          "opacity": 0.8,
          "size": [
           78
          ],
          "symbol": "circle"
         },
         "mode": "markers",
         "name": "R Ashwin",
         "text": [
          "R Ashwin"
         ],
         "textfont": {
          "color": "#4D5663"
         },
         "type": "scatter",
         "uid": "97bba7bb-5844-4468-96c4-db67140c6b7e",
         "x": [
          6.413793103448276
         ],
         "y": [
          21.855072463768117
         ]
        },
        {
         "marker": {
          "color": "rgba(128, 177, 211, 0.5999999999999999)",
          "line": {
           "width": 1.3
          },
          "opacity": 0.8,
          "size": [
           63
          ],
          "symbol": "circle"
         },
         "mode": "markers",
         "name": "RA Jadeja",
         "text": [
          "RA Jadeja"
         ],
         "textfont": {
          "color": "#4D5663"
         },
         "type": "scatter",
         "uid": "5d2ae36b-9fdb-47c0-93a4-08481d8f0928",
         "x": [
          7.360094451003542
         ],
         "y": [
          21.905172413793103
         ]
        },
        {
         "marker": {
          "color": "rgba(255, 153, 51, 0.5999999999999999)",
          "line": {
           "width": 1.3
          },
          "opacity": 0.8,
          "size": [
           19
          ],
          "symbol": "circle"
         },
         "mode": "markers",
         "name": "SB Jakati",
         "text": [
          "SB Jakati"
         ],
         "textfont": {
          "color": "#4D5663"
         },
         "type": "scatter",
         "uid": "d709c5b6-a4fe-4918-8f34-c72833a72973",
         "x": [
          7.7493188010899186
         ],
         "y": [
          22.02
         ]
        },
        {
         "marker": {
          "color": "rgba(55, 128, 191, 0.5999999999999999)",
          "line": {
           "width": 1.3
          },
          "opacity": 0.8,
          "size": [
           36
          ],
          "symbol": "circle"
         },
         "mode": "markers",
         "name": "AR Patel",
         "text": [
          "AR Patel"
         ],
         "textfont": {
          "color": "#4D5663"
         },
         "type": "scatter",
         "uid": "c0061c49-7a60-481b-b792-a229337984dd",
         "x": [
          7.227507163323783
         ],
         "y": [
          23.266666666666666
         ]
        },
        {
         "marker": {
          "color": "rgba(50, 171, 96, 0.5999999999999999)",
          "line": {
           "width": 1.3
          },
          "opacity": 0.8,
          "size": [
           30
          ],
          "symbol": "circle"
         },
         "mode": "markers",
         "name": "M Muralitharan",
         "text": [
          "M Muralitharan"
         ],
         "textfont": {
          "color": "#4D5663"
         },
         "type": "scatter",
         "uid": "f9600ede-8e37-43ae-883d-7b9037a096d9",
         "x": [
          6.2314990512333965
         ],
         "y": [
          23.597014925373134
         ]
        },
        {
         "marker": {
          "color": "rgba(128, 0, 128, 0.5999999999999999)",
          "line": {
           "width": 1.3
          },
          "opacity": 0.8,
          "size": [
           35
          ],
          "symbol": "circle"
         },
         "mode": "markers",
         "name": "JH Kallis",
         "text": [
          "JH Kallis"
         ],
         "textfont": {
          "color": "#4D5663"
         },
         "type": "scatter",
         "uid": "f8a5be11-423b-45a3-8b44-264139ad8fd3",
         "x": [
          7.410783768760423
         ],
         "y": [
          24.31081081081081
         ]
        },
        {
         "marker": {
          "color": "rgba(219, 64, 82, 0.5999999999999999)",
          "line": {
           "width": 1.3
          },
          "opacity": 0.8,
          "size": [
           16
          ],
          "symbol": "circle"
         },
         "mode": "markers",
         "name": "YK Pathan",
         "text": [
          "YK Pathan"
         ],
         "textfont": {
          "color": "#4D5663"
         },
         "type": "scatter",
         "uid": "c35ad93e-4fff-4129-9b3e-d36aae128e51",
         "x": [
          6.952702702702703
         ],
         "y": [
          25.73913043478261
         ]
        },
        {
         "marker": {
          "color": "rgba(0, 128, 128, 0.5999999999999999)",
          "line": {
           "width": 1.3
          },
          "opacity": 0.8,
          "size": [
           54
          ],
          "symbol": "circle"
         },
         "mode": "markers",
         "name": "P Kumar",
         "text": [
          "P Kumar"
         ],
         "textfont": {
          "color": "#4D5663"
         },
         "type": "scatter",
         "uid": "1197dadf-ae6c-4af0-a4f2-494e709f73d0",
         "x": [
          7.06712172923777
         ],
         "y": [
          25.852941176470587
         ]
        },
        {
         "marker": {
          "color": "rgba(0, 128, 128, 0.49999999999999983)",
          "line": {
           "width": 1.3
          },
          "opacity": 0.8,
          "size": [
           17
          ],
          "symbol": "circle"
         },
         "mode": "markers",
         "name": "S Nadeem",
         "text": [
          "S Nadeem"
         ],
         "textfont": {
          "color": "#4D5663"
         },
         "type": "scatter",
         "uid": "3007a27d-d732-4c69-bb88-29d19464a234",
         "x": [
          7.239282930631332
         ],
         "y": [
          27.29787234042553
         ]
        },
        {
         "marker": {
          "color": "rgba(255, 255, 51, 0.49999999999999983)",
          "line": {
           "width": 1.3
          },
          "opacity": 0.8,
          "size": [
           34
          ],
          "symbol": "circle"
         },
         "mode": "markers",
         "name": "I Sharma",
         "text": [
          "I Sharma"
         ],
         "textfont": {
          "color": "#4D5663"
         },
         "type": "scatter",
         "uid": "98cd351b-8585-484a-bf29-73e8bd88b360",
         "x": [
          7.467733866933466
         ],
         "y": [
          27.383561643835616
         ]
        },
        {
         "marker": {
          "color": "rgba(128, 128, 0, 0.49999999999999983)",
          "line": {
           "width": 1.3
          },
          "opacity": 0.8,
          "size": [
           12
          ],
          "symbol": "circle"
         },
         "mode": "markers",
         "name": "M Kartik",
         "text": [
          "M Kartik"
         ],
         "textfont": {
          "color": "#4D5663"
         },
         "type": "scatter",
         "uid": "b0ee6095-8adb-4f97-a258-7d31b043b3c6",
         "x": [
          6.807106598984771
         ],
         "y": [
          30.307692307692307
         ]
        }
       ],
       "layout": {
        "legend": {
         "bgcolor": "#F5F6F9",
         "font": {
          "color": "#4D5663"
         }
        },
        "paper_bgcolor": "#F5F6F9",
        "plot_bgcolor": "#F5F6F9",
        "title": {
         "font": {
          "color": "#4D5663"
         }
        },
        "xaxis": {
         "gridcolor": "#E1E5ED",
         "showgrid": true,
         "tickfont": {
          "color": "#4D5663"
         },
         "title": {
          "font": {
           "color": "#4D5663"
          },
          "text": "Bowler Economy"
         },
         "zerolinecolor": "#E1E5ED"
        },
        "yaxis": {
         "gridcolor": "#E1E5ED",
         "showgrid": true,
         "tickfont": {
          "color": "#4D5663"
         },
         "title": {
          "font": {
           "color": "#4D5663"
          },
          "text": "Bowler Wicket Taking Ability"
         },
         "zerolinecolor": "#E1E5ED"
        }
       }
      },
      "text/html": [
       "<div>\n",
       "        \n",
       "        \n",
       "            <div id=\"3374f13c-0a1f-4e32-b251-dacc56fbc949\" class=\"plotly-graph-div\" style=\"height:525px; width:100%;\"></div>\n",
       "            <script type=\"text/javascript\">\n",
       "                require([\"plotly\"], function(Plotly) {\n",
       "                    window.PLOTLYENV=window.PLOTLYENV || {};\n",
       "                    window.PLOTLYENV.BASE_URL='https://plot.ly';\n",
       "                    \n",
       "                if (document.getElementById(\"3374f13c-0a1f-4e32-b251-dacc56fbc949\")) {\n",
       "                    Plotly.newPlot(\n",
       "                        '3374f13c-0a1f-4e32-b251-dacc56fbc949',\n",
       "                        [{\"marker\": {\"color\": \"rgba(255, 153, 51, 1.0)\", \"line\": {\"width\": 1.3}, \"opacity\": 0.8, \"size\": [40], \"symbol\": \"circle\"}, \"mode\": \"markers\", \"name\": \"Imran Tahir\", \"text\": [\"Imran Tahir\"], \"textfont\": {\"color\": \"#4D5663\"}, \"type\": \"scatter\", \"uid\": \"c2a6d851-2646-460c-aa28-71f62ebd7c17\", \"x\": [7.662129703763011], \"y\": [15.231707317073171]}, {\"marker\": {\"color\": \"rgba(55, 128, 191, 1.0)\", \"line\": {\"width\": 1.3}, \"opacity\": 0.8, \"size\": [112], \"symbol\": \"circle\"}, \"mode\": \"markers\", \"name\": \"SL Malinga\", \"text\": [\"SL Malinga\"], \"textfont\": {\"color\": \"#4D5663\"}, \"type\": \"scatter\", \"uid\": \"33d6f4b5-fd77-4a34-b9bf-27d8bf371380\", \"x\": [6.49226630800269], \"y\": [15.819148936170214]}, {\"marker\": {\"color\": \"rgba(50, 171, 96, 1.0)\", \"line\": {\"width\": 1.3}, \"opacity\": 0.8, \"size\": [98], \"symbol\": \"circle\"}, \"mode\": \"markers\", \"name\": \"DJ Bravo\", \"text\": [\"DJ Bravo\"], \"textfont\": {\"color\": \"#4D5663\"}, \"type\": \"scatter\", \"uid\": \"1872e90d-91d8-40e1-b267-1b04f2694aa1\", \"x\": [7.817041682036149], \"y\": [16.136904761904763]}, {\"marker\": {\"color\": \"rgba(128, 0, 128, 1.0)\", \"line\": {\"width\": 1.3}, \"opacity\": 0.8, \"size\": [67], \"symbol\": \"circle\"}, \"mode\": \"markers\", \"name\": \"A Nehra\", \"text\": [\"A Nehra\"], \"textfont\": {\"color\": \"#4D5663\"}, \"type\": \"scatter\", \"uid\": \"3ad20e40-a714-4142-8537-fc2fc35c7e73\", \"x\": [7.361702127659575], \"y\": [16.31404958677686]}, {\"marker\": {\"color\": \"rgba(219, 64, 82, 1.0)\", \"line\": {\"width\": 1.3}, \"opacity\": 0.8, \"size\": [40], \"symbol\": \"circle\"}, \"mode\": \"markers\", \"name\": \"MM Patel\", \"text\": [\"MM Patel\"], \"textfont\": {\"color\": \"#4D5663\"}, \"type\": \"scatter\", \"uid\": \"5ec082b0-1a64-4b17-95b4-49cfbfc0e44e\", \"x\": [7.250361794500724], \"y\": [16.853658536585368]}, {\"marker\": {\"color\": \"rgba(0, 128, 128, 1.0)\", \"line\": {\"width\": 1.3}, \"opacity\": 0.8, \"size\": [36], \"symbol\": \"circle\"}, \"mode\": \"markers\", \"name\": \"JP Faulkner\", \"text\": [\"JP Faulkner\"], \"textfont\": {\"color\": \"#4D5663\"}, \"type\": \"scatter\", \"uid\": \"e6f913aa-9190-474c-a18a-8b76358c7041\", \"x\": [8.13053613053613], \"y\": [16.93421052631579]}, {\"marker\": {\"color\": \"rgba(255, 255, 51, 1.0)\", \"line\": {\"width\": 1.3}, \"opacity\": 0.8, \"size\": [38], \"symbol\": \"circle\"}, \"mode\": \"markers\", \"name\": \"CH Morris\", \"text\": [\"CH Morris\"], \"textfont\": {\"color\": \"#4D5663\"}, \"type\": \"scatter\", \"uid\": \"9e27f5e6-60af-4d23-bb3c-b8ac6011ea53\", \"x\": [7.604494382022472], \"y\": [17.115384615384617]}, {\"marker\": {\"color\": \"rgba(128, 128, 0, 1.0)\", \"line\": {\"width\": 1.3}, \"opacity\": 0.8, \"size\": [46], \"symbol\": \"circle\"}, \"mode\": \"markers\", \"name\": \"Sandeep Sharma\", \"text\": [\"Sandeep Sharma\"], \"textfont\": {\"color\": \"#4D5663\"}, \"type\": \"scatter\", \"uid\": \"66058888-6f6f-43b4-85fd-df386acd042f\", \"x\": [7.26908150064683], \"y\": [17.177777777777777]}, {\"marker\": {\"color\": \"rgba(251, 128, 114, 1.0)\", \"line\": {\"width\": 1.3}, \"opacity\": 0.8, \"size\": [71], \"symbol\": \"circle\"}, \"mode\": \"markers\", \"name\": \"R Vinay Kumar\", \"text\": [\"R Vinay Kumar\"], \"textfont\": {\"color\": \"#4D5663\"}, \"type\": \"scatter\", \"uid\": \"d9d41a21-04d8-487f-86d0-54f39282767d\", \"x\": [8.033851784080513], \"y\": [17.212598425196852]}, {\"marker\": {\"color\": \"rgba(128, 177, 211, 1.0)\", \"line\": {\"width\": 1.3}, \"opacity\": 0.8, \"size\": [52], \"symbol\": \"circle\"}, \"mode\": \"markers\", \"name\": \"MM Sharma\", \"text\": [\"MM Sharma\"], \"textfont\": {\"color\": \"#4D5663\"}, \"type\": \"scatter\", \"uid\": \"52a3570e-d599-4550-8659-7617ee5bac83\", \"x\": [8.128813559322033], \"y\": [17.87878787878788]}, {\"marker\": {\"color\": \"rgba(128, 177, 211, 0.8999999999999999)\", \"line\": {\"width\": 1.3}, \"opacity\": 0.8, \"size\": [54], \"symbol\": \"circle\"}, \"mode\": \"markers\", \"name\": \"YS Chahal\", \"text\": [\"YS Chahal\"], \"textfont\": {\"color\": \"#4D5663\"}, \"type\": \"scatter\", \"uid\": \"cfa0319b-a5af-4fda-b8ab-2b18539cbb5e\", \"x\": [7.495926127104835], \"y\": [18.04901960784314]}, {\"marker\": {\"color\": \"rgba(255, 153, 51, 0.8999999999999999)\", \"line\": {\"width\": 1.3}, \"opacity\": 0.8, \"size\": [25], \"symbol\": \"circle\"}, \"mode\": \"markers\", \"name\": \"AD Russell\", \"text\": [\"AD Russell\"], \"textfont\": {\"color\": \"#4D5663\"}, \"type\": \"scatter\", \"uid\": \"98999b8a-a10d-416e-940c-f4c2afc27ae9\", \"x\": [8.496268656716419], \"y\": [18.16949152542373]}, {\"marker\": {\"color\": \"rgba(55, 128, 191, 0.8999999999999999)\", \"line\": {\"width\": 1.3}, \"opacity\": 0.8, \"size\": [35], \"symbol\": \"circle\"}, \"mode\": \"markers\", \"name\": \"MJ McClenaghan\", \"text\": [\"MJ McClenaghan\"], \"textfont\": {\"color\": \"#4D5663\"}, \"type\": \"scatter\", \"uid\": \"da5ed0c5-2707-4b8c-93b0-7f07b269a9f1\", \"x\": [7.827637444279346], \"y\": [18.18918918918919]}, {\"marker\": {\"color\": \"rgba(50, 171, 96, 0.8999999999999999)\", \"line\": {\"width\": 1.3}, \"opacity\": 0.8, \"size\": [26], \"symbol\": \"circle\"}, \"mode\": \"markers\", \"name\": \"Rashid Khan\", \"text\": [\"Rashid Khan\"], \"textfont\": {\"color\": \"#4D5663\"}, \"type\": \"scatter\", \"uid\": \"63494977-5470-43b2-93f4-40aa4be4c796\", \"x\": [6.585895117540687], \"y\": [18.433333333333334]}, {\"marker\": {\"color\": \"rgba(128, 0, 128, 0.8999999999999999)\", \"line\": {\"width\": 1.3}, \"opacity\": 0.8, \"size\": [42], \"symbol\": \"circle\"}, \"mode\": \"markers\", \"name\": \"L Balaji\", \"text\": [\"L Balaji\"], \"textfont\": {\"color\": \"#4D5663\"}, \"type\": \"scatter\", \"uid\": \"5f3ac26e-e252-47a7-81d3-28f4c21924f6\", \"x\": [7.4409148665819576], \"y\": [18.51764705882353]}, {\"marker\": {\"color\": \"rgba(219, 64, 82, 0.8999999999999999)\", \"line\": {\"width\": 1.3}, \"opacity\": 0.8, \"size\": [52], \"symbol\": \"circle\"}, \"mode\": \"markers\", \"name\": \"RP Singh\", \"text\": [\"RP Singh\"], \"textfont\": {\"color\": \"#4D5663\"}, \"type\": \"scatter\", \"uid\": \"2d55870a-5fd5-4f73-be8d-50e6154cc0b3\", \"x\": [7.159018143009606], \"y\": [18.74]}, {\"marker\": {\"color\": \"rgba(0, 128, 128, 0.8999999999999999)\", \"line\": {\"width\": 1.3}, \"opacity\": 0.8, \"size\": [40], \"symbol\": \"circle\"}, \"mode\": \"markers\", \"name\": \"JD Unadkat\", \"text\": [\"JD Unadkat\"], \"textfont\": {\"color\": \"#4D5663\"}, \"type\": \"scatter\", \"uid\": \"7fa0e9a5-4790-45af-9242-ab085480b612\", \"x\": [8.499675535366645], \"y\": [18.79268292682927]}, {\"marker\": {\"color\": \"rgba(255, 255, 51, 0.8999999999999999)\", \"line\": {\"width\": 1.3}, \"opacity\": 0.8, \"size\": [77], \"symbol\": \"circle\"}, \"mode\": \"markers\", \"name\": \"SP Narine\", \"text\": [\"SP Narine\"], \"textfont\": {\"color\": \"#4D5663\"}, \"type\": \"scatter\", \"uid\": \"e8dec462-2948-4cf4-ac18-5750a602a605\", \"x\": [6.519230769230769], \"y\": [18.978102189781023]}, {\"marker\": {\"color\": \"rgba(128, 128, 0, 0.8999999999999999)\", \"line\": {\"width\": 1.3}, \"opacity\": 0.8, \"size\": [21], \"symbol\": \"circle\"}, \"mode\": \"markers\", \"name\": \"S Kaul\", \"text\": [\"S Kaul\"], \"textfont\": {\"color\": \"#4D5663\"}, \"type\": \"scatter\", \"uid\": \"5546b6a1-9695-4537-bd16-4693015f722b\", \"x\": [8.222442899702084], \"y\": [19.0]}, {\"marker\": {\"color\": \"rgba(251, 128, 114, 0.8999999999999999)\", \"line\": {\"width\": 1.3}, \"opacity\": 0.8, \"size\": [49], \"symbol\": \"circle\"}, \"mode\": \"markers\", \"name\": \"JA Morkel\", \"text\": [\"JA Morkel\"], \"textfont\": {\"color\": \"#4D5663\"}, \"type\": \"scatter\", \"uid\": \"b11c4ee3-1697-4778-aed8-1879f679d5a5\", \"x\": [7.490868843386829], \"y\": [19.021052631578947]}, {\"marker\": {\"color\": \"rgba(251, 128, 114, 0.7999999999999998)\", \"line\": {\"width\": 1.3}, \"opacity\": 0.8, \"size\": [30], \"symbol\": \"circle\"}, \"mode\": \"markers\", \"name\": \"KA Pollard\", \"text\": [\"KA Pollard\"], \"textfont\": {\"color\": \"#4D5663\"}, \"type\": \"scatter\", \"uid\": \"c96c42a9-1e52-4dc4-a8c4-feb0dbe756ca\", \"x\": [7.93730407523511], \"y\": [19.044776119402986]}, {\"marker\": {\"color\": \"rgba(128, 177, 211, 0.7999999999999998)\", \"line\": {\"width\": 1.3}, \"opacity\": 0.8, \"size\": [77], \"symbol\": \"circle\"}, \"mode\": \"markers\", \"name\": \"UT Yadav\", \"text\": [\"UT Yadav\"], \"textfont\": {\"color\": \"#4D5663\"}, \"type\": \"scatter\", \"uid\": \"614916c8-f6f7-404d-a947-5581cd586043\", \"x\": [7.879462571976967], \"y\": [19.154411764705884]}, {\"marker\": {\"color\": \"rgba(255, 153, 51, 0.7999999999999998)\", \"line\": {\"width\": 1.3}, \"opacity\": 0.8, \"size\": [80], \"symbol\": \"circle\"}, \"mode\": \"markers\", \"name\": \"B Kumar\", \"text\": [\"B Kumar\"], \"textfont\": {\"color\": \"#4D5663\"}, \"type\": \"scatter\", \"uid\": \"c879c781-3332-4230-b634-047f65ce9c53\", \"x\": [6.7979312892500925], \"y\": [19.19858156028369]}, {\"marker\": {\"color\": \"rgba(55, 128, 191, 0.7999999999999998)\", \"line\": {\"width\": 1.3}, \"opacity\": 0.8, \"size\": [96], \"symbol\": \"circle\"}, \"mode\": \"markers\", \"name\": \"A Mishra\", \"text\": [\"A Mishra\"], \"textfont\": {\"color\": \"#4D5663\"}, \"type\": \"scatter\", \"uid\": \"aa92e3c9-d3be-40d2-a7b7-bb4f4a066f42\", \"x\": [7.0498108448928125], \"y\": [19.224242424242423]}, {\"marker\": {\"color\": \"rgba(50, 171, 96, 0.7999999999999998)\", \"line\": {\"width\": 1.3}, \"opacity\": 0.8, \"size\": [65], \"symbol\": \"circle\"}, \"mode\": \"markers\", \"name\": \"Z Khan\", \"text\": [\"Z Khan\"], \"textfont\": {\"color\": \"#4D5663\"}, \"type\": \"scatter\", \"uid\": \"abfac9dc-ad42-4971-a587-892f91cd1b80\", \"x\": [7.09402460456942], \"y\": [19.28813559322034]}, {\"marker\": {\"color\": \"rgba(128, 0, 128, 0.7999999999999998)\", \"line\": {\"width\": 1.3}, \"opacity\": 0.8, \"size\": [44], \"symbol\": \"circle\"}, \"mode\": \"markers\", \"name\": \"M Morkel\", \"text\": [\"M Morkel\"], \"textfont\": {\"color\": \"#4D5663\"}, \"type\": \"scatter\", \"uid\": \"57e0edf6-a57e-4de0-97c6-1cc2f587e40b\", \"x\": [7.080635668040023], \"y\": [19.306818181818183]}, {\"marker\": {\"color\": \"rgba(219, 64, 82, 0.7999999999999998)\", \"line\": {\"width\": 1.3}, \"opacity\": 0.8, \"size\": [24], \"symbol\": \"circle\"}, \"mode\": \"markers\", \"name\": \"KV Sharma\", \"text\": [\"KV Sharma\"], \"textfont\": {\"color\": \"#4D5663\"}, \"type\": \"scatter\", \"uid\": \"0482b16a-9089-4ba8-9903-66dfc8fbde97\", \"x\": [7.67528991971454], \"y\": [19.32758620689655]}, {\"marker\": {\"color\": \"rgba(0, 128, 128, 0.7999999999999998)\", \"line\": {\"width\": 1.3}, \"opacity\": 0.8, \"size\": [40], \"symbol\": \"circle\"}, \"mode\": \"markers\", \"name\": \"AB Dinda\", \"text\": [\"AB Dinda\"], \"textfont\": {\"color\": \"#4D5663\"}, \"type\": \"scatter\", \"uid\": \"be2f12b0-2c5c-48f9-9bee-7684b67cc6a0\", \"x\": [7.5028319697923225], \"y\": [19.378048780487806]}, {\"marker\": {\"color\": \"rgba(255, 255, 51, 0.7999999999999998)\", \"line\": {\"width\": 1.3}, \"opacity\": 0.8, \"size\": [52], \"symbol\": \"circle\"}, \"mode\": \"markers\", \"name\": \"PP Ojha\", \"text\": [\"PP Ojha\"], \"textfont\": {\"color\": \"#4D5663\"}, \"type\": \"scatter\", \"uid\": \"da267568-6eb3-4ab0-b641-3bfdd63f840c\", \"x\": [6.974807197943444], \"y\": [19.646464646464647]}, {\"marker\": {\"color\": \"rgba(128, 128, 0, 0.7999999999999998)\", \"line\": {\"width\": 1.3}, \"opacity\": 0.8, \"size\": [30], \"symbol\": \"circle\"}, \"mode\": \"markers\", \"name\": \"MG Johnson\", \"text\": [\"MG Johnson\"], \"textfont\": {\"color\": \"#4D5663\"}, \"type\": \"scatter\", \"uid\": \"966d421a-3f45-4c0a-ba8b-94f2947950d1\", \"x\": [7.572636433512682], \"y\": [19.71212121212121]}, {\"marker\": {\"color\": \"rgba(128, 128, 0, 0.7)\", \"line\": {\"width\": 1.3}, \"opacity\": 0.8, \"size\": [46], \"symbol\": \"circle\"}, \"mode\": \"markers\", \"name\": \"JJ Bumrah\", \"text\": [\"JJ Bumrah\"], \"textfont\": {\"color\": \"#4D5663\"}, \"type\": \"scatter\", \"uid\": \"a9b4adf6-ef3c-412e-88f7-c1821f1e1549\", \"x\": [7.274749721913237], \"y\": [19.75824175824176]}, {\"marker\": {\"color\": \"rgba(251, 128, 114, 0.7)\", \"line\": {\"width\": 1.3}, \"opacity\": 0.8, \"size\": [57], \"symbol\": \"circle\"}, \"mode\": \"markers\", \"name\": \"SR Watson\", \"text\": [\"SR Watson\"], \"textfont\": {\"color\": \"#4D5663\"}, \"type\": \"scatter\", \"uid\": \"5d389d65-d497-430d-958e-4092473aab36\", \"x\": [7.243799719232569], \"y\": [19.97196261682243]}, {\"marker\": {\"color\": \"rgba(128, 177, 211, 0.7)\", \"line\": {\"width\": 1.3}, \"opacity\": 0.8, \"size\": [46], \"symbol\": \"circle\"}, \"mode\": \"markers\", \"name\": \"DS Kulkarni\", \"text\": [\"DS Kulkarni\"], \"textfont\": {\"color\": \"#4D5663\"}, \"type\": \"scatter\", \"uid\": \"54b0c3be-bb2e-4395-8128-12600ac1ddd0\", \"x\": [7.593442622950819], \"y\": [20.10989010989011]}, {\"marker\": {\"color\": \"rgba(255, 153, 51, 0.7)\", \"line\": {\"width\": 1.3}, \"opacity\": 0.8, \"size\": [90], \"symbol\": \"circle\"}, \"mode\": \"markers\", \"name\": \"PP Chawla\", \"text\": [\"PP Chawla\"], \"textfont\": {\"color\": \"#4D5663\"}, \"type\": \"scatter\", \"uid\": \"43e9db82-7b7c-4965-8034-feb911fae43a\", \"x\": [7.643965790307254], \"y\": [20.237179487179485]}, {\"marker\": {\"color\": \"rgba(55, 128, 191, 0.7)\", \"line\": {\"width\": 1.3}, \"opacity\": 0.8, \"size\": [40], \"symbol\": \"circle\"}, \"mode\": \"markers\", \"name\": \"R Bhatia\", \"text\": [\"R Bhatia\"], \"textfont\": {\"color\": \"#4D5663\"}, \"type\": \"scatter\", \"uid\": \"ff1bc567-ffe6-4b7c-802f-5df34aea466a\", \"x\": [7.173991571342565], \"y\": [20.25609756097561]}, {\"marker\": {\"color\": \"rgba(50, 171, 96, 0.7)\", \"line\": {\"width\": 1.3}, \"opacity\": 0.8, \"size\": [26], \"symbol\": \"circle\"}, \"mode\": \"markers\", \"name\": \"SK Warne\", \"text\": [\"SK Warne\"], \"textfont\": {\"color\": \"#4D5663\"}, \"type\": \"scatter\", \"uid\": \"b8bb5010-c8c3-4e89-a4f2-aaf9ac76ec5b\", \"x\": [6.907604251839738], \"y\": [20.383333333333333]}, {\"marker\": {\"color\": \"rgba(128, 0, 128, 0.7)\", \"line\": {\"width\": 1.3}, \"opacity\": 0.8, \"size\": [30], \"symbol\": \"circle\"}, \"mode\": \"markers\", \"name\": \"Shakib Al Hasan\", \"text\": [\"Shakib Al Hasan\"], \"textfont\": {\"color\": \"#4D5663\"}, \"type\": \"scatter\", \"uid\": \"1308bec1-96f1-4a89-acb8-fda263e9f6fb\", \"x\": [7.178807947019868], \"y\": [20.59090909090909]}, {\"marker\": {\"color\": \"rgba(219, 64, 82, 0.7)\", \"line\": {\"width\": 1.3}, \"opacity\": 0.8, \"size\": [20], \"symbol\": \"circle\"}, \"mode\": \"markers\", \"name\": \"Mohammed Shami\", \"text\": [\"Mohammed Shami\"], \"textfont\": {\"color\": \"#4D5663\"}, \"type\": \"scatter\", \"uid\": \"4621b50e-2b19-4e9f-9a73-7e64d310528f\", \"x\": [8.4], \"y\": [20.673076923076923]}, {\"marker\": {\"color\": \"rgba(0, 128, 128, 0.7)\", \"line\": {\"width\": 1.3}, \"opacity\": 0.8, \"size\": [34], \"symbol\": \"circle\"}, \"mode\": \"markers\", \"name\": \"SK Trivedi\", \"text\": [\"SK Trivedi\"], \"textfont\": {\"color\": \"#4D5663\"}, \"type\": \"scatter\", \"uid\": \"95528e1e-5614-44a0-bfff-c6902c393fd0\", \"x\": [7.090558766859345], \"y\": [21.328767123287673]}, {\"marker\": {\"color\": \"rgba(255, 255, 51, 0.7)\", \"line\": {\"width\": 1.3}, \"opacity\": 0.8, \"size\": [52], \"symbol\": \"circle\"}, \"mode\": \"markers\", \"name\": \"IK Pathan\", \"text\": [\"IK Pathan\"], \"textfont\": {\"color\": \"#4D5663\"}, \"type\": \"scatter\", \"uid\": \"0f084fe5-ad37-4a9d-bbf1-15534cc48bf7\", \"x\": [7.294841457643161], \"y\": [21.343434343434343]}, {\"marker\": {\"color\": \"rgba(255, 255, 51, 0.5999999999999999)\", \"line\": {\"width\": 1.3}, \"opacity\": 0.8, \"size\": [54], \"symbol\": \"circle\"}, \"mode\": \"markers\", \"name\": \"DW Steyn\", \"text\": [\"DW Steyn\"], \"textfont\": {\"color\": \"#4D5663\"}, \"type\": \"scatter\", \"uid\": \"33eb48c9-45db-44bb-b3c9-79eccde78aa6\", \"x\": [6.206615314907114], \"y\": [21.42718446601942]}, {\"marker\": {\"color\": \"rgba(128, 128, 0, 0.5999999999999999)\", \"line\": {\"width\": 1.3}, \"opacity\": 0.8, \"size\": [93], \"symbol\": \"circle\"}, \"mode\": \"markers\", \"name\": \"Harbhajan Singh\", \"text\": [\"Harbhajan Singh\"], \"textfont\": {\"color\": \"#4D5663\"}, \"type\": \"scatter\", \"uid\": \"fee7578a-a86f-4a4c-ad3f-49746639b0c0\", \"x\": [6.745870762097943], \"y\": [21.56875]}, {\"marker\": {\"color\": \"rgba(251, 128, 114, 0.5999999999999999)\", \"line\": {\"width\": 1.3}, \"opacity\": 0.8, \"size\": [78], \"symbol\": \"circle\"}, \"mode\": \"markers\", \"name\": \"R Ashwin\", \"text\": [\"R Ashwin\"], \"textfont\": {\"color\": \"#4D5663\"}, \"type\": \"scatter\", \"uid\": \"8b36e445-3240-4787-bba5-96387a1ebf21\", \"x\": [6.413793103448276], \"y\": [21.855072463768117]}, {\"marker\": {\"color\": \"rgba(128, 177, 211, 0.5999999999999999)\", \"line\": {\"width\": 1.3}, \"opacity\": 0.8, \"size\": [63], \"symbol\": \"circle\"}, \"mode\": \"markers\", \"name\": \"RA Jadeja\", \"text\": [\"RA Jadeja\"], \"textfont\": {\"color\": \"#4D5663\"}, \"type\": \"scatter\", \"uid\": \"895b38b0-3f50-4187-b52b-e8edea8adc2d\", \"x\": [7.360094451003542], \"y\": [21.905172413793103]}, {\"marker\": {\"color\": \"rgba(255, 153, 51, 0.5999999999999999)\", \"line\": {\"width\": 1.3}, \"opacity\": 0.8, \"size\": [19], \"symbol\": \"circle\"}, \"mode\": \"markers\", \"name\": \"SB Jakati\", \"text\": [\"SB Jakati\"], \"textfont\": {\"color\": \"#4D5663\"}, \"type\": \"scatter\", \"uid\": \"02cd9d49-af5f-45fc-918d-e135cea990a2\", \"x\": [7.7493188010899186], \"y\": [22.02]}, {\"marker\": {\"color\": \"rgba(55, 128, 191, 0.5999999999999999)\", \"line\": {\"width\": 1.3}, \"opacity\": 0.8, \"size\": [36], \"symbol\": \"circle\"}, \"mode\": \"markers\", \"name\": \"AR Patel\", \"text\": [\"AR Patel\"], \"textfont\": {\"color\": \"#4D5663\"}, \"type\": \"scatter\", \"uid\": \"31916588-2ef6-41aa-96fb-afc8ce56dda9\", \"x\": [7.227507163323783], \"y\": [23.266666666666666]}, {\"marker\": {\"color\": \"rgba(50, 171, 96, 0.5999999999999999)\", \"line\": {\"width\": 1.3}, \"opacity\": 0.8, \"size\": [30], \"symbol\": \"circle\"}, \"mode\": \"markers\", \"name\": \"M Muralitharan\", \"text\": [\"M Muralitharan\"], \"textfont\": {\"color\": \"#4D5663\"}, \"type\": \"scatter\", \"uid\": \"254d0510-acb7-4905-a901-52ce8c4a6791\", \"x\": [6.2314990512333965], \"y\": [23.597014925373134]}, {\"marker\": {\"color\": \"rgba(128, 0, 128, 0.5999999999999999)\", \"line\": {\"width\": 1.3}, \"opacity\": 0.8, \"size\": [35], \"symbol\": \"circle\"}, \"mode\": \"markers\", \"name\": \"JH Kallis\", \"text\": [\"JH Kallis\"], \"textfont\": {\"color\": \"#4D5663\"}, \"type\": \"scatter\", \"uid\": \"e9ad525e-f44e-4616-bf9f-fe2ef71beb33\", \"x\": [7.410783768760423], \"y\": [24.31081081081081]}, {\"marker\": {\"color\": \"rgba(219, 64, 82, 0.5999999999999999)\", \"line\": {\"width\": 1.3}, \"opacity\": 0.8, \"size\": [16], \"symbol\": \"circle\"}, \"mode\": \"markers\", \"name\": \"YK Pathan\", \"text\": [\"YK Pathan\"], \"textfont\": {\"color\": \"#4D5663\"}, \"type\": \"scatter\", \"uid\": \"03c22c23-a6a7-4dc2-bef7-a93bb59b19a8\", \"x\": [6.952702702702703], \"y\": [25.73913043478261]}, {\"marker\": {\"color\": \"rgba(0, 128, 128, 0.5999999999999999)\", \"line\": {\"width\": 1.3}, \"opacity\": 0.8, \"size\": [54], \"symbol\": \"circle\"}, \"mode\": \"markers\", \"name\": \"P Kumar\", \"text\": [\"P Kumar\"], \"textfont\": {\"color\": \"#4D5663\"}, \"type\": \"scatter\", \"uid\": \"0cb130af-e3ed-4ee9-8648-1c57d5332390\", \"x\": [7.06712172923777], \"y\": [25.852941176470587]}, {\"marker\": {\"color\": \"rgba(0, 128, 128, 0.49999999999999983)\", \"line\": {\"width\": 1.3}, \"opacity\": 0.8, \"size\": [17], \"symbol\": \"circle\"}, \"mode\": \"markers\", \"name\": \"S Nadeem\", \"text\": [\"S Nadeem\"], \"textfont\": {\"color\": \"#4D5663\"}, \"type\": \"scatter\", \"uid\": \"267d46ab-6396-4e04-8bb2-0121cf4e3d18\", \"x\": [7.239282930631332], \"y\": [27.29787234042553]}, {\"marker\": {\"color\": \"rgba(255, 255, 51, 0.49999999999999983)\", \"line\": {\"width\": 1.3}, \"opacity\": 0.8, \"size\": [34], \"symbol\": \"circle\"}, \"mode\": \"markers\", \"name\": \"I Sharma\", \"text\": [\"I Sharma\"], \"textfont\": {\"color\": \"#4D5663\"}, \"type\": \"scatter\", \"uid\": \"32974930-d988-42b3-adc0-f43f4acf7f4a\", \"x\": [7.467733866933466], \"y\": [27.383561643835616]}, {\"marker\": {\"color\": \"rgba(128, 128, 0, 0.49999999999999983)\", \"line\": {\"width\": 1.3}, \"opacity\": 0.8, \"size\": [12], \"symbol\": \"circle\"}, \"mode\": \"markers\", \"name\": \"M Kartik\", \"text\": [\"M Kartik\"], \"textfont\": {\"color\": \"#4D5663\"}, \"type\": \"scatter\", \"uid\": \"c0a50747-732c-4aa3-a344-1d1c15f742ff\", \"x\": [6.807106598984771], \"y\": [30.307692307692307]}],\n",
       "                        {\"legend\": {\"bgcolor\": \"#F5F6F9\", \"font\": {\"color\": \"#4D5663\"}}, \"paper_bgcolor\": \"#F5F6F9\", \"plot_bgcolor\": \"#F5F6F9\", \"title\": {\"font\": {\"color\": \"#4D5663\"}}, \"xaxis\": {\"gridcolor\": \"#E1E5ED\", \"showgrid\": true, \"tickfont\": {\"color\": \"#4D5663\"}, \"title\": {\"font\": {\"color\": \"#4D5663\"}, \"text\": \"Bowler Economy\"}, \"zerolinecolor\": \"#E1E5ED\"}, \"yaxis\": {\"gridcolor\": \"#E1E5ED\", \"showgrid\": true, \"tickfont\": {\"color\": \"#4D5663\"}, \"title\": {\"font\": {\"color\": \"#4D5663\"}, \"text\": \"Bowler Wicket Taking Ability\"}, \"zerolinecolor\": \"#E1E5ED\"}},\n",
       "                        {\"showLink\": true, \"linkText\": \"Export to plot.ly\", \"plotlyServerURL\": \"https://plot.ly\", \"responsive\": true}\n",
       "                    ).then(function(){\n",
       "                            \n",
       "var gd = document.getElementById('3374f13c-0a1f-4e32-b251-dacc56fbc949');\n",
       "var x = new MutationObserver(function (mutations, observer) {{\n",
       "        var display = window.getComputedStyle(gd).display;\n",
       "        if (!display || display === 'none') {{\n",
       "            console.log([gd, 'removed!']);\n",
       "            Plotly.purge(gd);\n",
       "            observer.disconnect();\n",
       "        }}\n",
       "}});\n",
       "\n",
       "// Listen for the removal of the full notebook cells\n",
       "var notebookContainer = gd.closest('#notebook-container');\n",
       "if (notebookContainer) {{\n",
       "    x.observe(notebookContainer, {childList: true});\n",
       "}}\n",
       "\n",
       "// Listen for the clearing of the current output cell\n",
       "var outputEl = gd.closest('.output');\n",
       "if (outputEl) {{\n",
       "    x.observe(outputEl, {childList: true});\n",
       "}}\n",
       "\n",
       "                        })\n",
       "                };\n",
       "                });\n",
       "            </script>\n",
       "        </div>"
      ]
     },
     "metadata": {},
     "output_type": "display_data"
    }
   ],
   "source": [
    "eco = economy(ball_data.copy())\n",
    "wick = wicket_taking(ball_data.copy())\n",
    "eco_100 = eco[eco['Number of Balls Thrown']>1000]\n",
    "wick_100 = wick[wick['Number of Balls Thrown']>1000]\n",
    "out = pd.merge(wick_100, eco_100, how='inner', on=['bowler','Number of Balls Thrown'])\n",
    "\n",
    "out.iplot(kind='bubble', x='Economy', y='Wicket Taking Ability', categories='bowler', size='Number of Wickets taken', text='bowler',\n",
    "          xTitle='Bowler Economy', yTitle='Bowler Wicket Taking Ability', filename='cufflinks/simple-bubble-chart')"
   ]
  },
  {
   "cell_type": "code",
   "execution_count": 56,
   "metadata": {},
   "outputs": [
    {
     "data": {
      "application/vnd.plotly.v1+json": {
       "config": {
        "linkText": "Export to plot.ly",
        "plotlyServerURL": "https://plot.ly",
        "responsive": true,
        "showLink": true
       },
       "data": [
        {
         "marker": {
          "color": "rgba(255, 153, 51, 1.0)",
          "line": {
           "width": 1.3
          },
          "opacity": 0.8,
          "size": [
           54
          ],
          "symbol": "circle"
         },
         "mode": "markers",
         "name": "DW Steyn",
         "text": [
          "DW Steyn"
         ],
         "textfont": {
          "color": "#4D5663"
         },
         "type": "scatter",
         "uid": "5980aca9-13e2-400b-92cb-2eda0d09c2a6",
         "x": [
          6.206615314907114
         ],
         "y": [
          21.42718446601942
         ]
        },
        {
         "marker": {
          "color": "rgba(55, 128, 191, 1.0)",
          "line": {
           "width": 1.3
          },
          "opacity": 0.8,
          "size": [
           30
          ],
          "symbol": "circle"
         },
         "mode": "markers",
         "name": "M Muralitharan",
         "text": [
          "M Muralitharan"
         ],
         "textfont": {
          "color": "#4D5663"
         },
         "type": "scatter",
         "uid": "daae147f-4b9d-4c25-884e-480fdecdb1b1",
         "x": [
          6.2314990512333965
         ],
         "y": [
          23.597014925373134
         ]
        },
        {
         "marker": {
          "color": "rgba(50, 171, 96, 1.0)",
          "line": {
           "width": 1.3
          },
          "opacity": 0.8,
          "size": [
           78
          ],
          "symbol": "circle"
         },
         "mode": "markers",
         "name": "R Ashwin",
         "text": [
          "R Ashwin"
         ],
         "textfont": {
          "color": "#4D5663"
         },
         "type": "scatter",
         "uid": "0648d675-8f96-4ed3-babc-646ac9c7f5cc",
         "x": [
          6.413793103448276
         ],
         "y": [
          21.855072463768117
         ]
        },
        {
         "marker": {
          "color": "rgba(128, 0, 128, 1.0)",
          "line": {
           "width": 1.3
          },
          "opacity": 0.8,
          "size": [
           112
          ],
          "symbol": "circle"
         },
         "mode": "markers",
         "name": "SL Malinga",
         "text": [
          "SL Malinga"
         ],
         "textfont": {
          "color": "#4D5663"
         },
         "type": "scatter",
         "uid": "e109bc96-bfda-44c8-8f2a-8b2f91dc39e9",
         "x": [
          6.49226630800269
         ],
         "y": [
          15.819148936170214
         ]
        },
        {
         "marker": {
          "color": "rgba(219, 64, 82, 1.0)",
          "line": {
           "width": 1.3
          },
          "opacity": 0.8,
          "size": [
           77
          ],
          "symbol": "circle"
         },
         "mode": "markers",
         "name": "SP Narine",
         "text": [
          "SP Narine"
         ],
         "textfont": {
          "color": "#4D5663"
         },
         "type": "scatter",
         "uid": "48262baa-9329-4253-9cf2-afc5056c3eac",
         "x": [
          6.519230769230769
         ],
         "y": [
          18.978102189781023
         ]
        },
        {
         "marker": {
          "color": "rgba(0, 128, 128, 1.0)",
          "line": {
           "width": 1.3
          },
          "opacity": 0.8,
          "size": [
           26
          ],
          "symbol": "circle"
         },
         "mode": "markers",
         "name": "Rashid Khan",
         "text": [
          "Rashid Khan"
         ],
         "textfont": {
          "color": "#4D5663"
         },
         "type": "scatter",
         "uid": "b81f438d-6fdc-46c5-886d-51f52d374c64",
         "x": [
          6.585895117540687
         ],
         "y": [
          18.433333333333334
         ]
        },
        {
         "marker": {
          "color": "rgba(255, 255, 51, 1.0)",
          "line": {
           "width": 1.3
          },
          "opacity": 0.8,
          "size": [
           93
          ],
          "symbol": "circle"
         },
         "mode": "markers",
         "name": "Harbhajan Singh",
         "text": [
          "Harbhajan Singh"
         ],
         "textfont": {
          "color": "#4D5663"
         },
         "type": "scatter",
         "uid": "3b228b3f-387a-4fa7-864c-b33df804b19f",
         "x": [
          6.745870762097943
         ],
         "y": [
          21.56875
         ]
        },
        {
         "marker": {
          "color": "rgba(128, 128, 0, 1.0)",
          "line": {
           "width": 1.3
          },
          "opacity": 0.8,
          "size": [
           80
          ],
          "symbol": "circle"
         },
         "mode": "markers",
         "name": "B Kumar",
         "text": [
          "B Kumar"
         ],
         "textfont": {
          "color": "#4D5663"
         },
         "type": "scatter",
         "uid": "306a49d9-76ab-4cd1-88d8-13e2ca4e7418",
         "x": [
          6.7979312892500925
         ],
         "y": [
          19.19858156028369
         ]
        },
        {
         "marker": {
          "color": "rgba(251, 128, 114, 1.0)",
          "line": {
           "width": 1.3
          },
          "opacity": 0.8,
          "size": [
           12
          ],
          "symbol": "circle"
         },
         "mode": "markers",
         "name": "M Kartik",
         "text": [
          "M Kartik"
         ],
         "textfont": {
          "color": "#4D5663"
         },
         "type": "scatter",
         "uid": "fd436d97-c31d-4b7b-9b61-3857bde1effc",
         "x": [
          6.807106598984771
         ],
         "y": [
          30.307692307692307
         ]
        },
        {
         "marker": {
          "color": "rgba(128, 177, 211, 1.0)",
          "line": {
           "width": 1.3
          },
          "opacity": 0.8,
          "size": [
           26
          ],
          "symbol": "circle"
         },
         "mode": "markers",
         "name": "SK Warne",
         "text": [
          "SK Warne"
         ],
         "textfont": {
          "color": "#4D5663"
         },
         "type": "scatter",
         "uid": "424cea44-1ca4-467c-95ce-cd06ccdbaf02",
         "x": [
          6.907604251839738
         ],
         "y": [
          20.383333333333333
         ]
        },
        {
         "marker": {
          "color": "rgba(128, 177, 211, 0.8999999999999999)",
          "line": {
           "width": 1.3
          },
          "opacity": 0.8,
          "size": [
           40
          ],
          "symbol": "circle"
         },
         "mode": "markers",
         "name": "JD Unadkat",
         "text": [
          "JD Unadkat"
         ],
         "textfont": {
          "color": "#4D5663"
         },
         "type": "scatter",
         "uid": "bc2d8a08-eee7-46d2-abfa-29abf5ecace8",
         "x": [
          8.499675535366645
         ],
         "y": [
          18.79268292682927
         ]
        },
        {
         "marker": {
          "color": "rgba(255, 153, 51, 0.8999999999999999)",
          "line": {
           "width": 1.3
          },
          "opacity": 0.8,
          "size": [
           25
          ],
          "symbol": "circle"
         },
         "mode": "markers",
         "name": "AD Russell",
         "text": [
          "AD Russell"
         ],
         "textfont": {
          "color": "#4D5663"
         },
         "type": "scatter",
         "uid": "0dff5b78-f464-4147-8cd1-b4331a2aac47",
         "x": [
          8.496268656716419
         ],
         "y": [
          18.16949152542373
         ]
        },
        {
         "marker": {
          "color": "rgba(55, 128, 191, 0.8999999999999999)",
          "line": {
           "width": 1.3
          },
          "opacity": 0.8,
          "size": [
           20
          ],
          "symbol": "circle"
         },
         "mode": "markers",
         "name": "Mohammed Shami",
         "text": [
          "Mohammed Shami"
         ],
         "textfont": {
          "color": "#4D5663"
         },
         "type": "scatter",
         "uid": "5aa41ac4-a1b8-4568-89e8-439324fbd186",
         "x": [
          8.4
         ],
         "y": [
          20.673076923076923
         ]
        },
        {
         "marker": {
          "color": "rgba(50, 171, 96, 0.8999999999999999)",
          "line": {
           "width": 1.3
          },
          "opacity": 0.8,
          "size": [
           21
          ],
          "symbol": "circle"
         },
         "mode": "markers",
         "name": "S Kaul",
         "text": [
          "S Kaul"
         ],
         "textfont": {
          "color": "#4D5663"
         },
         "type": "scatter",
         "uid": "eb690099-b65a-4c17-acca-f1cb4eaa0e68",
         "x": [
          8.222442899702084
         ],
         "y": [
          19
         ]
        },
        {
         "marker": {
          "color": "rgba(128, 0, 128, 0.8999999999999999)",
          "line": {
           "width": 1.3
          },
          "opacity": 0.8,
          "size": [
           36
          ],
          "symbol": "circle"
         },
         "mode": "markers",
         "name": "JP Faulkner",
         "text": [
          "JP Faulkner"
         ],
         "textfont": {
          "color": "#4D5663"
         },
         "type": "scatter",
         "uid": "2cd5f077-ab77-4127-b1d1-205cbc520406",
         "x": [
          8.13053613053613
         ],
         "y": [
          16.93421052631579
         ]
        },
        {
         "marker": {
          "color": "rgba(219, 64, 82, 0.8999999999999999)",
          "line": {
           "width": 1.3
          },
          "opacity": 0.8,
          "size": [
           52
          ],
          "symbol": "circle"
         },
         "mode": "markers",
         "name": "MM Sharma",
         "text": [
          "MM Sharma"
         ],
         "textfont": {
          "color": "#4D5663"
         },
         "type": "scatter",
         "uid": "2f6d5e27-b99e-4169-826d-deb69a52b96d",
         "x": [
          8.128813559322033
         ],
         "y": [
          17.87878787878788
         ]
        },
        {
         "marker": {
          "color": "rgba(0, 128, 128, 0.8999999999999999)",
          "line": {
           "width": 1.3
          },
          "opacity": 0.8,
          "size": [
           71
          ],
          "symbol": "circle"
         },
         "mode": "markers",
         "name": "R Vinay Kumar",
         "text": [
          "R Vinay Kumar"
         ],
         "textfont": {
          "color": "#4D5663"
         },
         "type": "scatter",
         "uid": "f061e9bf-8f0a-45ae-bb04-895445d0249f",
         "x": [
          8.033851784080513
         ],
         "y": [
          17.212598425196852
         ]
        },
        {
         "marker": {
          "color": "rgba(255, 255, 51, 0.8999999999999999)",
          "line": {
           "width": 1.3
          },
          "opacity": 0.8,
          "size": [
           30
          ],
          "symbol": "circle"
         },
         "mode": "markers",
         "name": "KA Pollard",
         "text": [
          "KA Pollard"
         ],
         "textfont": {
          "color": "#4D5663"
         },
         "type": "scatter",
         "uid": "bba9894f-e0d2-4af0-8c91-e4e97f0d70b5",
         "x": [
          7.93730407523511
         ],
         "y": [
          19.044776119402986
         ]
        },
        {
         "marker": {
          "color": "rgba(128, 128, 0, 0.8999999999999999)",
          "line": {
           "width": 1.3
          },
          "opacity": 0.8,
          "size": [
           77
          ],
          "symbol": "circle"
         },
         "mode": "markers",
         "name": "UT Yadav",
         "text": [
          "UT Yadav"
         ],
         "textfont": {
          "color": "#4D5663"
         },
         "type": "scatter",
         "uid": "15550177-0b1f-4cca-adcf-ce77b4d7ba89",
         "x": [
          7.879462571976967
         ],
         "y": [
          19.154411764705884
         ]
        },
        {
         "marker": {
          "color": "rgba(251, 128, 114, 0.8999999999999999)",
          "line": {
           "width": 1.3
          },
          "opacity": 0.8,
          "size": [
           35
          ],
          "symbol": "circle"
         },
         "mode": "markers",
         "name": "MJ McClenaghan",
         "text": [
          "MJ McClenaghan"
         ],
         "textfont": {
          "color": "#4D5663"
         },
         "type": "scatter",
         "uid": "add5090c-f001-4459-88ef-7ce3cc80c464",
         "x": [
          7.827637444279346
         ],
         "y": [
          18.18918918918919
         ]
        }
       ],
       "layout": {
        "legend": {
         "x": 1,
         "y": 0
        },
        "title": {
         "font": {
          "size": 20
         },
         "text": "10 Best and 10 Worst Bowlers",
         "x": 0,
         "xref": "paper"
        },
        "xaxis": {
         "exponentformat": "e",
         "showexponent": "all",
         "showticklabels": true,
         "tickfont": {
          "size": 14
         },
         "title": {
          "font": {
           "size": 20
          },
          "text": "Economy"
         }
        },
        "yaxis": {
         "exponentformat": "e",
         "showexponent": "all",
         "showticklabels": true,
         "tickfont": {
          "color": "black",
          "family": "Old Standard TT, serif",
          "size": 14
         },
         "title": {
          "font": {
           "family": "Arial, sans-serif",
           "size": 20
          },
          "text": "Wicket Taking Ability"
         }
        }
       }
      },
      "text/html": [
       "<div>\n",
       "        \n",
       "        \n",
       "            <div id=\"05b7457d-bc6a-4127-87d1-38f2cbb923dc\" class=\"plotly-graph-div\" style=\"height:525px; width:100%;\"></div>\n",
       "            <script type=\"text/javascript\">\n",
       "                require([\"plotly\"], function(Plotly) {\n",
       "                    window.PLOTLYENV=window.PLOTLYENV || {};\n",
       "                    window.PLOTLYENV.BASE_URL='https://plot.ly';\n",
       "                    \n",
       "                if (document.getElementById(\"05b7457d-bc6a-4127-87d1-38f2cbb923dc\")) {\n",
       "                    Plotly.newPlot(\n",
       "                        '05b7457d-bc6a-4127-87d1-38f2cbb923dc',\n",
       "                        [{\"marker\": {\"color\": \"rgba(255, 153, 51, 1.0)\", \"line\": {\"width\": 1.3}, \"opacity\": 0.8, \"size\": [54], \"symbol\": \"circle\"}, \"mode\": \"markers\", \"name\": \"DW Steyn\", \"text\": [\"DW Steyn\"], \"textfont\": {\"color\": \"#4D5663\"}, \"type\": \"scatter\", \"uid\": \"8056b6be-d511-4448-9b2f-b2d78afa60f7\", \"x\": [6.206615314907114], \"y\": [21.42718446601942]}, {\"marker\": {\"color\": \"rgba(55, 128, 191, 1.0)\", \"line\": {\"width\": 1.3}, \"opacity\": 0.8, \"size\": [30], \"symbol\": \"circle\"}, \"mode\": \"markers\", \"name\": \"M Muralitharan\", \"text\": [\"M Muralitharan\"], \"textfont\": {\"color\": \"#4D5663\"}, \"type\": \"scatter\", \"uid\": \"a84da4e3-f54a-4ffd-97e7-ecb8ff55e7e2\", \"x\": [6.2314990512333965], \"y\": [23.597014925373134]}, {\"marker\": {\"color\": \"rgba(50, 171, 96, 1.0)\", \"line\": {\"width\": 1.3}, \"opacity\": 0.8, \"size\": [78], \"symbol\": \"circle\"}, \"mode\": \"markers\", \"name\": \"R Ashwin\", \"text\": [\"R Ashwin\"], \"textfont\": {\"color\": \"#4D5663\"}, \"type\": \"scatter\", \"uid\": \"c33d684e-38e4-4b04-a00b-082ed5815953\", \"x\": [6.413793103448276], \"y\": [21.855072463768117]}, {\"marker\": {\"color\": \"rgba(128, 0, 128, 1.0)\", \"line\": {\"width\": 1.3}, \"opacity\": 0.8, \"size\": [112], \"symbol\": \"circle\"}, \"mode\": \"markers\", \"name\": \"SL Malinga\", \"text\": [\"SL Malinga\"], \"textfont\": {\"color\": \"#4D5663\"}, \"type\": \"scatter\", \"uid\": \"10c682af-dcc7-4227-923f-3251328a58ba\", \"x\": [6.49226630800269], \"y\": [15.819148936170214]}, {\"marker\": {\"color\": \"rgba(219, 64, 82, 1.0)\", \"line\": {\"width\": 1.3}, \"opacity\": 0.8, \"size\": [77], \"symbol\": \"circle\"}, \"mode\": \"markers\", \"name\": \"SP Narine\", \"text\": [\"SP Narine\"], \"textfont\": {\"color\": \"#4D5663\"}, \"type\": \"scatter\", \"uid\": \"544a95ea-c5d6-4387-a70d-da44ce92b3c9\", \"x\": [6.519230769230769], \"y\": [18.978102189781023]}, {\"marker\": {\"color\": \"rgba(0, 128, 128, 1.0)\", \"line\": {\"width\": 1.3}, \"opacity\": 0.8, \"size\": [26], \"symbol\": \"circle\"}, \"mode\": \"markers\", \"name\": \"Rashid Khan\", \"text\": [\"Rashid Khan\"], \"textfont\": {\"color\": \"#4D5663\"}, \"type\": \"scatter\", \"uid\": \"1e373748-a110-4112-ae65-f55a6d20ad2d\", \"x\": [6.585895117540687], \"y\": [18.433333333333334]}, {\"marker\": {\"color\": \"rgba(255, 255, 51, 1.0)\", \"line\": {\"width\": 1.3}, \"opacity\": 0.8, \"size\": [93], \"symbol\": \"circle\"}, \"mode\": \"markers\", \"name\": \"Harbhajan Singh\", \"text\": [\"Harbhajan Singh\"], \"textfont\": {\"color\": \"#4D5663\"}, \"type\": \"scatter\", \"uid\": \"7bc4eae5-8e30-4b0a-b711-077e092ec0ff\", \"x\": [6.745870762097943], \"y\": [21.56875]}, {\"marker\": {\"color\": \"rgba(128, 128, 0, 1.0)\", \"line\": {\"width\": 1.3}, \"opacity\": 0.8, \"size\": [80], \"symbol\": \"circle\"}, \"mode\": \"markers\", \"name\": \"B Kumar\", \"text\": [\"B Kumar\"], \"textfont\": {\"color\": \"#4D5663\"}, \"type\": \"scatter\", \"uid\": \"556bd56a-085a-4c40-a9c5-d034b5f9dcec\", \"x\": [6.7979312892500925], \"y\": [19.19858156028369]}, {\"marker\": {\"color\": \"rgba(251, 128, 114, 1.0)\", \"line\": {\"width\": 1.3}, \"opacity\": 0.8, \"size\": [12], \"symbol\": \"circle\"}, \"mode\": \"markers\", \"name\": \"M Kartik\", \"text\": [\"M Kartik\"], \"textfont\": {\"color\": \"#4D5663\"}, \"type\": \"scatter\", \"uid\": \"7a5e804d-c26f-4030-8ad1-dfe274eff7c2\", \"x\": [6.807106598984771], \"y\": [30.307692307692307]}, {\"marker\": {\"color\": \"rgba(128, 177, 211, 1.0)\", \"line\": {\"width\": 1.3}, \"opacity\": 0.8, \"size\": [26], \"symbol\": \"circle\"}, \"mode\": \"markers\", \"name\": \"SK Warne\", \"text\": [\"SK Warne\"], \"textfont\": {\"color\": \"#4D5663\"}, \"type\": \"scatter\", \"uid\": \"1602c956-8083-4b28-8ae2-977c37ebfd38\", \"x\": [6.907604251839738], \"y\": [20.383333333333333]}, {\"marker\": {\"color\": \"rgba(128, 177, 211, 0.8999999999999999)\", \"line\": {\"width\": 1.3}, \"opacity\": 0.8, \"size\": [40], \"symbol\": \"circle\"}, \"mode\": \"markers\", \"name\": \"JD Unadkat\", \"text\": [\"JD Unadkat\"], \"textfont\": {\"color\": \"#4D5663\"}, \"type\": \"scatter\", \"uid\": \"f8c6a126-25e1-4884-817c-e78baeee557a\", \"x\": [8.499675535366645], \"y\": [18.79268292682927]}, {\"marker\": {\"color\": \"rgba(255, 153, 51, 0.8999999999999999)\", \"line\": {\"width\": 1.3}, \"opacity\": 0.8, \"size\": [25], \"symbol\": \"circle\"}, \"mode\": \"markers\", \"name\": \"AD Russell\", \"text\": [\"AD Russell\"], \"textfont\": {\"color\": \"#4D5663\"}, \"type\": \"scatter\", \"uid\": \"d8112f56-2815-4f43-a09f-377a20520ae7\", \"x\": [8.496268656716419], \"y\": [18.16949152542373]}, {\"marker\": {\"color\": \"rgba(55, 128, 191, 0.8999999999999999)\", \"line\": {\"width\": 1.3}, \"opacity\": 0.8, \"size\": [20], \"symbol\": \"circle\"}, \"mode\": \"markers\", \"name\": \"Mohammed Shami\", \"text\": [\"Mohammed Shami\"], \"textfont\": {\"color\": \"#4D5663\"}, \"type\": \"scatter\", \"uid\": \"4cd71c4e-d0c3-4cc4-911d-d1192a8179a7\", \"x\": [8.4], \"y\": [20.673076923076923]}, {\"marker\": {\"color\": \"rgba(50, 171, 96, 0.8999999999999999)\", \"line\": {\"width\": 1.3}, \"opacity\": 0.8, \"size\": [21], \"symbol\": \"circle\"}, \"mode\": \"markers\", \"name\": \"S Kaul\", \"text\": [\"S Kaul\"], \"textfont\": {\"color\": \"#4D5663\"}, \"type\": \"scatter\", \"uid\": \"274db068-c2af-4af9-a904-84e818f8f8bb\", \"x\": [8.222442899702084], \"y\": [19.0]}, {\"marker\": {\"color\": \"rgba(128, 0, 128, 0.8999999999999999)\", \"line\": {\"width\": 1.3}, \"opacity\": 0.8, \"size\": [36], \"symbol\": \"circle\"}, \"mode\": \"markers\", \"name\": \"JP Faulkner\", \"text\": [\"JP Faulkner\"], \"textfont\": {\"color\": \"#4D5663\"}, \"type\": \"scatter\", \"uid\": \"31dc198d-5074-412f-88ed-1ab3d8773c6d\", \"x\": [8.13053613053613], \"y\": [16.93421052631579]}, {\"marker\": {\"color\": \"rgba(219, 64, 82, 0.8999999999999999)\", \"line\": {\"width\": 1.3}, \"opacity\": 0.8, \"size\": [52], \"symbol\": \"circle\"}, \"mode\": \"markers\", \"name\": \"MM Sharma\", \"text\": [\"MM Sharma\"], \"textfont\": {\"color\": \"#4D5663\"}, \"type\": \"scatter\", \"uid\": \"36f0a2a8-fcaf-4eff-a74e-ff2ec4c0f1a5\", \"x\": [8.128813559322033], \"y\": [17.87878787878788]}, {\"marker\": {\"color\": \"rgba(0, 128, 128, 0.8999999999999999)\", \"line\": {\"width\": 1.3}, \"opacity\": 0.8, \"size\": [71], \"symbol\": \"circle\"}, \"mode\": \"markers\", \"name\": \"R Vinay Kumar\", \"text\": [\"R Vinay Kumar\"], \"textfont\": {\"color\": \"#4D5663\"}, \"type\": \"scatter\", \"uid\": \"f0b6b2af-d67a-47db-bd13-698696ccc2b1\", \"x\": [8.033851784080513], \"y\": [17.212598425196852]}, {\"marker\": {\"color\": \"rgba(255, 255, 51, 0.8999999999999999)\", \"line\": {\"width\": 1.3}, \"opacity\": 0.8, \"size\": [30], \"symbol\": \"circle\"}, \"mode\": \"markers\", \"name\": \"KA Pollard\", \"text\": [\"KA Pollard\"], \"textfont\": {\"color\": \"#4D5663\"}, \"type\": \"scatter\", \"uid\": \"b47fb37a-cc99-43db-af1f-f9cde506002b\", \"x\": [7.93730407523511], \"y\": [19.044776119402986]}, {\"marker\": {\"color\": \"rgba(128, 128, 0, 0.8999999999999999)\", \"line\": {\"width\": 1.3}, \"opacity\": 0.8, \"size\": [77], \"symbol\": \"circle\"}, \"mode\": \"markers\", \"name\": \"UT Yadav\", \"text\": [\"UT Yadav\"], \"textfont\": {\"color\": \"#4D5663\"}, \"type\": \"scatter\", \"uid\": \"8ce4d320-e15a-4fac-9d2c-c458f44c7027\", \"x\": [7.879462571976967], \"y\": [19.154411764705884]}, {\"marker\": {\"color\": \"rgba(251, 128, 114, 0.8999999999999999)\", \"line\": {\"width\": 1.3}, \"opacity\": 0.8, \"size\": [35], \"symbol\": \"circle\"}, \"mode\": \"markers\", \"name\": \"MJ McClenaghan\", \"text\": [\"MJ McClenaghan\"], \"textfont\": {\"color\": \"#4D5663\"}, \"type\": \"scatter\", \"uid\": \"bea00d31-b781-4569-9be6-25f0c2567b7b\", \"x\": [7.827637444279346], \"y\": [18.18918918918919]}],\n",
       "                        {\"legend\": {\"x\": 1, \"y\": 0}, \"title\": {\"font\": {\"size\": 20}, \"text\": \"10 Best and 10 Worst Bowlers\", \"x\": 0, \"xref\": \"paper\"}, \"xaxis\": {\"exponentformat\": \"e\", \"showexponent\": \"all\", \"showticklabels\": true, \"tickfont\": {\"size\": 14}, \"title\": {\"font\": {\"size\": 20}, \"text\": \"Economy\"}}, \"yaxis\": {\"exponentformat\": \"e\", \"showexponent\": \"all\", \"showticklabels\": true, \"tickfont\": {\"color\": \"black\", \"family\": \"Old Standard TT, serif\", \"size\": 14}, \"title\": {\"font\": {\"family\": \"Arial, sans-serif\", \"size\": 20}, \"text\": \"Wicket Taking Ability\"}}},\n",
       "                        {\"showLink\": true, \"linkText\": \"Export to plot.ly\", \"plotlyServerURL\": \"https://plot.ly\", \"responsive\": true}\n",
       "                    ).then(function(){\n",
       "                            \n",
       "var gd = document.getElementById('05b7457d-bc6a-4127-87d1-38f2cbb923dc');\n",
       "var x = new MutationObserver(function (mutations, observer) {{\n",
       "        var display = window.getComputedStyle(gd).display;\n",
       "        if (!display || display === 'none') {{\n",
       "            console.log([gd, 'removed!']);\n",
       "            Plotly.purge(gd);\n",
       "            observer.disconnect();\n",
       "        }}\n",
       "}});\n",
       "\n",
       "// Listen for the removal of the full notebook cells\n",
       "var notebookContainer = gd.closest('#notebook-container');\n",
       "if (notebookContainer) {{\n",
       "    x.observe(notebookContainer, {childList: true});\n",
       "}}\n",
       "\n",
       "// Listen for the clearing of the current output cell\n",
       "var outputEl = gd.closest('.output');\n",
       "if (outputEl) {{\n",
       "    x.observe(outputEl, {childList: true});\n",
       "}}\n",
       "\n",
       "                        })\n",
       "                };\n",
       "                });\n",
       "            </script>\n",
       "        </div>"
      ]
     },
     "metadata": {},
     "output_type": "display_data"
    }
   ],
   "source": [
    "out_best = out.nsmallest(10, 'Economy')\n",
    "out_worst = out.nlargest(10, 'Economy')\n",
    "\n",
    "b_comp = pd.concat([out_best, out_worst])\n",
    "layout = go.Layout(\n",
    "    title=dict(\n",
    "        text=\"10 Best and 10 Worst Bowlers\",\n",
    "        xref=\"paper\",\n",
    "        font = dict(size=20),\n",
    "        x=0\n",
    "    \n",
    "    ),\n",
    "  legend = dict(\n",
    "    x = 1,\n",
    "    y = 0\n",
    "  ),\n",
    "    xaxis=dict(\n",
    "        title='Economy',\n",
    "        titlefont=dict(\n",
    "            size=20,\n",
    "        ),\n",
    "        showticklabels=True,\n",
    "        tickfont=dict(\n",
    "            size=14,\n",
    "        ),\n",
    "        exponentformat='e',\n",
    "        showexponent='all'\n",
    "    ),\n",
    "    yaxis=dict(\n",
    "        title='Wicket Taking Ability',\n",
    "        titlefont=dict(\n",
    "            family='Arial, sans-serif',\n",
    "            size=20,\n",
    "        ),\n",
    "        showticklabels=True,\n",
    "        tickfont=dict(\n",
    "            family='Old Standard TT, serif',\n",
    "            size=14,\n",
    "            color='black'\n",
    "        ),\n",
    "        exponentformat='e',\n",
    "        showexponent='all'\n",
    "    )\n",
    ")\n",
    "b_comp.iplot(layout= layout, kind='bubble', x='Economy', y='Wicket Taking Ability', categories='bowler', size='Number of Wickets taken', text='bowler',\n",
    "          xTitle='Bowler Economy', yTitle='Bowler Wicket Taking Ability', filename='cufflinks/simple-bubble-chart')"
   ]
  },
  {
   "cell_type": "code",
   "execution_count": 25,
   "metadata": {},
   "outputs": [
    {
     "data": {
      "application/vnd.plotly.v1+json": {
       "config": {
        "linkText": "Export to plot.ly",
        "plotlyServerURL": "https://plot.ly",
        "responsive": true,
        "showLink": true
       },
       "data": [
        {
         "marker": {
          "color": "rgba(255, 153, 51, 1.0)",
          "line": {
           "width": 1.3
          },
          "opacity": 0.8,
          "size": [
           89
          ],
          "symbol": "circle"
         },
         "mode": "markers",
         "name": "Chennai Super Kings",
         "text": [
          "Chennai Super Kings"
         ],
         "textfont": {
          "color": "#4D5663"
         },
         "type": "scatter",
         "uid": "8d8184f3-b96c-4813-b483-3d81cfd7070e",
         "x": [
          7.35763959910002
         ],
         "y": [
          19.023346303501945
         ]
        },
        {
         "marker": {
          "color": "rgba(55, 128, 191, 1.0)",
          "line": {
           "width": 1.3
          },
          "opacity": 0.8,
          "size": [
           12
          ],
          "symbol": "circle"
         },
         "mode": "markers",
         "name": "Sunrisers Hyderabad",
         "text": [
          "Sunrisers Hyderabad"
         ],
         "textfont": {
          "color": "#4D5663"
         },
         "type": "scatter",
         "uid": "6528cd40-9281-4d99-88d6-fd36a1236b6a",
         "x": [
          7.525001956334611
         ],
         "y": [
          19.66
         ]
        },
        {
         "marker": {
          "color": "rgba(50, 171, 96, 1.0)",
          "line": {
           "width": 1.3
          },
          "opacity": 0.8,
          "size": [
           112
          ],
          "symbol": "circle"
         },
         "mode": "markers",
         "name": "Mumbai Indians",
         "text": [
          "Mumbai Indians"
         ],
         "textfont": {
          "color": "#4D5663"
         },
         "type": "scatter",
         "uid": "e2b394c5-71e1-46b5-bd21-00bca79978fe",
         "x": [
          7.27157258959897
         ],
         "y": [
          19.821302816901408
         ]
        },
        {
         "marker": {
          "color": "rgba(128, 0, 128, 1.0)",
          "line": {
           "width": 1.3
          },
          "opacity": 0.8,
          "size": [
           53
          ],
          "symbol": "circle"
         },
         "mode": "markers",
         "name": "Rajasthan Royals",
         "text": [
          "Rajasthan Royals"
         ],
         "textfont": {
          "color": "#4D5663"
         },
         "type": "scatter",
         "uid": "3763fa62-2353-4e4a-b988-edeaf2ad1efc",
         "x": [
          7.391094235415948
         ],
         "y": [
          20.353629976580795
         ]
        },
        {
         "marker": {
          "color": "rgba(219, 64, 82, 1.0)",
          "line": {
           "width": 1.3
          },
          "opacity": 0.8,
          "size": [
           65
          ],
          "symbol": "circle"
         },
         "mode": "markers",
         "name": "Delhi Daredevils",
         "text": [
          "Delhi Daredevils"
         ],
         "textfont": {
          "color": "#4D5663"
         },
         "type": "scatter",
         "uid": "effbc853-e42e-480b-ac12-7b641edeab9f",
         "x": [
          7.543818424566088
         ],
         "y": [
          20.576923076923077
         ]
        },
        {
         "marker": {
          "color": "rgba(0, 128, 128, 1.0)",
          "line": {
           "width": 1.3
          },
          "opacity": 0.8,
          "size": [
           90
          ],
          "symbol": "circle"
         },
         "mode": "markers",
         "name": "Royal Challengers Bangalore",
         "text": [
          "Royal Challengers Bangalore"
         ],
         "textfont": {
          "color": "#4D5663"
         },
         "type": "scatter",
         "uid": "b07c6a52-1e0d-4b57-9e01-6d1058f8ecb6",
         "x": [
          7.631663213411188
         ],
         "y": [
          20.57751937984496
         ]
        },
        {
         "marker": {
          "color": "rgba(255, 255, 51, 1.0)",
          "line": {
           "width": 1.3
          },
          "opacity": 0.8,
          "size": [
           85
          ],
          "symbol": "circle"
         },
         "mode": "markers",
         "name": "Kolkata Knight Riders",
         "text": [
          "Kolkata Knight Riders"
         ],
         "textfont": {
          "color": "#4D5663"
         },
         "type": "scatter",
         "uid": "09f7ad06-5061-49f4-a3b8-b1169059d69e",
         "x": [
          7.4507163323782235
         ],
         "y": [
          20.753221010901882
         ]
        },
        {
         "marker": {
          "color": "rgba(128, 128, 0, 1.0)",
          "line": {
           "width": 1.3
          },
          "opacity": 0.8,
          "size": [
           81
          ],
          "symbol": "circle"
         },
         "mode": "markers",
         "name": "Kings XI Punjab",
         "text": [
          "Kings XI Punjab"
         ],
         "textfont": {
          "color": "#4D5663"
         },
         "type": "scatter",
         "uid": "9af412dd-e9b2-4c87-a380-c3148a86e842",
         "x": [
          7.758541045135214
         ],
         "y": [
          21.01314459049545
         ]
        }
       ],
       "layout": {
        "legend": {
         "bgcolor": "#F5F6F9",
         "font": {
          "color": "#4D5663"
         }
        },
        "paper_bgcolor": "#F5F6F9",
        "plot_bgcolor": "#F5F6F9",
        "title": {
         "font": {
          "color": "#4D5663"
         }
        },
        "xaxis": {
         "gridcolor": "#E1E5ED",
         "showgrid": true,
         "tickfont": {
          "color": "#4D5663"
         },
         "title": {
          "font": {
           "color": "#4D5663"
          },
          "text": "Bowler Economy"
         },
         "zerolinecolor": "#E1E5ED"
        },
        "yaxis": {
         "gridcolor": "#E1E5ED",
         "showgrid": true,
         "tickfont": {
          "color": "#4D5663"
         },
         "title": {
          "font": {
           "color": "#4D5663"
          },
          "text": "Bowler Wicket Taking Ability"
         },
         "zerolinecolor": "#E1E5ED"
        }
       }
      },
      "text/html": [
       "<div>\n",
       "        \n",
       "        \n",
       "            <div id=\"69b9fc62-7ebd-430d-bd8d-e5b2dbdfe517\" class=\"plotly-graph-div\" style=\"height:525px; width:100%;\"></div>\n",
       "            <script type=\"text/javascript\">\n",
       "                require([\"plotly\"], function(Plotly) {\n",
       "                    window.PLOTLYENV=window.PLOTLYENV || {};\n",
       "                    window.PLOTLYENV.BASE_URL='https://plot.ly';\n",
       "                    \n",
       "                if (document.getElementById(\"69b9fc62-7ebd-430d-bd8d-e5b2dbdfe517\")) {\n",
       "                    Plotly.newPlot(\n",
       "                        '69b9fc62-7ebd-430d-bd8d-e5b2dbdfe517',\n",
       "                        [{\"marker\": {\"color\": \"rgba(255, 153, 51, 1.0)\", \"line\": {\"width\": 1.3}, \"opacity\": 0.8, \"size\": [89], \"symbol\": \"circle\"}, \"mode\": \"markers\", \"name\": \"Chennai Super Kings\", \"text\": [\"Chennai Super Kings\"], \"textfont\": {\"color\": \"#4D5663\"}, \"type\": \"scatter\", \"uid\": \"5fdb3b6d-8233-4b3a-9110-74674e25c043\", \"x\": [7.35763959910002], \"y\": [19.023346303501945]}, {\"marker\": {\"color\": \"rgba(55, 128, 191, 1.0)\", \"line\": {\"width\": 1.3}, \"opacity\": 0.8, \"size\": [12], \"symbol\": \"circle\"}, \"mode\": \"markers\", \"name\": \"Sunrisers Hyderabad\", \"text\": [\"Sunrisers Hyderabad\"], \"textfont\": {\"color\": \"#4D5663\"}, \"type\": \"scatter\", \"uid\": \"6476509b-e03b-4b67-9fd6-eb55123a9c9b\", \"x\": [7.525001956334611], \"y\": [19.66]}, {\"marker\": {\"color\": \"rgba(50, 171, 96, 1.0)\", \"line\": {\"width\": 1.3}, \"opacity\": 0.8, \"size\": [112], \"symbol\": \"circle\"}, \"mode\": \"markers\", \"name\": \"Mumbai Indians\", \"text\": [\"Mumbai Indians\"], \"textfont\": {\"color\": \"#4D5663\"}, \"type\": \"scatter\", \"uid\": \"9ed0e0b2-45e3-46bd-bdf3-ee87faa81697\", \"x\": [7.27157258959897], \"y\": [19.821302816901408]}, {\"marker\": {\"color\": \"rgba(128, 0, 128, 1.0)\", \"line\": {\"width\": 1.3}, \"opacity\": 0.8, \"size\": [53], \"symbol\": \"circle\"}, \"mode\": \"markers\", \"name\": \"Rajasthan Royals\", \"text\": [\"Rajasthan Royals\"], \"textfont\": {\"color\": \"#4D5663\"}, \"type\": \"scatter\", \"uid\": \"4623d98c-7343-40b5-80d9-eaa0ea37877d\", \"x\": [7.391094235415948], \"y\": [20.353629976580795]}, {\"marker\": {\"color\": \"rgba(219, 64, 82, 1.0)\", \"line\": {\"width\": 1.3}, \"opacity\": 0.8, \"size\": [65], \"symbol\": \"circle\"}, \"mode\": \"markers\", \"name\": \"Delhi Daredevils\", \"text\": [\"Delhi Daredevils\"], \"textfont\": {\"color\": \"#4D5663\"}, \"type\": \"scatter\", \"uid\": \"4f30ff2f-1354-4fd0-bedb-6a8edf464826\", \"x\": [7.543818424566088], \"y\": [20.576923076923077]}, {\"marker\": {\"color\": \"rgba(0, 128, 128, 1.0)\", \"line\": {\"width\": 1.3}, \"opacity\": 0.8, \"size\": [90], \"symbol\": \"circle\"}, \"mode\": \"markers\", \"name\": \"Royal Challengers Bangalore\", \"text\": [\"Royal Challengers Bangalore\"], \"textfont\": {\"color\": \"#4D5663\"}, \"type\": \"scatter\", \"uid\": \"be2f425b-e891-46a1-8cd0-f8d26711d6e0\", \"x\": [7.631663213411188], \"y\": [20.57751937984496]}, {\"marker\": {\"color\": \"rgba(255, 255, 51, 1.0)\", \"line\": {\"width\": 1.3}, \"opacity\": 0.8, \"size\": [85], \"symbol\": \"circle\"}, \"mode\": \"markers\", \"name\": \"Kolkata Knight Riders\", \"text\": [\"Kolkata Knight Riders\"], \"textfont\": {\"color\": \"#4D5663\"}, \"type\": \"scatter\", \"uid\": \"0df8ccff-d178-4e31-aa13-3234afd58e9f\", \"x\": [7.4507163323782235], \"y\": [20.753221010901882]}, {\"marker\": {\"color\": \"rgba(128, 128, 0, 1.0)\", \"line\": {\"width\": 1.3}, \"opacity\": 0.8, \"size\": [81], \"symbol\": \"circle\"}, \"mode\": \"markers\", \"name\": \"Kings XI Punjab\", \"text\": [\"Kings XI Punjab\"], \"textfont\": {\"color\": \"#4D5663\"}, \"type\": \"scatter\", \"uid\": \"1afc8ed7-0cdb-4d75-9c8d-99941d33d8e7\", \"x\": [7.758541045135214], \"y\": [21.01314459049545]}],\n",
       "                        {\"legend\": {\"bgcolor\": \"#F5F6F9\", \"font\": {\"color\": \"#4D5663\"}}, \"paper_bgcolor\": \"#F5F6F9\", \"plot_bgcolor\": \"#F5F6F9\", \"title\": {\"font\": {\"color\": \"#4D5663\"}}, \"xaxis\": {\"gridcolor\": \"#E1E5ED\", \"showgrid\": true, \"tickfont\": {\"color\": \"#4D5663\"}, \"title\": {\"font\": {\"color\": \"#4D5663\"}, \"text\": \"Bowler Economy\"}, \"zerolinecolor\": \"#E1E5ED\"}, \"yaxis\": {\"gridcolor\": \"#E1E5ED\", \"showgrid\": true, \"tickfont\": {\"color\": \"#4D5663\"}, \"title\": {\"font\": {\"color\": \"#4D5663\"}, \"text\": \"Bowler Wicket Taking Ability\"}, \"zerolinecolor\": \"#E1E5ED\"}},\n",
       "                        {\"showLink\": true, \"linkText\": \"Export to plot.ly\", \"plotlyServerURL\": \"https://plot.ly\", \"responsive\": true}\n",
       "                    ).then(function(){\n",
       "                            \n",
       "var gd = document.getElementById('69b9fc62-7ebd-430d-bd8d-e5b2dbdfe517');\n",
       "var x = new MutationObserver(function (mutations, observer) {{\n",
       "        var display = window.getComputedStyle(gd).display;\n",
       "        if (!display || display === 'none') {{\n",
       "            console.log([gd, 'removed!']);\n",
       "            Plotly.purge(gd);\n",
       "            observer.disconnect();\n",
       "        }}\n",
       "}});\n",
       "\n",
       "// Listen for the removal of the full notebook cells\n",
       "var notebookContainer = gd.closest('#notebook-container');\n",
       "if (notebookContainer) {{\n",
       "    x.observe(notebookContainer, {childList: true});\n",
       "}}\n",
       "\n",
       "// Listen for the clearing of the current output cell\n",
       "var outputEl = gd.closest('.output');\n",
       "if (outputEl) {{\n",
       "    x.observe(outputEl, {childList: true});\n",
       "}}\n",
       "\n",
       "                        })\n",
       "                };\n",
       "                });\n",
       "            </script>\n",
       "        </div>"
      ]
     },
     "metadata": {},
     "output_type": "display_data"
    }
   ],
   "source": [
    "eco = economy(ball_data.copy(), bowler='bowling_team')\n",
    "wick = wicket_taking(ball_data.copy(), bowler='bowling_team')\n",
    "eco_100 = eco[eco['Number of Balls Thrown']>10000]\n",
    "wick_100 = wick[wick['Number of Balls Thrown']>10000]\n",
    "out_bowl = pd.merge(wick_100, eco_100, how='inner', on=['bowling_team','Number of Balls Thrown'])\n",
    "\n",
    "out_bowl.iplot(kind='bubble', x='Economy', y='Wicket Taking Ability', categories='bowling_team', size='Number of Wickets taken', text='bowling_team',\n",
    "          xTitle='Bowler Economy', yTitle='Bowler Wicket Taking Ability', filename='cufflinks/simple-bubble-chart')"
   ]
  },
  {
   "cell_type": "code",
   "execution_count": 26,
   "metadata": {},
   "outputs": [
    {
     "data": {
      "text/html": [
       "<div>\n",
       "<style scoped>\n",
       "    .dataframe tbody tr th:only-of-type {\n",
       "        vertical-align: middle;\n",
       "    }\n",
       "\n",
       "    .dataframe tbody tr th {\n",
       "        vertical-align: top;\n",
       "    }\n",
       "\n",
       "    .dataframe thead th {\n",
       "        text-align: right;\n",
       "    }\n",
       "</style>\n",
       "<table border=\"1\" class=\"dataframe\">\n",
       "  <thead>\n",
       "    <tr style=\"text-align: right;\">\n",
       "      <th></th>\n",
       "      <th>bowler</th>\n",
       "      <th>Number of Balls Thrown</th>\n",
       "      <th>Number of Wickets taken</th>\n",
       "      <th>Wicket Taking Ability</th>\n",
       "      <th>overs</th>\n",
       "      <th>runs</th>\n",
       "      <th>Economy</th>\n",
       "    </tr>\n",
       "  </thead>\n",
       "  <tbody>\n",
       "    <tr>\n",
       "      <th>0</th>\n",
       "      <td>Imran Tahir</td>\n",
       "      <td>1249</td>\n",
       "      <td>82</td>\n",
       "      <td>15.231707</td>\n",
       "      <td>208.166667</td>\n",
       "      <td>1595</td>\n",
       "      <td>7.662130</td>\n",
       "    </tr>\n",
       "    <tr>\n",
       "      <th>1</th>\n",
       "      <td>SL Malinga</td>\n",
       "      <td>2974</td>\n",
       "      <td>188</td>\n",
       "      <td>15.819149</td>\n",
       "      <td>495.666667</td>\n",
       "      <td>3218</td>\n",
       "      <td>6.492266</td>\n",
       "    </tr>\n",
       "    <tr>\n",
       "      <th>2</th>\n",
       "      <td>DJ Bravo</td>\n",
       "      <td>2711</td>\n",
       "      <td>168</td>\n",
       "      <td>16.136905</td>\n",
       "      <td>451.833333</td>\n",
       "      <td>3532</td>\n",
       "      <td>7.817042</td>\n",
       "    </tr>\n",
       "    <tr>\n",
       "      <th>3</th>\n",
       "      <td>A Nehra</td>\n",
       "      <td>1974</td>\n",
       "      <td>121</td>\n",
       "      <td>16.314050</td>\n",
       "      <td>329.000000</td>\n",
       "      <td>2422</td>\n",
       "      <td>7.361702</td>\n",
       "    </tr>\n",
       "    <tr>\n",
       "      <th>4</th>\n",
       "      <td>MM Patel</td>\n",
       "      <td>1382</td>\n",
       "      <td>82</td>\n",
       "      <td>16.853659</td>\n",
       "      <td>230.333333</td>\n",
       "      <td>1670</td>\n",
       "      <td>7.250362</td>\n",
       "    </tr>\n",
       "    <tr>\n",
       "      <th>5</th>\n",
       "      <td>JP Faulkner</td>\n",
       "      <td>1287</td>\n",
       "      <td>76</td>\n",
       "      <td>16.934211</td>\n",
       "      <td>214.500000</td>\n",
       "      <td>1744</td>\n",
       "      <td>8.130536</td>\n",
       "    </tr>\n",
       "    <tr>\n",
       "      <th>6</th>\n",
       "      <td>CH Morris</td>\n",
       "      <td>1335</td>\n",
       "      <td>78</td>\n",
       "      <td>17.115385</td>\n",
       "      <td>222.500000</td>\n",
       "      <td>1692</td>\n",
       "      <td>7.604494</td>\n",
       "    </tr>\n",
       "    <tr>\n",
       "      <th>7</th>\n",
       "      <td>Sandeep Sharma</td>\n",
       "      <td>1546</td>\n",
       "      <td>90</td>\n",
       "      <td>17.177778</td>\n",
       "      <td>257.666667</td>\n",
       "      <td>1873</td>\n",
       "      <td>7.269082</td>\n",
       "    </tr>\n",
       "    <tr>\n",
       "      <th>8</th>\n",
       "      <td>R Vinay Kumar</td>\n",
       "      <td>2186</td>\n",
       "      <td>127</td>\n",
       "      <td>17.212598</td>\n",
       "      <td>364.333333</td>\n",
       "      <td>2927</td>\n",
       "      <td>8.033852</td>\n",
       "    </tr>\n",
       "    <tr>\n",
       "      <th>9</th>\n",
       "      <td>MM Sharma</td>\n",
       "      <td>1770</td>\n",
       "      <td>99</td>\n",
       "      <td>17.878788</td>\n",
       "      <td>295.000000</td>\n",
       "      <td>2398</td>\n",
       "      <td>8.128814</td>\n",
       "    </tr>\n",
       "    <tr>\n",
       "      <th>10</th>\n",
       "      <td>YS Chahal</td>\n",
       "      <td>1841</td>\n",
       "      <td>102</td>\n",
       "      <td>18.049020</td>\n",
       "      <td>306.833333</td>\n",
       "      <td>2300</td>\n",
       "      <td>7.495926</td>\n",
       "    </tr>\n",
       "    <tr>\n",
       "      <th>11</th>\n",
       "      <td>AD Russell</td>\n",
       "      <td>1072</td>\n",
       "      <td>59</td>\n",
       "      <td>18.169492</td>\n",
       "      <td>178.666667</td>\n",
       "      <td>1518</td>\n",
       "      <td>8.496269</td>\n",
       "    </tr>\n",
       "    <tr>\n",
       "      <th>12</th>\n",
       "      <td>MJ McClenaghan</td>\n",
       "      <td>1346</td>\n",
       "      <td>74</td>\n",
       "      <td>18.189189</td>\n",
       "      <td>224.333333</td>\n",
       "      <td>1756</td>\n",
       "      <td>7.827637</td>\n",
       "    </tr>\n",
       "    <tr>\n",
       "      <th>13</th>\n",
       "      <td>Rashid Khan</td>\n",
       "      <td>1106</td>\n",
       "      <td>60</td>\n",
       "      <td>18.433333</td>\n",
       "      <td>184.333333</td>\n",
       "      <td>1214</td>\n",
       "      <td>6.585895</td>\n",
       "    </tr>\n",
       "    <tr>\n",
       "      <th>14</th>\n",
       "      <td>L Balaji</td>\n",
       "      <td>1574</td>\n",
       "      <td>85</td>\n",
       "      <td>18.517647</td>\n",
       "      <td>262.333333</td>\n",
       "      <td>1952</td>\n",
       "      <td>7.440915</td>\n",
       "    </tr>\n",
       "    <tr>\n",
       "      <th>15</th>\n",
       "      <td>RP Singh</td>\n",
       "      <td>1874</td>\n",
       "      <td>100</td>\n",
       "      <td>18.740000</td>\n",
       "      <td>312.333333</td>\n",
       "      <td>2236</td>\n",
       "      <td>7.159018</td>\n",
       "    </tr>\n",
       "    <tr>\n",
       "      <th>16</th>\n",
       "      <td>JD Unadkat</td>\n",
       "      <td>1541</td>\n",
       "      <td>82</td>\n",
       "      <td>18.792683</td>\n",
       "      <td>256.833333</td>\n",
       "      <td>2183</td>\n",
       "      <td>8.499676</td>\n",
       "    </tr>\n",
       "    <tr>\n",
       "      <th>17</th>\n",
       "      <td>SP Narine</td>\n",
       "      <td>2600</td>\n",
       "      <td>137</td>\n",
       "      <td>18.978102</td>\n",
       "      <td>433.333333</td>\n",
       "      <td>2825</td>\n",
       "      <td>6.519231</td>\n",
       "    </tr>\n",
       "    <tr>\n",
       "      <th>18</th>\n",
       "      <td>S Kaul</td>\n",
       "      <td>1007</td>\n",
       "      <td>53</td>\n",
       "      <td>19.000000</td>\n",
       "      <td>167.833333</td>\n",
       "      <td>1380</td>\n",
       "      <td>8.222443</td>\n",
       "    </tr>\n",
       "    <tr>\n",
       "      <th>19</th>\n",
       "      <td>JA Morkel</td>\n",
       "      <td>1807</td>\n",
       "      <td>95</td>\n",
       "      <td>19.021053</td>\n",
       "      <td>301.166667</td>\n",
       "      <td>2256</td>\n",
       "      <td>7.490869</td>\n",
       "    </tr>\n",
       "    <tr>\n",
       "      <th>20</th>\n",
       "      <td>KA Pollard</td>\n",
       "      <td>1276</td>\n",
       "      <td>67</td>\n",
       "      <td>19.044776</td>\n",
       "      <td>212.666667</td>\n",
       "      <td>1688</td>\n",
       "      <td>7.937304</td>\n",
       "    </tr>\n",
       "    <tr>\n",
       "      <th>21</th>\n",
       "      <td>UT Yadav</td>\n",
       "      <td>2605</td>\n",
       "      <td>136</td>\n",
       "      <td>19.154412</td>\n",
       "      <td>434.166667</td>\n",
       "      <td>3421</td>\n",
       "      <td>7.879463</td>\n",
       "    </tr>\n",
       "    <tr>\n",
       "      <th>22</th>\n",
       "      <td>B Kumar</td>\n",
       "      <td>2707</td>\n",
       "      <td>141</td>\n",
       "      <td>19.198582</td>\n",
       "      <td>451.166667</td>\n",
       "      <td>3067</td>\n",
       "      <td>6.797931</td>\n",
       "    </tr>\n",
       "    <tr>\n",
       "      <th>23</th>\n",
       "      <td>A Mishra</td>\n",
       "      <td>3172</td>\n",
       "      <td>165</td>\n",
       "      <td>19.224242</td>\n",
       "      <td>528.666667</td>\n",
       "      <td>3727</td>\n",
       "      <td>7.049811</td>\n",
       "    </tr>\n",
       "    <tr>\n",
       "      <th>24</th>\n",
       "      <td>Z Khan</td>\n",
       "      <td>2276</td>\n",
       "      <td>118</td>\n",
       "      <td>19.288136</td>\n",
       "      <td>379.333333</td>\n",
       "      <td>2691</td>\n",
       "      <td>7.094025</td>\n",
       "    </tr>\n",
       "    <tr>\n",
       "      <th>25</th>\n",
       "      <td>M Morkel</td>\n",
       "      <td>1699</td>\n",
       "      <td>88</td>\n",
       "      <td>19.306818</td>\n",
       "      <td>283.166667</td>\n",
       "      <td>2005</td>\n",
       "      <td>7.080636</td>\n",
       "    </tr>\n",
       "    <tr>\n",
       "      <th>26</th>\n",
       "      <td>KV Sharma</td>\n",
       "      <td>1121</td>\n",
       "      <td>58</td>\n",
       "      <td>19.327586</td>\n",
       "      <td>186.833333</td>\n",
       "      <td>1434</td>\n",
       "      <td>7.675290</td>\n",
       "    </tr>\n",
       "    <tr>\n",
       "      <th>27</th>\n",
       "      <td>AB Dinda</td>\n",
       "      <td>1589</td>\n",
       "      <td>82</td>\n",
       "      <td>19.378049</td>\n",
       "      <td>264.833333</td>\n",
       "      <td>1987</td>\n",
       "      <td>7.502832</td>\n",
       "    </tr>\n",
       "    <tr>\n",
       "      <th>28</th>\n",
       "      <td>PP Ojha</td>\n",
       "      <td>1945</td>\n",
       "      <td>99</td>\n",
       "      <td>19.646465</td>\n",
       "      <td>324.166667</td>\n",
       "      <td>2261</td>\n",
       "      <td>6.974807</td>\n",
       "    </tr>\n",
       "    <tr>\n",
       "      <th>29</th>\n",
       "      <td>MG Johnson</td>\n",
       "      <td>1301</td>\n",
       "      <td>66</td>\n",
       "      <td>19.712121</td>\n",
       "      <td>216.833333</td>\n",
       "      <td>1642</td>\n",
       "      <td>7.572636</td>\n",
       "    </tr>\n",
       "    <tr>\n",
       "      <th>30</th>\n",
       "      <td>JJ Bumrah</td>\n",
       "      <td>1798</td>\n",
       "      <td>91</td>\n",
       "      <td>19.758242</td>\n",
       "      <td>299.666667</td>\n",
       "      <td>2180</td>\n",
       "      <td>7.274750</td>\n",
       "    </tr>\n",
       "    <tr>\n",
       "      <th>31</th>\n",
       "      <td>SR Watson</td>\n",
       "      <td>2137</td>\n",
       "      <td>107</td>\n",
       "      <td>19.971963</td>\n",
       "      <td>356.166667</td>\n",
       "      <td>2580</td>\n",
       "      <td>7.243800</td>\n",
       "    </tr>\n",
       "    <tr>\n",
       "      <th>32</th>\n",
       "      <td>DS Kulkarni</td>\n",
       "      <td>1830</td>\n",
       "      <td>91</td>\n",
       "      <td>20.109890</td>\n",
       "      <td>305.000000</td>\n",
       "      <td>2316</td>\n",
       "      <td>7.593443</td>\n",
       "    </tr>\n",
       "    <tr>\n",
       "      <th>33</th>\n",
       "      <td>PP Chawla</td>\n",
       "      <td>3157</td>\n",
       "      <td>156</td>\n",
       "      <td>20.237179</td>\n",
       "      <td>526.166667</td>\n",
       "      <td>4022</td>\n",
       "      <td>7.643966</td>\n",
       "    </tr>\n",
       "    <tr>\n",
       "      <th>34</th>\n",
       "      <td>R Bhatia</td>\n",
       "      <td>1661</td>\n",
       "      <td>82</td>\n",
       "      <td>20.256098</td>\n",
       "      <td>276.833333</td>\n",
       "      <td>1986</td>\n",
       "      <td>7.173992</td>\n",
       "    </tr>\n",
       "    <tr>\n",
       "      <th>35</th>\n",
       "      <td>SK Warne</td>\n",
       "      <td>1223</td>\n",
       "      <td>60</td>\n",
       "      <td>20.383333</td>\n",
       "      <td>203.833333</td>\n",
       "      <td>1408</td>\n",
       "      <td>6.907604</td>\n",
       "    </tr>\n",
       "    <tr>\n",
       "      <th>36</th>\n",
       "      <td>Shakib Al Hasan</td>\n",
       "      <td>1359</td>\n",
       "      <td>66</td>\n",
       "      <td>20.590909</td>\n",
       "      <td>226.500000</td>\n",
       "      <td>1626</td>\n",
       "      <td>7.178808</td>\n",
       "    </tr>\n",
       "    <tr>\n",
       "      <th>37</th>\n",
       "      <td>Mohammed Shami</td>\n",
       "      <td>1075</td>\n",
       "      <td>52</td>\n",
       "      <td>20.673077</td>\n",
       "      <td>179.166667</td>\n",
       "      <td>1505</td>\n",
       "      <td>8.400000</td>\n",
       "    </tr>\n",
       "    <tr>\n",
       "      <th>38</th>\n",
       "      <td>SK Trivedi</td>\n",
       "      <td>1557</td>\n",
       "      <td>73</td>\n",
       "      <td>21.328767</td>\n",
       "      <td>259.500000</td>\n",
       "      <td>1840</td>\n",
       "      <td>7.090559</td>\n",
       "    </tr>\n",
       "    <tr>\n",
       "      <th>39</th>\n",
       "      <td>IK Pathan</td>\n",
       "      <td>2113</td>\n",
       "      <td>99</td>\n",
       "      <td>21.343434</td>\n",
       "      <td>352.166667</td>\n",
       "      <td>2569</td>\n",
       "      <td>7.294841</td>\n",
       "    </tr>\n",
       "    <tr>\n",
       "      <th>40</th>\n",
       "      <td>DW Steyn</td>\n",
       "      <td>2207</td>\n",
       "      <td>103</td>\n",
       "      <td>21.427184</td>\n",
       "      <td>367.833333</td>\n",
       "      <td>2283</td>\n",
       "      <td>6.206615</td>\n",
       "    </tr>\n",
       "    <tr>\n",
       "      <th>41</th>\n",
       "      <td>Harbhajan Singh</td>\n",
       "      <td>3451</td>\n",
       "      <td>160</td>\n",
       "      <td>21.568750</td>\n",
       "      <td>575.166667</td>\n",
       "      <td>3880</td>\n",
       "      <td>6.745871</td>\n",
       "    </tr>\n",
       "    <tr>\n",
       "      <th>42</th>\n",
       "      <td>R Ashwin</td>\n",
       "      <td>3016</td>\n",
       "      <td>138</td>\n",
       "      <td>21.855072</td>\n",
       "      <td>502.666667</td>\n",
       "      <td>3224</td>\n",
       "      <td>6.413793</td>\n",
       "    </tr>\n",
       "    <tr>\n",
       "      <th>43</th>\n",
       "      <td>RA Jadeja</td>\n",
       "      <td>2541</td>\n",
       "      <td>116</td>\n",
       "      <td>21.905172</td>\n",
       "      <td>423.500000</td>\n",
       "      <td>3117</td>\n",
       "      <td>7.360094</td>\n",
       "    </tr>\n",
       "    <tr>\n",
       "      <th>44</th>\n",
       "      <td>SB Jakati</td>\n",
       "      <td>1101</td>\n",
       "      <td>50</td>\n",
       "      <td>22.020000</td>\n",
       "      <td>183.500000</td>\n",
       "      <td>1422</td>\n",
       "      <td>7.749319</td>\n",
       "    </tr>\n",
       "    <tr>\n",
       "      <th>45</th>\n",
       "      <td>AR Patel</td>\n",
       "      <td>1745</td>\n",
       "      <td>75</td>\n",
       "      <td>23.266667</td>\n",
       "      <td>290.833333</td>\n",
       "      <td>2102</td>\n",
       "      <td>7.227507</td>\n",
       "    </tr>\n",
       "    <tr>\n",
       "      <th>46</th>\n",
       "      <td>M Muralitharan</td>\n",
       "      <td>1581</td>\n",
       "      <td>67</td>\n",
       "      <td>23.597015</td>\n",
       "      <td>263.500000</td>\n",
       "      <td>1642</td>\n",
       "      <td>6.231499</td>\n",
       "    </tr>\n",
       "    <tr>\n",
       "      <th>47</th>\n",
       "      <td>JH Kallis</td>\n",
       "      <td>1799</td>\n",
       "      <td>74</td>\n",
       "      <td>24.310811</td>\n",
       "      <td>299.833333</td>\n",
       "      <td>2222</td>\n",
       "      <td>7.410784</td>\n",
       "    </tr>\n",
       "    <tr>\n",
       "      <th>48</th>\n",
       "      <td>YK Pathan</td>\n",
       "      <td>1184</td>\n",
       "      <td>46</td>\n",
       "      <td>25.739130</td>\n",
       "      <td>197.333333</td>\n",
       "      <td>1372</td>\n",
       "      <td>6.952703</td>\n",
       "    </tr>\n",
       "    <tr>\n",
       "      <th>49</th>\n",
       "      <td>P Kumar</td>\n",
       "      <td>2637</td>\n",
       "      <td>102</td>\n",
       "      <td>25.852941</td>\n",
       "      <td>439.500000</td>\n",
       "      <td>3106</td>\n",
       "      <td>7.067122</td>\n",
       "    </tr>\n",
       "    <tr>\n",
       "      <th>50</th>\n",
       "      <td>S Nadeem</td>\n",
       "      <td>1283</td>\n",
       "      <td>47</td>\n",
       "      <td>27.297872</td>\n",
       "      <td>213.833333</td>\n",
       "      <td>1548</td>\n",
       "      <td>7.239283</td>\n",
       "    </tr>\n",
       "    <tr>\n",
       "      <th>51</th>\n",
       "      <td>I Sharma</td>\n",
       "      <td>1999</td>\n",
       "      <td>73</td>\n",
       "      <td>27.383562</td>\n",
       "      <td>333.166667</td>\n",
       "      <td>2488</td>\n",
       "      <td>7.467734</td>\n",
       "    </tr>\n",
       "    <tr>\n",
       "      <th>52</th>\n",
       "      <td>M Kartik</td>\n",
       "      <td>1182</td>\n",
       "      <td>39</td>\n",
       "      <td>30.307692</td>\n",
       "      <td>197.000000</td>\n",
       "      <td>1341</td>\n",
       "      <td>6.807107</td>\n",
       "    </tr>\n",
       "  </tbody>\n",
       "</table>\n",
       "</div>"
      ],
      "text/plain": [
       "             bowler  Number of Balls Thrown  Number of Wickets taken  \\\n",
       "0       Imran Tahir                    1249                       82   \n",
       "1        SL Malinga                    2974                      188   \n",
       "2          DJ Bravo                    2711                      168   \n",
       "3           A Nehra                    1974                      121   \n",
       "4          MM Patel                    1382                       82   \n",
       "5       JP Faulkner                    1287                       76   \n",
       "6         CH Morris                    1335                       78   \n",
       "7    Sandeep Sharma                    1546                       90   \n",
       "8     R Vinay Kumar                    2186                      127   \n",
       "9         MM Sharma                    1770                       99   \n",
       "10        YS Chahal                    1841                      102   \n",
       "11       AD Russell                    1072                       59   \n",
       "12   MJ McClenaghan                    1346                       74   \n",
       "13      Rashid Khan                    1106                       60   \n",
       "14         L Balaji                    1574                       85   \n",
       "15         RP Singh                    1874                      100   \n",
       "16       JD Unadkat                    1541                       82   \n",
       "17        SP Narine                    2600                      137   \n",
       "18           S Kaul                    1007                       53   \n",
       "19        JA Morkel                    1807                       95   \n",
       "20       KA Pollard                    1276                       67   \n",
       "21         UT Yadav                    2605                      136   \n",
       "22          B Kumar                    2707                      141   \n",
       "23         A Mishra                    3172                      165   \n",
       "24           Z Khan                    2276                      118   \n",
       "25         M Morkel                    1699                       88   \n",
       "26        KV Sharma                    1121                       58   \n",
       "27         AB Dinda                    1589                       82   \n",
       "28          PP Ojha                    1945                       99   \n",
       "29       MG Johnson                    1301                       66   \n",
       "30        JJ Bumrah                    1798                       91   \n",
       "31        SR Watson                    2137                      107   \n",
       "32      DS Kulkarni                    1830                       91   \n",
       "33        PP Chawla                    3157                      156   \n",
       "34         R Bhatia                    1661                       82   \n",
       "35         SK Warne                    1223                       60   \n",
       "36  Shakib Al Hasan                    1359                       66   \n",
       "37   Mohammed Shami                    1075                       52   \n",
       "38       SK Trivedi                    1557                       73   \n",
       "39        IK Pathan                    2113                       99   \n",
       "40         DW Steyn                    2207                      103   \n",
       "41  Harbhajan Singh                    3451                      160   \n",
       "42         R Ashwin                    3016                      138   \n",
       "43        RA Jadeja                    2541                      116   \n",
       "44        SB Jakati                    1101                       50   \n",
       "45         AR Patel                    1745                       75   \n",
       "46   M Muralitharan                    1581                       67   \n",
       "47        JH Kallis                    1799                       74   \n",
       "48        YK Pathan                    1184                       46   \n",
       "49          P Kumar                    2637                      102   \n",
       "50         S Nadeem                    1283                       47   \n",
       "51         I Sharma                    1999                       73   \n",
       "52         M Kartik                    1182                       39   \n",
       "\n",
       "    Wicket Taking Ability       overs  runs   Economy  \n",
       "0               15.231707  208.166667  1595  7.662130  \n",
       "1               15.819149  495.666667  3218  6.492266  \n",
       "2               16.136905  451.833333  3532  7.817042  \n",
       "3               16.314050  329.000000  2422  7.361702  \n",
       "4               16.853659  230.333333  1670  7.250362  \n",
       "5               16.934211  214.500000  1744  8.130536  \n",
       "6               17.115385  222.500000  1692  7.604494  \n",
       "7               17.177778  257.666667  1873  7.269082  \n",
       "8               17.212598  364.333333  2927  8.033852  \n",
       "9               17.878788  295.000000  2398  8.128814  \n",
       "10              18.049020  306.833333  2300  7.495926  \n",
       "11              18.169492  178.666667  1518  8.496269  \n",
       "12              18.189189  224.333333  1756  7.827637  \n",
       "13              18.433333  184.333333  1214  6.585895  \n",
       "14              18.517647  262.333333  1952  7.440915  \n",
       "15              18.740000  312.333333  2236  7.159018  \n",
       "16              18.792683  256.833333  2183  8.499676  \n",
       "17              18.978102  433.333333  2825  6.519231  \n",
       "18              19.000000  167.833333  1380  8.222443  \n",
       "19              19.021053  301.166667  2256  7.490869  \n",
       "20              19.044776  212.666667  1688  7.937304  \n",
       "21              19.154412  434.166667  3421  7.879463  \n",
       "22              19.198582  451.166667  3067  6.797931  \n",
       "23              19.224242  528.666667  3727  7.049811  \n",
       "24              19.288136  379.333333  2691  7.094025  \n",
       "25              19.306818  283.166667  2005  7.080636  \n",
       "26              19.327586  186.833333  1434  7.675290  \n",
       "27              19.378049  264.833333  1987  7.502832  \n",
       "28              19.646465  324.166667  2261  6.974807  \n",
       "29              19.712121  216.833333  1642  7.572636  \n",
       "30              19.758242  299.666667  2180  7.274750  \n",
       "31              19.971963  356.166667  2580  7.243800  \n",
       "32              20.109890  305.000000  2316  7.593443  \n",
       "33              20.237179  526.166667  4022  7.643966  \n",
       "34              20.256098  276.833333  1986  7.173992  \n",
       "35              20.383333  203.833333  1408  6.907604  \n",
       "36              20.590909  226.500000  1626  7.178808  \n",
       "37              20.673077  179.166667  1505  8.400000  \n",
       "38              21.328767  259.500000  1840  7.090559  \n",
       "39              21.343434  352.166667  2569  7.294841  \n",
       "40              21.427184  367.833333  2283  6.206615  \n",
       "41              21.568750  575.166667  3880  6.745871  \n",
       "42              21.855072  502.666667  3224  6.413793  \n",
       "43              21.905172  423.500000  3117  7.360094  \n",
       "44              22.020000  183.500000  1422  7.749319  \n",
       "45              23.266667  290.833333  2102  7.227507  \n",
       "46              23.597015  263.500000  1642  6.231499  \n",
       "47              24.310811  299.833333  2222  7.410784  \n",
       "48              25.739130  197.333333  1372  6.952703  \n",
       "49              25.852941  439.500000  3106  7.067122  \n",
       "50              27.297872  213.833333  1548  7.239283  \n",
       "51              27.383562  333.166667  2488  7.467734  \n",
       "52              30.307692  197.000000  1341  6.807107  "
      ]
     },
     "execution_count": 26,
     "metadata": {},
     "output_type": "execute_result"
    }
   ],
   "source": [
    "out"
   ]
  },
  {
   "cell_type": "code",
   "execution_count": null,
   "metadata": {},
   "outputs": [],
   "source": []
  },
  {
   "cell_type": "code",
   "execution_count": 27,
   "metadata": {},
   "outputs": [
    {
     "data": {
      "application/vnd.plotly.v1+json": {
       "config": {
        "linkText": "Export to plot.ly",
        "plotlyServerURL": "https://plot.ly",
        "responsive": true,
        "showLink": true
       },
       "data": [
        {
         "marker": {
          "color": "rgba(255, 153, 51, 1.0)",
          "line": {
           "width": 1.3
          },
          "opacity": 0.8,
          "size": [
           12
          ],
          "symbol": "circle"
         },
         "mode": "markers",
         "name": "AD Russell",
         "text": [
          "AD Russell"
         ],
         "textfont": {
          "color": "#4D5663"
         },
         "type": "scatter",
         "uid": "1c297846-d3df-4f64-98de-58111cccfb6d",
         "x": [
          0.27023661270236615
         ],
         "y": [
          1.7995018679950188
         ]
        },
        {
         "marker": {
          "color": "rgba(55, 128, 191, 1.0)",
          "line": {
           "width": 1.3
          },
          "opacity": 0.8,
          "size": [
           42
          ],
          "symbol": "circle"
         },
         "mode": "markers",
         "name": "V Sehwag",
         "text": [
          "V Sehwag"
         ],
         "textfont": {
          "color": "#4D5663"
         },
         "type": "scatter",
         "uid": "7dca1beb-1804-41de-b199-d4967d4b4077",
         "x": [
          0.24004364429896344
         ],
         "y": [
          1.4882705946535735
         ]
        },
        {
         "marker": {
          "color": "rgba(50, 171, 96, 1.0)",
          "line": {
           "width": 1.3
          },
          "opacity": 0.8,
          "size": [
           20
          ],
          "symbol": "circle"
         },
         "mode": "markers",
         "name": "RR Pant",
         "text": [
          "RR Pant"
         ],
         "textfont": {
          "color": "#4D5663"
         },
         "type": "scatter",
         "uid": "0a80822d-a020-4800-84d2-1735dbaca3e4",
         "x": [
          0.2246376811594203
         ],
         "y": [
          1.6231884057971016
         ]
        },
        {
         "marker": {
          "color": "rgba(128, 0, 128, 1.0)",
          "line": {
           "width": 1.3
          },
          "opacity": 0.8,
          "size": [
           80
          ],
          "symbol": "circle"
         },
         "mode": "markers",
         "name": "CH Gayle",
         "text": [
          "CH Gayle"
         ],
         "textfont": {
          "color": "#4D5663"
         },
         "type": "scatter",
         "uid": "49ec8ee0-7831-421d-8276-91fec82220b4",
         "x": [
          0.22452890450335355
         ],
         "y": [
          1.4564037048866176
         ]
        },
        {
         "marker": {
          "color": "rgba(219, 64, 82, 1.0)",
          "line": {
           "width": 1.3
          },
          "opacity": 0.8,
          "size": [
           14
          ],
          "symbol": "circle"
         },
         "mode": "markers",
         "name": "GJ Maxwell",
         "text": [
          "GJ Maxwell"
         ],
         "textfont": {
          "color": "#4D5663"
         },
         "type": "scatter",
         "uid": "8dce550b-ecb4-458c-bc1a-789a22aef54d",
         "x": [
          0.22283813747228381
         ],
         "y": [
          1.5554323725055432
         ]
        },
        {
         "marker": {
          "color": "rgba(0, 128, 128, 1.0)",
          "line": {
           "width": 1.3
          },
          "opacity": 0.8,
          "size": [
           16
          ],
          "symbol": "circle"
         },
         "mode": "markers",
         "name": "JC Buttler",
         "text": [
          "JC Buttler"
         ],
         "textfont": {
          "color": "#4D5663"
         },
         "type": "scatter",
         "uid": "0cfe93fd-75cc-4456-9dc7-21377db0a6ea",
         "x": [
          0.2138364779874214
         ],
         "y": [
          1.5
         ]
        },
        {
         "marker": {
          "color": "rgba(255, 255, 51, 1.0)",
          "line": {
           "width": 1.3
          },
          "opacity": 0.8,
          "size": [
           34
          ],
          "symbol": "circle"
         },
         "mode": "markers",
         "name": "AC Gilchrist",
         "text": [
          "AC Gilchrist"
         ],
         "textfont": {
          "color": "#4D5663"
         },
         "type": "scatter",
         "uid": "a9874fce-566f-43ef-8bd5-a0362943e547",
         "x": [
          0.21286173633440514
         ],
         "y": [
          1.3305466237942123
         ]
        },
        {
         "marker": {
          "color": "rgba(128, 128, 0, 1.0)",
          "line": {
           "width": 1.3
          },
          "opacity": 0.8,
          "size": [
           15
          ],
          "symbol": "circle"
         },
         "mode": "markers",
         "name": "CA Lynn",
         "text": [
          "CA Lynn"
         ],
         "textfont": {
          "color": "#4D5663"
         },
         "type": "scatter",
         "uid": "d635a5cf-bb81-40aa-933a-2458785af16a",
         "x": [
          0.20234291799787008
         ],
         "y": [
          1.3929712460063899
         ]
        },
        {
         "marker": {
          "color": "rgba(251, 128, 114, 1.0)",
          "line": {
           "width": 1.3
          },
          "opacity": 0.8,
          "size": [
           41
          ],
          "symbol": "circle"
         },
         "mode": "markers",
         "name": "DR Smith",
         "text": [
          "DR Smith"
         ],
         "textfont": {
          "color": "#4D5663"
         },
         "type": "scatter",
         "uid": "260dd1d5-d198-473d-8c8e-693c42ed481f",
         "x": [
          0.20077648363838047
         ],
         "y": [
          1.3227953410981697
         ]
        },
        {
         "marker": {
          "color": "rgba(128, 177, 211, 1.0)",
          "line": {
           "width": 1.3
          },
          "opacity": 0.8,
          "size": [
           65
          ],
          "symbol": "circle"
         },
         "mode": "markers",
         "name": "SR Watson",
         "text": [
          "SR Watson"
         ],
         "textfont": {
          "color": "#4D5663"
         },
         "type": "scatter",
         "uid": "9e48d6d6-849d-4bc0-bcd1-d9bbfa6c56ab",
         "x": [
          0.19742326638878363
         ],
         "y": [
          1.3694581280788178
         ]
        },
        {
         "marker": {
          "color": "rgba(128, 177, 211, 0.8999999999999999)",
          "line": {
           "width": 1.3
          },
          "opacity": 0.8,
          "size": [
           13
          ],
          "symbol": "circle"
         },
         "mode": "markers",
         "name": "ML Hayden",
         "text": [
          "ML Hayden"
         ],
         "textfont": {
          "color": "#4D5663"
         },
         "type": "scatter",
         "uid": "528534d7-5cb6-4a2e-a6a8-4720ed383d5a",
         "x": [
          0.1966626936829559
         ],
         "y": [
          1.3194278903456496
         ]
        },
        {
         "marker": {
          "color": "rgba(255, 153, 51, 0.8999999999999999)",
          "line": {
           "width": 1.3
          },
          "opacity": 0.8,
          "size": [
           75
          ],
          "symbol": "circle"
         },
         "mode": "markers",
         "name": "AB de Villiers",
         "text": [
          "AB de Villiers"
         ],
         "textfont": {
          "color": "#4D5663"
         },
         "type": "scatter",
         "uid": "7c2ee54e-89d2-4273-a43f-3d1848f8596e",
         "x": [
          0.1918038293584145
         ],
         "y": [
          1.487403426268055
         ]
        },
        {
         "marker": {
          "color": "rgba(55, 128, 191, 0.8999999999999999)",
          "line": {
           "width": 1.3
          },
          "opacity": 0.8,
          "size": [
           88
          ],
          "symbol": "circle"
         },
         "mode": "markers",
         "name": "DA Warner",
         "text": [
          "DA Warner"
         ],
         "textfont": {
          "color": "#4D5663"
         },
         "type": "scatter",
         "uid": "d5dcc527-81eb-438f-832e-c7ada0b9a870",
         "x": [
          0.1883460859329017
         ],
         "y": [
          1.3952324896998234
         ]
        },
        {
         "marker": {
          "color": "rgba(50, 171, 96, 0.8999999999999999)",
          "line": {
           "width": 1.3
          },
          "opacity": 0.8,
          "size": [
           55
          ],
          "symbol": "circle"
         },
         "mode": "markers",
         "name": "BB McCullum",
         "text": [
          "BB McCullum"
         ],
         "textfont": {
          "color": "#4D5663"
         },
         "type": "scatter",
         "uid": "552a0962-28cc-4de4-8361-2849182a5b24",
         "x": [
          0.1857394366197183
         ],
         "y": [
          1.2733274647887325
         ]
        },
        {
         "marker": {
          "color": "rgba(128, 0, 128, 0.8999999999999999)",
          "line": {
           "width": 1.3
          },
          "opacity": 0.8,
          "size": [
           21
          ],
          "symbol": "circle"
         },
         "mode": "markers",
         "name": "Q de Kock",
         "text": [
          "Q de Kock"
         ],
         "textfont": {
          "color": "#4D5663"
         },
         "type": "scatter",
         "uid": "4473d9c9-8fd5-4aa0-acb4-25ad6c618d56",
         "x": [
          0.18485915492957747
         ],
         "y": [
          1.3107394366197183
         ]
        },
        {
         "marker": {
          "color": "rgba(219, 64, 82, 0.8999999999999999)",
          "line": {
           "width": 1.3
          },
          "opacity": 0.8,
          "size": [
           56
          ],
          "symbol": "circle"
         },
         "mode": "markers",
         "name": "YK Pathan",
         "text": [
          "YK Pathan"
         ],
         "textfont": {
          "color": "#4D5663"
         },
         "type": "scatter",
         "uid": "1f092f81-d7ad-4d4e-b1ae-dd45db03a949",
         "x": [
          0.18209083119108826
         ],
         "y": [
          1.3886032562125108
         ]
        },
        {
         "marker": {
          "color": "rgba(0, 128, 128, 0.8999999999999999)",
          "line": {
           "width": 1.3
          },
          "opacity": 0.8,
          "size": [
           46
          ],
          "symbol": "circle"
         },
         "mode": "markers",
         "name": "KA Pollard",
         "text": [
          "KA Pollard"
         ],
         "textfont": {
          "color": "#4D5663"
         },
         "type": "scatter",
         "uid": "05e09fc0-f6ea-459e-81ed-e8ef1814dfa8",
         "x": [
          0.18177189409368635
         ],
         "y": [
          1.4175152749490836
         ]
        },
        {
         "marker": {
          "color": "rgba(255, 255, 51, 0.8999999999999999)",
          "line": {
           "width": 1.3
          },
          "opacity": 0.8,
          "size": [
           44
          ],
          "symbol": "circle"
         },
         "mode": "markers",
         "name": "SE Marsh",
         "text": [
          "SE Marsh"
         ],
         "textfont": {
          "color": "#4D5663"
         },
         "type": "scatter",
         "uid": "b09f2cba-eadc-4aab-9662-f12789054e36",
         "x": [
          0.18139048614741243
         ],
         "y": [
          1.3010977522216414
         ]
        },
        {
         "marker": {
          "color": "rgba(128, 128, 0, 0.8999999999999999)",
          "line": {
           "width": 1.3
          },
          "opacity": 0.8,
          "size": [
           28
          ],
          "symbol": "circle"
         },
         "mode": "markers",
         "name": "AJ Finch",
         "text": [
          "AJ Finch"
         ],
         "textfont": {
          "color": "#4D5663"
         },
         "type": "scatter",
         "uid": "9ddae8ef-d2a0-4d0b-9dd5-63db98810eda",
         "x": [
          0.17711370262390672
         ],
         "y": [
          1.271137026239067
         ]
        },
        {
         "marker": {
          "color": "rgba(251, 128, 114, 0.8999999999999999)",
          "line": {
           "width": 1.3
          },
          "opacity": 0.8,
          "size": [
           31
          ],
          "symbol": "circle"
         },
         "mode": "markers",
         "name": "KL Rahul",
         "text": [
          "KL Rahul"
         ],
         "textfont": {
          "color": "#4D5663"
         },
         "type": "scatter",
         "uid": "e5b97e13-5cc2-405a-99e9-40d296f35413",
         "x": [
          0.17679180887372015
         ],
         "y": [
          1.374061433447099
         ]
        },
        {
         "marker": {
          "color": "rgba(251, 128, 114, 0.7999999999999998)",
          "line": {
           "width": 1.3
          },
          "opacity": 0.8,
          "size": [
           14
          ],
          "symbol": "circle"
         },
         "mode": "markers",
         "name": "LMP Simmons",
         "text": [
          "LMP Simmons"
         ],
         "textfont": {
          "color": "#4D5663"
         },
         "type": "scatter",
         "uid": "2421a72d-3e45-4ddd-bf10-a65ee3b19d31",
         "x": [
          0.17425968109339407
         ],
         "y": [
          1.2289293849658314
         ]
        },
        {
         "marker": {
          "color": "rgba(128, 177, 211, 0.7999999999999998)",
          "line": {
           "width": 1.3
          },
          "opacity": 0.8,
          "size": [
           12
          ],
          "symbol": "circle"
         },
         "mode": "markers",
         "name": "N Rana",
         "text": [
          "N Rana"
         ],
         "textfont": {
          "color": "#4D5663"
         },
         "type": "scatter",
         "uid": "542d7c81-f4ec-4d1c-8218-33605a4b07c9",
         "x": [
          0.17365269461077845
         ],
         "y": [
          1.3221556886227546
         ]
        },
        {
         "marker": {
          "color": "rgba(255, 153, 51, 0.7999999999999998)",
          "line": {
           "width": 1.3
          },
          "opacity": 0.8,
          "size": [
           107
          ],
          "symbol": "circle"
         },
         "mode": "markers",
         "name": "SK Raina",
         "text": [
          "SK Raina"
         ],
         "textfont": {
          "color": "#4D5663"
         },
         "type": "scatter",
         "uid": "ce956aed-5654-4922-9a17-c5f3f6a1c87e",
         "x": [
          0.17062314540059348
         ],
         "y": [
          1.339020771513353
         ]
        },
        {
         "marker": {
          "color": "rgba(55, 128, 191, 0.7999999999999998)",
          "line": {
           "width": 1.3
          },
          "opacity": 0.8,
          "size": [
           22
          ],
          "symbol": "circle"
         },
         "mode": "markers",
         "name": "KK Nair",
         "text": [
          "KK Nair"
         ],
         "textfont": {
          "color": "#4D5663"
         },
         "type": "scatter",
         "uid": "f61cb159-e2a5-497a-8445-97db1fd99ebd",
         "x": [
          0.16982758620689656
         ],
         "y": [
          1.2672413793103448
         ]
        },
        {
         "marker": {
          "color": "rgba(50, 171, 96, 0.7999999999999998)",
          "line": {
           "width": 1.3
          },
          "opacity": 0.8,
          "size": [
           60
          ],
          "symbol": "circle"
         },
         "mode": "markers",
         "name": "PA Patel",
         "text": [
          "PA Patel"
         ],
         "textfont": {
          "color": "#4D5663"
         },
         "type": "scatter",
         "uid": "6d47bc63-b46a-408f-9baf-4b7cc78dc5c3",
         "x": [
          0.1698036006546645
         ],
         "y": [
          1.1759410801963994
         ]
        },
        {
         "marker": {
          "color": "rgba(128, 0, 128, 0.7999999999999998)",
          "line": {
           "width": 1.3
          },
          "opacity": 0.8,
          "size": [
           90
          ],
          "symbol": "circle"
         },
         "mode": "markers",
         "name": "RV Uthappa",
         "text": [
          "RV Uthappa"
         ],
         "textfont": {
          "color": "#4D5663"
         },
         "type": "scatter",
         "uid": "9ec8f824-8ff8-4d44-be83-009a91bfb53f",
         "x": [
          0.16953035509736541
         ],
         "y": [
          1.2731958762886597
         ]
        },
        {
         "marker": {
          "color": "rgba(219, 64, 82, 0.7999999999999998)",
          "line": {
           "width": 1.3
          },
          "opacity": 0.8,
          "size": [
           53
          ],
          "symbol": "circle"
         },
         "mode": "markers",
         "name": "Yuvraj Singh",
         "text": [
          "Yuvraj Singh"
         ],
         "textfont": {
          "color": "#4D5663"
         },
         "type": "scatter",
         "uid": "88320484-9574-4f52-98f1-15fb94be55a2",
         "x": [
          0.16628908019936564
         ],
         "y": [
          1.2528318985047575
         ]
        },
        {
         "marker": {
          "color": "rgba(0, 128, 128, 0.7999999999999998)",
          "line": {
           "width": 1.3
          },
          "opacity": 0.8,
          "size": [
           99
          ],
          "symbol": "circle"
         },
         "mode": "markers",
         "name": "S Dhawan",
         "text": [
          "S Dhawan"
         ],
         "textfont": {
          "color": "#4D5663"
         },
         "type": "scatter",
         "uid": "e8010c3f-6664-4db1-8dfc-238475aee3e8",
         "x": [
          0.16472457627118645
         ],
         "y": [
          1.2266949152542372
         ]
        },
        {
         "marker": {
          "color": "rgba(255, 255, 51, 0.7999999999999998)",
          "line": {
           "width": 1.3
          },
          "opacity": 0.8,
          "size": [
           18
          ],
          "symbol": "circle"
         },
         "mode": "markers",
         "name": "MA Agarwal",
         "text": [
          "MA Agarwal"
         ],
         "textfont": {
          "color": "#4D5663"
         },
         "type": "scatter",
         "uid": "8415d367-a787-4b00-91dc-bdde9239859b",
         "x": [
          0.16455696202531644
         ],
         "y": [
          1.2424537487828626
         ]
        },
        {
         "marker": {
          "color": "rgba(128, 128, 0, 0.7999999999999998)",
          "line": {
           "width": 1.3
          },
          "opacity": 0.8,
          "size": [
           100
          ],
          "symbol": "circle"
         },
         "mode": "markers",
         "name": "RG Sharma",
         "text": [
          "RG Sharma"
         ],
         "textfont": {
          "color": "#4D5663"
         },
         "type": "scatter",
         "uid": "046fa570-3305-4876-8d82-5da1fd4c4742",
         "x": [
          0.1637840670859539
         ],
         "y": [
          1.2877358490566038
         ]
        },
        {
         "marker": {
          "color": "rgba(128, 128, 0, 0.7)",
          "line": {
           "width": 1.3
          },
          "opacity": 0.8,
          "size": [
           112
          ],
          "symbol": "circle"
         },
         "mode": "markers",
         "name": "V Kohli",
         "text": [
          "V Kohli"
         ],
         "textfont": {
          "color": "#4D5663"
         },
         "type": "scatter",
         "uid": "c031f764-d421-40a9-aa5c-e68483fad297",
         "x": [
          0.15981952030396582
         ],
         "y": [
          1.2904298266445025
         ]
        },
        {
         "marker": {
          "color": "rgba(251, 128, 114, 0.7)",
          "line": {
           "width": 1.3
          },
          "opacity": 0.8,
          "size": [
           28
          ],
          "symbol": "circle"
         },
         "mode": "markers",
         "name": "WP Saha",
         "text": [
          "WP Saha"
         ],
         "textfont": {
          "color": "#4D5663"
         },
         "type": "scatter",
         "uid": "7a1d63a4-7981-4483-bba8-aaf3d65adc05",
         "x": [
          0.15918958031837915
         ],
         "y": [
          1.2879884225759768
         ]
        },
        {
         "marker": {
          "color": "rgba(128, 177, 211, 0.7)",
          "line": {
           "width": 1.3
          },
          "opacity": 0.8,
          "size": [
           48
          ],
          "symbol": "circle"
         },
         "mode": "markers",
         "name": "SR Tendulkar",
         "text": [
          "SR Tendulkar"
         ],
         "textfont": {
          "color": "#4D5663"
         },
         "type": "scatter",
         "uid": "7aaffe8d-40b3-4e17-90ef-6017dc812c3a",
         "x": [
          0.15900195694716243
         ],
         "y": [
          1.1418786692759295
         ]
        },
        {
         "marker": {
          "color": "rgba(255, 153, 51, 0.7)",
          "line": {
           "width": 1.3
          },
          "opacity": 0.8,
          "size": [
           73
          ],
          "symbol": "circle"
         },
         "mode": "markers",
         "name": "KD Karthik",
         "text": [
          "KD Karthik"
         ],
         "textfont": {
          "color": "#4D5663"
         },
         "type": "scatter",
         "uid": "8da8d00a-b05e-42e3-a98a-f1fd9e548145",
         "x": [
          0.1588235294117647
         ],
         "y": [
          1.2761245674740485
         ]
        },
        {
         "marker": {
          "color": "rgba(55, 128, 191, 0.7)",
          "line": {
           "width": 1.3
          },
          "opacity": 0.8,
          "size": [
           28
          ],
          "symbol": "circle"
         },
         "mode": "markers",
         "name": "SS Iyer",
         "text": [
          "SS Iyer"
         ],
         "textfont": {
          "color": "#4D5663"
         },
         "type": "scatter",
         "uid": "70d949f8-86f2-4d74-9f76-c446b346a5cd",
         "x": [
          0.1583941605839416
         ],
         "y": [
          1.251094890510949
         ]
        },
        {
         "marker": {
          "color": "rgba(50, 171, 96, 0.7)",
          "line": {
           "width": 1.3
          },
          "opacity": 0.8,
          "size": [
           17
          ],
          "symbol": "circle"
         },
         "mode": "markers",
         "name": "KS Williamson",
         "text": [
          "KS Williamson"
         ],
         "textfont": {
          "color": "#4D5663"
         },
         "type": "scatter",
         "uid": "6c251568-c151-425b-9cd9-6496d4f4aa5e",
         "x": [
          0.1580020387359837
         ],
         "y": [
          1.344546381243629
         ]
        },
        {
         "marker": {
          "color": "rgba(128, 0, 128, 0.7)",
          "line": {
           "width": 1.3
          },
          "opacity": 0.8,
          "size": [
           33
          ],
          "symbol": "circle"
         },
         "mode": "markers",
         "name": "DPMD Jayawardene",
         "text": [
          "DPMD Jayawardene"
         ],
         "textfont": {
          "color": "#4D5663"
         },
         "type": "scatter",
         "uid": "a71deff8-3a9e-40f4-bb6e-913c5a686bee",
         "x": [
          0.15768725361366623
         ],
         "y": [
          1.187910643889619
         ]
        },
        {
         "marker": {
          "color": "rgba(219, 64, 82, 0.7)",
          "line": {
           "width": 1.3
          },
          "opacity": 0.8,
          "size": [
           19
          ],
          "symbol": "circle"
         },
         "mode": "markers",
         "name": "TM Dilshan",
         "text": [
          "TM Dilshan"
         ],
         "textfont": {
          "color": "#4D5663"
         },
         "type": "scatter",
         "uid": "62e4336c-ea93-46f7-b06c-298c8890bcb0",
         "x": [
          0.15663801337153774
         ],
         "y": [
          1.1012416427889207
         ]
        },
        {
         "marker": {
          "color": "rgba(0, 128, 128, 0.7)",
          "line": {
           "width": 1.3
          },
          "opacity": 0.8,
          "size": [
           91
          ],
          "symbol": "circle"
         },
         "mode": "markers",
         "name": "G Gambhir",
         "text": [
          "G Gambhir"
         ],
         "textfont": {
          "color": "#4D5663"
         },
         "type": "scatter",
         "uid": "49e05d22-644e-443c-ad35-1c6259804f2e",
         "x": [
          0.15635641316685583
         ],
         "y": [
          1.1983541430192963
         ]
        },
        {
         "marker": {
          "color": "rgba(255, 255, 51, 0.7)",
          "line": {
           "width": 1.3
          },
          "opacity": 0.8,
          "size": [
           30
          ],
          "symbol": "circle"
         },
         "mode": "markers",
         "name": "KC Sangakkara",
         "text": [
          "KC Sangakkara"
         ],
         "textfont": {
          "color": "#4D5663"
         },
         "type": "scatter",
         "uid": "1d55b0e8-8ea6-44d4-86f8-0f0783a98f04",
         "x": [
          0.15589887640449437
         ],
         "y": [
          1.184691011235955
         ]
        },
        {
         "marker": {
          "color": "rgba(255, 255, 51, 0.5999999999999999)",
          "line": {
           "width": 1.3
          },
          "opacity": 0.8,
          "size": [
           28
          ],
          "symbol": "circle"
         },
         "mode": "markers",
         "name": "DA Miller",
         "text": [
          "DA Miller"
         ],
         "textfont": {
          "color": "#4D5663"
         },
         "type": "scatter",
         "uid": "1df492fe-d509-4de6-83ed-91e4324d75d2",
         "x": [
          0.1555232558139535
         ],
         "y": [
          1.3626453488372092
         ]
        },
        {
         "marker": {
          "color": "rgba(128, 128, 0, 0.5999999999999999)",
          "line": {
           "width": 1.3
          },
          "opacity": 0.8,
          "size": [
           44
          ],
          "symbol": "circle"
         },
         "mode": "markers",
         "name": "R Dravid",
         "text": [
          "R Dravid"
         ],
         "textfont": {
          "color": "#4D5663"
         },
         "type": "scatter",
         "uid": "82b2343e-20f6-48de-8cbf-aea8e4573466",
         "x": [
          0.1548488008342023
         ],
         "y": [
          1.1334723670490094
         ]
        },
        {
         "marker": {
          "color": "rgba(251, 128, 114, 0.5999999999999999)",
          "line": {
           "width": 1.3
          },
          "opacity": 0.8,
          "size": [
           25
          ],
          "symbol": "circle"
         },
         "mode": "markers",
         "name": "Mandeep Singh",
         "text": [
          "Mandeep Singh"
         ],
         "textfont": {
          "color": "#4D5663"
         },
         "type": "scatter",
         "uid": "e1f56a6b-ce3f-4bbc-8a5b-da8a99818c6c",
         "x": [
          0.1547049441786284
         ],
         "y": [
          1.233652312599681
         ]
        },
        {
         "marker": {
          "color": "rgba(128, 177, 211, 0.5999999999999999)",
          "line": {
           "width": 1.3
          },
          "opacity": 0.8,
          "size": [
           51
          ],
          "symbol": "circle"
         },
         "mode": "markers",
         "name": "M Vijay",
         "text": [
          "M Vijay"
         ],
         "textfont": {
          "color": "#4D5663"
         },
         "type": "scatter",
         "uid": "c7d05322-18f7-45de-a1d9-97bc5c922078",
         "x": [
          0.15434380776340112
         ],
         "y": [
          1.1968576709796672
         ]
        },
        {
         "marker": {
          "color": "rgba(255, 153, 51, 0.5999999999999999)",
          "line": {
           "width": 1.3
          },
          "opacity": 0.8,
          "size": [
           85
          ],
          "symbol": "circle"
         },
         "mode": "markers",
         "name": "MS Dhoni",
         "text": [
          "MS Dhoni"
         ],
         "textfont": {
          "color": "#4D5663"
         },
         "type": "scatter",
         "uid": "deb5e3f5-3f17-41eb-a236-905f6d710034",
         "x": [
          0.1518987341772152
         ],
         "y": [
          1.3493068113321278
         ]
        },
        {
         "marker": {
          "color": "rgba(55, 128, 191, 0.5999999999999999)",
          "line": {
           "width": 1.3
          },
          "opacity": 0.8,
          "size": [
           36
          ],
          "symbol": "circle"
         },
         "mode": "markers",
         "name": "MEK Hussey",
         "text": [
          "MEK Hussey"
         ],
         "textfont": {
          "color": "#4D5663"
         },
         "type": "scatter",
         "uid": "dcda7342-400b-4d8d-899a-54e9d25b563e",
         "x": [
          0.15169902912621358
         ],
         "y": [
          1.1996359223300972
         ]
        },
        {
         "marker": {
          "color": "rgba(50, 171, 96, 0.5999999999999999)",
          "line": {
           "width": 1.3
          },
          "opacity": 0.8,
          "size": [
           39
          ],
          "symbol": "circle"
         },
         "mode": "markers",
         "name": "SV Samson",
         "text": [
          "SV Samson"
         ],
         "textfont": {
          "color": "#4D5663"
         },
         "type": "scatter",
         "uid": "517fe1d3-ea92-4181-a02f-0a0cab52cf12",
         "x": [
          0.15046296296296297
         ],
         "y": [
          1.2934027777777777
         ]
        },
        {
         "marker": {
          "color": "rgba(128, 0, 128, 0.5999999999999999)",
          "line": {
           "width": 1.3
          },
          "opacity": 0.8,
          "size": [
           23
          ],
          "symbol": "circle"
         },
         "mode": "markers",
         "name": "DJ Bravo",
         "text": [
          "DJ Bravo"
         ],
         "textfont": {
          "color": "#4D5663"
         },
         "type": "scatter",
         "uid": "da459886-ff64-463d-8083-e6748b6576bb",
         "x": [
          0.14920368818105617
         ],
         "y": [
          1.2556580050293378
         ]
        },
        {
         "marker": {
          "color": "rgba(219, 64, 82, 0.5999999999999999)",
          "line": {
           "width": 1.3
          },
          "opacity": 0.8,
          "size": [
           82
          ],
          "symbol": "circle"
         },
         "mode": "markers",
         "name": "AM Rahane",
         "text": [
          "AM Rahane"
         ],
         "textfont": {
          "color": "#4D5663"
         },
         "type": "scatter",
         "uid": "b3323bfa-b397-4687-8357-ca206b3337c2",
         "x": [
          0.1489891135303266
         ],
         "y": [
          1.1975116640746502
         ]
        },
        {
         "marker": {
          "color": "rgba(0, 128, 128, 0.5999999999999999)",
          "line": {
           "width": 1.3
          },
          "opacity": 0.8,
          "size": [
           32
          ],
          "symbol": "circle"
         },
         "mode": "markers",
         "name": "F du Plessis",
         "text": [
          "F du Plessis"
         ],
         "textfont": {
          "color": "#4D5663"
         },
         "type": "scatter",
         "uid": "590401b3-cb19-42e7-ba6e-56874e306e07",
         "x": [
          0.14876584389593062
         ],
         "y": [
          1.2501667778519012
         ]
        },
        {
         "marker": {
          "color": "rgba(0, 128, 128, 0.49999999999999983)",
          "line": {
           "width": 1.3
          },
          "opacity": 0.8,
          "size": [
           67
          ],
          "symbol": "circle"
         },
         "mode": "markers",
         "name": "AT Rayudu",
         "text": [
          "AT Rayudu"
         ],
         "textfont": {
          "color": "#4D5663"
         },
         "type": "scatter",
         "uid": "57484014-b5b7-4851-ae56-8ee00a8a30b5",
         "x": [
          0.1484520701230884
         ],
         "y": [
          1.2405818724356583
         ]
        },
        {
         "marker": {
          "color": "rgba(255, 255, 51, 0.49999999999999983)",
          "line": {
           "width": 1.3
          },
          "opacity": 0.8,
          "size": [
           14
          ],
          "symbol": "circle"
         },
         "mode": "markers",
         "name": "KM Jadhav",
         "text": [
          "KM Jadhav"
         ],
         "textfont": {
          "color": "#4D5663"
         },
         "type": "scatter",
         "uid": "77f53554-19e6-4976-9c91-b47801ba73c0",
         "x": [
          0.14789533560864618
         ],
         "y": [
          1.2411831626848693
         ]
        },
        {
         "marker": {
          "color": "rgba(128, 128, 0, 0.49999999999999983)",
          "line": {
           "width": 1.3
          },
          "opacity": 0.8,
          "size": [
           28
          ],
          "symbol": "circle"
         },
         "mode": "markers",
         "name": "NV Ojha",
         "text": [
          "NV Ojha"
         ],
         "textfont": {
          "color": "#4D5663"
         },
         "type": "scatter",
         "uid": "0d707a32-075f-4584-a1ee-c0e6c6c90c9c",
         "x": [
          0.14705882352941177
         ],
         "y": [
          1.1433823529411764
         ]
        },
        {
         "marker": {
          "color": "rgba(251, 128, 114, 0.49999999999999983)",
          "line": {
           "width": 1.3
          },
          "opacity": 0.8,
          "size": [
           24
          ],
          "symbol": "circle"
         },
         "mode": "markers",
         "name": "S Badrinath",
         "text": [
          "S Badrinath"
         ],
         "textfont": {
          "color": "#4D5663"
         },
         "type": "scatter",
         "uid": "f2b03981-646c-4ff6-8ed6-5c25314e8ba4",
         "x": [
          0.1461847389558233
         ],
         "y": [
          1.157429718875502
         ]
        },
        {
         "marker": {
          "color": "rgba(128, 177, 211, 0.49999999999999983)",
          "line": {
           "width": 1.3
          },
          "opacity": 0.8,
          "size": [
           22
          ],
          "symbol": "circle"
         },
         "mode": "markers",
         "name": "BJ Hodge",
         "text": [
          "BJ Hodge"
         ],
         "textfont": {
          "color": "#4D5663"
         },
         "type": "scatter",
         "uid": "4b197036-2ff4-4ff6-8afc-7d478ea29fc0",
         "x": [
          0.14310494362532525
         ],
         "y": [
          1.2142237640936686
         ]
        },
        {
         "marker": {
          "color": "rgba(255, 153, 51, 0.49999999999999983)",
          "line": {
           "width": 1.3
          },
          "opacity": 0.8,
          "size": [
           35
          ],
          "symbol": "circle"
         },
         "mode": "markers",
         "name": "SPD Smith",
         "text": [
          "SPD Smith"
         ],
         "textfont": {
          "color": "#4D5663"
         },
         "type": "scatter",
         "uid": "f9bb493e-6621-40a3-9eec-929a0b989d88",
         "x": [
          0.14232673267326731
         ],
         "y": [
          1.2667079207920793
         ]
        },
        {
         "marker": {
          "color": "rgba(55, 128, 191, 0.49999999999999983)",
          "line": {
           "width": 1.3
          },
          "opacity": 0.8,
          "size": [
           20
          ],
          "symbol": "circle"
         },
         "mode": "markers",
         "name": "DJ Hussey",
         "text": [
          "DJ Hussey"
         ],
         "textfont": {
          "color": "#4D5663"
         },
         "type": "scatter",
         "uid": "fdce0052-8583-4fe5-9395-6548a6035e89",
         "x": [
          0.1362397820163488
         ],
         "y": [
          1.2007266121707538
         ]
        },
        {
         "marker": {
          "color": "rgba(50, 171, 96, 0.49999999999999983)",
          "line": {
           "width": 1.3
          },
          "opacity": 0.8,
          "size": [
           12
          ],
          "symbol": "circle"
         },
         "mode": "markers",
         "name": "HH Gibbs",
         "text": [
          "HH Gibbs"
         ],
         "textfont": {
          "color": "#4D5663"
         },
         "type": "scatter",
         "uid": "3fa1866e-5458-46f9-a158-e794531646d5",
         "x": [
          0.13620071684587814
         ],
         "y": [
          1.058542413381123
         ]
        },
        {
         "marker": {
          "color": "rgba(128, 0, 128, 0.49999999999999983)",
          "line": {
           "width": 1.3
          },
          "opacity": 0.8,
          "size": [
           59
          ],
          "symbol": "circle"
         },
         "mode": "markers",
         "name": "MK Pandey",
         "text": [
          "MK Pandey"
         ],
         "textfont": {
          "color": "#4D5663"
         },
         "type": "scatter",
         "uid": "231d4148-220e-4677-af20-168d79d86593",
         "x": [
          0.13567010309278352
         ],
         "y": [
          1.1843298969072165
         ]
        },
        {
         "marker": {
          "color": "rgba(219, 64, 82, 0.49999999999999983)",
          "line": {
           "width": 1.3
          },
          "opacity": 0.8,
          "size": [
           27
          ],
          "symbol": "circle"
         },
         "mode": "markers",
         "name": "SC Ganguly",
         "text": [
          "SC Ganguly"
         ],
         "textfont": {
          "color": "#4D5663"
         },
         "type": "scatter",
         "uid": "d4dd6cf9-067e-4b74-b5da-433e92374b74",
         "x": [
          0.13499245852187028
         ],
         "y": [
          1.0173453996983408
         ]
        },
        {
         "marker": {
          "color": "rgba(219, 64, 82, 0.39999999999999974)",
          "line": {
           "width": 1.3
          },
          "opacity": 0.8,
          "size": [
           13
          ],
          "symbol": "circle"
         },
         "mode": "markers",
         "name": "LRPL Taylor",
         "text": [
          "LRPL Taylor"
         ],
         "textfont": {
          "color": "#4D5663"
         },
         "type": "scatter",
         "uid": "54c26e55-0960-42c5-8126-589a10c17555",
         "x": [
          0.1322314049586777
         ],
         "y": [
          1.2007083825265643
         ]
        },
        {
         "marker": {
          "color": "rgba(0, 128, 128, 0.39999999999999974)",
          "line": {
           "width": 1.3
          },
          "opacity": 0.8,
          "size": [
           13
          ],
          "symbol": "circle"
         },
         "mode": "markers",
         "name": "Y Venugopal Rao",
         "text": [
          "Y Venugopal Rao"
         ],
         "textfont": {
          "color": "#4D5663"
         },
         "type": "scatter",
         "uid": "be1f9edf-7e3b-41cb-bad1-aab4d49659e7",
         "x": [
          0.13179190751445086
         ],
         "y": [
          1.138728323699422
         ]
        },
        {
         "marker": {
          "color": "rgba(255, 255, 51, 0.39999999999999974)",
          "line": {
           "width": 1.3
          },
          "opacity": 0.8,
          "size": [
           32
          ],
          "symbol": "circle"
         },
         "mode": "markers",
         "name": "MK Tiwary",
         "text": [
          "MK Tiwary"
         ],
         "textfont": {
          "color": "#4D5663"
         },
         "type": "scatter",
         "uid": "d39465af-0eae-40be-9035-3da090f74fee",
         "x": [
          0.13163196776359973
         ],
         "y": [
          1.1396910678307588
         ]
        },
        {
         "marker": {
          "color": "rgba(128, 128, 0, 0.39999999999999974)",
          "line": {
           "width": 1.3
          },
          "opacity": 0.8,
          "size": [
           55
          ],
          "symbol": "circle"
         },
         "mode": "markers",
         "name": "JH Kallis",
         "text": [
          "JH Kallis"
         ],
         "textfont": {
          "color": "#4D5663"
         },
         "type": "scatter",
         "uid": "d957e8ee-ca58-40a5-913d-19542f3491bb",
         "x": [
          0.13051069402007856
         ],
         "y": [
          1.0593627237014405
         ]
        },
        {
         "marker": {
          "color": "rgba(251, 128, 114, 0.39999999999999974)",
          "line": {
           "width": 1.3
          },
          "opacity": 0.8,
          "size": [
           17
          ],
          "symbol": "circle"
         },
         "mode": "markers",
         "name": "IK Pathan",
         "text": [
          "IK Pathan"
         ],
         "textfont": {
          "color": "#4D5663"
         },
         "type": "scatter",
         "uid": "b3441f02-d9b4-4639-8e17-cebfe4d4fd12",
         "x": [
          0.12791878172588833
         ],
         "y": [
          1.16751269035533
         ]
        },
        {
         "marker": {
          "color": "rgba(128, 177, 211, 0.39999999999999974)",
          "line": {
           "width": 1.3
          },
          "opacity": 0.8,
          "size": [
           21
          ],
          "symbol": "circle"
         },
         "mode": "markers",
         "name": "SS Tiwary",
         "text": [
          "SS Tiwary"
         ],
         "textfont": {
          "color": "#4D5663"
         },
         "type": "scatter",
         "uid": "aed21aba-37a8-4ddc-9d05-5be94aab7b63",
         "x": [
          0.12421242124212421
         ],
         "y": [
          1.1485148514851484
         ]
        },
        {
         "marker": {
          "color": "rgba(255, 153, 51, 0.39999999999999974)",
          "line": {
           "width": 1.3
          },
          "opacity": 0.8,
          "size": [
           36
          ],
          "symbol": "circle"
         },
         "mode": "markers",
         "name": "RA Jadeja",
         "text": [
          "RA Jadeja"
         ],
         "textfont": {
          "color": "#4D5663"
         },
         "type": "scatter",
         "uid": "26412386-bf9e-4c8b-a6f0-7f9cbf149f8a",
         "x": [
          0.12377450980392157
         ],
         "y": [
          1.1954656862745099
         ]
        },
        {
         "marker": {
          "color": "rgba(55, 128, 191, 0.39999999999999974)",
          "line": {
           "width": 1.3
          },
          "opacity": 0.8,
          "size": [
           37
          ],
          "symbol": "circle"
         },
         "mode": "markers",
         "name": "JP Duminy",
         "text": [
          "JP Duminy"
         ],
         "textfont": {
          "color": "#4D5663"
         },
         "type": "scatter",
         "uid": "e1c3692e-c0c2-404a-b142-b871bb6b7e85",
         "x": [
          0.12202380952380952
         ],
         "y": [
          1.2148809523809523
         ]
        }
       ],
       "layout": {
        "legend": {
         "bgcolor": "#F5F6F9",
         "font": {
          "color": "#4D5663"
         }
        },
        "paper_bgcolor": "#F5F6F9",
        "plot_bgcolor": "#F5F6F9",
        "title": {
         "font": {
          "color": "#4D5663"
         }
        },
        "xaxis": {
         "gridcolor": "#E1E5ED",
         "showgrid": true,
         "tickfont": {
          "color": "#4D5663"
         },
         "title": {
          "font": {
           "color": "#4D5663"
          },
          "text": "Hard Hit"
         },
         "zerolinecolor": "#E1E5ED"
        },
        "yaxis": {
         "gridcolor": "#E1E5ED",
         "showgrid": true,
         "tickfont": {
          "color": "#4D5663"
         },
         "title": {
          "font": {
           "color": "#4D5663"
          },
          "text": "Fast Scoring Ability"
         },
         "zerolinecolor": "#E1E5ED"
        }
       }
      },
      "text/html": [
       "<div>\n",
       "        \n",
       "        \n",
       "            <div id=\"cc1da815-864c-453a-b483-d55aaef006f8\" class=\"plotly-graph-div\" style=\"height:525px; width:100%;\"></div>\n",
       "            <script type=\"text/javascript\">\n",
       "                require([\"plotly\"], function(Plotly) {\n",
       "                    window.PLOTLYENV=window.PLOTLYENV || {};\n",
       "                    window.PLOTLYENV.BASE_URL='https://plot.ly';\n",
       "                    \n",
       "                if (document.getElementById(\"cc1da815-864c-453a-b483-d55aaef006f8\")) {\n",
       "                    Plotly.newPlot(\n",
       "                        'cc1da815-864c-453a-b483-d55aaef006f8',\n",
       "                        [{\"marker\": {\"color\": \"rgba(255, 153, 51, 1.0)\", \"line\": {\"width\": 1.3}, \"opacity\": 0.8, \"size\": [12], \"symbol\": \"circle\"}, \"mode\": \"markers\", \"name\": \"AD Russell\", \"text\": [\"AD Russell\"], \"textfont\": {\"color\": \"#4D5663\"}, \"type\": \"scatter\", \"uid\": \"fbeccf7c-477e-4faa-89b9-03540d0c883a\", \"x\": [0.27023661270236615], \"y\": [1.7995018679950188]}, {\"marker\": {\"color\": \"rgba(55, 128, 191, 1.0)\", \"line\": {\"width\": 1.3}, \"opacity\": 0.8, \"size\": [42], \"symbol\": \"circle\"}, \"mode\": \"markers\", \"name\": \"V Sehwag\", \"text\": [\"V Sehwag\"], \"textfont\": {\"color\": \"#4D5663\"}, \"type\": \"scatter\", \"uid\": \"0839aa52-62b9-4ded-83c4-46ae63637d43\", \"x\": [0.24004364429896344], \"y\": [1.4882705946535735]}, {\"marker\": {\"color\": \"rgba(50, 171, 96, 1.0)\", \"line\": {\"width\": 1.3}, \"opacity\": 0.8, \"size\": [20], \"symbol\": \"circle\"}, \"mode\": \"markers\", \"name\": \"RR Pant\", \"text\": [\"RR Pant\"], \"textfont\": {\"color\": \"#4D5663\"}, \"type\": \"scatter\", \"uid\": \"d4780211-762b-4792-b13f-52c5f58ff4e0\", \"x\": [0.2246376811594203], \"y\": [1.6231884057971016]}, {\"marker\": {\"color\": \"rgba(128, 0, 128, 1.0)\", \"line\": {\"width\": 1.3}, \"opacity\": 0.8, \"size\": [80], \"symbol\": \"circle\"}, \"mode\": \"markers\", \"name\": \"CH Gayle\", \"text\": [\"CH Gayle\"], \"textfont\": {\"color\": \"#4D5663\"}, \"type\": \"scatter\", \"uid\": \"c713a4de-08aa-445a-8342-9202c52e4732\", \"x\": [0.22452890450335355], \"y\": [1.4564037048866176]}, {\"marker\": {\"color\": \"rgba(219, 64, 82, 1.0)\", \"line\": {\"width\": 1.3}, \"opacity\": 0.8, \"size\": [14], \"symbol\": \"circle\"}, \"mode\": \"markers\", \"name\": \"GJ Maxwell\", \"text\": [\"GJ Maxwell\"], \"textfont\": {\"color\": \"#4D5663\"}, \"type\": \"scatter\", \"uid\": \"ce66e1d2-b557-471d-b132-ce5908642114\", \"x\": [0.22283813747228381], \"y\": [1.5554323725055432]}, {\"marker\": {\"color\": \"rgba(0, 128, 128, 1.0)\", \"line\": {\"width\": 1.3}, \"opacity\": 0.8, \"size\": [16], \"symbol\": \"circle\"}, \"mode\": \"markers\", \"name\": \"JC Buttler\", \"text\": [\"JC Buttler\"], \"textfont\": {\"color\": \"#4D5663\"}, \"type\": \"scatter\", \"uid\": \"46593b19-7cd4-43a5-8c71-35e5174ebbeb\", \"x\": [0.2138364779874214], \"y\": [1.5]}, {\"marker\": {\"color\": \"rgba(255, 255, 51, 1.0)\", \"line\": {\"width\": 1.3}, \"opacity\": 0.8, \"size\": [34], \"symbol\": \"circle\"}, \"mode\": \"markers\", \"name\": \"AC Gilchrist\", \"text\": [\"AC Gilchrist\"], \"textfont\": {\"color\": \"#4D5663\"}, \"type\": \"scatter\", \"uid\": \"3a70a0d9-496e-474c-ab63-e420687b5ed4\", \"x\": [0.21286173633440514], \"y\": [1.3305466237942123]}, {\"marker\": {\"color\": \"rgba(128, 128, 0, 1.0)\", \"line\": {\"width\": 1.3}, \"opacity\": 0.8, \"size\": [15], \"symbol\": \"circle\"}, \"mode\": \"markers\", \"name\": \"CA Lynn\", \"text\": [\"CA Lynn\"], \"textfont\": {\"color\": \"#4D5663\"}, \"type\": \"scatter\", \"uid\": \"52253773-e24c-4b9c-af73-6ac4affeb0fa\", \"x\": [0.20234291799787008], \"y\": [1.3929712460063899]}, {\"marker\": {\"color\": \"rgba(251, 128, 114, 1.0)\", \"line\": {\"width\": 1.3}, \"opacity\": 0.8, \"size\": [41], \"symbol\": \"circle\"}, \"mode\": \"markers\", \"name\": \"DR Smith\", \"text\": [\"DR Smith\"], \"textfont\": {\"color\": \"#4D5663\"}, \"type\": \"scatter\", \"uid\": \"27c3d4e7-c766-4d5e-b4e4-7dbf8ee029e2\", \"x\": [0.20077648363838047], \"y\": [1.3227953410981697]}, {\"marker\": {\"color\": \"rgba(128, 177, 211, 1.0)\", \"line\": {\"width\": 1.3}, \"opacity\": 0.8, \"size\": [65], \"symbol\": \"circle\"}, \"mode\": \"markers\", \"name\": \"SR Watson\", \"text\": [\"SR Watson\"], \"textfont\": {\"color\": \"#4D5663\"}, \"type\": \"scatter\", \"uid\": \"183acee5-96c7-4554-b61c-916fab6faa31\", \"x\": [0.19742326638878363], \"y\": [1.3694581280788178]}, {\"marker\": {\"color\": \"rgba(128, 177, 211, 0.8999999999999999)\", \"line\": {\"width\": 1.3}, \"opacity\": 0.8, \"size\": [13], \"symbol\": \"circle\"}, \"mode\": \"markers\", \"name\": \"ML Hayden\", \"text\": [\"ML Hayden\"], \"textfont\": {\"color\": \"#4D5663\"}, \"type\": \"scatter\", \"uid\": \"f568f403-bba8-4fd5-bffd-afcd39d50e3d\", \"x\": [0.1966626936829559], \"y\": [1.3194278903456496]}, {\"marker\": {\"color\": \"rgba(255, 153, 51, 0.8999999999999999)\", \"line\": {\"width\": 1.3}, \"opacity\": 0.8, \"size\": [75], \"symbol\": \"circle\"}, \"mode\": \"markers\", \"name\": \"AB de Villiers\", \"text\": [\"AB de Villiers\"], \"textfont\": {\"color\": \"#4D5663\"}, \"type\": \"scatter\", \"uid\": \"a4d2d650-1a9c-4b38-8de5-022e0a580a2a\", \"x\": [0.1918038293584145], \"y\": [1.487403426268055]}, {\"marker\": {\"color\": \"rgba(55, 128, 191, 0.8999999999999999)\", \"line\": {\"width\": 1.3}, \"opacity\": 0.8, \"size\": [88], \"symbol\": \"circle\"}, \"mode\": \"markers\", \"name\": \"DA Warner\", \"text\": [\"DA Warner\"], \"textfont\": {\"color\": \"#4D5663\"}, \"type\": \"scatter\", \"uid\": \"fecc891a-a70e-4978-ba9b-bb2be0eb3f6e\", \"x\": [0.1883460859329017], \"y\": [1.3952324896998234]}, {\"marker\": {\"color\": \"rgba(50, 171, 96, 0.8999999999999999)\", \"line\": {\"width\": 1.3}, \"opacity\": 0.8, \"size\": [55], \"symbol\": \"circle\"}, \"mode\": \"markers\", \"name\": \"BB McCullum\", \"text\": [\"BB McCullum\"], \"textfont\": {\"color\": \"#4D5663\"}, \"type\": \"scatter\", \"uid\": \"74eed67e-d8d2-45e6-a241-3c18e81e2f19\", \"x\": [0.1857394366197183], \"y\": [1.2733274647887325]}, {\"marker\": {\"color\": \"rgba(128, 0, 128, 0.8999999999999999)\", \"line\": {\"width\": 1.3}, \"opacity\": 0.8, \"size\": [21], \"symbol\": \"circle\"}, \"mode\": \"markers\", \"name\": \"Q de Kock\", \"text\": [\"Q de Kock\"], \"textfont\": {\"color\": \"#4D5663\"}, \"type\": \"scatter\", \"uid\": \"d319bd37-a275-4087-8b62-697fd0e10c2a\", \"x\": [0.18485915492957747], \"y\": [1.3107394366197183]}, {\"marker\": {\"color\": \"rgba(219, 64, 82, 0.8999999999999999)\", \"line\": {\"width\": 1.3}, \"opacity\": 0.8, \"size\": [56], \"symbol\": \"circle\"}, \"mode\": \"markers\", \"name\": \"YK Pathan\", \"text\": [\"YK Pathan\"], \"textfont\": {\"color\": \"#4D5663\"}, \"type\": \"scatter\", \"uid\": \"87a0cf2a-895a-45e0-bc1b-718aed0848e1\", \"x\": [0.18209083119108826], \"y\": [1.3886032562125108]}, {\"marker\": {\"color\": \"rgba(0, 128, 128, 0.8999999999999999)\", \"line\": {\"width\": 1.3}, \"opacity\": 0.8, \"size\": [46], \"symbol\": \"circle\"}, \"mode\": \"markers\", \"name\": \"KA Pollard\", \"text\": [\"KA Pollard\"], \"textfont\": {\"color\": \"#4D5663\"}, \"type\": \"scatter\", \"uid\": \"c332f8f1-3db9-41ba-a12a-f653ced95b5a\", \"x\": [0.18177189409368635], \"y\": [1.4175152749490836]}, {\"marker\": {\"color\": \"rgba(255, 255, 51, 0.8999999999999999)\", \"line\": {\"width\": 1.3}, \"opacity\": 0.8, \"size\": [44], \"symbol\": \"circle\"}, \"mode\": \"markers\", \"name\": \"SE Marsh\", \"text\": [\"SE Marsh\"], \"textfont\": {\"color\": \"#4D5663\"}, \"type\": \"scatter\", \"uid\": \"4a65de57-4afc-4008-97b2-4cc0b59fa0f6\", \"x\": [0.18139048614741243], \"y\": [1.3010977522216414]}, {\"marker\": {\"color\": \"rgba(128, 128, 0, 0.8999999999999999)\", \"line\": {\"width\": 1.3}, \"opacity\": 0.8, \"size\": [28], \"symbol\": \"circle\"}, \"mode\": \"markers\", \"name\": \"AJ Finch\", \"text\": [\"AJ Finch\"], \"textfont\": {\"color\": \"#4D5663\"}, \"type\": \"scatter\", \"uid\": \"f1c74483-bd70-47f4-9a29-4e839d6348e3\", \"x\": [0.17711370262390672], \"y\": [1.271137026239067]}, {\"marker\": {\"color\": \"rgba(251, 128, 114, 0.8999999999999999)\", \"line\": {\"width\": 1.3}, \"opacity\": 0.8, \"size\": [31], \"symbol\": \"circle\"}, \"mode\": \"markers\", \"name\": \"KL Rahul\", \"text\": [\"KL Rahul\"], \"textfont\": {\"color\": \"#4D5663\"}, \"type\": \"scatter\", \"uid\": \"fddfa52b-50cf-4225-96cf-96c952eb2712\", \"x\": [0.17679180887372015], \"y\": [1.374061433447099]}, {\"marker\": {\"color\": \"rgba(251, 128, 114, 0.7999999999999998)\", \"line\": {\"width\": 1.3}, \"opacity\": 0.8, \"size\": [14], \"symbol\": \"circle\"}, \"mode\": \"markers\", \"name\": \"LMP Simmons\", \"text\": [\"LMP Simmons\"], \"textfont\": {\"color\": \"#4D5663\"}, \"type\": \"scatter\", \"uid\": \"2c6a5235-fd7e-4399-b53f-da5efc55c9c0\", \"x\": [0.17425968109339407], \"y\": [1.2289293849658314]}, {\"marker\": {\"color\": \"rgba(128, 177, 211, 0.7999999999999998)\", \"line\": {\"width\": 1.3}, \"opacity\": 0.8, \"size\": [12], \"symbol\": \"circle\"}, \"mode\": \"markers\", \"name\": \"N Rana\", \"text\": [\"N Rana\"], \"textfont\": {\"color\": \"#4D5663\"}, \"type\": \"scatter\", \"uid\": \"0ad8c115-0657-40c1-9515-a991d1c6084b\", \"x\": [0.17365269461077845], \"y\": [1.3221556886227546]}, {\"marker\": {\"color\": \"rgba(255, 153, 51, 0.7999999999999998)\", \"line\": {\"width\": 1.3}, \"opacity\": 0.8, \"size\": [107], \"symbol\": \"circle\"}, \"mode\": \"markers\", \"name\": \"SK Raina\", \"text\": [\"SK Raina\"], \"textfont\": {\"color\": \"#4D5663\"}, \"type\": \"scatter\", \"uid\": \"995a66c9-7361-42ba-9710-c7020a07e581\", \"x\": [0.17062314540059348], \"y\": [1.339020771513353]}, {\"marker\": {\"color\": \"rgba(55, 128, 191, 0.7999999999999998)\", \"line\": {\"width\": 1.3}, \"opacity\": 0.8, \"size\": [22], \"symbol\": \"circle\"}, \"mode\": \"markers\", \"name\": \"KK Nair\", \"text\": [\"KK Nair\"], \"textfont\": {\"color\": \"#4D5663\"}, \"type\": \"scatter\", \"uid\": \"d95198e4-dc17-47e0-afaa-e07924c50359\", \"x\": [0.16982758620689656], \"y\": [1.2672413793103448]}, {\"marker\": {\"color\": \"rgba(50, 171, 96, 0.7999999999999998)\", \"line\": {\"width\": 1.3}, \"opacity\": 0.8, \"size\": [60], \"symbol\": \"circle\"}, \"mode\": \"markers\", \"name\": \"PA Patel\", \"text\": [\"PA Patel\"], \"textfont\": {\"color\": \"#4D5663\"}, \"type\": \"scatter\", \"uid\": \"fa365a2f-c827-4c57-8990-8a75c01bf203\", \"x\": [0.1698036006546645], \"y\": [1.1759410801963994]}, {\"marker\": {\"color\": \"rgba(128, 0, 128, 0.7999999999999998)\", \"line\": {\"width\": 1.3}, \"opacity\": 0.8, \"size\": [90], \"symbol\": \"circle\"}, \"mode\": \"markers\", \"name\": \"RV Uthappa\", \"text\": [\"RV Uthappa\"], \"textfont\": {\"color\": \"#4D5663\"}, \"type\": \"scatter\", \"uid\": \"032102ca-d72d-4e4c-8ad5-c962e590d3c9\", \"x\": [0.16953035509736541], \"y\": [1.2731958762886597]}, {\"marker\": {\"color\": \"rgba(219, 64, 82, 0.7999999999999998)\", \"line\": {\"width\": 1.3}, \"opacity\": 0.8, \"size\": [53], \"symbol\": \"circle\"}, \"mode\": \"markers\", \"name\": \"Yuvraj Singh\", \"text\": [\"Yuvraj Singh\"], \"textfont\": {\"color\": \"#4D5663\"}, \"type\": \"scatter\", \"uid\": \"0fe10362-d28a-4749-a199-f63705b536c1\", \"x\": [0.16628908019936564], \"y\": [1.2528318985047575]}, {\"marker\": {\"color\": \"rgba(0, 128, 128, 0.7999999999999998)\", \"line\": {\"width\": 1.3}, \"opacity\": 0.8, \"size\": [99], \"symbol\": \"circle\"}, \"mode\": \"markers\", \"name\": \"S Dhawan\", \"text\": [\"S Dhawan\"], \"textfont\": {\"color\": \"#4D5663\"}, \"type\": \"scatter\", \"uid\": \"4ea2bba1-5185-4daf-8fc5-4bab1b7c89ae\", \"x\": [0.16472457627118645], \"y\": [1.2266949152542372]}, {\"marker\": {\"color\": \"rgba(255, 255, 51, 0.7999999999999998)\", \"line\": {\"width\": 1.3}, \"opacity\": 0.8, \"size\": [18], \"symbol\": \"circle\"}, \"mode\": \"markers\", \"name\": \"MA Agarwal\", \"text\": [\"MA Agarwal\"], \"textfont\": {\"color\": \"#4D5663\"}, \"type\": \"scatter\", \"uid\": \"403e55b6-3e04-47b1-b95d-26f91a471d9c\", \"x\": [0.16455696202531644], \"y\": [1.2424537487828626]}, {\"marker\": {\"color\": \"rgba(128, 128, 0, 0.7999999999999998)\", \"line\": {\"width\": 1.3}, \"opacity\": 0.8, \"size\": [100], \"symbol\": \"circle\"}, \"mode\": \"markers\", \"name\": \"RG Sharma\", \"text\": [\"RG Sharma\"], \"textfont\": {\"color\": \"#4D5663\"}, \"type\": \"scatter\", \"uid\": \"7a27fbff-3b4e-4d89-995d-bb9f32476aa4\", \"x\": [0.1637840670859539], \"y\": [1.2877358490566038]}, {\"marker\": {\"color\": \"rgba(128, 128, 0, 0.7)\", \"line\": {\"width\": 1.3}, \"opacity\": 0.8, \"size\": [112], \"symbol\": \"circle\"}, \"mode\": \"markers\", \"name\": \"V Kohli\", \"text\": [\"V Kohli\"], \"textfont\": {\"color\": \"#4D5663\"}, \"type\": \"scatter\", \"uid\": \"34d2659b-4e59-4f97-b044-2671831f5356\", \"x\": [0.15981952030396582], \"y\": [1.2904298266445025]}, {\"marker\": {\"color\": \"rgba(251, 128, 114, 0.7)\", \"line\": {\"width\": 1.3}, \"opacity\": 0.8, \"size\": [28], \"symbol\": \"circle\"}, \"mode\": \"markers\", \"name\": \"WP Saha\", \"text\": [\"WP Saha\"], \"textfont\": {\"color\": \"#4D5663\"}, \"type\": \"scatter\", \"uid\": \"b9db1b38-4227-42cc-842b-3805a1ae2718\", \"x\": [0.15918958031837915], \"y\": [1.2879884225759768]}, {\"marker\": {\"color\": \"rgba(128, 177, 211, 0.7)\", \"line\": {\"width\": 1.3}, \"opacity\": 0.8, \"size\": [48], \"symbol\": \"circle\"}, \"mode\": \"markers\", \"name\": \"SR Tendulkar\", \"text\": [\"SR Tendulkar\"], \"textfont\": {\"color\": \"#4D5663\"}, \"type\": \"scatter\", \"uid\": \"e27798e0-7142-47f6-a83c-20c002aebd41\", \"x\": [0.15900195694716243], \"y\": [1.1418786692759295]}, {\"marker\": {\"color\": \"rgba(255, 153, 51, 0.7)\", \"line\": {\"width\": 1.3}, \"opacity\": 0.8, \"size\": [73], \"symbol\": \"circle\"}, \"mode\": \"markers\", \"name\": \"KD Karthik\", \"text\": [\"KD Karthik\"], \"textfont\": {\"color\": \"#4D5663\"}, \"type\": \"scatter\", \"uid\": \"53a8f103-4965-4c63-b602-4cdf8a2da37c\", \"x\": [0.1588235294117647], \"y\": [1.2761245674740485]}, {\"marker\": {\"color\": \"rgba(55, 128, 191, 0.7)\", \"line\": {\"width\": 1.3}, \"opacity\": 0.8, \"size\": [28], \"symbol\": \"circle\"}, \"mode\": \"markers\", \"name\": \"SS Iyer\", \"text\": [\"SS Iyer\"], \"textfont\": {\"color\": \"#4D5663\"}, \"type\": \"scatter\", \"uid\": \"88923456-095b-477d-b472-aad055486049\", \"x\": [0.1583941605839416], \"y\": [1.251094890510949]}, {\"marker\": {\"color\": \"rgba(50, 171, 96, 0.7)\", \"line\": {\"width\": 1.3}, \"opacity\": 0.8, \"size\": [17], \"symbol\": \"circle\"}, \"mode\": \"markers\", \"name\": \"KS Williamson\", \"text\": [\"KS Williamson\"], \"textfont\": {\"color\": \"#4D5663\"}, \"type\": \"scatter\", \"uid\": \"0c0ad706-d6b4-494d-806b-a541d13b6591\", \"x\": [0.1580020387359837], \"y\": [1.344546381243629]}, {\"marker\": {\"color\": \"rgba(128, 0, 128, 0.7)\", \"line\": {\"width\": 1.3}, \"opacity\": 0.8, \"size\": [33], \"symbol\": \"circle\"}, \"mode\": \"markers\", \"name\": \"DPMD Jayawardene\", \"text\": [\"DPMD Jayawardene\"], \"textfont\": {\"color\": \"#4D5663\"}, \"type\": \"scatter\", \"uid\": \"7d8ae675-f8c4-4211-82f8-f6c0f0096ebf\", \"x\": [0.15768725361366623], \"y\": [1.187910643889619]}, {\"marker\": {\"color\": \"rgba(219, 64, 82, 0.7)\", \"line\": {\"width\": 1.3}, \"opacity\": 0.8, \"size\": [19], \"symbol\": \"circle\"}, \"mode\": \"markers\", \"name\": \"TM Dilshan\", \"text\": [\"TM Dilshan\"], \"textfont\": {\"color\": \"#4D5663\"}, \"type\": \"scatter\", \"uid\": \"6d50ba2a-deaf-48ac-bc00-8f70f540a981\", \"x\": [0.15663801337153774], \"y\": [1.1012416427889207]}, {\"marker\": {\"color\": \"rgba(0, 128, 128, 0.7)\", \"line\": {\"width\": 1.3}, \"opacity\": 0.8, \"size\": [91], \"symbol\": \"circle\"}, \"mode\": \"markers\", \"name\": \"G Gambhir\", \"text\": [\"G Gambhir\"], \"textfont\": {\"color\": \"#4D5663\"}, \"type\": \"scatter\", \"uid\": \"ad821b6e-8ec3-46d0-9663-676a648eeacd\", \"x\": [0.15635641316685583], \"y\": [1.1983541430192963]}, {\"marker\": {\"color\": \"rgba(255, 255, 51, 0.7)\", \"line\": {\"width\": 1.3}, \"opacity\": 0.8, \"size\": [30], \"symbol\": \"circle\"}, \"mode\": \"markers\", \"name\": \"KC Sangakkara\", \"text\": [\"KC Sangakkara\"], \"textfont\": {\"color\": \"#4D5663\"}, \"type\": \"scatter\", \"uid\": \"1e0f1cb9-900a-4861-9e72-978538b563ee\", \"x\": [0.15589887640449437], \"y\": [1.184691011235955]}, {\"marker\": {\"color\": \"rgba(255, 255, 51, 0.5999999999999999)\", \"line\": {\"width\": 1.3}, \"opacity\": 0.8, \"size\": [28], \"symbol\": \"circle\"}, \"mode\": \"markers\", \"name\": \"DA Miller\", \"text\": [\"DA Miller\"], \"textfont\": {\"color\": \"#4D5663\"}, \"type\": \"scatter\", \"uid\": \"6974e312-a8f0-44c3-9806-b76ca01b402a\", \"x\": [0.1555232558139535], \"y\": [1.3626453488372092]}, {\"marker\": {\"color\": \"rgba(128, 128, 0, 0.5999999999999999)\", \"line\": {\"width\": 1.3}, \"opacity\": 0.8, \"size\": [44], \"symbol\": \"circle\"}, \"mode\": \"markers\", \"name\": \"R Dravid\", \"text\": [\"R Dravid\"], \"textfont\": {\"color\": \"#4D5663\"}, \"type\": \"scatter\", \"uid\": \"1a1d7396-f8e2-4fee-9d04-5c1e869329ef\", \"x\": [0.1548488008342023], \"y\": [1.1334723670490094]}, {\"marker\": {\"color\": \"rgba(251, 128, 114, 0.5999999999999999)\", \"line\": {\"width\": 1.3}, \"opacity\": 0.8, \"size\": [25], \"symbol\": \"circle\"}, \"mode\": \"markers\", \"name\": \"Mandeep Singh\", \"text\": [\"Mandeep Singh\"], \"textfont\": {\"color\": \"#4D5663\"}, \"type\": \"scatter\", \"uid\": \"40d36fe9-e1c7-4d31-805b-969b54020e58\", \"x\": [0.1547049441786284], \"y\": [1.233652312599681]}, {\"marker\": {\"color\": \"rgba(128, 177, 211, 0.5999999999999999)\", \"line\": {\"width\": 1.3}, \"opacity\": 0.8, \"size\": [51], \"symbol\": \"circle\"}, \"mode\": \"markers\", \"name\": \"M Vijay\", \"text\": [\"M Vijay\"], \"textfont\": {\"color\": \"#4D5663\"}, \"type\": \"scatter\", \"uid\": \"b56c45dd-7389-466a-8a39-454a9107c3a2\", \"x\": [0.15434380776340112], \"y\": [1.1968576709796672]}, {\"marker\": {\"color\": \"rgba(255, 153, 51, 0.5999999999999999)\", \"line\": {\"width\": 1.3}, \"opacity\": 0.8, \"size\": [85], \"symbol\": \"circle\"}, \"mode\": \"markers\", \"name\": \"MS Dhoni\", \"text\": [\"MS Dhoni\"], \"textfont\": {\"color\": \"#4D5663\"}, \"type\": \"scatter\", \"uid\": \"acf91871-10a4-43e9-8878-73c6f30a8469\", \"x\": [0.1518987341772152], \"y\": [1.3493068113321278]}, {\"marker\": {\"color\": \"rgba(55, 128, 191, 0.5999999999999999)\", \"line\": {\"width\": 1.3}, \"opacity\": 0.8, \"size\": [36], \"symbol\": \"circle\"}, \"mode\": \"markers\", \"name\": \"MEK Hussey\", \"text\": [\"MEK Hussey\"], \"textfont\": {\"color\": \"#4D5663\"}, \"type\": \"scatter\", \"uid\": \"29c6f633-4577-4be3-a276-2b088ed18a86\", \"x\": [0.15169902912621358], \"y\": [1.1996359223300972]}, {\"marker\": {\"color\": \"rgba(50, 171, 96, 0.5999999999999999)\", \"line\": {\"width\": 1.3}, \"opacity\": 0.8, \"size\": [39], \"symbol\": \"circle\"}, \"mode\": \"markers\", \"name\": \"SV Samson\", \"text\": [\"SV Samson\"], \"textfont\": {\"color\": \"#4D5663\"}, \"type\": \"scatter\", \"uid\": \"2b519f6e-31c2-4248-9cee-d2eea8c95448\", \"x\": [0.15046296296296297], \"y\": [1.2934027777777777]}, {\"marker\": {\"color\": \"rgba(128, 0, 128, 0.5999999999999999)\", \"line\": {\"width\": 1.3}, \"opacity\": 0.8, \"size\": [23], \"symbol\": \"circle\"}, \"mode\": \"markers\", \"name\": \"DJ Bravo\", \"text\": [\"DJ Bravo\"], \"textfont\": {\"color\": \"#4D5663\"}, \"type\": \"scatter\", \"uid\": \"fac20703-fa99-4740-ae64-f4988705394d\", \"x\": [0.14920368818105617], \"y\": [1.2556580050293378]}, {\"marker\": {\"color\": \"rgba(219, 64, 82, 0.5999999999999999)\", \"line\": {\"width\": 1.3}, \"opacity\": 0.8, \"size\": [82], \"symbol\": \"circle\"}, \"mode\": \"markers\", \"name\": \"AM Rahane\", \"text\": [\"AM Rahane\"], \"textfont\": {\"color\": \"#4D5663\"}, \"type\": \"scatter\", \"uid\": \"1479f0f1-c7c9-4b4c-8ef5-8192568f5a87\", \"x\": [0.1489891135303266], \"y\": [1.1975116640746502]}, {\"marker\": {\"color\": \"rgba(0, 128, 128, 0.5999999999999999)\", \"line\": {\"width\": 1.3}, \"opacity\": 0.8, \"size\": [32], \"symbol\": \"circle\"}, \"mode\": \"markers\", \"name\": \"F du Plessis\", \"text\": [\"F du Plessis\"], \"textfont\": {\"color\": \"#4D5663\"}, \"type\": \"scatter\", \"uid\": \"0b640590-7a4c-44ab-95e6-19b8eef835ae\", \"x\": [0.14876584389593062], \"y\": [1.2501667778519012]}, {\"marker\": {\"color\": \"rgba(0, 128, 128, 0.49999999999999983)\", \"line\": {\"width\": 1.3}, \"opacity\": 0.8, \"size\": [67], \"symbol\": \"circle\"}, \"mode\": \"markers\", \"name\": \"AT Rayudu\", \"text\": [\"AT Rayudu\"], \"textfont\": {\"color\": \"#4D5663\"}, \"type\": \"scatter\", \"uid\": \"48d3db28-3fc9-422a-b019-44e04b9d1076\", \"x\": [0.1484520701230884], \"y\": [1.2405818724356583]}, {\"marker\": {\"color\": \"rgba(255, 255, 51, 0.49999999999999983)\", \"line\": {\"width\": 1.3}, \"opacity\": 0.8, \"size\": [14], \"symbol\": \"circle\"}, \"mode\": \"markers\", \"name\": \"KM Jadhav\", \"text\": [\"KM Jadhav\"], \"textfont\": {\"color\": \"#4D5663\"}, \"type\": \"scatter\", \"uid\": \"005aa85a-fcbe-49e3-8bd1-002a60d101f8\", \"x\": [0.14789533560864618], \"y\": [1.2411831626848693]}, {\"marker\": {\"color\": \"rgba(128, 128, 0, 0.49999999999999983)\", \"line\": {\"width\": 1.3}, \"opacity\": 0.8, \"size\": [28], \"symbol\": \"circle\"}, \"mode\": \"markers\", \"name\": \"NV Ojha\", \"text\": [\"NV Ojha\"], \"textfont\": {\"color\": \"#4D5663\"}, \"type\": \"scatter\", \"uid\": \"44d56fd4-1e32-4f5c-99ec-7c8a51c2b4e9\", \"x\": [0.14705882352941177], \"y\": [1.1433823529411764]}, {\"marker\": {\"color\": \"rgba(251, 128, 114, 0.49999999999999983)\", \"line\": {\"width\": 1.3}, \"opacity\": 0.8, \"size\": [24], \"symbol\": \"circle\"}, \"mode\": \"markers\", \"name\": \"S Badrinath\", \"text\": [\"S Badrinath\"], \"textfont\": {\"color\": \"#4D5663\"}, \"type\": \"scatter\", \"uid\": \"cfb14756-8068-496d-a4fc-49b7b3bc222b\", \"x\": [0.1461847389558233], \"y\": [1.157429718875502]}, {\"marker\": {\"color\": \"rgba(128, 177, 211, 0.49999999999999983)\", \"line\": {\"width\": 1.3}, \"opacity\": 0.8, \"size\": [22], \"symbol\": \"circle\"}, \"mode\": \"markers\", \"name\": \"BJ Hodge\", \"text\": [\"BJ Hodge\"], \"textfont\": {\"color\": \"#4D5663\"}, \"type\": \"scatter\", \"uid\": \"4b850996-7c30-4e7f-aaec-2a322c937ac4\", \"x\": [0.14310494362532525], \"y\": [1.2142237640936686]}, {\"marker\": {\"color\": \"rgba(255, 153, 51, 0.49999999999999983)\", \"line\": {\"width\": 1.3}, \"opacity\": 0.8, \"size\": [35], \"symbol\": \"circle\"}, \"mode\": \"markers\", \"name\": \"SPD Smith\", \"text\": [\"SPD Smith\"], \"textfont\": {\"color\": \"#4D5663\"}, \"type\": \"scatter\", \"uid\": \"e2f8f1de-fe82-4b94-b50d-2c10c64ecf28\", \"x\": [0.14232673267326731], \"y\": [1.2667079207920793]}, {\"marker\": {\"color\": \"rgba(55, 128, 191, 0.49999999999999983)\", \"line\": {\"width\": 1.3}, \"opacity\": 0.8, \"size\": [20], \"symbol\": \"circle\"}, \"mode\": \"markers\", \"name\": \"DJ Hussey\", \"text\": [\"DJ Hussey\"], \"textfont\": {\"color\": \"#4D5663\"}, \"type\": \"scatter\", \"uid\": \"ee355cfa-4e30-4504-880f-d2fa0495163c\", \"x\": [0.1362397820163488], \"y\": [1.2007266121707538]}, {\"marker\": {\"color\": \"rgba(50, 171, 96, 0.49999999999999983)\", \"line\": {\"width\": 1.3}, \"opacity\": 0.8, \"size\": [12], \"symbol\": \"circle\"}, \"mode\": \"markers\", \"name\": \"HH Gibbs\", \"text\": [\"HH Gibbs\"], \"textfont\": {\"color\": \"#4D5663\"}, \"type\": \"scatter\", \"uid\": \"3be0591e-207e-4c44-8097-796e74f021fd\", \"x\": [0.13620071684587814], \"y\": [1.058542413381123]}, {\"marker\": {\"color\": \"rgba(128, 0, 128, 0.49999999999999983)\", \"line\": {\"width\": 1.3}, \"opacity\": 0.8, \"size\": [59], \"symbol\": \"circle\"}, \"mode\": \"markers\", \"name\": \"MK Pandey\", \"text\": [\"MK Pandey\"], \"textfont\": {\"color\": \"#4D5663\"}, \"type\": \"scatter\", \"uid\": \"d07a1abd-bdd6-4ebd-b3f7-7344d0e4d92a\", \"x\": [0.13567010309278352], \"y\": [1.1843298969072165]}, {\"marker\": {\"color\": \"rgba(219, 64, 82, 0.49999999999999983)\", \"line\": {\"width\": 1.3}, \"opacity\": 0.8, \"size\": [27], \"symbol\": \"circle\"}, \"mode\": \"markers\", \"name\": \"SC Ganguly\", \"text\": [\"SC Ganguly\"], \"textfont\": {\"color\": \"#4D5663\"}, \"type\": \"scatter\", \"uid\": \"c8855432-8314-4322-aa8f-9cb26627eb48\", \"x\": [0.13499245852187028], \"y\": [1.0173453996983408]}, {\"marker\": {\"color\": \"rgba(219, 64, 82, 0.39999999999999974)\", \"line\": {\"width\": 1.3}, \"opacity\": 0.8, \"size\": [13], \"symbol\": \"circle\"}, \"mode\": \"markers\", \"name\": \"LRPL Taylor\", \"text\": [\"LRPL Taylor\"], \"textfont\": {\"color\": \"#4D5663\"}, \"type\": \"scatter\", \"uid\": \"cd07c374-9a9a-4bff-82ec-0c0160f77617\", \"x\": [0.1322314049586777], \"y\": [1.2007083825265643]}, {\"marker\": {\"color\": \"rgba(0, 128, 128, 0.39999999999999974)\", \"line\": {\"width\": 1.3}, \"opacity\": 0.8, \"size\": [13], \"symbol\": \"circle\"}, \"mode\": \"markers\", \"name\": \"Y Venugopal Rao\", \"text\": [\"Y Venugopal Rao\"], \"textfont\": {\"color\": \"#4D5663\"}, \"type\": \"scatter\", \"uid\": \"5d09a4d2-ae5b-4376-8d13-3bb9e3c1227a\", \"x\": [0.13179190751445086], \"y\": [1.138728323699422]}, {\"marker\": {\"color\": \"rgba(255, 255, 51, 0.39999999999999974)\", \"line\": {\"width\": 1.3}, \"opacity\": 0.8, \"size\": [32], \"symbol\": \"circle\"}, \"mode\": \"markers\", \"name\": \"MK Tiwary\", \"text\": [\"MK Tiwary\"], \"textfont\": {\"color\": \"#4D5663\"}, \"type\": \"scatter\", \"uid\": \"03f3a4d5-e9eb-4c92-8d48-9dc7c312cfc6\", \"x\": [0.13163196776359973], \"y\": [1.1396910678307588]}, {\"marker\": {\"color\": \"rgba(128, 128, 0, 0.39999999999999974)\", \"line\": {\"width\": 1.3}, \"opacity\": 0.8, \"size\": [55], \"symbol\": \"circle\"}, \"mode\": \"markers\", \"name\": \"JH Kallis\", \"text\": [\"JH Kallis\"], \"textfont\": {\"color\": \"#4D5663\"}, \"type\": \"scatter\", \"uid\": \"5e6cfb6b-6ae1-42ab-a092-8693c3676054\", \"x\": [0.13051069402007856], \"y\": [1.0593627237014405]}, {\"marker\": {\"color\": \"rgba(251, 128, 114, 0.39999999999999974)\", \"line\": {\"width\": 1.3}, \"opacity\": 0.8, \"size\": [17], \"symbol\": \"circle\"}, \"mode\": \"markers\", \"name\": \"IK Pathan\", \"text\": [\"IK Pathan\"], \"textfont\": {\"color\": \"#4D5663\"}, \"type\": \"scatter\", \"uid\": \"f56712bb-32d8-4348-8bf5-8c0c5aa58c23\", \"x\": [0.12791878172588833], \"y\": [1.16751269035533]}, {\"marker\": {\"color\": \"rgba(128, 177, 211, 0.39999999999999974)\", \"line\": {\"width\": 1.3}, \"opacity\": 0.8, \"size\": [21], \"symbol\": \"circle\"}, \"mode\": \"markers\", \"name\": \"SS Tiwary\", \"text\": [\"SS Tiwary\"], \"textfont\": {\"color\": \"#4D5663\"}, \"type\": \"scatter\", \"uid\": \"ef4b80d4-4be9-4a64-90ce-33cef939a2ee\", \"x\": [0.12421242124212421], \"y\": [1.1485148514851484]}, {\"marker\": {\"color\": \"rgba(255, 153, 51, 0.39999999999999974)\", \"line\": {\"width\": 1.3}, \"opacity\": 0.8, \"size\": [36], \"symbol\": \"circle\"}, \"mode\": \"markers\", \"name\": \"RA Jadeja\", \"text\": [\"RA Jadeja\"], \"textfont\": {\"color\": \"#4D5663\"}, \"type\": \"scatter\", \"uid\": \"d40cb9c6-7f94-4feb-ac2b-c828480fb21c\", \"x\": [0.12377450980392157], \"y\": [1.1954656862745099]}, {\"marker\": {\"color\": \"rgba(55, 128, 191, 0.39999999999999974)\", \"line\": {\"width\": 1.3}, \"opacity\": 0.8, \"size\": [37], \"symbol\": \"circle\"}, \"mode\": \"markers\", \"name\": \"JP Duminy\", \"text\": [\"JP Duminy\"], \"textfont\": {\"color\": \"#4D5663\"}, \"type\": \"scatter\", \"uid\": \"8b7e11a1-aad8-46c6-9f2c-8cd3df16cbe8\", \"x\": [0.12202380952380952], \"y\": [1.2148809523809523]}],\n",
       "                        {\"legend\": {\"bgcolor\": \"#F5F6F9\", \"font\": {\"color\": \"#4D5663\"}}, \"paper_bgcolor\": \"#F5F6F9\", \"plot_bgcolor\": \"#F5F6F9\", \"title\": {\"font\": {\"color\": \"#4D5663\"}}, \"xaxis\": {\"gridcolor\": \"#E1E5ED\", \"showgrid\": true, \"tickfont\": {\"color\": \"#4D5663\"}, \"title\": {\"font\": {\"color\": \"#4D5663\"}, \"text\": \"Hard Hit\"}, \"zerolinecolor\": \"#E1E5ED\"}, \"yaxis\": {\"gridcolor\": \"#E1E5ED\", \"showgrid\": true, \"tickfont\": {\"color\": \"#4D5663\"}, \"title\": {\"font\": {\"color\": \"#4D5663\"}, \"text\": \"Fast Scoring Ability\"}, \"zerolinecolor\": \"#E1E5ED\"}},\n",
       "                        {\"showLink\": true, \"linkText\": \"Export to plot.ly\", \"plotlyServerURL\": \"https://plot.ly\", \"responsive\": true}\n",
       "                    ).then(function(){\n",
       "                            \n",
       "var gd = document.getElementById('cc1da815-864c-453a-b483-d55aaef006f8');\n",
       "var x = new MutationObserver(function (mutations, observer) {{\n",
       "        var display = window.getComputedStyle(gd).display;\n",
       "        if (!display || display === 'none') {{\n",
       "            console.log([gd, 'removed!']);\n",
       "            Plotly.purge(gd);\n",
       "            observer.disconnect();\n",
       "        }}\n",
       "}});\n",
       "\n",
       "// Listen for the removal of the full notebook cells\n",
       "var notebookContainer = gd.closest('#notebook-container');\n",
       "if (notebookContainer) {{\n",
       "    x.observe(notebookContainer, {childList: true});\n",
       "}}\n",
       "\n",
       "// Listen for the clearing of the current output cell\n",
       "var outputEl = gd.closest('.output');\n",
       "if (outputEl) {{\n",
       "    x.observe(outputEl, {childList: true});\n",
       "}}\n",
       "\n",
       "                        })\n",
       "                };\n",
       "                });\n",
       "            </script>\n",
       "        </div>"
      ]
     },
     "metadata": {},
     "output_type": "display_data"
    }
   ],
   "source": [
    "hh = hard_hit(ball_data.copy())\n",
    "fs = fast_scoring(ball_data.copy())\n",
    "hh_100 = hh[hh['Number of Balls Faced']>800]\n",
    "fs_100 = fs[fs['Number of Balls Faced']>800]\n",
    "out = pd.merge(hh_100, fs_100, how='inner', on=['batsman','Number of Balls Faced'])\n",
    "\n",
    "out.iplot(kind='bubble', x='Hard Hit', y='Fast Scoring', categories='batsman', size='Number of Balls Faced', text='batsman',\n",
    "          xTitle='Hard Hit', yTitle='Fast Scoring Ability', filename='cufflinks/simple-bubble-chart')"
   ]
  },
  {
   "cell_type": "code",
   "execution_count": 51,
   "metadata": {},
   "outputs": [
    {
     "data": {
      "application/vnd.plotly.v1+json": {
       "config": {
        "linkText": "Export to plot.ly",
        "plotlyServerURL": "https://plot.ly",
        "responsive": true,
        "showLink": true
       },
       "data": [
        {
         "marker": {
          "color": "rgba(255, 153, 51, 1.0)",
          "line": {
           "width": 1.3
          },
          "opacity": 0.8,
          "size": [
           24
          ],
          "symbol": "circle"
         },
         "mode": "markers",
         "name": "SC Ganguly",
         "text": [
          "SC Ganguly"
         ],
         "textfont": {
          "color": "#4D5663"
         },
         "type": "scatter",
         "uid": "254ecd3e-4bdd-4cb3-8d9d-ea2063d26745",
         "x": [
          0.13499245852187028
         ],
         "y": [
          1.0173453996983408
         ]
        },
        {
         "marker": {
          "color": "rgba(55, 128, 191, 1.0)",
          "line": {
           "width": 1.3
          },
          "opacity": 0.8,
          "size": [
           12
          ],
          "symbol": "circle"
         },
         "mode": "markers",
         "name": "HH Gibbs",
         "text": [
          "HH Gibbs"
         ],
         "textfont": {
          "color": "#4D5663"
         },
         "type": "scatter",
         "uid": "4752bf64-62b3-49a5-853e-442066e6f334",
         "x": [
          0.13620071684587814
         ],
         "y": [
          1.058542413381123
         ]
        },
        {
         "marker": {
          "color": "rgba(50, 171, 96, 1.0)",
          "line": {
           "width": 1.3
          },
          "opacity": 0.8,
          "size": [
           51
          ],
          "symbol": "circle"
         },
         "mode": "markers",
         "name": "JH Kallis",
         "text": [
          "JH Kallis"
         ],
         "textfont": {
          "color": "#4D5663"
         },
         "type": "scatter",
         "uid": "22bf1edf-a73d-4063-89bb-b1a50b75101d",
         "x": [
          0.13051069402007856
         ],
         "y": [
          1.0593627237014405
         ]
        },
        {
         "marker": {
          "color": "rgba(128, 0, 128, 1.0)",
          "line": {
           "width": 1.3
          },
          "opacity": 0.8,
          "size": [
           18
          ],
          "symbol": "circle"
         },
         "mode": "markers",
         "name": "TM Dilshan",
         "text": [
          "TM Dilshan"
         ],
         "textfont": {
          "color": "#4D5663"
         },
         "type": "scatter",
         "uid": "66fb5119-4d64-42af-b79a-49f82a1a12cd",
         "x": [
          0.15663801337153774
         ],
         "y": [
          1.1012416427889207
         ]
        },
        {
         "marker": {
          "color": "rgba(219, 64, 82, 1.0)",
          "line": {
           "width": 1.3
          },
          "opacity": 0.8,
          "size": [
           45
          ],
          "symbol": "circle"
         },
         "mode": "markers",
         "name": "R Dravid",
         "text": [
          "R Dravid"
         ],
         "textfont": {
          "color": "#4D5663"
         },
         "type": "scatter",
         "uid": "9f610a53-1128-4b99-ae10-2efc539b6a3a",
         "x": [
          0.1548488008342023
         ],
         "y": [
          1.1334723670490094
         ]
        },
        {
         "marker": {
          "color": "rgba(0, 128, 128, 1.0)",
          "line": {
           "width": 1.3
          },
          "opacity": 0.8,
          "size": [
           14
          ],
          "symbol": "circle"
         },
         "mode": "markers",
         "name": "Y Venugopal Rao",
         "text": [
          "Y Venugopal Rao"
         ],
         "textfont": {
          "color": "#4D5663"
         },
         "type": "scatter",
         "uid": "8e0cac15-b663-457d-ae37-2003ab064053",
         "x": [
          0.13179190751445086
         ],
         "y": [
          1.138728323699422
         ]
        },
        {
         "marker": {
          "color": "rgba(255, 255, 51, 1.0)",
          "line": {
           "width": 1.3
          },
          "opacity": 0.8,
          "size": [
           33
          ],
          "symbol": "circle"
         },
         "mode": "markers",
         "name": "MK Tiwary",
         "text": [
          "MK Tiwary"
         ],
         "textfont": {
          "color": "#4D5663"
         },
         "type": "scatter",
         "uid": "dac55d23-3704-4e2f-a81e-2a7d4ce2a916",
         "x": [
          0.13163196776359973
         ],
         "y": [
          1.1396910678307588
         ]
        },
        {
         "marker": {
          "color": "rgba(128, 128, 0, 1.0)",
          "line": {
           "width": 1.3
          },
          "opacity": 0.8,
          "size": [
           49
          ],
          "symbol": "circle"
         },
         "mode": "markers",
         "name": "SR Tendulkar",
         "text": [
          "SR Tendulkar"
         ],
         "textfont": {
          "color": "#4D5663"
         },
         "type": "scatter",
         "uid": "74d8e56d-6374-4376-8664-0433d924dd12",
         "x": [
          0.15900195694716243
         ],
         "y": [
          1.1418786692759295
         ]
        },
        {
         "marker": {
          "color": "rgba(251, 128, 114, 1.0)",
          "line": {
           "width": 1.3
          },
          "opacity": 0.8,
          "size": [
           29
          ],
          "symbol": "circle"
         },
         "mode": "markers",
         "name": "NV Ojha",
         "text": [
          "NV Ojha"
         ],
         "textfont": {
          "color": "#4D5663"
         },
         "type": "scatter",
         "uid": "0851be92-dfe4-406a-86b4-21177d7a00f3",
         "x": [
          0.14705882352941177
         ],
         "y": [
          1.1433823529411764
         ]
        },
        {
         "marker": {
          "color": "rgba(128, 177, 211, 1.0)",
          "line": {
           "width": 1.3
          },
          "opacity": 0.8,
          "size": [
           22
          ],
          "symbol": "circle"
         },
         "mode": "markers",
         "name": "SS Tiwary",
         "text": [
          "SS Tiwary"
         ],
         "textfont": {
          "color": "#4D5663"
         },
         "type": "scatter",
         "uid": "0a8527b7-27b3-4ab6-91ea-db8ab5f7db7a",
         "x": [
          0.12421242124212421
         ],
         "y": [
          1.1485148514851484
         ]
        },
        {
         "marker": {
          "color": "rgba(128, 177, 211, 0.8999999999999999)",
          "line": {
           "width": 1.3
          },
          "opacity": 0.8,
          "size": [
           26
          ],
          "symbol": "circle"
         },
         "mode": "markers",
         "name": "AD Russell",
         "text": [
          "AD Russell"
         ],
         "textfont": {
          "color": "#4D5663"
         },
         "type": "scatter",
         "uid": "d44fd339-98ef-4d0a-9577-ebd8c4ca9a97",
         "x": [
          0.27023661270236615
         ],
         "y": [
          1.7995018679950188
         ]
        },
        {
         "marker": {
          "color": "rgba(255, 153, 51, 0.8999999999999999)",
          "line": {
           "width": 1.3
          },
          "opacity": 0.8,
          "size": [
           35
          ],
          "symbol": "circle"
         },
         "mode": "markers",
         "name": "RR Pant",
         "text": [
          "RR Pant"
         ],
         "textfont": {
          "color": "#4D5663"
         },
         "type": "scatter",
         "uid": "75f154b4-76ff-4262-be3b-e90208ca5e54",
         "x": [
          0.2246376811594203
         ],
         "y": [
          1.6231884057971016
         ]
        },
        {
         "marker": {
          "color": "rgba(55, 128, 191, 0.8999999999999999)",
          "line": {
           "width": 1.3
          },
          "opacity": 0.8,
          "size": [
           25
          ],
          "symbol": "circle"
         },
         "mode": "markers",
         "name": "GJ Maxwell",
         "text": [
          "GJ Maxwell"
         ],
         "textfont": {
          "color": "#4D5663"
         },
         "type": "scatter",
         "uid": "9000fb03-fbf3-44af-907d-d4fce5287334",
         "x": [
          0.22283813747228381
         ],
         "y": [
          1.5554323725055432
         ]
        },
        {
         "marker": {
          "color": "rgba(50, 171, 96, 0.8999999999999999)",
          "line": {
           "width": 1.3
          },
          "opacity": 0.8,
          "size": [
           26
          ],
          "symbol": "circle"
         },
         "mode": "markers",
         "name": "JC Buttler",
         "text": [
          "JC Buttler"
         ],
         "textfont": {
          "color": "#4D5663"
         },
         "type": "scatter",
         "uid": "c332a79c-aba9-4422-9719-26f00e235238",
         "x": [
          0.2138364779874214
         ],
         "y": [
          1.5
         ]
        },
        {
         "marker": {
          "color": "rgba(128, 0, 128, 0.8999999999999999)",
          "line": {
           "width": 1.3
          },
          "opacity": 0.8,
          "size": [
           59
          ],
          "symbol": "circle"
         },
         "mode": "markers",
         "name": "V Sehwag",
         "text": [
          "V Sehwag"
         ],
         "textfont": {
          "color": "#4D5663"
         },
         "type": "scatter",
         "uid": "ea06bbc4-fff2-4c1b-b6d3-05c12ce0ad42",
         "x": [
          0.24004364429896344
         ],
         "y": [
          1.4882705946535735
         ]
        },
        {
         "marker": {
          "color": "rgba(219, 64, 82, 0.8999999999999999)",
          "line": {
           "width": 1.3
          },
          "opacity": 0.8,
          "size": [
           103
          ],
          "symbol": "circle"
         },
         "mode": "markers",
         "name": "AB de Villiers",
         "text": [
          "AB de Villiers"
         ],
         "textfont": {
          "color": "#4D5663"
         },
         "type": "scatter",
         "uid": "92b1c8e5-7b59-4c4f-8b63-a368b97adcd7",
         "x": [
          0.1918038293584145
         ],
         "y": [
          1.487403426268055
         ]
        },
        {
         "marker": {
          "color": "rgba(0, 128, 128, 0.8999999999999999)",
          "line": {
           "width": 1.3
          },
          "opacity": 0.8,
          "size": [
           107
          ],
          "symbol": "circle"
         },
         "mode": "markers",
         "name": "CH Gayle",
         "text": [
          "CH Gayle"
         ],
         "textfont": {
          "color": "#4D5663"
         },
         "type": "scatter",
         "uid": "8e1377c3-0699-40ab-bb1f-b0a853f07291",
         "x": [
          0.22452890450335355
         ],
         "y": [
          1.4564037048866176
         ]
        },
        {
         "marker": {
          "color": "rgba(255, 255, 51, 0.8999999999999999)",
          "line": {
           "width": 1.3
          },
          "opacity": 0.8,
          "size": [
           61
          ],
          "symbol": "circle"
         },
         "mode": "markers",
         "name": "KA Pollard",
         "text": [
          "KA Pollard"
         ],
         "textfont": {
          "color": "#4D5663"
         },
         "type": "scatter",
         "uid": "011b57f8-aff3-42b9-a0f0-825681240000",
         "x": [
          0.18177189409368635
         ],
         "y": [
          1.4175152749490836
         ]
        },
        {
         "marker": {
          "color": "rgba(128, 128, 0, 0.8999999999999999)",
          "line": {
           "width": 1.3
          },
          "opacity": 0.8,
          "size": [
           112
          ],
          "symbol": "circle"
         },
         "mode": "markers",
         "name": "DA Warner",
         "text": [
          "DA Warner"
         ],
         "textfont": {
          "color": "#4D5663"
         },
         "type": "scatter",
         "uid": "387aaa23-c5e7-4cd9-897c-448abed9043a",
         "x": [
          0.1883460859329017
         ],
         "y": [
          1.3952324896998234
         ]
        },
        {
         "marker": {
          "color": "rgba(251, 128, 114, 0.8999999999999999)",
          "line": {
           "width": 1.3
          },
          "opacity": 0.8,
          "size": [
           22
          ],
          "symbol": "circle"
         },
         "mode": "markers",
         "name": "CA Lynn",
         "text": [
          "CA Lynn"
         ],
         "textfont": {
          "color": "#4D5663"
         },
         "type": "scatter",
         "uid": "75887c0b-ae39-4006-a34a-4beafab643d9",
         "x": [
          0.20234291799787008
         ],
         "y": [
          1.3929712460063899
         ]
        }
       ],
       "layout": {
        "legend": {
         "x": 1,
         "y": 0
        },
        "title": {
         "font": {
          "size": 20
         },
         "text": "10 Best and 10 Worst Batsman",
         "x": 0,
         "xref": "paper"
        },
        "xaxis": {
         "exponentformat": "e",
         "showexponent": "all",
         "showticklabels": true,
         "tickfont": {
          "size": 14
         },
         "title": {
          "font": {
           "size": 20
          },
          "text": "Hard Hit"
         }
        },
        "yaxis": {
         "exponentformat": "e",
         "showexponent": "all",
         "showticklabels": true,
         "tickfont": {
          "color": "black",
          "family": "Old Standard TT, serif",
          "size": 14
         },
         "title": {
          "font": {
           "family": "Arial, sans-serif",
           "size": 20
          },
          "text": "Fast Scoring Ability"
         }
        }
       }
      },
      "text/html": [
       "<div>\n",
       "        \n",
       "        \n",
       "            <div id=\"c5822a8d-e856-48bd-9710-6a79b5bcbb21\" class=\"plotly-graph-div\" style=\"height:525px; width:100%;\"></div>\n",
       "            <script type=\"text/javascript\">\n",
       "                require([\"plotly\"], function(Plotly) {\n",
       "                    window.PLOTLYENV=window.PLOTLYENV || {};\n",
       "                    window.PLOTLYENV.BASE_URL='https://plot.ly';\n",
       "                    \n",
       "                if (document.getElementById(\"c5822a8d-e856-48bd-9710-6a79b5bcbb21\")) {\n",
       "                    Plotly.newPlot(\n",
       "                        'c5822a8d-e856-48bd-9710-6a79b5bcbb21',\n",
       "                        [{\"marker\": {\"color\": \"rgba(255, 153, 51, 1.0)\", \"line\": {\"width\": 1.3}, \"opacity\": 0.8, \"size\": [24], \"symbol\": \"circle\"}, \"mode\": \"markers\", \"name\": \"SC Ganguly\", \"text\": [\"SC Ganguly\"], \"textfont\": {\"color\": \"#4D5663\"}, \"type\": \"scatter\", \"uid\": \"c1a68bd5-3d25-4082-93bc-282a1d67ff34\", \"x\": [0.13499245852187028], \"y\": [1.0173453996983408]}, {\"marker\": {\"color\": \"rgba(55, 128, 191, 1.0)\", \"line\": {\"width\": 1.3}, \"opacity\": 0.8, \"size\": [12], \"symbol\": \"circle\"}, \"mode\": \"markers\", \"name\": \"HH Gibbs\", \"text\": [\"HH Gibbs\"], \"textfont\": {\"color\": \"#4D5663\"}, \"type\": \"scatter\", \"uid\": \"006f602a-1356-4f37-ae5d-60fc9d94f5b5\", \"x\": [0.13620071684587814], \"y\": [1.058542413381123]}, {\"marker\": {\"color\": \"rgba(50, 171, 96, 1.0)\", \"line\": {\"width\": 1.3}, \"opacity\": 0.8, \"size\": [51], \"symbol\": \"circle\"}, \"mode\": \"markers\", \"name\": \"JH Kallis\", \"text\": [\"JH Kallis\"], \"textfont\": {\"color\": \"#4D5663\"}, \"type\": \"scatter\", \"uid\": \"abe4e8dd-ecee-4a35-ac6f-6e08918e5d35\", \"x\": [0.13051069402007856], \"y\": [1.0593627237014405]}, {\"marker\": {\"color\": \"rgba(128, 0, 128, 1.0)\", \"line\": {\"width\": 1.3}, \"opacity\": 0.8, \"size\": [18], \"symbol\": \"circle\"}, \"mode\": \"markers\", \"name\": \"TM Dilshan\", \"text\": [\"TM Dilshan\"], \"textfont\": {\"color\": \"#4D5663\"}, \"type\": \"scatter\", \"uid\": \"7d0614e5-924b-4773-bb1c-c50d1815548e\", \"x\": [0.15663801337153774], \"y\": [1.1012416427889207]}, {\"marker\": {\"color\": \"rgba(219, 64, 82, 1.0)\", \"line\": {\"width\": 1.3}, \"opacity\": 0.8, \"size\": [45], \"symbol\": \"circle\"}, \"mode\": \"markers\", \"name\": \"R Dravid\", \"text\": [\"R Dravid\"], \"textfont\": {\"color\": \"#4D5663\"}, \"type\": \"scatter\", \"uid\": \"c94bfe25-0263-4e9e-95f0-62af5e6f6ddc\", \"x\": [0.1548488008342023], \"y\": [1.1334723670490094]}, {\"marker\": {\"color\": \"rgba(0, 128, 128, 1.0)\", \"line\": {\"width\": 1.3}, \"opacity\": 0.8, \"size\": [14], \"symbol\": \"circle\"}, \"mode\": \"markers\", \"name\": \"Y Venugopal Rao\", \"text\": [\"Y Venugopal Rao\"], \"textfont\": {\"color\": \"#4D5663\"}, \"type\": \"scatter\", \"uid\": \"4624868a-052e-4858-84f5-6a965cb7f50b\", \"x\": [0.13179190751445086], \"y\": [1.138728323699422]}, {\"marker\": {\"color\": \"rgba(255, 255, 51, 1.0)\", \"line\": {\"width\": 1.3}, \"opacity\": 0.8, \"size\": [33], \"symbol\": \"circle\"}, \"mode\": \"markers\", \"name\": \"MK Tiwary\", \"text\": [\"MK Tiwary\"], \"textfont\": {\"color\": \"#4D5663\"}, \"type\": \"scatter\", \"uid\": \"f9a44653-11ec-4d62-8a68-a4fec7ac0950\", \"x\": [0.13163196776359973], \"y\": [1.1396910678307588]}, {\"marker\": {\"color\": \"rgba(128, 128, 0, 1.0)\", \"line\": {\"width\": 1.3}, \"opacity\": 0.8, \"size\": [49], \"symbol\": \"circle\"}, \"mode\": \"markers\", \"name\": \"SR Tendulkar\", \"text\": [\"SR Tendulkar\"], \"textfont\": {\"color\": \"#4D5663\"}, \"type\": \"scatter\", \"uid\": \"42588dcf-6ad7-47f8-9ebe-73596cf9b3d4\", \"x\": [0.15900195694716243], \"y\": [1.1418786692759295]}, {\"marker\": {\"color\": \"rgba(251, 128, 114, 1.0)\", \"line\": {\"width\": 1.3}, \"opacity\": 0.8, \"size\": [29], \"symbol\": \"circle\"}, \"mode\": \"markers\", \"name\": \"NV Ojha\", \"text\": [\"NV Ojha\"], \"textfont\": {\"color\": \"#4D5663\"}, \"type\": \"scatter\", \"uid\": \"54c80377-4fac-4e00-b551-6e2318ed2dd4\", \"x\": [0.14705882352941177], \"y\": [1.1433823529411764]}, {\"marker\": {\"color\": \"rgba(128, 177, 211, 1.0)\", \"line\": {\"width\": 1.3}, \"opacity\": 0.8, \"size\": [22], \"symbol\": \"circle\"}, \"mode\": \"markers\", \"name\": \"SS Tiwary\", \"text\": [\"SS Tiwary\"], \"textfont\": {\"color\": \"#4D5663\"}, \"type\": \"scatter\", \"uid\": \"dafbdf27-137d-478e-99e6-165b93a6e621\", \"x\": [0.12421242124212421], \"y\": [1.1485148514851484]}, {\"marker\": {\"color\": \"rgba(128, 177, 211, 0.8999999999999999)\", \"line\": {\"width\": 1.3}, \"opacity\": 0.8, \"size\": [26], \"symbol\": \"circle\"}, \"mode\": \"markers\", \"name\": \"AD Russell\", \"text\": [\"AD Russell\"], \"textfont\": {\"color\": \"#4D5663\"}, \"type\": \"scatter\", \"uid\": \"1cbab000-244a-4dc3-9d2c-7eff2bc0f348\", \"x\": [0.27023661270236615], \"y\": [1.7995018679950188]}, {\"marker\": {\"color\": \"rgba(255, 153, 51, 0.8999999999999999)\", \"line\": {\"width\": 1.3}, \"opacity\": 0.8, \"size\": [35], \"symbol\": \"circle\"}, \"mode\": \"markers\", \"name\": \"RR Pant\", \"text\": [\"RR Pant\"], \"textfont\": {\"color\": \"#4D5663\"}, \"type\": \"scatter\", \"uid\": \"2c2a1b4e-7fa1-4659-acde-1972a7abe0f0\", \"x\": [0.2246376811594203], \"y\": [1.6231884057971016]}, {\"marker\": {\"color\": \"rgba(55, 128, 191, 0.8999999999999999)\", \"line\": {\"width\": 1.3}, \"opacity\": 0.8, \"size\": [25], \"symbol\": \"circle\"}, \"mode\": \"markers\", \"name\": \"GJ Maxwell\", \"text\": [\"GJ Maxwell\"], \"textfont\": {\"color\": \"#4D5663\"}, \"type\": \"scatter\", \"uid\": \"812fee2d-a159-49f5-a184-9bd32e997a00\", \"x\": [0.22283813747228381], \"y\": [1.5554323725055432]}, {\"marker\": {\"color\": \"rgba(50, 171, 96, 0.8999999999999999)\", \"line\": {\"width\": 1.3}, \"opacity\": 0.8, \"size\": [26], \"symbol\": \"circle\"}, \"mode\": \"markers\", \"name\": \"JC Buttler\", \"text\": [\"JC Buttler\"], \"textfont\": {\"color\": \"#4D5663\"}, \"type\": \"scatter\", \"uid\": \"a2e33c7d-c845-48cf-b348-b50050535075\", \"x\": [0.2138364779874214], \"y\": [1.5]}, {\"marker\": {\"color\": \"rgba(128, 0, 128, 0.8999999999999999)\", \"line\": {\"width\": 1.3}, \"opacity\": 0.8, \"size\": [59], \"symbol\": \"circle\"}, \"mode\": \"markers\", \"name\": \"V Sehwag\", \"text\": [\"V Sehwag\"], \"textfont\": {\"color\": \"#4D5663\"}, \"type\": \"scatter\", \"uid\": \"2c110513-884b-4038-ab80-905b173b9770\", \"x\": [0.24004364429896344], \"y\": [1.4882705946535735]}, {\"marker\": {\"color\": \"rgba(219, 64, 82, 0.8999999999999999)\", \"line\": {\"width\": 1.3}, \"opacity\": 0.8, \"size\": [103], \"symbol\": \"circle\"}, \"mode\": \"markers\", \"name\": \"AB de Villiers\", \"text\": [\"AB de Villiers\"], \"textfont\": {\"color\": \"#4D5663\"}, \"type\": \"scatter\", \"uid\": \"8e1e1c3a-8c18-4271-a7ec-e04f3fda75ca\", \"x\": [0.1918038293584145], \"y\": [1.487403426268055]}, {\"marker\": {\"color\": \"rgba(0, 128, 128, 0.8999999999999999)\", \"line\": {\"width\": 1.3}, \"opacity\": 0.8, \"size\": [107], \"symbol\": \"circle\"}, \"mode\": \"markers\", \"name\": \"CH Gayle\", \"text\": [\"CH Gayle\"], \"textfont\": {\"color\": \"#4D5663\"}, \"type\": \"scatter\", \"uid\": \"7ae9e68c-5566-4674-a9e6-6b098bb25ded\", \"x\": [0.22452890450335355], \"y\": [1.4564037048866176]}, {\"marker\": {\"color\": \"rgba(255, 255, 51, 0.8999999999999999)\", \"line\": {\"width\": 1.3}, \"opacity\": 0.8, \"size\": [61], \"symbol\": \"circle\"}, \"mode\": \"markers\", \"name\": \"KA Pollard\", \"text\": [\"KA Pollard\"], \"textfont\": {\"color\": \"#4D5663\"}, \"type\": \"scatter\", \"uid\": \"da7e57e2-8dc0-4b7b-848b-9d116151b12c\", \"x\": [0.18177189409368635], \"y\": [1.4175152749490836]}, {\"marker\": {\"color\": \"rgba(128, 128, 0, 0.8999999999999999)\", \"line\": {\"width\": 1.3}, \"opacity\": 0.8, \"size\": [112], \"symbol\": \"circle\"}, \"mode\": \"markers\", \"name\": \"DA Warner\", \"text\": [\"DA Warner\"], \"textfont\": {\"color\": \"#4D5663\"}, \"type\": \"scatter\", \"uid\": \"c5fd5089-87dc-49d2-bb04-0b26153ca3a9\", \"x\": [0.1883460859329017], \"y\": [1.3952324896998234]}, {\"marker\": {\"color\": \"rgba(251, 128, 114, 0.8999999999999999)\", \"line\": {\"width\": 1.3}, \"opacity\": 0.8, \"size\": [22], \"symbol\": \"circle\"}, \"mode\": \"markers\", \"name\": \"CA Lynn\", \"text\": [\"CA Lynn\"], \"textfont\": {\"color\": \"#4D5663\"}, \"type\": \"scatter\", \"uid\": \"5ad53812-b2a3-461f-a115-c90932b93963\", \"x\": [0.20234291799787008], \"y\": [1.3929712460063899]}],\n",
       "                        {\"legend\": {\"x\": 1, \"y\": 0}, \"title\": {\"font\": {\"size\": 20}, \"text\": \"10 Best and 10 Worst Batsman\", \"x\": 0, \"xref\": \"paper\"}, \"xaxis\": {\"exponentformat\": \"e\", \"showexponent\": \"all\", \"showticklabels\": true, \"tickfont\": {\"size\": 14}, \"title\": {\"font\": {\"size\": 20}, \"text\": \"Hard Hit\"}}, \"yaxis\": {\"exponentformat\": \"e\", \"showexponent\": \"all\", \"showticklabels\": true, \"tickfont\": {\"color\": \"black\", \"family\": \"Old Standard TT, serif\", \"size\": 14}, \"title\": {\"font\": {\"family\": \"Arial, sans-serif\", \"size\": 20}, \"text\": \"Fast Scoring Ability\"}}},\n",
       "                        {\"showLink\": true, \"linkText\": \"Export to plot.ly\", \"plotlyServerURL\": \"https://plot.ly\", \"responsive\": true}\n",
       "                    ).then(function(){\n",
       "                            \n",
       "var gd = document.getElementById('c5822a8d-e856-48bd-9710-6a79b5bcbb21');\n",
       "var x = new MutationObserver(function (mutations, observer) {{\n",
       "        var display = window.getComputedStyle(gd).display;\n",
       "        if (!display || display === 'none') {{\n",
       "            console.log([gd, 'removed!']);\n",
       "            Plotly.purge(gd);\n",
       "            observer.disconnect();\n",
       "        }}\n",
       "}});\n",
       "\n",
       "// Listen for the removal of the full notebook cells\n",
       "var notebookContainer = gd.closest('#notebook-container');\n",
       "if (notebookContainer) {{\n",
       "    x.observe(notebookContainer, {childList: true});\n",
       "}}\n",
       "\n",
       "// Listen for the clearing of the current output cell\n",
       "var outputEl = gd.closest('.output');\n",
       "if (outputEl) {{\n",
       "    x.observe(outputEl, {childList: true});\n",
       "}}\n",
       "\n",
       "                        })\n",
       "                };\n",
       "                });\n",
       "            </script>\n",
       "        </div>"
      ]
     },
     "metadata": {},
     "output_type": "display_data"
    }
   ],
   "source": [
    "out_best = out.nsmallest(10, 'Fast Scoring')\n",
    "out_worst = out.nlargest(10, 'Fast Scoring')\n",
    "\n",
    "layout = go.Layout(\n",
    "    title=dict(\n",
    "        text=\"10 Best and 10 Worst Batsman\",\n",
    "        xref=\"paper\",\n",
    "        font = dict(size=20),\n",
    "        x=0\n",
    "    \n",
    "    ),\n",
    "  legend = dict(\n",
    "    x = 1,\n",
    "    y = 0\n",
    "  ),\n",
    "    xaxis=dict(\n",
    "        title='Hard Hit',\n",
    "        titlefont=dict(\n",
    "            size=20,\n",
    "        ),\n",
    "        showticklabels=True,\n",
    "        tickfont=dict(\n",
    "            size=14,\n",
    "        ),\n",
    "        exponentformat='e',\n",
    "        showexponent='all'\n",
    "    ),\n",
    "    yaxis=dict(\n",
    "        title='Fast Scoring Ability',\n",
    "        titlefont=dict(\n",
    "            family='Arial, sans-serif',\n",
    "            size=20,\n",
    "        ),\n",
    "        showticklabels=True,\n",
    "        tickfont=dict(\n",
    "            family='Old Standard TT, serif',\n",
    "            size=14,\n",
    "            color='black'\n",
    "        ),\n",
    "        exponentformat='e',\n",
    "        showexponent='all'\n",
    "    )\n",
    ")\n",
    "\n",
    "b_comp = pd.concat([out_best, out_worst])\n",
    "b_comp.iplot(layout=layout, kind='bubble', x='Hard Hit', y='Fast Scoring', categories='batsman', size='runs', text='batsman',\n",
    "          xTitle='Hard Hit', yTitle='Fast Scoring Ability', filename='cufflinks/simple-bubble-chart')"
   ]
  },
  {
   "cell_type": "code",
   "execution_count": 29,
   "metadata": {},
   "outputs": [
    {
     "data": {
      "application/vnd.plotly.v1+json": {
       "config": {
        "linkText": "Export to plot.ly",
        "plotlyServerURL": "https://plot.ly",
        "responsive": true,
        "showLink": true
       },
       "data": [
        {
         "marker": {
          "color": "rgba(255, 153, 51, 1.0)",
          "line": {
           "width": 1.3
          },
          "opacity": 0.8,
          "size": [
           100
          ],
          "symbol": "circle"
         },
         "mode": "markers",
         "name": "Royal Challengers Bangalore",
         "text": [
          "Royal Challengers Bangalore"
         ],
         "textfont": {
          "color": "#4D5663"
         },
         "type": "scatter",
         "uid": "04770129-66d9-44d5-bf07-c40ce9266759",
         "x": [
          0.16701740960397934
         ],
         "y": [
          1.280610292710924
         ]
        },
        {
         "marker": {
          "color": "rgba(55, 128, 191, 1.0)",
          "line": {
           "width": 1.3
          },
          "opacity": 0.8,
          "size": [
           97
          ],
          "symbol": "circle"
         },
         "mode": "markers",
         "name": "Kings XI Punjab",
         "text": [
          "Kings XI Punjab"
         ],
         "textfont": {
          "color": "#4D5663"
         },
         "type": "scatter",
         "uid": "d5ddd7e0-f623-46a1-a37b-cf81ef890a62",
         "x": [
          0.16406287325020305
         ],
         "y": [
          1.2645358559075057
         ]
        },
        {
         "marker": {
          "color": "rgba(50, 171, 96, 1.0)",
          "line": {
           "width": 1.3
          },
          "opacity": 0.8,
          "size": [
           112
          ],
          "symbol": "circle"
         },
         "mode": "markers",
         "name": "Mumbai Indians",
         "text": [
          "Mumbai Indians"
         ],
         "textfont": {
          "color": "#4D5663"
         },
         "type": "scatter",
         "uid": "1a12aa91-f6e6-472e-8c87-101f72da78c6",
         "x": [
          0.1628719218356249
         ],
         "y": [
          1.2451478845218622
         ]
        },
        {
         "marker": {
          "color": "rgba(128, 0, 128, 1.0)",
          "line": {
           "width": 1.3
          },
          "opacity": 0.8,
          "size": [
           92
          ],
          "symbol": "circle"
         },
         "mode": "markers",
         "name": "Kolkata Knight Riders",
         "text": [
          "Kolkata Knight Riders"
         ],
         "textfont": {
          "color": "#4D5663"
         },
         "type": "scatter",
         "uid": "f4636398-8782-4e68-8fcc-e0379fff13ed",
         "x": [
          0.16128104324479817
         ],
         "y": [
          1.2414900757503116
         ]
        },
        {
         "marker": {
          "color": "rgba(219, 64, 82, 1.0)",
          "line": {
           "width": 1.3
          },
          "opacity": 0.8,
          "size": [
           86
          ],
          "symbol": "circle"
         },
         "mode": "markers",
         "name": "Chennai Super Kings",
         "text": [
          "Chennai Super Kings"
         ],
         "textfont": {
          "color": "#4D5663"
         },
         "type": "scatter",
         "uid": "7f15339b-4772-49bd-8f0b-4cf2a84644e4",
         "x": [
          0.1602064568363526
         ],
         "y": [
          1.270316769557737
         ]
        },
        {
         "marker": {
          "color": "rgba(0, 128, 128, 1.0)",
          "line": {
           "width": 1.3
          },
          "opacity": 0.8,
          "size": [
           69
          ],
          "symbol": "circle"
         },
         "mode": "markers",
         "name": "Delhi Daredevils",
         "text": [
          "Delhi Daredevils"
         ],
         "textfont": {
          "color": "#4D5663"
         },
         "type": "scatter",
         "uid": "2d0e956a-2dea-48ea-b775-dd1c3b1dd5d5",
         "x": [
          0.15751091238156073
         ],
         "y": [
          1.2304375598850208
         ]
        },
        {
         "marker": {
          "color": "rgba(255, 255, 51, 1.0)",
          "line": {
           "width": 1.3
          },
          "opacity": 0.8,
          "size": [
           54
          ],
          "symbol": "circle"
         },
         "mode": "markers",
         "name": "Rajasthan Royals",
         "text": [
          "Rajasthan Royals"
         ],
         "textfont": {
          "color": "#4D5663"
         },
         "type": "scatter",
         "uid": "3fd0c889-421e-44b8-88ff-9cb6144d3ca3",
         "x": [
          0.15706685172334028
         ],
         "y": [
          1.2341545223224613
         ]
        },
        {
         "marker": {
          "color": "rgba(128, 128, 0, 1.0)",
          "line": {
           "width": 1.3
          },
          "opacity": 0.8,
          "size": [
           12
          ],
          "symbol": "circle"
         },
         "mode": "markers",
         "name": "Sunrisers Hyderabad",
         "text": [
          "Sunrisers Hyderabad"
         ],
         "textfont": {
          "color": "#4D5663"
         },
         "type": "scatter",
         "uid": "e33a0a6b-cd60-447e-987a-f79b4184ae34",
         "x": [
          0.1531608304927177
         ],
         "y": [
          1.25890920359467
         ]
        }
       ],
       "layout": {
        "legend": {
         "bgcolor": "#F5F6F9",
         "font": {
          "color": "#4D5663"
         }
        },
        "paper_bgcolor": "#F5F6F9",
        "plot_bgcolor": "#F5F6F9",
        "title": {
         "font": {
          "color": "#4D5663"
         }
        },
        "xaxis": {
         "gridcolor": "#E1E5ED",
         "showgrid": true,
         "tickfont": {
          "color": "#4D5663"
         },
         "title": {
          "font": {
           "color": "#4D5663"
          },
          "text": "Hard Hit"
         },
         "zerolinecolor": "#E1E5ED"
        },
        "yaxis": {
         "gridcolor": "#E1E5ED",
         "showgrid": true,
         "tickfont": {
          "color": "#4D5663"
         },
         "title": {
          "font": {
           "color": "#4D5663"
          },
          "text": "Fast Scoring Ability"
         },
         "zerolinecolor": "#E1E5ED"
        }
       }
      },
      "text/html": [
       "<div>\n",
       "        \n",
       "        \n",
       "            <div id=\"a9a54b4c-eba9-489e-9175-dd655348b327\" class=\"plotly-graph-div\" style=\"height:525px; width:100%;\"></div>\n",
       "            <script type=\"text/javascript\">\n",
       "                require([\"plotly\"], function(Plotly) {\n",
       "                    window.PLOTLYENV=window.PLOTLYENV || {};\n",
       "                    window.PLOTLYENV.BASE_URL='https://plot.ly';\n",
       "                    \n",
       "                if (document.getElementById(\"a9a54b4c-eba9-489e-9175-dd655348b327\")) {\n",
       "                    Plotly.newPlot(\n",
       "                        'a9a54b4c-eba9-489e-9175-dd655348b327',\n",
       "                        [{\"marker\": {\"color\": \"rgba(255, 153, 51, 1.0)\", \"line\": {\"width\": 1.3}, \"opacity\": 0.8, \"size\": [100], \"symbol\": \"circle\"}, \"mode\": \"markers\", \"name\": \"Royal Challengers Bangalore\", \"text\": [\"Royal Challengers Bangalore\"], \"textfont\": {\"color\": \"#4D5663\"}, \"type\": \"scatter\", \"uid\": \"7df8dfa2-353d-412b-947b-1d7b7dc647d9\", \"x\": [0.16701740960397934], \"y\": [1.280610292710924]}, {\"marker\": {\"color\": \"rgba(55, 128, 191, 1.0)\", \"line\": {\"width\": 1.3}, \"opacity\": 0.8, \"size\": [97], \"symbol\": \"circle\"}, \"mode\": \"markers\", \"name\": \"Kings XI Punjab\", \"text\": [\"Kings XI Punjab\"], \"textfont\": {\"color\": \"#4D5663\"}, \"type\": \"scatter\", \"uid\": \"22ba012f-a297-4ef7-b1a8-ae5af7f39ab7\", \"x\": [0.16406287325020305], \"y\": [1.2645358559075057]}, {\"marker\": {\"color\": \"rgba(50, 171, 96, 1.0)\", \"line\": {\"width\": 1.3}, \"opacity\": 0.8, \"size\": [112], \"symbol\": \"circle\"}, \"mode\": \"markers\", \"name\": \"Mumbai Indians\", \"text\": [\"Mumbai Indians\"], \"textfont\": {\"color\": \"#4D5663\"}, \"type\": \"scatter\", \"uid\": \"727657b6-0d4a-49f9-8cd9-8272bd872fe9\", \"x\": [0.1628719218356249], \"y\": [1.2451478845218622]}, {\"marker\": {\"color\": \"rgba(128, 0, 128, 1.0)\", \"line\": {\"width\": 1.3}, \"opacity\": 0.8, \"size\": [92], \"symbol\": \"circle\"}, \"mode\": \"markers\", \"name\": \"Kolkata Knight Riders\", \"text\": [\"Kolkata Knight Riders\"], \"textfont\": {\"color\": \"#4D5663\"}, \"type\": \"scatter\", \"uid\": \"f63c3306-8698-400c-bd2f-700d2158eacc\", \"x\": [0.16128104324479817], \"y\": [1.2414900757503116]}, {\"marker\": {\"color\": \"rgba(219, 64, 82, 1.0)\", \"line\": {\"width\": 1.3}, \"opacity\": 0.8, \"size\": [86], \"symbol\": \"circle\"}, \"mode\": \"markers\", \"name\": \"Chennai Super Kings\", \"text\": [\"Chennai Super Kings\"], \"textfont\": {\"color\": \"#4D5663\"}, \"type\": \"scatter\", \"uid\": \"7250bf47-debe-4d8c-a759-e2b068599251\", \"x\": [0.1602064568363526], \"y\": [1.270316769557737]}, {\"marker\": {\"color\": \"rgba(0, 128, 128, 1.0)\", \"line\": {\"width\": 1.3}, \"opacity\": 0.8, \"size\": [69], \"symbol\": \"circle\"}, \"mode\": \"markers\", \"name\": \"Delhi Daredevils\", \"text\": [\"Delhi Daredevils\"], \"textfont\": {\"color\": \"#4D5663\"}, \"type\": \"scatter\", \"uid\": \"9e9b8103-8e98-4c31-a8a6-7cf4ab494f72\", \"x\": [0.15751091238156073], \"y\": [1.2304375598850208]}, {\"marker\": {\"color\": \"rgba(255, 255, 51, 1.0)\", \"line\": {\"width\": 1.3}, \"opacity\": 0.8, \"size\": [54], \"symbol\": \"circle\"}, \"mode\": \"markers\", \"name\": \"Rajasthan Royals\", \"text\": [\"Rajasthan Royals\"], \"textfont\": {\"color\": \"#4D5663\"}, \"type\": \"scatter\", \"uid\": \"ccd7e780-401d-4c0c-909a-7d6cd6b6091b\", \"x\": [0.15706685172334028], \"y\": [1.2341545223224613]}, {\"marker\": {\"color\": \"rgba(128, 128, 0, 1.0)\", \"line\": {\"width\": 1.3}, \"opacity\": 0.8, \"size\": [12], \"symbol\": \"circle\"}, \"mode\": \"markers\", \"name\": \"Sunrisers Hyderabad\", \"text\": [\"Sunrisers Hyderabad\"], \"textfont\": {\"color\": \"#4D5663\"}, \"type\": \"scatter\", \"uid\": \"3222f9c5-1614-4a47-86cd-c836bd22615b\", \"x\": [0.1531608304927177], \"y\": [1.25890920359467]}],\n",
       "                        {\"legend\": {\"bgcolor\": \"#F5F6F9\", \"font\": {\"color\": \"#4D5663\"}}, \"paper_bgcolor\": \"#F5F6F9\", \"plot_bgcolor\": \"#F5F6F9\", \"title\": {\"font\": {\"color\": \"#4D5663\"}}, \"xaxis\": {\"gridcolor\": \"#E1E5ED\", \"showgrid\": true, \"tickfont\": {\"color\": \"#4D5663\"}, \"title\": {\"font\": {\"color\": \"#4D5663\"}, \"text\": \"Hard Hit\"}, \"zerolinecolor\": \"#E1E5ED\"}, \"yaxis\": {\"gridcolor\": \"#E1E5ED\", \"showgrid\": true, \"tickfont\": {\"color\": \"#4D5663\"}, \"title\": {\"font\": {\"color\": \"#4D5663\"}, \"text\": \"Fast Scoring Ability\"}, \"zerolinecolor\": \"#E1E5ED\"}},\n",
       "                        {\"showLink\": true, \"linkText\": \"Export to plot.ly\", \"plotlyServerURL\": \"https://plot.ly\", \"responsive\": true}\n",
       "                    ).then(function(){\n",
       "                            \n",
       "var gd = document.getElementById('a9a54b4c-eba9-489e-9175-dd655348b327');\n",
       "var x = new MutationObserver(function (mutations, observer) {{\n",
       "        var display = window.getComputedStyle(gd).display;\n",
       "        if (!display || display === 'none') {{\n",
       "            console.log([gd, 'removed!']);\n",
       "            Plotly.purge(gd);\n",
       "            observer.disconnect();\n",
       "        }}\n",
       "}});\n",
       "\n",
       "// Listen for the removal of the full notebook cells\n",
       "var notebookContainer = gd.closest('#notebook-container');\n",
       "if (notebookContainer) {{\n",
       "    x.observe(notebookContainer, {childList: true});\n",
       "}}\n",
       "\n",
       "// Listen for the clearing of the current output cell\n",
       "var outputEl = gd.closest('.output');\n",
       "if (outputEl) {{\n",
       "    x.observe(outputEl, {childList: true});\n",
       "}}\n",
       "\n",
       "                        })\n",
       "                };\n",
       "                });\n",
       "            </script>\n",
       "        </div>"
      ]
     },
     "metadata": {},
     "output_type": "display_data"
    }
   ],
   "source": [
    "hh = hard_hit(ball_data.copy(), batter='batting_team')\n",
    "fs = fast_scoring(ball_data.copy(), batter='batting_team')\n",
    "hh_100 = hh[hh['Number of Balls Faced']>10000]\n",
    "fs_100 = fs[fs['Number of Balls Faced']>10000]\n",
    "out_bat = pd.merge(hh_100, fs_100, how='inner', on=['batting_team','Number of Balls Faced'])\n",
    "\n",
    "out_bat.iplot(kind='bubble', x='Hard Hit', y='Fast Scoring', categories='batting_team', size='runs', text='batting_team',\n",
    "          xTitle='Hard Hit', yTitle='Fast Scoring Ability', filename='cufflinks/simple-bubble-chart')"
   ]
  },
  {
   "cell_type": "code",
   "execution_count": 44,
   "metadata": {},
   "outputs": [],
   "source": [
    "out_bowl.drop(out_bowl.columns.difference(['bowling_team', 'Wicket Taking Ability', 'Economy']), 1, inplace=True)\n",
    "out_bat.drop(out_bat.columns.difference(['batting_team', 'Fast Scoring','Hard Hit']),1,inplace=True)\n",
    "\n",
    "out_bowl.rename(columns={'bowling_team':'team'}, inplace=True)\n",
    "out_bat.rename(columns={'batting_team': 'team'}, inplace=True)\n",
    "\n",
    "out_full = pd.merge(out_bat, out_bowl, how='inner', on=['team'])"
   ]
  },
  {
   "cell_type": "code",
   "execution_count": 45,
   "metadata": {},
   "outputs": [
    {
     "data": {
      "text/html": [
       "<div>\n",
       "<style scoped>\n",
       "    .dataframe tbody tr th:only-of-type {\n",
       "        vertical-align: middle;\n",
       "    }\n",
       "\n",
       "    .dataframe tbody tr th {\n",
       "        vertical-align: top;\n",
       "    }\n",
       "\n",
       "    .dataframe thead th {\n",
       "        text-align: right;\n",
       "    }\n",
       "</style>\n",
       "<table border=\"1\" class=\"dataframe\">\n",
       "  <thead>\n",
       "    <tr style=\"text-align: right;\">\n",
       "      <th></th>\n",
       "      <th>team</th>\n",
       "      <th>Hard Hit</th>\n",
       "      <th>Fast Scoring</th>\n",
       "      <th>Wicket Taking Ability</th>\n",
       "      <th>Economy</th>\n",
       "    </tr>\n",
       "  </thead>\n",
       "  <tbody>\n",
       "    <tr>\n",
       "      <th>0</th>\n",
       "      <td>Royal Challengers Bangalore</td>\n",
       "      <td>0.167017</td>\n",
       "      <td>1.280610</td>\n",
       "      <td>20.577519</td>\n",
       "      <td>7.631663</td>\n",
       "    </tr>\n",
       "    <tr>\n",
       "      <th>1</th>\n",
       "      <td>Kings XI Punjab</td>\n",
       "      <td>0.164063</td>\n",
       "      <td>1.264536</td>\n",
       "      <td>21.013145</td>\n",
       "      <td>7.758541</td>\n",
       "    </tr>\n",
       "    <tr>\n",
       "      <th>2</th>\n",
       "      <td>Mumbai Indians</td>\n",
       "      <td>0.162872</td>\n",
       "      <td>1.245148</td>\n",
       "      <td>19.821303</td>\n",
       "      <td>7.271573</td>\n",
       "    </tr>\n",
       "    <tr>\n",
       "      <th>3</th>\n",
       "      <td>Kolkata Knight Riders</td>\n",
       "      <td>0.161281</td>\n",
       "      <td>1.241490</td>\n",
       "      <td>20.753221</td>\n",
       "      <td>7.450716</td>\n",
       "    </tr>\n",
       "    <tr>\n",
       "      <th>4</th>\n",
       "      <td>Chennai Super Kings</td>\n",
       "      <td>0.160206</td>\n",
       "      <td>1.270317</td>\n",
       "      <td>19.023346</td>\n",
       "      <td>7.357640</td>\n",
       "    </tr>\n",
       "    <tr>\n",
       "      <th>5</th>\n",
       "      <td>Delhi Daredevils</td>\n",
       "      <td>0.157511</td>\n",
       "      <td>1.230438</td>\n",
       "      <td>20.576923</td>\n",
       "      <td>7.543818</td>\n",
       "    </tr>\n",
       "    <tr>\n",
       "      <th>6</th>\n",
       "      <td>Rajasthan Royals</td>\n",
       "      <td>0.157067</td>\n",
       "      <td>1.234155</td>\n",
       "      <td>20.353630</td>\n",
       "      <td>7.391094</td>\n",
       "    </tr>\n",
       "    <tr>\n",
       "      <th>7</th>\n",
       "      <td>Sunrisers Hyderabad</td>\n",
       "      <td>0.153161</td>\n",
       "      <td>1.258909</td>\n",
       "      <td>19.660000</td>\n",
       "      <td>7.525002</td>\n",
       "    </tr>\n",
       "  </tbody>\n",
       "</table>\n",
       "</div>"
      ],
      "text/plain": [
       "                          team  Hard Hit  Fast Scoring  Wicket Taking Ability  \\\n",
       "0  Royal Challengers Bangalore  0.167017      1.280610              20.577519   \n",
       "1              Kings XI Punjab  0.164063      1.264536              21.013145   \n",
       "2               Mumbai Indians  0.162872      1.245148              19.821303   \n",
       "3        Kolkata Knight Riders  0.161281      1.241490              20.753221   \n",
       "4          Chennai Super Kings  0.160206      1.270317              19.023346   \n",
       "5             Delhi Daredevils  0.157511      1.230438              20.576923   \n",
       "6             Rajasthan Royals  0.157067      1.234155              20.353630   \n",
       "7          Sunrisers Hyderabad  0.153161      1.258909              19.660000   \n",
       "\n",
       "    Economy  \n",
       "0  7.631663  \n",
       "1  7.758541  \n",
       "2  7.271573  \n",
       "3  7.450716  \n",
       "4  7.357640  \n",
       "5  7.543818  \n",
       "6  7.391094  \n",
       "7  7.525002  "
      ]
     },
     "execution_count": 45,
     "metadata": {},
     "output_type": "execute_result"
    }
   ],
   "source": [
    "out_full"
   ]
  },
  {
   "cell_type": "code",
   "execution_count": 46,
   "metadata": {},
   "outputs": [
    {
     "data": {
      "text/html": [
       "        <script type=\"text/javascript\">\n",
       "        window.PlotlyConfig = {MathJaxConfig: 'local'};\n",
       "        if (window.MathJax) {MathJax.Hub.Config({SVG: {font: \"STIX-Web\"}});}\n",
       "        if (typeof require !== 'undefined') {\n",
       "        require.undef(\"plotly\");\n",
       "        requirejs.config({\n",
       "            paths: {\n",
       "                'plotly': ['https://cdn.plot.ly/plotly-latest.min']\n",
       "            }\n",
       "        });\n",
       "        require(['plotly'], function(Plotly) {\n",
       "            window._Plotly = Plotly;\n",
       "        });\n",
       "        }\n",
       "        </script>\n",
       "        "
      ]
     },
     "metadata": {},
     "output_type": "display_data"
    },
    {
     "data": {
      "application/vnd.plotly.v1+json": {
       "config": {
        "linkText": "Export to plot.ly",
        "plotlyServerURL": "https://plot.ly",
        "responsive": true,
        "showLink": false
       },
       "data": [
        {
         "fill": "toself",
         "name": "Royal Challengers Bangalore",
         "r": [
          6.6201221829072505,
          2.7410022179612303,
          1.4040728891865495,
          3.5513348545127243,
          6.6201221829072505
         ],
         "theta": [
          "Hard Hit",
          "Fast Scoring",
          "Economy",
          "Wicket Taking Ability",
          "Hard Hit"
         ],
         "type": "scatterpolar",
         "uid": "e0e14a64-5da3-462d-8e4a-cd625ead1766"
        },
        {
         "fill": "toself",
         "name": "Kings XI Punjab",
         "r": [
          3.6655858291309573,
          1.1335585376194057,
          2.6728512064268095,
          7.907586961017614,
          3.6655858291309573
         ],
         "theta": [
          "Hard Hit",
          "Fast Scoring",
          "Economy",
          "Wicket Taking Ability",
          "Hard Hit"
         ],
         "type": "scatterpolar",
         "uid": "488e5576-597c-4bd9-87f0-acac62c80267"
        }
       ],
       "layout": {
        "polar": {
         "radialaxis": {
          "range": [
           -5,
           8
          ],
          "visible": true
         }
        },
        "showlegend": true
       }
      },
      "text/html": [
       "<div>\n",
       "        \n",
       "        \n",
       "            <div id=\"3b474e76-a416-41bf-83a5-9b448533a318\" class=\"plotly-graph-div\" style=\"height:525px; width:100%;\"></div>\n",
       "            <script type=\"text/javascript\">\n",
       "                require([\"plotly\"], function(Plotly) {\n",
       "                    window.PLOTLYENV=window.PLOTLYENV || {};\n",
       "                    window.PLOTLYENV.BASE_URL='https://plot.ly';\n",
       "                    \n",
       "                if (document.getElementById(\"3b474e76-a416-41bf-83a5-9b448533a318\")) {\n",
       "                    Plotly.newPlot(\n",
       "                        '3b474e76-a416-41bf-83a5-9b448533a318',\n",
       "                        [{\"fill\": \"toself\", \"name\": \"Royal Challengers Bangalore\", \"r\": [6.6201221829072505, 2.7410022179612303, 1.4040728891865495, 3.5513348545127243, 6.6201221829072505], \"theta\": [\"Hard Hit\", \"Fast Scoring\", \"Economy\", \"Wicket Taking Ability\", \"Hard Hit\"], \"type\": \"scatterpolar\", \"uid\": \"9ff1271f-eb03-452e-ba79-fa31eb133fd1\"}, {\"fill\": \"toself\", \"name\": \"Kings XI Punjab\", \"r\": [3.6655858291309573, 1.1335585376194057, 2.6728512064268095, 7.907586961017614, 3.6655858291309573], \"theta\": [\"Hard Hit\", \"Fast Scoring\", \"Economy\", \"Wicket Taking Ability\", \"Hard Hit\"], \"type\": \"scatterpolar\", \"uid\": \"f4900072-1dfd-4993-96aa-52276348a3b5\"}],\n",
       "                        {\"polar\": {\"radialaxis\": {\"range\": [-5, 8], \"visible\": true}}, \"showlegend\": true},\n",
       "                        {\"showLink\": false, \"linkText\": \"Export to plot.ly\", \"plotlyServerURL\": \"https://plot.ly\", \"responsive\": true}\n",
       "                    ).then(function(){\n",
       "                            \n",
       "var gd = document.getElementById('3b474e76-a416-41bf-83a5-9b448533a318');\n",
       "var x = new MutationObserver(function (mutations, observer) {{\n",
       "        var display = window.getComputedStyle(gd).display;\n",
       "        if (!display || display === 'none') {{\n",
       "            console.log([gd, 'removed!']);\n",
       "            Plotly.purge(gd);\n",
       "            observer.disconnect();\n",
       "        }}\n",
       "}});\n",
       "\n",
       "// Listen for the removal of the full notebook cells\n",
       "var notebookContainer = gd.closest('#notebook-container');\n",
       "if (notebookContainer) {{\n",
       "    x.observe(notebookContainer, {childList: true});\n",
       "}}\n",
       "\n",
       "// Listen for the clearing of the current output cell\n",
       "var outputEl = gd.closest('.output');\n",
       "if (outputEl) {{\n",
       "    x.observe(outputEl, {childList: true});\n",
       "}}\n",
       "\n",
       "                        })\n",
       "                };\n",
       "                });\n",
       "            </script>\n",
       "        </div>"
      ]
     },
     "metadata": {},
     "output_type": "display_data"
    }
   ],
   "source": [
    "import plotly.plotly as py\n",
    "import plotly\n",
    "import plotly.graph_objs as go\n",
    "plotly.offline.init_notebook_mode(connected=True)\n",
    "from sklearn import preprocessing\n",
    "min_max_scaler = preprocessing.MinMaxScaler()\n",
    "\n",
    "# out_full['Hard Hit'] = pd.DataFrame(min_max_scaler.fit_transform(out_full['Hard Hit'].values))\n",
    "\n",
    "from sklearn import preprocessing\n",
    "min_max_scaler = preprocessing.StandardScaler( with_std=False)\n",
    "\n",
    "o = out_full.copy()\n",
    "\n",
    "o['Hard Hit'] = pd.DataFrame(min_max_scaler.fit_transform(o['Hard Hit'].values.reshape(-1,1)))\n",
    "o['Fast Scoring'] = pd.DataFrame(min_max_scaler.fit_transform(o['Fast Scoring'].values.reshape(-1,1)))\n",
    "o['Economy'] = pd.DataFrame(min_max_scaler.fit_transform(o['Economy'].values.reshape(-1,1)))\n",
    "o['Wicket Taking Ability'] = pd.DataFrame(min_max_scaler.fit_transform(o['Wicket Taking Ability'].values.reshape(-1,1)))\n",
    "o.replace('Delhi Daredevils', 'Delhi Capitals', inplace=True)\n",
    "\n",
    "data = []\n",
    "\n",
    "# for i in range(len(o)):\n",
    "for i in range(2):\n",
    "    r = o.iloc[i,:]\n",
    "    t = go.Scatterpolar(\n",
    "      r = [r['Hard Hit']*1000, r['Fast Scoring']*100, r['Economy']*10, r['Wicket Taking Ability']*10, r['Hard Hit']*1000],\n",
    "      theta = ['Hard Hit','Fast Scoring','Economy', 'Wicket Taking Ability', 'Hard Hit'],\n",
    "      fill = 'toself',\n",
    "      name = r['team']\n",
    "    )\n",
    "    data.append(t)\n",
    "    \n",
    "# data = [\n",
    "#     go.Scatterpolar(\n",
    "#       r = [39, 28, 8, 7, 28, 39],\n",
    "#       theta = ['A','B','C', 'D', 'E', 'A'],\n",
    "#       fill = 'toself',\n",
    "#       name = 'Group A'\n",
    "#     ),\n",
    "#     go.Scatterpolar(\n",
    "#       r = [1.5, 10, 39, 31, 15, 1.5],\n",
    "#       theta = ['A','B','C', 'D', 'E', 'A'],\n",
    "#       fill = 'toself',\n",
    "#       name = 'Group B'\n",
    "#     )\n",
    "# ]\n",
    "\n",
    "\n",
    "\n",
    "layout = go.Layout(\n",
    "  polar = dict(\n",
    "    radialaxis = dict(\n",
    "      visible = True,\n",
    "      range = [-5, 8]\n",
    "    )\n",
    "  ),\n",
    "  showlegend = True\n",
    ")\n",
    "\n",
    "fig = go.Figure(data=data, layout=layout)\n",
    "plotly.offline.iplot(fig, filename=\"radar/multiple\")"
   ]
  },
  {
   "cell_type": "code",
   "execution_count": 126,
   "metadata": {},
   "outputs": [],
   "source": []
  },
  {
   "cell_type": "code",
   "execution_count": null,
   "metadata": {},
   "outputs": [],
   "source": []
  },
  {
   "cell_type": "code",
   "execution_count": 47,
   "metadata": {},
   "outputs": [
    {
     "data": {
      "text/html": [
       "        <script type=\"text/javascript\">\n",
       "        window.PlotlyConfig = {MathJaxConfig: 'local'};\n",
       "        if (window.MathJax) {MathJax.Hub.Config({SVG: {font: \"STIX-Web\"}});}\n",
       "        if (typeof require !== 'undefined') {\n",
       "        require.undef(\"plotly\");\n",
       "        requirejs.config({\n",
       "            paths: {\n",
       "                'plotly': ['https://cdn.plot.ly/plotly-latest.min']\n",
       "            }\n",
       "        });\n",
       "        require(['plotly'], function(Plotly) {\n",
       "            window._Plotly = Plotly;\n",
       "        });\n",
       "        }\n",
       "        </script>\n",
       "        "
      ]
     },
     "metadata": {},
     "output_type": "display_data"
    },
    {
     "data": {
      "application/vnd.plotly.v1+json": {
       "config": {
        "linkText": "Export to plot.ly",
        "plotlyServerURL": "https://plot.ly",
        "responsive": true,
        "showLink": false
       },
       "data": [
        {
         "fill": "toself",
         "name": "Chennai Super Kings",
         "r": [
          -0.190830584719498,
          1.7116499026425425,
          1.336163253925129,
          5.9951979544587175,
          -0.190830584719498
         ],
         "subplot": "polar",
         "theta": [
          "Hard Hit",
          "Fast Scoring",
          "Economy",
          "Wicket Taking Ability",
          "Hard Hit"
         ],
         "type": "scatterpolar",
         "uid": "db86643c-432c-49bf-873e-32018c906054"
        },
        {
         "fill": "toself",
         "name": "Mumbai Indians",
         "r": [
          2.474634414552812,
          -0.8052386009449464,
          2.196833348935634,
          2.0054153874614045,
          2.474634414552812
         ],
         "subplot": "polar2",
         "theta": [
          "Hard Hit",
          "Fast Scoring",
          "Economy",
          "Wicket Taking Ability",
          "Hard Hit"
         ],
         "type": "scatterpolar",
         "uid": "d1e6ccc5-1dcb-4d2f-b809-c5c0c2e6a08c"
        },
        {
         "fill": "toself",
         "name": "Delhi Capitals",
         "r": [
          -2.886375039511363,
          -2.2762710646290873,
          -0.5256250007355501,
          -1.7726859126469385,
          -2.886375039511363
         ],
         "subplot": "polar3",
         "theta": [
          "Hard Hit",
          "Fast Scoring",
          "Economy",
          "Wicket Taking Ability",
          "Hard Hit"
         ],
         "type": "scatterpolar",
         "uid": "9d2f4193-5e6c-4492-8b0d-e71dec25f831"
        },
        {
         "fill": "toself",
         "name": "Kings XI Punjab",
         "r": [
          3.6655858291309573,
          1.1335585376194057,
          -2.6728512064268095,
          -3.953793480508807,
          3.6655858291309573
         ],
         "subplot": "polar4",
         "theta": [
          "Hard Hit",
          "Fast Scoring",
          "Economy",
          "Wicket Taking Ability",
          "Hard Hit"
         ],
         "type": "scatterpolar",
         "uid": "15562715-643e-4f15-b98a-fca3363eec88"
        }
       ],
       "layout": {
        "margin": {
         "b": 10,
         "l": 10,
         "pad": 0,
         "r": 10,
         "t": 10
        },
        "polar": {
         "domain": {
          "x": [
           0,
           0.46
          ],
          "y": [
           0.56,
           1
          ]
         },
         "radialaxis": {
          "range": [
           -10,
           7
          ],
          "visible": true
         }
        },
        "polar2": {
         "domain": {
          "x": [
           0,
           0.46
          ],
          "y": [
           0,
           0.44
          ]
         },
         "radialaxis": {
          "range": [
           -10,
           7
          ],
          "visible": true
         }
        },
        "polar3": {
         "domain": {
          "x": [
           0.54,
           1
          ],
          "y": [
           0.56,
           1
          ]
         },
         "radialaxis": {
          "range": [
           -10,
           7
          ],
          "visible": true
         }
        },
        "polar4": {
         "domain": {
          "x": [
           0.54,
           1
          ],
          "y": [
           0,
           0.44
          ]
         },
         "radialaxis": {
          "range": [
           -10,
           7
          ],
          "visible": true
         }
        },
        "showlegend": true
       }
      },
      "text/html": [
       "<div>\n",
       "        \n",
       "        \n",
       "            <div id=\"29987638-a377-4784-ba3b-a2122f332060\" class=\"plotly-graph-div\" style=\"height:525px; width:100%;\"></div>\n",
       "            <script type=\"text/javascript\">\n",
       "                require([\"plotly\"], function(Plotly) {\n",
       "                    window.PLOTLYENV=window.PLOTLYENV || {};\n",
       "                    window.PLOTLYENV.BASE_URL='https://plot.ly';\n",
       "                    \n",
       "                if (document.getElementById(\"29987638-a377-4784-ba3b-a2122f332060\")) {\n",
       "                    Plotly.newPlot(\n",
       "                        '29987638-a377-4784-ba3b-a2122f332060',\n",
       "                        [{\"fill\": \"toself\", \"name\": \"Chennai Super Kings\", \"r\": [-0.190830584719498, 1.7116499026425425, 1.336163253925129, 5.9951979544587175, -0.190830584719498], \"subplot\": \"polar\", \"theta\": [\"Hard Hit\", \"Fast Scoring\", \"Economy\", \"Wicket Taking Ability\", \"Hard Hit\"], \"type\": \"scatterpolar\", \"uid\": \"0c10d982-47c6-4e39-ae91-ec23fb85d89e\"}, {\"fill\": \"toself\", \"name\": \"Mumbai Indians\", \"r\": [2.474634414552812, -0.8052386009449464, 2.196833348935634, 2.0054153874614045, 2.474634414552812], \"subplot\": \"polar2\", \"theta\": [\"Hard Hit\", \"Fast Scoring\", \"Economy\", \"Wicket Taking Ability\", \"Hard Hit\"], \"type\": \"scatterpolar\", \"uid\": \"c32080aa-c51e-46ac-b667-5d9681b31f49\"}, {\"fill\": \"toself\", \"name\": \"Delhi Capitals\", \"r\": [-2.886375039511363, -2.2762710646290873, -0.5256250007355501, -1.7726859126469385, -2.886375039511363], \"subplot\": \"polar3\", \"theta\": [\"Hard Hit\", \"Fast Scoring\", \"Economy\", \"Wicket Taking Ability\", \"Hard Hit\"], \"type\": \"scatterpolar\", \"uid\": \"db2e5326-4694-4940-8149-39342a449039\"}, {\"fill\": \"toself\", \"name\": \"Kings XI Punjab\", \"r\": [3.6655858291309573, 1.1335585376194057, -2.6728512064268095, -3.953793480508807, 3.6655858291309573], \"subplot\": \"polar4\", \"theta\": [\"Hard Hit\", \"Fast Scoring\", \"Economy\", \"Wicket Taking Ability\", \"Hard Hit\"], \"type\": \"scatterpolar\", \"uid\": \"d6c9ea1f-b927-443a-b0d7-0ab8ab5a2a68\"}],\n",
       "                        {\"margin\": {\"b\": 10, \"l\": 10, \"pad\": 0, \"r\": 10, \"t\": 10}, \"polar\": {\"domain\": {\"x\": [0, 0.46], \"y\": [0.56, 1]}, \"radialaxis\": {\"range\": [-10, 7], \"visible\": true}}, \"polar2\": {\"domain\": {\"x\": [0, 0.46], \"y\": [0, 0.44]}, \"radialaxis\": {\"range\": [-10, 7], \"visible\": true}}, \"polar3\": {\"domain\": {\"x\": [0.54, 1], \"y\": [0.56, 1]}, \"radialaxis\": {\"range\": [-10, 7], \"visible\": true}}, \"polar4\": {\"domain\": {\"x\": [0.54, 1], \"y\": [0, 0.44]}, \"radialaxis\": {\"range\": [-10, 7], \"visible\": true}}, \"showlegend\": true},\n",
       "                        {\"showLink\": false, \"linkText\": \"Export to plot.ly\", \"plotlyServerURL\": \"https://plot.ly\", \"responsive\": true}\n",
       "                    ).then(function(){\n",
       "                            \n",
       "var gd = document.getElementById('29987638-a377-4784-ba3b-a2122f332060');\n",
       "var x = new MutationObserver(function (mutations, observer) {{\n",
       "        var display = window.getComputedStyle(gd).display;\n",
       "        if (!display || display === 'none') {{\n",
       "            console.log([gd, 'removed!']);\n",
       "            Plotly.purge(gd);\n",
       "            observer.disconnect();\n",
       "        }}\n",
       "}});\n",
       "\n",
       "// Listen for the removal of the full notebook cells\n",
       "var notebookContainer = gd.closest('#notebook-container');\n",
       "if (notebookContainer) {{\n",
       "    x.observe(notebookContainer, {childList: true});\n",
       "}}\n",
       "\n",
       "// Listen for the clearing of the current output cell\n",
       "var outputEl = gd.closest('.output');\n",
       "if (outputEl) {{\n",
       "    x.observe(outputEl, {childList: true});\n",
       "}}\n",
       "\n",
       "                        })\n",
       "                };\n",
       "                });\n",
       "            </script>\n",
       "        </div>"
      ]
     },
     "metadata": {},
     "output_type": "display_data"
    }
   ],
   "source": [
    "import plotly.plotly as py\n",
    "import plotly\n",
    "import plotly.graph_objs as go\n",
    "plotly.offline.init_notebook_mode(connected=True)\n",
    "from sklearn import preprocessing\n",
    "min_max_scaler = preprocessing.MinMaxScaler()\n",
    "\n",
    "# out_full['Hard Hit'] = pd.DataFrame(min_max_scaler.fit_transform(out_full['Hard Hit'].values))\n",
    "\n",
    "\n",
    "data = []\n",
    "\n",
    "# for i in range(len(o)):\n",
    "# for i in range(0, 3):\n",
    "count = 0\n",
    "for i in [4, 2, 5, 1]:\n",
    "    r = o.iloc[i,:]\n",
    "    t = go.Scatterpolar(\n",
    "      r = [r['Hard Hit']*1000, r['Fast Scoring']*100, r['Economy']*-10, r['Wicket Taking Ability']*-5, r['Hard Hit']*1000],\n",
    "      theta = ['Hard Hit','Fast Scoring','Economy', 'Wicket Taking Ability', 'Hard Hit'],\n",
    "      fill = 'toself',\n",
    "      name = r['team'],\n",
    "      subplot = \"polar\"+str(count+1) if i>0 else \"polar\"\n",
    "    )\n",
    "    count = count+1\n",
    "    data.append(t)\n",
    "    \n",
    "# data = [\n",
    "#     go.Scatterpolar(\n",
    "#       r = [39, 28, 8, 7, 28, 39],\n",
    "#       theta = ['A','B','C', 'D', 'E', 'A'],\n",
    "#       fill = 'toself',\n",
    "#       name = 'Group A'\n",
    "#     ),\n",
    "#     go.Scatterpolar(\n",
    "#       r = [1.5, 10, 39, 31, 15, 1.5],\n",
    "#       theta = ['A','B','C', 'D', 'E', 'A'],\n",
    "#       fill = 'toself',\n",
    "#       name = 'Group B'\n",
    "#     )\n",
    "# ]\n",
    "\n",
    "\n",
    "\n",
    "layout = go.Layout(\n",
    "    margin=go.layout.Margin(\n",
    "        l=10,\n",
    "        r=10,\n",
    "        b=10,\n",
    "        t=10,\n",
    "        pad=0\n",
    "    ),\n",
    "  polar = dict(\n",
    "      domain = dict(\n",
    "        x = [0, 0.46],\n",
    "        y = [0.56, 1]\n",
    "      ),\n",
    "    radialaxis = dict(\n",
    "      visible = True,\n",
    "      range = [-10, 7]\n",
    "    )\n",
    "  ),\n",
    "  polar2 = dict(\n",
    "     domain = dict(\n",
    "        x = [0, 0.46],\n",
    "        y = [0, 0.44]\n",
    "      ),\n",
    "    radialaxis = dict(\n",
    "      visible = True,\n",
    "      range = [-10, 7]\n",
    "    )\n",
    "  ),\n",
    "  polar3 = dict(\n",
    "      domain = dict(\n",
    "        x = [0.54, 1],\n",
    "        y = [0.56, 1]\n",
    "      ),\n",
    "    radialaxis = dict(\n",
    "      visible = True,\n",
    "      range = [-10, 7]\n",
    "    )\n",
    "  ),\n",
    "  polar4 = dict(\n",
    "      domain = dict(\n",
    "        x = [0.54, 1],\n",
    "        y = [0, 0.44]\n",
    "      ),\n",
    "    radialaxis = dict(\n",
    "      visible = True,\n",
    "      range = [-10, 7]\n",
    "    )\n",
    "  ),\n",
    "  showlegend = True\n",
    "    \n",
    ")\n",
    "\n",
    "fig = go.Figure(data=data, layout=layout)\n",
    "t = plotly.offline.iplot(fig, filename=\"multiple-subplots\")"
   ]
  },
  {
   "cell_type": "code",
   "execution_count": 211,
   "metadata": {},
   "outputs": [
    {
     "data": {
      "text/html": [
       "        <script type=\"text/javascript\">\n",
       "        window.PlotlyConfig = {MathJaxConfig: 'local'};\n",
       "        if (window.MathJax) {MathJax.Hub.Config({SVG: {font: \"STIX-Web\"}});}\n",
       "        if (typeof require !== 'undefined') {\n",
       "        require.undef(\"plotly\");\n",
       "        requirejs.config({\n",
       "            paths: {\n",
       "                'plotly': ['https://cdn.plot.ly/plotly-latest.min']\n",
       "            }\n",
       "        });\n",
       "        require(['plotly'], function(Plotly) {\n",
       "            window._Plotly = Plotly;\n",
       "        });\n",
       "        }\n",
       "        </script>\n",
       "        "
      ]
     },
     "metadata": {},
     "output_type": "display_data"
    },
    {
     "data": {
      "application/vnd.plotly.v1+json": {
       "config": {
        "linkText": "Export to plot.ly",
        "plotlyServerURL": "https://plot.ly",
        "responsive": true,
        "showLink": false
       },
       "data": [
        {
         "fill": "toself",
         "name": "Chennai Super Kings",
         "r": [
          -0.190830584719498,
          1.7116499026425425,
          1.336163253925129,
          5.9951979544587175,
          -0.190830584719498
         ],
         "theta": [
          "Hard Hit",
          "Fast Scoring",
          "Economy",
          "Wicket Taking Ability",
          "Hard Hit"
         ],
         "type": "scatterpolar",
         "uid": "aa81ff23-d54e-47e9-b919-4d2c61168622"
        },
        {
         "fill": "toself",
         "name": "Mumbai Indians",
         "r": [
          2.474634414552812,
          -0.8052386009449464,
          2.196833348935634,
          2.0054153874614045,
          2.474634414552812
         ],
         "theta": [
          "Hard Hit",
          "Fast Scoring",
          "Economy",
          "Wicket Taking Ability",
          "Hard Hit"
         ],
         "type": "scatterpolar",
         "uid": "98bd885b-d7ab-41fb-abb4-8eedf95172ab"
        },
        {
         "fill": "toself",
         "name": "Delhi Capitals",
         "r": [
          -2.886375039511363,
          -2.2762710646290873,
          -0.5256250007355501,
          -1.7726859126469385,
          -2.886375039511363
         ],
         "theta": [
          "Hard Hit",
          "Fast Scoring",
          "Economy",
          "Wicket Taking Ability",
          "Hard Hit"
         ],
         "type": "scatterpolar",
         "uid": "ac26bc58-d2b8-42ee-9f5e-defd49937203"
        },
        {
         "fill": "toself",
         "name": "Kings XI Punjab",
         "r": [
          3.6655858291309573,
          1.1335585376194057,
          -2.6728512064268095,
          -3.953793480508807,
          3.6655858291309573
         ],
         "theta": [
          "Hard Hit",
          "Fast Scoring",
          "Economy",
          "Wicket Taking Ability",
          "Hard Hit"
         ],
         "type": "scatterpolar",
         "uid": "feeb974f-40b1-4574-a8d2-319343bab0e9"
        }
       ],
       "layout": {
        "polar": {
         "radialaxis": {
          "range": [
           -10,
           7
          ],
          "visible": true
         }
        },
        "showlegend": true
       }
      },
      "text/html": [
       "<div>\n",
       "        \n",
       "        \n",
       "            <div id=\"e8a06b87-2604-4aa3-90dd-87f174bdf446\" class=\"plotly-graph-div\" style=\"height:525px; width:100%;\"></div>\n",
       "            <script type=\"text/javascript\">\n",
       "                require([\"plotly\"], function(Plotly) {\n",
       "                    window.PLOTLYENV=window.PLOTLYENV || {};\n",
       "                    window.PLOTLYENV.BASE_URL='https://plot.ly';\n",
       "                    \n",
       "                if (document.getElementById(\"e8a06b87-2604-4aa3-90dd-87f174bdf446\")) {\n",
       "                    Plotly.newPlot(\n",
       "                        'e8a06b87-2604-4aa3-90dd-87f174bdf446',\n",
       "                        [{\"fill\": \"toself\", \"name\": \"Chennai Super Kings\", \"r\": [-0.190830584719498, 1.7116499026425425, 1.336163253925129, 5.9951979544587175, -0.190830584719498], \"theta\": [\"Hard Hit\", \"Fast Scoring\", \"Economy\", \"Wicket Taking Ability\", \"Hard Hit\"], \"type\": \"scatterpolar\", \"uid\": \"9a4ee9e0-e8ca-4823-96d8-1145c498c4d5\"}, {\"fill\": \"toself\", \"name\": \"Mumbai Indians\", \"r\": [2.474634414552812, -0.8052386009449464, 2.196833348935634, 2.0054153874614045, 2.474634414552812], \"theta\": [\"Hard Hit\", \"Fast Scoring\", \"Economy\", \"Wicket Taking Ability\", \"Hard Hit\"], \"type\": \"scatterpolar\", \"uid\": \"ccc74dec-5238-4f1a-af3a-9544524c3f2c\"}, {\"fill\": \"toself\", \"name\": \"Delhi Capitals\", \"r\": [-2.886375039511363, -2.2762710646290873, -0.5256250007355501, -1.7726859126469385, -2.886375039511363], \"theta\": [\"Hard Hit\", \"Fast Scoring\", \"Economy\", \"Wicket Taking Ability\", \"Hard Hit\"], \"type\": \"scatterpolar\", \"uid\": \"48a79387-d69c-4c47-889c-74a9ead53528\"}, {\"fill\": \"toself\", \"name\": \"Kings XI Punjab\", \"r\": [3.6655858291309573, 1.1335585376194057, -2.6728512064268095, -3.953793480508807, 3.6655858291309573], \"theta\": [\"Hard Hit\", \"Fast Scoring\", \"Economy\", \"Wicket Taking Ability\", \"Hard Hit\"], \"type\": \"scatterpolar\", \"uid\": \"5d2aca90-d6f3-44ce-8258-86d41a986ef2\"}],\n",
       "                        {\"polar\": {\"radialaxis\": {\"range\": [-10, 7], \"visible\": true}}, \"showlegend\": true},\n",
       "                        {\"showLink\": false, \"linkText\": \"Export to plot.ly\", \"plotlyServerURL\": \"https://plot.ly\", \"responsive\": true}\n",
       "                    ).then(function(){\n",
       "                            \n",
       "var gd = document.getElementById('e8a06b87-2604-4aa3-90dd-87f174bdf446');\n",
       "var x = new MutationObserver(function (mutations, observer) {{\n",
       "        var display = window.getComputedStyle(gd).display;\n",
       "        if (!display || display === 'none') {{\n",
       "            console.log([gd, 'removed!']);\n",
       "            Plotly.purge(gd);\n",
       "            observer.disconnect();\n",
       "        }}\n",
       "}});\n",
       "\n",
       "// Listen for the removal of the full notebook cells\n",
       "var notebookContainer = gd.closest('#notebook-container');\n",
       "if (notebookContainer) {{\n",
       "    x.observe(notebookContainer, {childList: true});\n",
       "}}\n",
       "\n",
       "// Listen for the clearing of the current output cell\n",
       "var outputEl = gd.closest('.output');\n",
       "if (outputEl) {{\n",
       "    x.observe(outputEl, {childList: true});\n",
       "}}\n",
       "\n",
       "                        })\n",
       "                };\n",
       "                });\n",
       "            </script>\n",
       "        </div>"
      ]
     },
     "metadata": {},
     "output_type": "display_data"
    }
   ],
   "source": [
    "import plotly.plotly as py\n",
    "import plotly\n",
    "import plotly.graph_objs as go\n",
    "plotly.offline.init_notebook_mode(connected=True)\n",
    "from sklearn import preprocessing\n",
    "min_max_scaler = preprocessing.MinMaxScaler()\n",
    "\n",
    "# out_full['Hard Hit'] = pd.DataFrame(min_max_scaler.fit_transform(out_full['Hard Hit'].values))\n",
    "\n",
    "\n",
    "data = []\n",
    "\n",
    "# for i in range(len(o)):\n",
    "# for i in range(0, 3):\n",
    "count = 0\n",
    "for i in [4, 2, 5, 1]:\n",
    "    r = o.iloc[i,:]\n",
    "    t = go.Scatterpolar(\n",
    "      r = [r['Hard Hit']*1000, r['Fast Scoring']*100, r['Economy']*-10, r['Wicket Taking Ability']*-5, r['Hard Hit']*1000],\n",
    "      theta = ['Hard Hit','Fast Scoring','Economy', 'Wicket Taking Ability', 'Hard Hit'],\n",
    "      fill = 'toself',\n",
    "      name = r['team']\n",
    "    )\n",
    "    count = count+1\n",
    "    data.append(t)\n",
    "    \n",
    "# data = [\n",
    "#     go.Scatterpolar(\n",
    "#       r = [39, 28, 8, 7, 28, 39],\n",
    "#       theta = ['A','B','C', 'D', 'E', 'A'],\n",
    "#       fill = 'toself',\n",
    "#       name = 'Group A'\n",
    "#     ),\n",
    "#     go.Scatterpolar(\n",
    "#       r = [1.5, 10, 39, 31, 15, 1.5],\n",
    "#       theta = ['A','B','C', 'D', 'E', 'A'],\n",
    "#       fill = 'toself',\n",
    "#       name = 'Group B'\n",
    "#     )\n",
    "# ]\n",
    "\n",
    "\n",
    "\n",
    "layout = go.Layout(\n",
    "\n",
    "  polar = dict(\n",
    "    radialaxis = dict(\n",
    "      visible = True,\n",
    "      range = [-10, 7]\n",
    "    )\n",
    "  ),\n",
    "  showlegend = True\n",
    "    \n",
    ")\n",
    "\n",
    "fig = go.Figure(data=data, layout=layout)\n",
    "t = plotly.offline.iplot(fig, filename=\"multiple-subplots\")"
   ]
  },
  {
   "cell_type": "code",
   "execution_count": null,
   "metadata": {},
   "outputs": [],
   "source": []
  }
 ],
 "metadata": {
  "kernelspec": {
   "display_name": "PyCharm (ECE143Project)",
   "language": "python",
   "name": "pycharm-2bbe9730"
  },
  "language_info": {
   "codemirror_mode": {
    "name": "ipython",
    "version": 3
   },
   "file_extension": ".py",
   "mimetype": "text/x-python",
   "name": "python",
   "nbconvert_exporter": "python",
   "pygments_lexer": "ipython3",
   "version": "3.6.7"
  },
  "pycharm": {
   "stem_cell": {
    "cell_type": "raw",
    "metadata": {
     "collapsed": false
    },
    "source": []
   }
  }
 },
 "nbformat": 4,
 "nbformat_minor": 1
}
