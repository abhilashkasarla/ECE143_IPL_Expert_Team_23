{
 "cells": [
  {
   "cell_type": "code",
   "execution_count": 40,
   "metadata": {
    "collapsed": true,
    "pycharm": {
     "is_executing": false
    }
   },
   "outputs": [
    {
     "name": "stdout",
     "output_type": "stream",
     "text": [
      "['deliveries.csv', 'matches.csv']\n"
     ]
    }
   ],
   "source": [
    "import numpy as np # linear algebra\n",
    "import pandas as pd # data processing, CSV file I/O (e.g. pd.read_csv)\n",
    "\n",
    "import matplotlib.pyplot as plt\n",
    "import seaborn as sns               # Provides a high level interface for drawing attractive and informative statistical graphics\n",
    "%matplotlib inline\n",
    "sns.set()\n",
    "from subprocess import check_output\n",
    "\n",
    "import warnings                                            # Ignore warning related to pandas_profiling\n",
    "warnings.filterwarnings('ignore') \n",
    "import os\n",
    "print(os.listdir(\"./data_csv_kaggle\"))"
   ]
  },
  {
   "cell_type": "code",
   "execution_count": 48,
   "metadata": {
    "pycharm": {
     "is_executing": false,
     "name": "#%%\n"
    }
   },
   "outputs": [
    {
     "data": {
      "text/html": [
       "<div>\n",
       "<style scoped>\n",
       "    .dataframe tbody tr th:only-of-type {\n",
       "        vertical-align: middle;\n",
       "    }\n",
       "\n",
       "    .dataframe tbody tr th {\n",
       "        vertical-align: top;\n",
       "    }\n",
       "\n",
       "    .dataframe thead th {\n",
       "        text-align: right;\n",
       "    }\n",
       "</style>\n",
       "<table border=\"1\" class=\"dataframe\">\n",
       "  <thead>\n",
       "    <tr style=\"text-align: right;\">\n",
       "      <th></th>\n",
       "      <th>id</th>\n",
       "      <th>season</th>\n",
       "      <th>city</th>\n",
       "      <th>date</th>\n",
       "      <th>team1</th>\n",
       "      <th>team2</th>\n",
       "      <th>toss_winner</th>\n",
       "      <th>toss_decision</th>\n",
       "      <th>result</th>\n",
       "      <th>dl_applied</th>\n",
       "      <th>winner</th>\n",
       "      <th>win_by_runs</th>\n",
       "      <th>win_by_wickets</th>\n",
       "      <th>player_of_match</th>\n",
       "      <th>venue</th>\n",
       "      <th>umpire1</th>\n",
       "      <th>umpire2</th>\n",
       "      <th>umpire3</th>\n",
       "    </tr>\n",
       "  </thead>\n",
       "  <tbody>\n",
       "    <tr>\n",
       "      <th>0</th>\n",
       "      <td>1</td>\n",
       "      <td>2017</td>\n",
       "      <td>Hyderabad</td>\n",
       "      <td>2017-04-05</td>\n",
       "      <td>Sunrisers Hyderabad</td>\n",
       "      <td>Royal Challengers Bangalore</td>\n",
       "      <td>Royal Challengers Bangalore</td>\n",
       "      <td>field</td>\n",
       "      <td>normal</td>\n",
       "      <td>0</td>\n",
       "      <td>Sunrisers Hyderabad</td>\n",
       "      <td>35</td>\n",
       "      <td>0</td>\n",
       "      <td>Yuvraj Singh</td>\n",
       "      <td>Rajiv Gandhi International Stadium, Uppal</td>\n",
       "      <td>AY Dandekar</td>\n",
       "      <td>NJ Llong</td>\n",
       "      <td>NaN</td>\n",
       "    </tr>\n",
       "    <tr>\n",
       "      <th>1</th>\n",
       "      <td>2</td>\n",
       "      <td>2017</td>\n",
       "      <td>Pune</td>\n",
       "      <td>2017-04-06</td>\n",
       "      <td>Mumbai Indians</td>\n",
       "      <td>Rising Pune Supergiant</td>\n",
       "      <td>Rising Pune Supergiant</td>\n",
       "      <td>field</td>\n",
       "      <td>normal</td>\n",
       "      <td>0</td>\n",
       "      <td>Rising Pune Supergiant</td>\n",
       "      <td>0</td>\n",
       "      <td>7</td>\n",
       "      <td>SPD Smith</td>\n",
       "      <td>Maharashtra Cricket Association Stadium</td>\n",
       "      <td>A Nand Kishore</td>\n",
       "      <td>S Ravi</td>\n",
       "      <td>NaN</td>\n",
       "    </tr>\n",
       "    <tr>\n",
       "      <th>2</th>\n",
       "      <td>3</td>\n",
       "      <td>2017</td>\n",
       "      <td>Rajkot</td>\n",
       "      <td>2017-04-07</td>\n",
       "      <td>Gujarat Lions</td>\n",
       "      <td>Kolkata Knight Riders</td>\n",
       "      <td>Kolkata Knight Riders</td>\n",
       "      <td>field</td>\n",
       "      <td>normal</td>\n",
       "      <td>0</td>\n",
       "      <td>Kolkata Knight Riders</td>\n",
       "      <td>0</td>\n",
       "      <td>10</td>\n",
       "      <td>CA Lynn</td>\n",
       "      <td>Saurashtra Cricket Association Stadium</td>\n",
       "      <td>Nitin Menon</td>\n",
       "      <td>CK Nandan</td>\n",
       "      <td>NaN</td>\n",
       "    </tr>\n",
       "    <tr>\n",
       "      <th>3</th>\n",
       "      <td>4</td>\n",
       "      <td>2017</td>\n",
       "      <td>Indore</td>\n",
       "      <td>2017-04-08</td>\n",
       "      <td>Rising Pune Supergiant</td>\n",
       "      <td>Kings XI Punjab</td>\n",
       "      <td>Kings XI Punjab</td>\n",
       "      <td>field</td>\n",
       "      <td>normal</td>\n",
       "      <td>0</td>\n",
       "      <td>Kings XI Punjab</td>\n",
       "      <td>0</td>\n",
       "      <td>6</td>\n",
       "      <td>GJ Maxwell</td>\n",
       "      <td>Holkar Cricket Stadium</td>\n",
       "      <td>AK Chaudhary</td>\n",
       "      <td>C Shamshuddin</td>\n",
       "      <td>NaN</td>\n",
       "    </tr>\n",
       "    <tr>\n",
       "      <th>4</th>\n",
       "      <td>5</td>\n",
       "      <td>2017</td>\n",
       "      <td>Bangalore</td>\n",
       "      <td>2017-04-08</td>\n",
       "      <td>Royal Challengers Bangalore</td>\n",
       "      <td>Delhi Daredevils</td>\n",
       "      <td>Royal Challengers Bangalore</td>\n",
       "      <td>bat</td>\n",
       "      <td>normal</td>\n",
       "      <td>0</td>\n",
       "      <td>Royal Challengers Bangalore</td>\n",
       "      <td>15</td>\n",
       "      <td>0</td>\n",
       "      <td>KM Jadhav</td>\n",
       "      <td>M Chinnaswamy Stadium</td>\n",
       "      <td>NaN</td>\n",
       "      <td>NaN</td>\n",
       "      <td>NaN</td>\n",
       "    </tr>\n",
       "  </tbody>\n",
       "</table>\n",
       "</div>"
      ],
      "text/plain": [
       "   id  season       city        date                        team1  \\\n",
       "0   1    2017  Hyderabad  2017-04-05          Sunrisers Hyderabad   \n",
       "1   2    2017       Pune  2017-04-06               Mumbai Indians   \n",
       "2   3    2017     Rajkot  2017-04-07                Gujarat Lions   \n",
       "3   4    2017     Indore  2017-04-08       Rising Pune Supergiant   \n",
       "4   5    2017  Bangalore  2017-04-08  Royal Challengers Bangalore   \n",
       "\n",
       "                         team2                  toss_winner toss_decision  \\\n",
       "0  Royal Challengers Bangalore  Royal Challengers Bangalore         field   \n",
       "1       Rising Pune Supergiant       Rising Pune Supergiant         field   \n",
       "2        Kolkata Knight Riders        Kolkata Knight Riders         field   \n",
       "3              Kings XI Punjab              Kings XI Punjab         field   \n",
       "4             Delhi Daredevils  Royal Challengers Bangalore           bat   \n",
       "\n",
       "   result  dl_applied                       winner  win_by_runs  \\\n",
       "0  normal           0          Sunrisers Hyderabad           35   \n",
       "1  normal           0       Rising Pune Supergiant            0   \n",
       "2  normal           0        Kolkata Knight Riders            0   \n",
       "3  normal           0              Kings XI Punjab            0   \n",
       "4  normal           0  Royal Challengers Bangalore           15   \n",
       "\n",
       "   win_by_wickets player_of_match                                      venue  \\\n",
       "0               0    Yuvraj Singh  Rajiv Gandhi International Stadium, Uppal   \n",
       "1               7       SPD Smith    Maharashtra Cricket Association Stadium   \n",
       "2              10         CA Lynn     Saurashtra Cricket Association Stadium   \n",
       "3               6      GJ Maxwell                     Holkar Cricket Stadium   \n",
       "4               0       KM Jadhav                      M Chinnaswamy Stadium   \n",
       "\n",
       "          umpire1        umpire2 umpire3  \n",
       "0     AY Dandekar       NJ Llong     NaN  \n",
       "1  A Nand Kishore         S Ravi     NaN  \n",
       "2     Nitin Menon      CK Nandan     NaN  \n",
       "3    AK Chaudhary  C Shamshuddin     NaN  \n",
       "4             NaN            NaN     NaN  "
      ]
     },
     "execution_count": 48,
     "metadata": {},
     "output_type": "execute_result"
    }
   ],
   "source": [
    "df = pd.read_csv('./data_csv_kaggle/matches.csv')\n",
    "df.head()"
   ]
  },
  {
   "cell_type": "code",
   "execution_count": 23,
   "metadata": {
    "pycharm": {
     "is_executing": false,
     "name": "#%%\n"
    }
   },
   "outputs": [
    {
     "name": "stdout",
     "output_type": "stream",
     "text": [
      "                             win_by_runs\n",
      "winner                                  \n",
      "Chennai Super Kings            34.192308\n",
      "Deccan Chargers                23.388889\n",
      "Delhi Capitals                 30.666667\n",
      "Delhi Daredevils               27.000000\n",
      "Gujarat Lions                   1.000000\n",
      "Kings XI Punjab                24.342105\n",
      "Kochi Tuskers Kerala           11.500000\n",
      "Kolkata Knight Riders          30.166667\n",
      "Mumbai Indians                 32.736842\n",
      "Pune Warriors                  23.166667\n",
      "Rajasthan Royals               33.148148\n",
      "Rising Pune Supergiant         24.600000\n",
      "Rising Pune Supergiants        26.500000\n",
      "Royal Challengers Bangalore    35.771429\n",
      "Sunrisers Hyderabad            23.766667\n",
      "                             win_by_wickets\n",
      "winner                                     \n",
      "Chennai Super Kings                6.020833\n",
      "Deccan Chargers                    6.545455\n",
      "Delhi Capitals                     4.833333\n",
      "Delhi Daredevils                   6.547619\n",
      "Gujarat Lions                      5.416667\n",
      "Kings XI Punjab                    6.380952\n",
      "Kochi Tuskers Kerala               7.500000\n",
      "Kolkata Knight Riders              6.267857\n",
      "Mumbai Indians                     6.140000\n",
      "Pune Warriors                      6.000000\n",
      "Rajasthan Royals                   5.934783\n",
      "Rising Pune Supergiant             6.200000\n",
      "Rising Pune Supergiants            6.666667\n",
      "Royal Challengers Bangalore        6.541667\n",
      "Sunrisers Hyderabad                6.407407\n"
     ]
    }
   ],
   "source": [
    "wr = df[df['win_by_runs']>0]\n",
    "wt = df[df['win_by_wickets']>0]\n",
    "\n",
    "gr = wr.groupby('winner').mean()\n",
    "gr.drop(gr.columns.difference(['win_by_runs','winner']), 1, inplace=True)\n",
    "gt = wt.groupby('winner').mean()\n",
    "gt.drop(gt.columns.difference(['win_by_wickets','winner']), 1, inplace=True)\n",
    "\n",
    "print(gr)\n",
    "print(gt)"
   ]
  },
  {
   "cell_type": "code",
   "execution_count": 32,
   "metadata": {
    "pycharm": {
     "is_executing": false,
     "name": "#%%\n"
    }
   },
   "outputs": [
    {
     "name": "stdout",
     "output_type": "stream",
     "text": [
      "                             win_by_runs  win_by_wickets\n",
      "winner                                                  \n",
      "Chennai Super Kings            34.192308        6.020833\n",
      "Deccan Chargers                23.388889        6.545455\n",
      "Delhi Capitals                 30.666667        4.833333\n",
      "Delhi Daredevils               27.000000        6.547619\n",
      "Gujarat Lions                   1.000000        5.416667\n",
      "Kings XI Punjab                24.342105        6.380952\n",
      "Kochi Tuskers Kerala           11.500000        7.500000\n",
      "Kolkata Knight Riders          30.166667        6.267857\n",
      "Mumbai Indians                 32.736842        6.140000\n",
      "Pune Warriors                  23.166667        6.000000\n",
      "Rajasthan Royals               33.148148        5.934783\n",
      "Rising Pune Supergiant         24.600000        6.200000\n",
      "Rising Pune Supergiants        26.500000        6.666667\n",
      "Royal Challengers Bangalore    35.771429        6.541667\n",
      "Sunrisers Hyderabad            23.766667        6.407407\n"
     ]
    },
    {
     "data": {
      "text/plain": [
       "Index(['Chennai Super Kings', 'Deccan Chargers', 'Delhi Capitals',\n",
       "       'Delhi Daredevils', 'Gujarat Lions', 'Kings XI Punjab',\n",
       "       'Kochi Tuskers Kerala', 'Kolkata Knight Riders', 'Mumbai Indians',\n",
       "       'Pune Warriors', 'Rajasthan Royals', 'Rising Pune Supergiant',\n",
       "       'Rising Pune Supergiants', 'Royal Challengers Bangalore',\n",
       "       'Sunrisers Hyderabad'],\n",
       "      dtype='object', name='winner')"
      ]
     },
     "execution_count": 32,
     "metadata": {},
     "output_type": "execute_result"
    }
   ],
   "source": [
    "m = pd.merge(gr, gt, on='winner', how='outer')\n",
    "print(m)\n",
    "m.index"
   ]
  },
  {
   "cell_type": "code",
   "execution_count": 34,
   "metadata": {
    "pycharm": {
     "is_executing": false,
     "name": "#%%\n"
    }
   },
   "outputs": [
    {
     "ename": "TypeError",
     "evalue": "Must pass values for either `x` or `y`",
     "output_type": "error",
     "traceback": [
      "\u001b[0;31m---------------------------------------------------------------------------\u001b[0m",
      "\u001b[0;31mTypeError\u001b[0m                                 Traceback (most recent call last)",
      "\u001b[0;32m<ipython-input-34-8cb517b40685>\u001b[0m in \u001b[0;36m<module>\u001b[0;34m\u001b[0m\n\u001b[1;32m      1\u001b[0m \u001b[0;32mfor\u001b[0m \u001b[0mcol\u001b[0m \u001b[0;32min\u001b[0m \u001b[0;34m(\u001b[0m\u001b[0;34m'win_by_wickets'\u001b[0m\u001b[0;34m,\u001b[0m \u001b[0;34m'win_by_runs'\u001b[0m\u001b[0;34m)\u001b[0m\u001b[0;34m:\u001b[0m\u001b[0;34m\u001b[0m\u001b[0;34m\u001b[0m\u001b[0m\n\u001b[0;32m----> 2\u001b[0;31m     \u001b[0max\u001b[0m \u001b[0;34m=\u001b[0m \u001b[0msns\u001b[0m\u001b[0;34m.\u001b[0m\u001b[0mcountplot\u001b[0m\u001b[0;34m(\u001b[0m\u001b[0mdata\u001b[0m \u001b[0;34m=\u001b[0m \u001b[0mgr\u001b[0m\u001b[0;34m,\u001b[0m \u001b[0morder\u001b[0m \u001b[0;34m=\u001b[0m \u001b[0mgr\u001b[0m\u001b[0;34m.\u001b[0m\u001b[0mindex\u001b[0m\u001b[0;34m,\u001b[0m \u001b[0mpalette\u001b[0m\u001b[0;34m=\u001b[0m\u001b[0;34m'viridis'\u001b[0m\u001b[0;34m)\u001b[0m\u001b[0;34m\u001b[0m\u001b[0;34m\u001b[0m\u001b[0m\n\u001b[0m",
      "\u001b[0;32m~/.virtualenvs/ECE143Project/lib/python3.6/site-packages/seaborn/categorical.py\u001b[0m in \u001b[0;36mcountplot\u001b[0;34m(x, y, hue, data, order, hue_order, orient, color, palette, saturation, dodge, ax, **kwargs)\u001b[0m\n\u001b[1;32m   3546\u001b[0m         \u001b[0;32mraise\u001b[0m \u001b[0mTypeError\u001b[0m\u001b[0;34m(\u001b[0m\u001b[0;34m\"Cannot pass values for both `x` and `y`\"\u001b[0m\u001b[0;34m)\u001b[0m\u001b[0;34m\u001b[0m\u001b[0;34m\u001b[0m\u001b[0m\n\u001b[1;32m   3547\u001b[0m     \u001b[0;32melse\u001b[0m\u001b[0;34m:\u001b[0m\u001b[0;34m\u001b[0m\u001b[0;34m\u001b[0m\u001b[0m\n\u001b[0;32m-> 3548\u001b[0;31m         \u001b[0;32mraise\u001b[0m \u001b[0mTypeError\u001b[0m\u001b[0;34m(\u001b[0m\u001b[0;34m\"Must pass values for either `x` or `y`\"\u001b[0m\u001b[0;34m)\u001b[0m\u001b[0;34m\u001b[0m\u001b[0;34m\u001b[0m\u001b[0m\n\u001b[0m\u001b[1;32m   3549\u001b[0m \u001b[0;34m\u001b[0m\u001b[0m\n\u001b[1;32m   3550\u001b[0m     plotter = _BarPlotter(x, y, hue, data, order, hue_order,\n",
      "\u001b[0;31mTypeError\u001b[0m: Must pass values for either `x` or `y`"
     ]
    }
   ],
   "source": [
    "for col in ('win_by_wickets', 'win_by_runs'):\n",
    "    ax = sns.countplot(\"winner\", data = gr, order = gr.index, palette='viridis')"
   ]
  },
  {
   "cell_type": "code",
   "execution_count": 49,
   "metadata": {
    "pycharm": {
     "is_executing": false,
     "name": "#%%\n"
    }
   },
   "outputs": [],
   "source": [
    "wins = df\n",
    "wins.drop(wins.columns.difference(['winner']), 1,inplace=True)"
   ]
  },
  {
   "cell_type": "code",
   "execution_count": 51,
   "metadata": {
    "pycharm": {
     "is_executing": false,
     "name": "#%%\n"
    }
   },
   "outputs": [
    {
     "data": {
      "text/plain": [
       "Mumbai Indians                 109\n",
       "Chennai Super Kings            100\n",
       "Kolkata Knight Riders           92\n",
       "Royal Challengers Bangalore     84\n",
       "Kings XI Punjab                 82\n",
       "Rajasthan Royals                75\n",
       "Delhi Daredevils                67\n",
       "Sunrisers Hyderabad             58\n",
       "Deccan Chargers                 29\n",
       "Gujarat Lions                   13\n",
       "Pune Warriors                   12\n",
       "Rising Pune Supergiant          10\n",
       "Delhi Capitals                  10\n",
       "Kochi Tuskers Kerala             6\n",
       "Rising Pune Supergiants          5\n",
       "Name: winner, dtype: int64"
      ]
     },
     "execution_count": 51,
     "metadata": {},
     "output_type": "execute_result"
    }
   ],
   "source": [
    "wins['winner'].value_counts()\n"
   ]
  },
  {
   "cell_type": "code",
   "execution_count": 1,
   "metadata": {
    "pycharm": {
     "is_executing": false,
     "name": "#%%\n"
    }
   },
   "outputs": [
    {
     "name": "stdout",
     "output_type": "stream",
     "text": [
      "            bowler  Number of Balls Thrown  Number of Wickets taken  \\\n",
      "351   AC Gilchrist                       1                        1   \n",
      "347    Sachin Baby                      10                        3   \n",
      "350      AM Rahane                       6                        1   \n",
      "349      SS Mundhe                       7                        1   \n",
      "348  LA Carseldine                       7                        1   \n",
      "\n",
      "     Wicket Taking Ability  \n",
      "351               1.000000  \n",
      "347               3.333333  \n",
      "350               6.000000  \n",
      "349               7.000000  \n",
      "348               7.000000  \n"
     ]
    }
   ],
   "source": [
    "from metrics import *\n",
    "from vis_funcs import *\n",
    "\n",
    "ball_data = load_data_as_df('./data_csv_kaggle/deliveries.csv')\n",
    "hh = hard_hit(ball_data.copy())\n",
    "fs = fast_scoring(ball_data.copy())\n",
    "eco = economy(ball_data.copy())\n",
    "wick = wicket_taking(ball_data.copy())\n",
    "print(wick.head())"
   ]
  },
  {
   "cell_type": "code",
   "execution_count": 2,
   "metadata": {
    "pycharm": {
     "name": "#%%\n"
    }
   },
   "outputs": [
    {
     "data": {
      "text/html": [
       "        <script type=\"text/javascript\">\n",
       "        window.PlotlyConfig = {MathJaxConfig: 'local'};\n",
       "        if (window.MathJax) {MathJax.Hub.Config({SVG: {font: \"STIX-Web\"}});}\n",
       "        if (typeof require !== 'undefined') {\n",
       "        require.undef(\"plotly\");\n",
       "        requirejs.config({\n",
       "            paths: {\n",
       "                'plotly': ['https://cdn.plot.ly/plotly-latest.min']\n",
       "            }\n",
       "        });\n",
       "        require(['plotly'], function(Plotly) {\n",
       "            window._Plotly = Plotly;\n",
       "        });\n",
       "        }\n",
       "        </script>\n",
       "        "
      ]
     },
     "metadata": {},
     "output_type": "display_data"
    },
    {
     "data": {
      "text/html": [
       "        <script type=\"text/javascript\">\n",
       "        window.PlotlyConfig = {MathJaxConfig: 'local'};\n",
       "        if (window.MathJax) {MathJax.Hub.Config({SVG: {font: \"STIX-Web\"}});}\n",
       "        if (typeof require !== 'undefined') {\n",
       "        require.undef(\"plotly\");\n",
       "        requirejs.config({\n",
       "            paths: {\n",
       "                'plotly': ['https://cdn.plot.ly/plotly-latest.min']\n",
       "            }\n",
       "        });\n",
       "        require(['plotly'], function(Plotly) {\n",
       "            window._Plotly = Plotly;\n",
       "        });\n",
       "        }\n",
       "        </script>\n",
       "        "
      ]
     },
     "metadata": {},
     "output_type": "display_data"
    }
   ],
   "source": [
    "import plotly.plotly as py\n",
    "import cufflinks as cf\n",
    "cf.set_config_file(offline=True, world_readable=True, theme='pearl')"
   ]
  },
  {
   "cell_type": "code",
   "execution_count": 3,
   "metadata": {},
   "outputs": [
    {
     "data": {
      "application/vnd.plotly.v1+json": {
       "config": {
        "linkText": "Export to plot.ly",
        "plotlyServerURL": "https://plot.ly",
        "responsive": true,
        "showLink": true
       },
       "data": [
        {
         "marker": {
          "color": "rgba(255, 153, 51, 1.0)",
          "line": {
           "width": 1.3
          },
          "opacity": 0.8,
          "size": [
           40
          ],
          "symbol": "circle"
         },
         "mode": "markers",
         "name": "Imran Tahir",
         "text": [
          "Imran Tahir"
         ],
         "textfont": {
          "color": "#4D5663"
         },
         "type": "scatter",
         "uid": "286a834c-80bc-47e4-9b80-735ed93ea150",
         "x": [
          7.662129703763011
         ],
         "y": [
          15.231707317073171
         ]
        },
        {
         "marker": {
          "color": "rgba(55, 128, 191, 1.0)",
          "line": {
           "width": 1.3
          },
          "opacity": 0.8,
          "size": [
           112
          ],
          "symbol": "circle"
         },
         "mode": "markers",
         "name": "SL Malinga",
         "text": [
          "SL Malinga"
         ],
         "textfont": {
          "color": "#4D5663"
         },
         "type": "scatter",
         "uid": "35a0feed-efe2-4a22-b276-96c92e700b43",
         "x": [
          6.49226630800269
         ],
         "y": [
          15.819148936170214
         ]
        },
        {
         "marker": {
          "color": "rgba(50, 171, 96, 1.0)",
          "line": {
           "width": 1.3
          },
          "opacity": 0.8,
          "size": [
           98
          ],
          "symbol": "circle"
         },
         "mode": "markers",
         "name": "DJ Bravo",
         "text": [
          "DJ Bravo"
         ],
         "textfont": {
          "color": "#4D5663"
         },
         "type": "scatter",
         "uid": "23132e46-9029-4861-84c4-2bf2a0964565",
         "x": [
          7.817041682036149
         ],
         "y": [
          16.136904761904763
         ]
        },
        {
         "marker": {
          "color": "rgba(128, 0, 128, 1.0)",
          "line": {
           "width": 1.3
          },
          "opacity": 0.8,
          "size": [
           67
          ],
          "symbol": "circle"
         },
         "mode": "markers",
         "name": "A Nehra",
         "text": [
          "A Nehra"
         ],
         "textfont": {
          "color": "#4D5663"
         },
         "type": "scatter",
         "uid": "4373a8c1-abc1-4468-ad15-6f2d3a6a0173",
         "x": [
          7.361702127659575
         ],
         "y": [
          16.31404958677686
         ]
        },
        {
         "marker": {
          "color": "rgba(219, 64, 82, 1.0)",
          "line": {
           "width": 1.3
          },
          "opacity": 0.8,
          "size": [
           40
          ],
          "symbol": "circle"
         },
         "mode": "markers",
         "name": "MM Patel",
         "text": [
          "MM Patel"
         ],
         "textfont": {
          "color": "#4D5663"
         },
         "type": "scatter",
         "uid": "fd0a9765-298b-431d-8875-a5fd54fe85cb",
         "x": [
          7.250361794500724
         ],
         "y": [
          16.853658536585368
         ]
        },
        {
         "marker": {
          "color": "rgba(0, 128, 128, 1.0)",
          "line": {
           "width": 1.3
          },
          "opacity": 0.8,
          "size": [
           36
          ],
          "symbol": "circle"
         },
         "mode": "markers",
         "name": "JP Faulkner",
         "text": [
          "JP Faulkner"
         ],
         "textfont": {
          "color": "#4D5663"
         },
         "type": "scatter",
         "uid": "3fa1b249-9385-4e0b-b707-355a0f8ed17e",
         "x": [
          8.13053613053613
         ],
         "y": [
          16.93421052631579
         ]
        },
        {
         "marker": {
          "color": "rgba(255, 255, 51, 1.0)",
          "line": {
           "width": 1.3
          },
          "opacity": 0.8,
          "size": [
           38
          ],
          "symbol": "circle"
         },
         "mode": "markers",
         "name": "CH Morris",
         "text": [
          "CH Morris"
         ],
         "textfont": {
          "color": "#4D5663"
         },
         "type": "scatter",
         "uid": "f735e6e6-e1a6-45b4-8207-de64bbf7c730",
         "x": [
          7.604494382022472
         ],
         "y": [
          17.115384615384617
         ]
        },
        {
         "marker": {
          "color": "rgba(128, 128, 0, 1.0)",
          "line": {
           "width": 1.3
          },
          "opacity": 0.8,
          "size": [
           46
          ],
          "symbol": "circle"
         },
         "mode": "markers",
         "name": "Sandeep Sharma",
         "text": [
          "Sandeep Sharma"
         ],
         "textfont": {
          "color": "#4D5663"
         },
         "type": "scatter",
         "uid": "2417b7c1-d62a-4f20-bd44-3fc7af244a2c",
         "x": [
          7.26908150064683
         ],
         "y": [
          17.177777777777777
         ]
        },
        {
         "marker": {
          "color": "rgba(251, 128, 114, 1.0)",
          "line": {
           "width": 1.3
          },
          "opacity": 0.8,
          "size": [
           71
          ],
          "symbol": "circle"
         },
         "mode": "markers",
         "name": "R Vinay Kumar",
         "text": [
          "R Vinay Kumar"
         ],
         "textfont": {
          "color": "#4D5663"
         },
         "type": "scatter",
         "uid": "38277275-1c3d-49ac-a123-58cf8e9a4826",
         "x": [
          8.033851784080513
         ],
         "y": [
          17.212598425196852
         ]
        },
        {
         "marker": {
          "color": "rgba(128, 177, 211, 1.0)",
          "line": {
           "width": 1.3
          },
          "opacity": 0.8,
          "size": [
           52
          ],
          "symbol": "circle"
         },
         "mode": "markers",
         "name": "MM Sharma",
         "text": [
          "MM Sharma"
         ],
         "textfont": {
          "color": "#4D5663"
         },
         "type": "scatter",
         "uid": "6f33e9d9-a4ec-41ec-bf85-18aac74ba962",
         "x": [
          8.128813559322033
         ],
         "y": [
          17.87878787878788
         ]
        },
        {
         "marker": {
          "color": "rgba(128, 177, 211, 0.8999999999999999)",
          "line": {
           "width": 1.3
          },
          "opacity": 0.8,
          "size": [
           54
          ],
          "symbol": "circle"
         },
         "mode": "markers",
         "name": "YS Chahal",
         "text": [
          "YS Chahal"
         ],
         "textfont": {
          "color": "#4D5663"
         },
         "type": "scatter",
         "uid": "9c4a0014-4233-4682-9ef5-1e25b2564563",
         "x": [
          7.495926127104835
         ],
         "y": [
          18.04901960784314
         ]
        },
        {
         "marker": {
          "color": "rgba(255, 153, 51, 0.8999999999999999)",
          "line": {
           "width": 1.3
          },
          "opacity": 0.8,
          "size": [
           25
          ],
          "symbol": "circle"
         },
         "mode": "markers",
         "name": "AD Russell",
         "text": [
          "AD Russell"
         ],
         "textfont": {
          "color": "#4D5663"
         },
         "type": "scatter",
         "uid": "7bda75ae-e3b8-4a1d-ba17-32e8a3c1a4f6",
         "x": [
          8.496268656716419
         ],
         "y": [
          18.16949152542373
         ]
        },
        {
         "marker": {
          "color": "rgba(55, 128, 191, 0.8999999999999999)",
          "line": {
           "width": 1.3
          },
          "opacity": 0.8,
          "size": [
           35
          ],
          "symbol": "circle"
         },
         "mode": "markers",
         "name": "MJ McClenaghan",
         "text": [
          "MJ McClenaghan"
         ],
         "textfont": {
          "color": "#4D5663"
         },
         "type": "scatter",
         "uid": "299bcb95-6b4b-420c-9cd6-ea7328cc87ef",
         "x": [
          7.827637444279346
         ],
         "y": [
          18.18918918918919
         ]
        },
        {
         "marker": {
          "color": "rgba(50, 171, 96, 0.8999999999999999)",
          "line": {
           "width": 1.3
          },
          "opacity": 0.8,
          "size": [
           26
          ],
          "symbol": "circle"
         },
         "mode": "markers",
         "name": "Rashid Khan",
         "text": [
          "Rashid Khan"
         ],
         "textfont": {
          "color": "#4D5663"
         },
         "type": "scatter",
         "uid": "5075635e-3952-4c92-9e3c-40b89ce60456",
         "x": [
          6.585895117540687
         ],
         "y": [
          18.433333333333334
         ]
        },
        {
         "marker": {
          "color": "rgba(128, 0, 128, 0.8999999999999999)",
          "line": {
           "width": 1.3
          },
          "opacity": 0.8,
          "size": [
           42
          ],
          "symbol": "circle"
         },
         "mode": "markers",
         "name": "L Balaji",
         "text": [
          "L Balaji"
         ],
         "textfont": {
          "color": "#4D5663"
         },
         "type": "scatter",
         "uid": "046e5614-e103-4763-bb38-adf50a8689c2",
         "x": [
          7.4409148665819576
         ],
         "y": [
          18.51764705882353
         ]
        },
        {
         "marker": {
          "color": "rgba(219, 64, 82, 0.8999999999999999)",
          "line": {
           "width": 1.3
          },
          "opacity": 0.8,
          "size": [
           52
          ],
          "symbol": "circle"
         },
         "mode": "markers",
         "name": "RP Singh",
         "text": [
          "RP Singh"
         ],
         "textfont": {
          "color": "#4D5663"
         },
         "type": "scatter",
         "uid": "fd677d6f-613b-42e1-a2e0-e4e847361036",
         "x": [
          7.159018143009606
         ],
         "y": [
          18.74
         ]
        },
        {
         "marker": {
          "color": "rgba(0, 128, 128, 0.8999999999999999)",
          "line": {
           "width": 1.3
          },
          "opacity": 0.8,
          "size": [
           40
          ],
          "symbol": "circle"
         },
         "mode": "markers",
         "name": "JD Unadkat",
         "text": [
          "JD Unadkat"
         ],
         "textfont": {
          "color": "#4D5663"
         },
         "type": "scatter",
         "uid": "380163d5-0f5c-40ff-b103-3a34cd21bc3d",
         "x": [
          8.499675535366645
         ],
         "y": [
          18.79268292682927
         ]
        },
        {
         "marker": {
          "color": "rgba(255, 255, 51, 0.8999999999999999)",
          "line": {
           "width": 1.3
          },
          "opacity": 0.8,
          "size": [
           77
          ],
          "symbol": "circle"
         },
         "mode": "markers",
         "name": "SP Narine",
         "text": [
          "SP Narine"
         ],
         "textfont": {
          "color": "#4D5663"
         },
         "type": "scatter",
         "uid": "cc555e8b-9b49-4f71-82b2-9c7c24213e2d",
         "x": [
          6.519230769230769
         ],
         "y": [
          18.978102189781023
         ]
        },
        {
         "marker": {
          "color": "rgba(128, 128, 0, 0.8999999999999999)",
          "line": {
           "width": 1.3
          },
          "opacity": 0.8,
          "size": [
           21
          ],
          "symbol": "circle"
         },
         "mode": "markers",
         "name": "S Kaul",
         "text": [
          "S Kaul"
         ],
         "textfont": {
          "color": "#4D5663"
         },
         "type": "scatter",
         "uid": "271ae172-453d-47e8-87ee-fbae01adc147",
         "x": [
          8.222442899702084
         ],
         "y": [
          19
         ]
        },
        {
         "marker": {
          "color": "rgba(251, 128, 114, 0.8999999999999999)",
          "line": {
           "width": 1.3
          },
          "opacity": 0.8,
          "size": [
           49
          ],
          "symbol": "circle"
         },
         "mode": "markers",
         "name": "JA Morkel",
         "text": [
          "JA Morkel"
         ],
         "textfont": {
          "color": "#4D5663"
         },
         "type": "scatter",
         "uid": "5491b2af-ed1a-4ae7-a542-4d89e776fe2d",
         "x": [
          7.490868843386829
         ],
         "y": [
          19.021052631578947
         ]
        },
        {
         "marker": {
          "color": "rgba(251, 128, 114, 0.7999999999999998)",
          "line": {
           "width": 1.3
          },
          "opacity": 0.8,
          "size": [
           30
          ],
          "symbol": "circle"
         },
         "mode": "markers",
         "name": "KA Pollard",
         "text": [
          "KA Pollard"
         ],
         "textfont": {
          "color": "#4D5663"
         },
         "type": "scatter",
         "uid": "311b769e-376a-43f7-8b18-ac07ea3df8fb",
         "x": [
          7.93730407523511
         ],
         "y": [
          19.044776119402986
         ]
        },
        {
         "marker": {
          "color": "rgba(128, 177, 211, 0.7999999999999998)",
          "line": {
           "width": 1.3
          },
          "opacity": 0.8,
          "size": [
           77
          ],
          "symbol": "circle"
         },
         "mode": "markers",
         "name": "UT Yadav",
         "text": [
          "UT Yadav"
         ],
         "textfont": {
          "color": "#4D5663"
         },
         "type": "scatter",
         "uid": "1315df69-2cb8-4430-8466-d0ff43d4692a",
         "x": [
          7.879462571976967
         ],
         "y": [
          19.154411764705884
         ]
        },
        {
         "marker": {
          "color": "rgba(255, 153, 51, 0.7999999999999998)",
          "line": {
           "width": 1.3
          },
          "opacity": 0.8,
          "size": [
           80
          ],
          "symbol": "circle"
         },
         "mode": "markers",
         "name": "B Kumar",
         "text": [
          "B Kumar"
         ],
         "textfont": {
          "color": "#4D5663"
         },
         "type": "scatter",
         "uid": "50704034-0f5d-4bca-b692-d7c530d70ec4",
         "x": [
          6.7979312892500925
         ],
         "y": [
          19.19858156028369
         ]
        },
        {
         "marker": {
          "color": "rgba(55, 128, 191, 0.7999999999999998)",
          "line": {
           "width": 1.3
          },
          "opacity": 0.8,
          "size": [
           96
          ],
          "symbol": "circle"
         },
         "mode": "markers",
         "name": "A Mishra",
         "text": [
          "A Mishra"
         ],
         "textfont": {
          "color": "#4D5663"
         },
         "type": "scatter",
         "uid": "2d24a4fc-6354-4c1d-9340-2618b4e87a21",
         "x": [
          7.0498108448928125
         ],
         "y": [
          19.224242424242423
         ]
        },
        {
         "marker": {
          "color": "rgba(50, 171, 96, 0.7999999999999998)",
          "line": {
           "width": 1.3
          },
          "opacity": 0.8,
          "size": [
           65
          ],
          "symbol": "circle"
         },
         "mode": "markers",
         "name": "Z Khan",
         "text": [
          "Z Khan"
         ],
         "textfont": {
          "color": "#4D5663"
         },
         "type": "scatter",
         "uid": "bca13e89-5126-49bb-aafa-fbee45ca6c9a",
         "x": [
          7.09402460456942
         ],
         "y": [
          19.28813559322034
         ]
        },
        {
         "marker": {
          "color": "rgba(128, 0, 128, 0.7999999999999998)",
          "line": {
           "width": 1.3
          },
          "opacity": 0.8,
          "size": [
           44
          ],
          "symbol": "circle"
         },
         "mode": "markers",
         "name": "M Morkel",
         "text": [
          "M Morkel"
         ],
         "textfont": {
          "color": "#4D5663"
         },
         "type": "scatter",
         "uid": "300aa8ba-6e90-4c9e-9594-3867e62d7b31",
         "x": [
          7.080635668040023
         ],
         "y": [
          19.306818181818183
         ]
        },
        {
         "marker": {
          "color": "rgba(219, 64, 82, 0.7999999999999998)",
          "line": {
           "width": 1.3
          },
          "opacity": 0.8,
          "size": [
           24
          ],
          "symbol": "circle"
         },
         "mode": "markers",
         "name": "KV Sharma",
         "text": [
          "KV Sharma"
         ],
         "textfont": {
          "color": "#4D5663"
         },
         "type": "scatter",
         "uid": "559a5341-35d2-4740-b159-0ef24da1a8f2",
         "x": [
          7.67528991971454
         ],
         "y": [
          19.32758620689655
         ]
        },
        {
         "marker": {
          "color": "rgba(0, 128, 128, 0.7999999999999998)",
          "line": {
           "width": 1.3
          },
          "opacity": 0.8,
          "size": [
           40
          ],
          "symbol": "circle"
         },
         "mode": "markers",
         "name": "AB Dinda",
         "text": [
          "AB Dinda"
         ],
         "textfont": {
          "color": "#4D5663"
         },
         "type": "scatter",
         "uid": "a6ed14c7-dab6-486e-a1c3-2adbd2d70068",
         "x": [
          7.5028319697923225
         ],
         "y": [
          19.378048780487806
         ]
        },
        {
         "marker": {
          "color": "rgba(255, 255, 51, 0.7999999999999998)",
          "line": {
           "width": 1.3
          },
          "opacity": 0.8,
          "size": [
           52
          ],
          "symbol": "circle"
         },
         "mode": "markers",
         "name": "PP Ojha",
         "text": [
          "PP Ojha"
         ],
         "textfont": {
          "color": "#4D5663"
         },
         "type": "scatter",
         "uid": "daec7094-d780-48ef-88ac-be3090a8bd99",
         "x": [
          6.974807197943444
         ],
         "y": [
          19.646464646464647
         ]
        },
        {
         "marker": {
          "color": "rgba(128, 128, 0, 0.7999999999999998)",
          "line": {
           "width": 1.3
          },
          "opacity": 0.8,
          "size": [
           30
          ],
          "symbol": "circle"
         },
         "mode": "markers",
         "name": "MG Johnson",
         "text": [
          "MG Johnson"
         ],
         "textfont": {
          "color": "#4D5663"
         },
         "type": "scatter",
         "uid": "d8b16251-ee2c-4e35-82d6-ef90220d8f18",
         "x": [
          7.572636433512682
         ],
         "y": [
          19.71212121212121
         ]
        },
        {
         "marker": {
          "color": "rgba(128, 128, 0, 0.7)",
          "line": {
           "width": 1.3
          },
          "opacity": 0.8,
          "size": [
           46
          ],
          "symbol": "circle"
         },
         "mode": "markers",
         "name": "JJ Bumrah",
         "text": [
          "JJ Bumrah"
         ],
         "textfont": {
          "color": "#4D5663"
         },
         "type": "scatter",
         "uid": "e6b533b5-b524-4e1f-82c6-0ddbbf4d2ba3",
         "x": [
          7.274749721913237
         ],
         "y": [
          19.75824175824176
         ]
        },
        {
         "marker": {
          "color": "rgba(251, 128, 114, 0.7)",
          "line": {
           "width": 1.3
          },
          "opacity": 0.8,
          "size": [
           57
          ],
          "symbol": "circle"
         },
         "mode": "markers",
         "name": "SR Watson",
         "text": [
          "SR Watson"
         ],
         "textfont": {
          "color": "#4D5663"
         },
         "type": "scatter",
         "uid": "4f72700a-437c-439d-8dbe-633ff56d615c",
         "x": [
          7.243799719232569
         ],
         "y": [
          19.97196261682243
         ]
        },
        {
         "marker": {
          "color": "rgba(128, 177, 211, 0.7)",
          "line": {
           "width": 1.3
          },
          "opacity": 0.8,
          "size": [
           46
          ],
          "symbol": "circle"
         },
         "mode": "markers",
         "name": "DS Kulkarni",
         "text": [
          "DS Kulkarni"
         ],
         "textfont": {
          "color": "#4D5663"
         },
         "type": "scatter",
         "uid": "6c2333a5-e3fe-4f8d-b6fa-ba1df59024cc",
         "x": [
          7.593442622950819
         ],
         "y": [
          20.10989010989011
         ]
        },
        {
         "marker": {
          "color": "rgba(255, 153, 51, 0.7)",
          "line": {
           "width": 1.3
          },
          "opacity": 0.8,
          "size": [
           90
          ],
          "symbol": "circle"
         },
         "mode": "markers",
         "name": "PP Chawla",
         "text": [
          "PP Chawla"
         ],
         "textfont": {
          "color": "#4D5663"
         },
         "type": "scatter",
         "uid": "54e05933-1b7d-4a42-a5cc-17e67a674858",
         "x": [
          7.643965790307254
         ],
         "y": [
          20.237179487179485
         ]
        },
        {
         "marker": {
          "color": "rgba(55, 128, 191, 0.7)",
          "line": {
           "width": 1.3
          },
          "opacity": 0.8,
          "size": [
           40
          ],
          "symbol": "circle"
         },
         "mode": "markers",
         "name": "R Bhatia",
         "text": [
          "R Bhatia"
         ],
         "textfont": {
          "color": "#4D5663"
         },
         "type": "scatter",
         "uid": "9e80e481-55e5-4586-b003-869950238020",
         "x": [
          7.173991571342565
         ],
         "y": [
          20.25609756097561
         ]
        },
        {
         "marker": {
          "color": "rgba(50, 171, 96, 0.7)",
          "line": {
           "width": 1.3
          },
          "opacity": 0.8,
          "size": [
           26
          ],
          "symbol": "circle"
         },
         "mode": "markers",
         "name": "SK Warne",
         "text": [
          "SK Warne"
         ],
         "textfont": {
          "color": "#4D5663"
         },
         "type": "scatter",
         "uid": "507a4622-53cb-4607-a31d-d946bc9ddbde",
         "x": [
          6.907604251839738
         ],
         "y": [
          20.383333333333333
         ]
        },
        {
         "marker": {
          "color": "rgba(128, 0, 128, 0.7)",
          "line": {
           "width": 1.3
          },
          "opacity": 0.8,
          "size": [
           30
          ],
          "symbol": "circle"
         },
         "mode": "markers",
         "name": "Shakib Al Hasan",
         "text": [
          "Shakib Al Hasan"
         ],
         "textfont": {
          "color": "#4D5663"
         },
         "type": "scatter",
         "uid": "a60e6a3a-b418-4485-a942-b06277ab1505",
         "x": [
          7.178807947019868
         ],
         "y": [
          20.59090909090909
         ]
        },
        {
         "marker": {
          "color": "rgba(219, 64, 82, 0.7)",
          "line": {
           "width": 1.3
          },
          "opacity": 0.8,
          "size": [
           20
          ],
          "symbol": "circle"
         },
         "mode": "markers",
         "name": "Mohammed Shami",
         "text": [
          "Mohammed Shami"
         ],
         "textfont": {
          "color": "#4D5663"
         },
         "type": "scatter",
         "uid": "d52254ec-5445-4f84-8697-6259e8b60257",
         "x": [
          8.4
         ],
         "y": [
          20.673076923076923
         ]
        },
        {
         "marker": {
          "color": "rgba(0, 128, 128, 0.7)",
          "line": {
           "width": 1.3
          },
          "opacity": 0.8,
          "size": [
           34
          ],
          "symbol": "circle"
         },
         "mode": "markers",
         "name": "SK Trivedi",
         "text": [
          "SK Trivedi"
         ],
         "textfont": {
          "color": "#4D5663"
         },
         "type": "scatter",
         "uid": "fb314863-2cb2-49b8-8ac6-b73877311696",
         "x": [
          7.090558766859345
         ],
         "y": [
          21.328767123287673
         ]
        },
        {
         "marker": {
          "color": "rgba(255, 255, 51, 0.7)",
          "line": {
           "width": 1.3
          },
          "opacity": 0.8,
          "size": [
           52
          ],
          "symbol": "circle"
         },
         "mode": "markers",
         "name": "IK Pathan",
         "text": [
          "IK Pathan"
         ],
         "textfont": {
          "color": "#4D5663"
         },
         "type": "scatter",
         "uid": "4eb0b5a6-bc31-4bd5-85be-c026d3f0b129",
         "x": [
          7.294841457643161
         ],
         "y": [
          21.343434343434343
         ]
        },
        {
         "marker": {
          "color": "rgba(255, 255, 51, 0.5999999999999999)",
          "line": {
           "width": 1.3
          },
          "opacity": 0.8,
          "size": [
           54
          ],
          "symbol": "circle"
         },
         "mode": "markers",
         "name": "DW Steyn",
         "text": [
          "DW Steyn"
         ],
         "textfont": {
          "color": "#4D5663"
         },
         "type": "scatter",
         "uid": "d1e2fa95-8150-4ca1-bf68-f818eff44240",
         "x": [
          6.206615314907114
         ],
         "y": [
          21.42718446601942
         ]
        },
        {
         "marker": {
          "color": "rgba(128, 128, 0, 0.5999999999999999)",
          "line": {
           "width": 1.3
          },
          "opacity": 0.8,
          "size": [
           93
          ],
          "symbol": "circle"
         },
         "mode": "markers",
         "name": "Harbhajan Singh",
         "text": [
          "Harbhajan Singh"
         ],
         "textfont": {
          "color": "#4D5663"
         },
         "type": "scatter",
         "uid": "5dce90d1-6f3b-4493-b098-bbd84e1459cf",
         "x": [
          6.745870762097943
         ],
         "y": [
          21.56875
         ]
        },
        {
         "marker": {
          "color": "rgba(251, 128, 114, 0.5999999999999999)",
          "line": {
           "width": 1.3
          },
          "opacity": 0.8,
          "size": [
           78
          ],
          "symbol": "circle"
         },
         "mode": "markers",
         "name": "R Ashwin",
         "text": [
          "R Ashwin"
         ],
         "textfont": {
          "color": "#4D5663"
         },
         "type": "scatter",
         "uid": "3cb169d4-a253-4058-803a-0ffb8b7f8e41",
         "x": [
          6.413793103448276
         ],
         "y": [
          21.855072463768117
         ]
        },
        {
         "marker": {
          "color": "rgba(128, 177, 211, 0.5999999999999999)",
          "line": {
           "width": 1.3
          },
          "opacity": 0.8,
          "size": [
           63
          ],
          "symbol": "circle"
         },
         "mode": "markers",
         "name": "RA Jadeja",
         "text": [
          "RA Jadeja"
         ],
         "textfont": {
          "color": "#4D5663"
         },
         "type": "scatter",
         "uid": "ab4c56f7-2149-48f6-bc48-b3a18636d903",
         "x": [
          7.360094451003542
         ],
         "y": [
          21.905172413793103
         ]
        },
        {
         "marker": {
          "color": "rgba(255, 153, 51, 0.5999999999999999)",
          "line": {
           "width": 1.3
          },
          "opacity": 0.8,
          "size": [
           19
          ],
          "symbol": "circle"
         },
         "mode": "markers",
         "name": "SB Jakati",
         "text": [
          "SB Jakati"
         ],
         "textfont": {
          "color": "#4D5663"
         },
         "type": "scatter",
         "uid": "060ea34c-a87c-4e8d-9b2d-8fea0d56f433",
         "x": [
          7.7493188010899186
         ],
         "y": [
          22.02
         ]
        },
        {
         "marker": {
          "color": "rgba(55, 128, 191, 0.5999999999999999)",
          "line": {
           "width": 1.3
          },
          "opacity": 0.8,
          "size": [
           36
          ],
          "symbol": "circle"
         },
         "mode": "markers",
         "name": "AR Patel",
         "text": [
          "AR Patel"
         ],
         "textfont": {
          "color": "#4D5663"
         },
         "type": "scatter",
         "uid": "dc6d7423-ea3d-4b6c-9e1f-fb057eed1468",
         "x": [
          7.227507163323783
         ],
         "y": [
          23.266666666666666
         ]
        },
        {
         "marker": {
          "color": "rgba(50, 171, 96, 0.5999999999999999)",
          "line": {
           "width": 1.3
          },
          "opacity": 0.8,
          "size": [
           30
          ],
          "symbol": "circle"
         },
         "mode": "markers",
         "name": "M Muralitharan",
         "text": [
          "M Muralitharan"
         ],
         "textfont": {
          "color": "#4D5663"
         },
         "type": "scatter",
         "uid": "bdd1b51b-2322-4d34-a357-117a381d9ece",
         "x": [
          6.2314990512333965
         ],
         "y": [
          23.597014925373134
         ]
        },
        {
         "marker": {
          "color": "rgba(128, 0, 128, 0.5999999999999999)",
          "line": {
           "width": 1.3
          },
          "opacity": 0.8,
          "size": [
           35
          ],
          "symbol": "circle"
         },
         "mode": "markers",
         "name": "JH Kallis",
         "text": [
          "JH Kallis"
         ],
         "textfont": {
          "color": "#4D5663"
         },
         "type": "scatter",
         "uid": "698ec5e6-98fb-4fac-b86f-f3906303fe0b",
         "x": [
          7.410783768760423
         ],
         "y": [
          24.31081081081081
         ]
        },
        {
         "marker": {
          "color": "rgba(219, 64, 82, 0.5999999999999999)",
          "line": {
           "width": 1.3
          },
          "opacity": 0.8,
          "size": [
           16
          ],
          "symbol": "circle"
         },
         "mode": "markers",
         "name": "YK Pathan",
         "text": [
          "YK Pathan"
         ],
         "textfont": {
          "color": "#4D5663"
         },
         "type": "scatter",
         "uid": "2da5d10f-c800-432a-9b0c-2803846c86c3",
         "x": [
          6.952702702702703
         ],
         "y": [
          25.73913043478261
         ]
        },
        {
         "marker": {
          "color": "rgba(0, 128, 128, 0.5999999999999999)",
          "line": {
           "width": 1.3
          },
          "opacity": 0.8,
          "size": [
           54
          ],
          "symbol": "circle"
         },
         "mode": "markers",
         "name": "P Kumar",
         "text": [
          "P Kumar"
         ],
         "textfont": {
          "color": "#4D5663"
         },
         "type": "scatter",
         "uid": "3275cda1-ac70-4143-be65-219322f22088",
         "x": [
          7.06712172923777
         ],
         "y": [
          25.852941176470587
         ]
        },
        {
         "marker": {
          "color": "rgba(0, 128, 128, 0.49999999999999983)",
          "line": {
           "width": 1.3
          },
          "opacity": 0.8,
          "size": [
           17
          ],
          "symbol": "circle"
         },
         "mode": "markers",
         "name": "S Nadeem",
         "text": [
          "S Nadeem"
         ],
         "textfont": {
          "color": "#4D5663"
         },
         "type": "scatter",
         "uid": "88be01c0-2ce0-4d99-a8e3-321b1d8d20ac",
         "x": [
          7.239282930631332
         ],
         "y": [
          27.29787234042553
         ]
        },
        {
         "marker": {
          "color": "rgba(255, 255, 51, 0.49999999999999983)",
          "line": {
           "width": 1.3
          },
          "opacity": 0.8,
          "size": [
           34
          ],
          "symbol": "circle"
         },
         "mode": "markers",
         "name": "I Sharma",
         "text": [
          "I Sharma"
         ],
         "textfont": {
          "color": "#4D5663"
         },
         "type": "scatter",
         "uid": "85d08c57-5582-4f58-a514-03f70638edea",
         "x": [
          7.467733866933466
         ],
         "y": [
          27.383561643835616
         ]
        },
        {
         "marker": {
          "color": "rgba(128, 128, 0, 0.49999999999999983)",
          "line": {
           "width": 1.3
          },
          "opacity": 0.8,
          "size": [
           12
          ],
          "symbol": "circle"
         },
         "mode": "markers",
         "name": "M Kartik",
         "text": [
          "M Kartik"
         ],
         "textfont": {
          "color": "#4D5663"
         },
         "type": "scatter",
         "uid": "4a222f11-7dc9-41ae-a1de-4deb362bbcbb",
         "x": [
          6.807106598984771
         ],
         "y": [
          30.307692307692307
         ]
        }
       ],
       "layout": {
        "legend": {
         "bgcolor": "#F5F6F9",
         "font": {
          "color": "#4D5663"
         }
        },
        "paper_bgcolor": "#F5F6F9",
        "plot_bgcolor": "#F5F6F9",
        "title": {
         "font": {
          "color": "#4D5663"
         }
        },
        "xaxis": {
         "gridcolor": "#E1E5ED",
         "showgrid": true,
         "tickfont": {
          "color": "#4D5663"
         },
         "title": {
          "font": {
           "color": "#4D5663"
          },
          "text": "Bowler Economy"
         },
         "zerolinecolor": "#E1E5ED"
        },
        "yaxis": {
         "gridcolor": "#E1E5ED",
         "showgrid": true,
         "tickfont": {
          "color": "#4D5663"
         },
         "title": {
          "font": {
           "color": "#4D5663"
          },
          "text": "Bowler Wicket Taking Ability"
         },
         "zerolinecolor": "#E1E5ED"
        }
       }
      },
      "text/html": [
       "<div>\n",
       "        \n",
       "        \n",
       "            <div id=\"dfdb7940-2dc7-4727-ad04-b1728ba0525c\" class=\"plotly-graph-div\" style=\"height:525px; width:100%;\"></div>\n",
       "            <script type=\"text/javascript\">\n",
       "                require([\"plotly\"], function(Plotly) {\n",
       "                    window.PLOTLYENV=window.PLOTLYENV || {};\n",
       "                    window.PLOTLYENV.BASE_URL='https://plot.ly';\n",
       "                    \n",
       "                if (document.getElementById(\"dfdb7940-2dc7-4727-ad04-b1728ba0525c\")) {\n",
       "                    Plotly.newPlot(\n",
       "                        'dfdb7940-2dc7-4727-ad04-b1728ba0525c',\n",
       "                        [{\"marker\": {\"color\": \"rgba(255, 153, 51, 1.0)\", \"line\": {\"width\": 1.3}, \"opacity\": 0.8, \"size\": [40], \"symbol\": \"circle\"}, \"mode\": \"markers\", \"name\": \"Imran Tahir\", \"text\": [\"Imran Tahir\"], \"textfont\": {\"color\": \"#4D5663\"}, \"type\": \"scatter\", \"uid\": \"2b7b9dca-1e40-413a-98fc-30ed6f010c80\", \"x\": [7.662129703763011], \"y\": [15.231707317073171]}, {\"marker\": {\"color\": \"rgba(55, 128, 191, 1.0)\", \"line\": {\"width\": 1.3}, \"opacity\": 0.8, \"size\": [112], \"symbol\": \"circle\"}, \"mode\": \"markers\", \"name\": \"SL Malinga\", \"text\": [\"SL Malinga\"], \"textfont\": {\"color\": \"#4D5663\"}, \"type\": \"scatter\", \"uid\": \"5edb996a-8967-44f8-b143-543f9ed90264\", \"x\": [6.49226630800269], \"y\": [15.819148936170214]}, {\"marker\": {\"color\": \"rgba(50, 171, 96, 1.0)\", \"line\": {\"width\": 1.3}, \"opacity\": 0.8, \"size\": [98], \"symbol\": \"circle\"}, \"mode\": \"markers\", \"name\": \"DJ Bravo\", \"text\": [\"DJ Bravo\"], \"textfont\": {\"color\": \"#4D5663\"}, \"type\": \"scatter\", \"uid\": \"ce7a5182-2184-4b29-bed2-a9f92c4027a1\", \"x\": [7.817041682036149], \"y\": [16.136904761904763]}, {\"marker\": {\"color\": \"rgba(128, 0, 128, 1.0)\", \"line\": {\"width\": 1.3}, \"opacity\": 0.8, \"size\": [67], \"symbol\": \"circle\"}, \"mode\": \"markers\", \"name\": \"A Nehra\", \"text\": [\"A Nehra\"], \"textfont\": {\"color\": \"#4D5663\"}, \"type\": \"scatter\", \"uid\": \"8eee4039-dd5f-49f3-b187-e56735d48347\", \"x\": [7.361702127659575], \"y\": [16.31404958677686]}, {\"marker\": {\"color\": \"rgba(219, 64, 82, 1.0)\", \"line\": {\"width\": 1.3}, \"opacity\": 0.8, \"size\": [40], \"symbol\": \"circle\"}, \"mode\": \"markers\", \"name\": \"MM Patel\", \"text\": [\"MM Patel\"], \"textfont\": {\"color\": \"#4D5663\"}, \"type\": \"scatter\", \"uid\": \"3af9f349-2420-495d-97f7-7742b08957da\", \"x\": [7.250361794500724], \"y\": [16.853658536585368]}, {\"marker\": {\"color\": \"rgba(0, 128, 128, 1.0)\", \"line\": {\"width\": 1.3}, \"opacity\": 0.8, \"size\": [36], \"symbol\": \"circle\"}, \"mode\": \"markers\", \"name\": \"JP Faulkner\", \"text\": [\"JP Faulkner\"], \"textfont\": {\"color\": \"#4D5663\"}, \"type\": \"scatter\", \"uid\": \"8a6c066b-8c84-4568-a52c-10e093a54f95\", \"x\": [8.13053613053613], \"y\": [16.93421052631579]}, {\"marker\": {\"color\": \"rgba(255, 255, 51, 1.0)\", \"line\": {\"width\": 1.3}, \"opacity\": 0.8, \"size\": [38], \"symbol\": \"circle\"}, \"mode\": \"markers\", \"name\": \"CH Morris\", \"text\": [\"CH Morris\"], \"textfont\": {\"color\": \"#4D5663\"}, \"type\": \"scatter\", \"uid\": \"b5c98afc-ce62-46b7-b6f5-5de03d6ee0ec\", \"x\": [7.604494382022472], \"y\": [17.115384615384617]}, {\"marker\": {\"color\": \"rgba(128, 128, 0, 1.0)\", \"line\": {\"width\": 1.3}, \"opacity\": 0.8, \"size\": [46], \"symbol\": \"circle\"}, \"mode\": \"markers\", \"name\": \"Sandeep Sharma\", \"text\": [\"Sandeep Sharma\"], \"textfont\": {\"color\": \"#4D5663\"}, \"type\": \"scatter\", \"uid\": \"af6f270b-6cbc-47c2-92a4-9dd8a2c011fa\", \"x\": [7.26908150064683], \"y\": [17.177777777777777]}, {\"marker\": {\"color\": \"rgba(251, 128, 114, 1.0)\", \"line\": {\"width\": 1.3}, \"opacity\": 0.8, \"size\": [71], \"symbol\": \"circle\"}, \"mode\": \"markers\", \"name\": \"R Vinay Kumar\", \"text\": [\"R Vinay Kumar\"], \"textfont\": {\"color\": \"#4D5663\"}, \"type\": \"scatter\", \"uid\": \"09d029a4-2370-44fd-bc69-8c8d91afb4c3\", \"x\": [8.033851784080513], \"y\": [17.212598425196852]}, {\"marker\": {\"color\": \"rgba(128, 177, 211, 1.0)\", \"line\": {\"width\": 1.3}, \"opacity\": 0.8, \"size\": [52], \"symbol\": \"circle\"}, \"mode\": \"markers\", \"name\": \"MM Sharma\", \"text\": [\"MM Sharma\"], \"textfont\": {\"color\": \"#4D5663\"}, \"type\": \"scatter\", \"uid\": \"1d2e4ec7-6f6f-4913-856c-261a0985d598\", \"x\": [8.128813559322033], \"y\": [17.87878787878788]}, {\"marker\": {\"color\": \"rgba(128, 177, 211, 0.8999999999999999)\", \"line\": {\"width\": 1.3}, \"opacity\": 0.8, \"size\": [54], \"symbol\": \"circle\"}, \"mode\": \"markers\", \"name\": \"YS Chahal\", \"text\": [\"YS Chahal\"], \"textfont\": {\"color\": \"#4D5663\"}, \"type\": \"scatter\", \"uid\": \"32c32747-5f30-4080-ac5b-33cc94c58065\", \"x\": [7.495926127104835], \"y\": [18.04901960784314]}, {\"marker\": {\"color\": \"rgba(255, 153, 51, 0.8999999999999999)\", \"line\": {\"width\": 1.3}, \"opacity\": 0.8, \"size\": [25], \"symbol\": \"circle\"}, \"mode\": \"markers\", \"name\": \"AD Russell\", \"text\": [\"AD Russell\"], \"textfont\": {\"color\": \"#4D5663\"}, \"type\": \"scatter\", \"uid\": \"d3429296-0557-405f-8a65-d1f406898f13\", \"x\": [8.496268656716419], \"y\": [18.16949152542373]}, {\"marker\": {\"color\": \"rgba(55, 128, 191, 0.8999999999999999)\", \"line\": {\"width\": 1.3}, \"opacity\": 0.8, \"size\": [35], \"symbol\": \"circle\"}, \"mode\": \"markers\", \"name\": \"MJ McClenaghan\", \"text\": [\"MJ McClenaghan\"], \"textfont\": {\"color\": \"#4D5663\"}, \"type\": \"scatter\", \"uid\": \"bd0723b4-8336-46cd-9134-62ca366558de\", \"x\": [7.827637444279346], \"y\": [18.18918918918919]}, {\"marker\": {\"color\": \"rgba(50, 171, 96, 0.8999999999999999)\", \"line\": {\"width\": 1.3}, \"opacity\": 0.8, \"size\": [26], \"symbol\": \"circle\"}, \"mode\": \"markers\", \"name\": \"Rashid Khan\", \"text\": [\"Rashid Khan\"], \"textfont\": {\"color\": \"#4D5663\"}, \"type\": \"scatter\", \"uid\": \"0209e8ef-ed96-4529-9d2b-7d02835a9265\", \"x\": [6.585895117540687], \"y\": [18.433333333333334]}, {\"marker\": {\"color\": \"rgba(128, 0, 128, 0.8999999999999999)\", \"line\": {\"width\": 1.3}, \"opacity\": 0.8, \"size\": [42], \"symbol\": \"circle\"}, \"mode\": \"markers\", \"name\": \"L Balaji\", \"text\": [\"L Balaji\"], \"textfont\": {\"color\": \"#4D5663\"}, \"type\": \"scatter\", \"uid\": \"231c2cc9-fc61-4b3d-99aa-87ff53f1786a\", \"x\": [7.4409148665819576], \"y\": [18.51764705882353]}, {\"marker\": {\"color\": \"rgba(219, 64, 82, 0.8999999999999999)\", \"line\": {\"width\": 1.3}, \"opacity\": 0.8, \"size\": [52], \"symbol\": \"circle\"}, \"mode\": \"markers\", \"name\": \"RP Singh\", \"text\": [\"RP Singh\"], \"textfont\": {\"color\": \"#4D5663\"}, \"type\": \"scatter\", \"uid\": \"7be01d09-8c3e-4fc7-8c21-281f4904fec7\", \"x\": [7.159018143009606], \"y\": [18.74]}, {\"marker\": {\"color\": \"rgba(0, 128, 128, 0.8999999999999999)\", \"line\": {\"width\": 1.3}, \"opacity\": 0.8, \"size\": [40], \"symbol\": \"circle\"}, \"mode\": \"markers\", \"name\": \"JD Unadkat\", \"text\": [\"JD Unadkat\"], \"textfont\": {\"color\": \"#4D5663\"}, \"type\": \"scatter\", \"uid\": \"903e4a6e-9679-406b-b272-a3a04c14c295\", \"x\": [8.499675535366645], \"y\": [18.79268292682927]}, {\"marker\": {\"color\": \"rgba(255, 255, 51, 0.8999999999999999)\", \"line\": {\"width\": 1.3}, \"opacity\": 0.8, \"size\": [77], \"symbol\": \"circle\"}, \"mode\": \"markers\", \"name\": \"SP Narine\", \"text\": [\"SP Narine\"], \"textfont\": {\"color\": \"#4D5663\"}, \"type\": \"scatter\", \"uid\": \"ada34afd-96c0-4f04-a392-88e9a85604d0\", \"x\": [6.519230769230769], \"y\": [18.978102189781023]}, {\"marker\": {\"color\": \"rgba(128, 128, 0, 0.8999999999999999)\", \"line\": {\"width\": 1.3}, \"opacity\": 0.8, \"size\": [21], \"symbol\": \"circle\"}, \"mode\": \"markers\", \"name\": \"S Kaul\", \"text\": [\"S Kaul\"], \"textfont\": {\"color\": \"#4D5663\"}, \"type\": \"scatter\", \"uid\": \"8800d924-3a0b-4523-a877-226a91cab8bc\", \"x\": [8.222442899702084], \"y\": [19.0]}, {\"marker\": {\"color\": \"rgba(251, 128, 114, 0.8999999999999999)\", \"line\": {\"width\": 1.3}, \"opacity\": 0.8, \"size\": [49], \"symbol\": \"circle\"}, \"mode\": \"markers\", \"name\": \"JA Morkel\", \"text\": [\"JA Morkel\"], \"textfont\": {\"color\": \"#4D5663\"}, \"type\": \"scatter\", \"uid\": \"ffbec034-03c6-4fcc-b92b-0b1d28ff83f5\", \"x\": [7.490868843386829], \"y\": [19.021052631578947]}, {\"marker\": {\"color\": \"rgba(251, 128, 114, 0.7999999999999998)\", \"line\": {\"width\": 1.3}, \"opacity\": 0.8, \"size\": [30], \"symbol\": \"circle\"}, \"mode\": \"markers\", \"name\": \"KA Pollard\", \"text\": [\"KA Pollard\"], \"textfont\": {\"color\": \"#4D5663\"}, \"type\": \"scatter\", \"uid\": \"4b8a1c5e-3110-4fcf-94cb-089dc7ce8ddb\", \"x\": [7.93730407523511], \"y\": [19.044776119402986]}, {\"marker\": {\"color\": \"rgba(128, 177, 211, 0.7999999999999998)\", \"line\": {\"width\": 1.3}, \"opacity\": 0.8, \"size\": [77], \"symbol\": \"circle\"}, \"mode\": \"markers\", \"name\": \"UT Yadav\", \"text\": [\"UT Yadav\"], \"textfont\": {\"color\": \"#4D5663\"}, \"type\": \"scatter\", \"uid\": \"39a0f78e-6c45-4a55-bc1d-69a4b5d92a52\", \"x\": [7.879462571976967], \"y\": [19.154411764705884]}, {\"marker\": {\"color\": \"rgba(255, 153, 51, 0.7999999999999998)\", \"line\": {\"width\": 1.3}, \"opacity\": 0.8, \"size\": [80], \"symbol\": \"circle\"}, \"mode\": \"markers\", \"name\": \"B Kumar\", \"text\": [\"B Kumar\"], \"textfont\": {\"color\": \"#4D5663\"}, \"type\": \"scatter\", \"uid\": \"62798243-cfc1-416b-af76-f4fe5a495d96\", \"x\": [6.7979312892500925], \"y\": [19.19858156028369]}, {\"marker\": {\"color\": \"rgba(55, 128, 191, 0.7999999999999998)\", \"line\": {\"width\": 1.3}, \"opacity\": 0.8, \"size\": [96], \"symbol\": \"circle\"}, \"mode\": \"markers\", \"name\": \"A Mishra\", \"text\": [\"A Mishra\"], \"textfont\": {\"color\": \"#4D5663\"}, \"type\": \"scatter\", \"uid\": \"6b1c9f45-ad30-4dba-b92e-cab6e92ff0e3\", \"x\": [7.0498108448928125], \"y\": [19.224242424242423]}, {\"marker\": {\"color\": \"rgba(50, 171, 96, 0.7999999999999998)\", \"line\": {\"width\": 1.3}, \"opacity\": 0.8, \"size\": [65], \"symbol\": \"circle\"}, \"mode\": \"markers\", \"name\": \"Z Khan\", \"text\": [\"Z Khan\"], \"textfont\": {\"color\": \"#4D5663\"}, \"type\": \"scatter\", \"uid\": \"2cc54e58-5c17-43d7-a6d1-c24c8778cf7c\", \"x\": [7.09402460456942], \"y\": [19.28813559322034]}, {\"marker\": {\"color\": \"rgba(128, 0, 128, 0.7999999999999998)\", \"line\": {\"width\": 1.3}, \"opacity\": 0.8, \"size\": [44], \"symbol\": \"circle\"}, \"mode\": \"markers\", \"name\": \"M Morkel\", \"text\": [\"M Morkel\"], \"textfont\": {\"color\": \"#4D5663\"}, \"type\": \"scatter\", \"uid\": \"923f70c0-28c7-4e6e-9567-2cda4076515f\", \"x\": [7.080635668040023], \"y\": [19.306818181818183]}, {\"marker\": {\"color\": \"rgba(219, 64, 82, 0.7999999999999998)\", \"line\": {\"width\": 1.3}, \"opacity\": 0.8, \"size\": [24], \"symbol\": \"circle\"}, \"mode\": \"markers\", \"name\": \"KV Sharma\", \"text\": [\"KV Sharma\"], \"textfont\": {\"color\": \"#4D5663\"}, \"type\": \"scatter\", \"uid\": \"c1447ea6-6460-4c26-9de7-95a0c9bb2353\", \"x\": [7.67528991971454], \"y\": [19.32758620689655]}, {\"marker\": {\"color\": \"rgba(0, 128, 128, 0.7999999999999998)\", \"line\": {\"width\": 1.3}, \"opacity\": 0.8, \"size\": [40], \"symbol\": \"circle\"}, \"mode\": \"markers\", \"name\": \"AB Dinda\", \"text\": [\"AB Dinda\"], \"textfont\": {\"color\": \"#4D5663\"}, \"type\": \"scatter\", \"uid\": \"9083d030-b4b4-4b4d-b39a-85c7f0362678\", \"x\": [7.5028319697923225], \"y\": [19.378048780487806]}, {\"marker\": {\"color\": \"rgba(255, 255, 51, 0.7999999999999998)\", \"line\": {\"width\": 1.3}, \"opacity\": 0.8, \"size\": [52], \"symbol\": \"circle\"}, \"mode\": \"markers\", \"name\": \"PP Ojha\", \"text\": [\"PP Ojha\"], \"textfont\": {\"color\": \"#4D5663\"}, \"type\": \"scatter\", \"uid\": \"521c7ff4-9633-4a05-969d-3b1c649bfd23\", \"x\": [6.974807197943444], \"y\": [19.646464646464647]}, {\"marker\": {\"color\": \"rgba(128, 128, 0, 0.7999999999999998)\", \"line\": {\"width\": 1.3}, \"opacity\": 0.8, \"size\": [30], \"symbol\": \"circle\"}, \"mode\": \"markers\", \"name\": \"MG Johnson\", \"text\": [\"MG Johnson\"], \"textfont\": {\"color\": \"#4D5663\"}, \"type\": \"scatter\", \"uid\": \"83279b93-db01-413b-aecf-a17843878feb\", \"x\": [7.572636433512682], \"y\": [19.71212121212121]}, {\"marker\": {\"color\": \"rgba(128, 128, 0, 0.7)\", \"line\": {\"width\": 1.3}, \"opacity\": 0.8, \"size\": [46], \"symbol\": \"circle\"}, \"mode\": \"markers\", \"name\": \"JJ Bumrah\", \"text\": [\"JJ Bumrah\"], \"textfont\": {\"color\": \"#4D5663\"}, \"type\": \"scatter\", \"uid\": \"3eaf66c5-2b9d-440b-8afd-be783cb66744\", \"x\": [7.274749721913237], \"y\": [19.75824175824176]}, {\"marker\": {\"color\": \"rgba(251, 128, 114, 0.7)\", \"line\": {\"width\": 1.3}, \"opacity\": 0.8, \"size\": [57], \"symbol\": \"circle\"}, \"mode\": \"markers\", \"name\": \"SR Watson\", \"text\": [\"SR Watson\"], \"textfont\": {\"color\": \"#4D5663\"}, \"type\": \"scatter\", \"uid\": \"e9e6265e-552c-4ee8-95c5-a5b8fd0cc1c5\", \"x\": [7.243799719232569], \"y\": [19.97196261682243]}, {\"marker\": {\"color\": \"rgba(128, 177, 211, 0.7)\", \"line\": {\"width\": 1.3}, \"opacity\": 0.8, \"size\": [46], \"symbol\": \"circle\"}, \"mode\": \"markers\", \"name\": \"DS Kulkarni\", \"text\": [\"DS Kulkarni\"], \"textfont\": {\"color\": \"#4D5663\"}, \"type\": \"scatter\", \"uid\": \"602a60f4-2087-4294-ba17-6d92419dc348\", \"x\": [7.593442622950819], \"y\": [20.10989010989011]}, {\"marker\": {\"color\": \"rgba(255, 153, 51, 0.7)\", \"line\": {\"width\": 1.3}, \"opacity\": 0.8, \"size\": [90], \"symbol\": \"circle\"}, \"mode\": \"markers\", \"name\": \"PP Chawla\", \"text\": [\"PP Chawla\"], \"textfont\": {\"color\": \"#4D5663\"}, \"type\": \"scatter\", \"uid\": \"0e21905f-3560-458d-8d5a-3c69fa61bbd2\", \"x\": [7.643965790307254], \"y\": [20.237179487179485]}, {\"marker\": {\"color\": \"rgba(55, 128, 191, 0.7)\", \"line\": {\"width\": 1.3}, \"opacity\": 0.8, \"size\": [40], \"symbol\": \"circle\"}, \"mode\": \"markers\", \"name\": \"R Bhatia\", \"text\": [\"R Bhatia\"], \"textfont\": {\"color\": \"#4D5663\"}, \"type\": \"scatter\", \"uid\": \"882a0661-1f64-4cf8-8b5d-6a4f8c847c7b\", \"x\": [7.173991571342565], \"y\": [20.25609756097561]}, {\"marker\": {\"color\": \"rgba(50, 171, 96, 0.7)\", \"line\": {\"width\": 1.3}, \"opacity\": 0.8, \"size\": [26], \"symbol\": \"circle\"}, \"mode\": \"markers\", \"name\": \"SK Warne\", \"text\": [\"SK Warne\"], \"textfont\": {\"color\": \"#4D5663\"}, \"type\": \"scatter\", \"uid\": \"309e8e55-218e-402f-a160-0ef169f660e0\", \"x\": [6.907604251839738], \"y\": [20.383333333333333]}, {\"marker\": {\"color\": \"rgba(128, 0, 128, 0.7)\", \"line\": {\"width\": 1.3}, \"opacity\": 0.8, \"size\": [30], \"symbol\": \"circle\"}, \"mode\": \"markers\", \"name\": \"Shakib Al Hasan\", \"text\": [\"Shakib Al Hasan\"], \"textfont\": {\"color\": \"#4D5663\"}, \"type\": \"scatter\", \"uid\": \"1ed8abac-2929-4aa3-80d2-db2aab7fd569\", \"x\": [7.178807947019868], \"y\": [20.59090909090909]}, {\"marker\": {\"color\": \"rgba(219, 64, 82, 0.7)\", \"line\": {\"width\": 1.3}, \"opacity\": 0.8, \"size\": [20], \"symbol\": \"circle\"}, \"mode\": \"markers\", \"name\": \"Mohammed Shami\", \"text\": [\"Mohammed Shami\"], \"textfont\": {\"color\": \"#4D5663\"}, \"type\": \"scatter\", \"uid\": \"15379ea7-9ddb-48ca-a91c-24118a74f2c3\", \"x\": [8.4], \"y\": [20.673076923076923]}, {\"marker\": {\"color\": \"rgba(0, 128, 128, 0.7)\", \"line\": {\"width\": 1.3}, \"opacity\": 0.8, \"size\": [34], \"symbol\": \"circle\"}, \"mode\": \"markers\", \"name\": \"SK Trivedi\", \"text\": [\"SK Trivedi\"], \"textfont\": {\"color\": \"#4D5663\"}, \"type\": \"scatter\", \"uid\": \"f7a5d547-425a-4d57-9867-8dcf76adac39\", \"x\": [7.090558766859345], \"y\": [21.328767123287673]}, {\"marker\": {\"color\": \"rgba(255, 255, 51, 0.7)\", \"line\": {\"width\": 1.3}, \"opacity\": 0.8, \"size\": [52], \"symbol\": \"circle\"}, \"mode\": \"markers\", \"name\": \"IK Pathan\", \"text\": [\"IK Pathan\"], \"textfont\": {\"color\": \"#4D5663\"}, \"type\": \"scatter\", \"uid\": \"d036dc87-9546-4245-a072-903892f91495\", \"x\": [7.294841457643161], \"y\": [21.343434343434343]}, {\"marker\": {\"color\": \"rgba(255, 255, 51, 0.5999999999999999)\", \"line\": {\"width\": 1.3}, \"opacity\": 0.8, \"size\": [54], \"symbol\": \"circle\"}, \"mode\": \"markers\", \"name\": \"DW Steyn\", \"text\": [\"DW Steyn\"], \"textfont\": {\"color\": \"#4D5663\"}, \"type\": \"scatter\", \"uid\": \"f7a160d8-d21f-436c-b2c8-f2693c0e846a\", \"x\": [6.206615314907114], \"y\": [21.42718446601942]}, {\"marker\": {\"color\": \"rgba(128, 128, 0, 0.5999999999999999)\", \"line\": {\"width\": 1.3}, \"opacity\": 0.8, \"size\": [93], \"symbol\": \"circle\"}, \"mode\": \"markers\", \"name\": \"Harbhajan Singh\", \"text\": [\"Harbhajan Singh\"], \"textfont\": {\"color\": \"#4D5663\"}, \"type\": \"scatter\", \"uid\": \"c6ba5673-04c4-4745-8e3c-640344a57c32\", \"x\": [6.745870762097943], \"y\": [21.56875]}, {\"marker\": {\"color\": \"rgba(251, 128, 114, 0.5999999999999999)\", \"line\": {\"width\": 1.3}, \"opacity\": 0.8, \"size\": [78], \"symbol\": \"circle\"}, \"mode\": \"markers\", \"name\": \"R Ashwin\", \"text\": [\"R Ashwin\"], \"textfont\": {\"color\": \"#4D5663\"}, \"type\": \"scatter\", \"uid\": \"8aa1d37d-6fea-4311-9e3f-e8da7b665d79\", \"x\": [6.413793103448276], \"y\": [21.855072463768117]}, {\"marker\": {\"color\": \"rgba(128, 177, 211, 0.5999999999999999)\", \"line\": {\"width\": 1.3}, \"opacity\": 0.8, \"size\": [63], \"symbol\": \"circle\"}, \"mode\": \"markers\", \"name\": \"RA Jadeja\", \"text\": [\"RA Jadeja\"], \"textfont\": {\"color\": \"#4D5663\"}, \"type\": \"scatter\", \"uid\": \"2377638d-fe32-4935-b997-0a95a4749d06\", \"x\": [7.360094451003542], \"y\": [21.905172413793103]}, {\"marker\": {\"color\": \"rgba(255, 153, 51, 0.5999999999999999)\", \"line\": {\"width\": 1.3}, \"opacity\": 0.8, \"size\": [19], \"symbol\": \"circle\"}, \"mode\": \"markers\", \"name\": \"SB Jakati\", \"text\": [\"SB Jakati\"], \"textfont\": {\"color\": \"#4D5663\"}, \"type\": \"scatter\", \"uid\": \"2263c766-5d0a-4515-b7d6-9acc6310a052\", \"x\": [7.7493188010899186], \"y\": [22.02]}, {\"marker\": {\"color\": \"rgba(55, 128, 191, 0.5999999999999999)\", \"line\": {\"width\": 1.3}, \"opacity\": 0.8, \"size\": [36], \"symbol\": \"circle\"}, \"mode\": \"markers\", \"name\": \"AR Patel\", \"text\": [\"AR Patel\"], \"textfont\": {\"color\": \"#4D5663\"}, \"type\": \"scatter\", \"uid\": \"2ce13e67-e14e-4660-9ec4-11aed04f22f3\", \"x\": [7.227507163323783], \"y\": [23.266666666666666]}, {\"marker\": {\"color\": \"rgba(50, 171, 96, 0.5999999999999999)\", \"line\": {\"width\": 1.3}, \"opacity\": 0.8, \"size\": [30], \"symbol\": \"circle\"}, \"mode\": \"markers\", \"name\": \"M Muralitharan\", \"text\": [\"M Muralitharan\"], \"textfont\": {\"color\": \"#4D5663\"}, \"type\": \"scatter\", \"uid\": \"44cfca6f-fce7-4ac9-80a7-250335a677f8\", \"x\": [6.2314990512333965], \"y\": [23.597014925373134]}, {\"marker\": {\"color\": \"rgba(128, 0, 128, 0.5999999999999999)\", \"line\": {\"width\": 1.3}, \"opacity\": 0.8, \"size\": [35], \"symbol\": \"circle\"}, \"mode\": \"markers\", \"name\": \"JH Kallis\", \"text\": [\"JH Kallis\"], \"textfont\": {\"color\": \"#4D5663\"}, \"type\": \"scatter\", \"uid\": \"871f00b5-13d9-4397-8bc1-907b786427f6\", \"x\": [7.410783768760423], \"y\": [24.31081081081081]}, {\"marker\": {\"color\": \"rgba(219, 64, 82, 0.5999999999999999)\", \"line\": {\"width\": 1.3}, \"opacity\": 0.8, \"size\": [16], \"symbol\": \"circle\"}, \"mode\": \"markers\", \"name\": \"YK Pathan\", \"text\": [\"YK Pathan\"], \"textfont\": {\"color\": \"#4D5663\"}, \"type\": \"scatter\", \"uid\": \"12aed61c-3bd0-4a2e-8756-961ed82b1084\", \"x\": [6.952702702702703], \"y\": [25.73913043478261]}, {\"marker\": {\"color\": \"rgba(0, 128, 128, 0.5999999999999999)\", \"line\": {\"width\": 1.3}, \"opacity\": 0.8, \"size\": [54], \"symbol\": \"circle\"}, \"mode\": \"markers\", \"name\": \"P Kumar\", \"text\": [\"P Kumar\"], \"textfont\": {\"color\": \"#4D5663\"}, \"type\": \"scatter\", \"uid\": \"0705ba52-c28d-4e7c-a894-e85d660a83dd\", \"x\": [7.06712172923777], \"y\": [25.852941176470587]}, {\"marker\": {\"color\": \"rgba(0, 128, 128, 0.49999999999999983)\", \"line\": {\"width\": 1.3}, \"opacity\": 0.8, \"size\": [17], \"symbol\": \"circle\"}, \"mode\": \"markers\", \"name\": \"S Nadeem\", \"text\": [\"S Nadeem\"], \"textfont\": {\"color\": \"#4D5663\"}, \"type\": \"scatter\", \"uid\": \"1c7b0607-66e7-4e7e-a3b7-f99ee8935af4\", \"x\": [7.239282930631332], \"y\": [27.29787234042553]}, {\"marker\": {\"color\": \"rgba(255, 255, 51, 0.49999999999999983)\", \"line\": {\"width\": 1.3}, \"opacity\": 0.8, \"size\": [34], \"symbol\": \"circle\"}, \"mode\": \"markers\", \"name\": \"I Sharma\", \"text\": [\"I Sharma\"], \"textfont\": {\"color\": \"#4D5663\"}, \"type\": \"scatter\", \"uid\": \"d01861c5-5e52-44c3-a54b-a4976b24a1d0\", \"x\": [7.467733866933466], \"y\": [27.383561643835616]}, {\"marker\": {\"color\": \"rgba(128, 128, 0, 0.49999999999999983)\", \"line\": {\"width\": 1.3}, \"opacity\": 0.8, \"size\": [12], \"symbol\": \"circle\"}, \"mode\": \"markers\", \"name\": \"M Kartik\", \"text\": [\"M Kartik\"], \"textfont\": {\"color\": \"#4D5663\"}, \"type\": \"scatter\", \"uid\": \"4ebaedd0-0d60-4366-ad4f-eca24616ee1e\", \"x\": [6.807106598984771], \"y\": [30.307692307692307]}],\n",
       "                        {\"legend\": {\"bgcolor\": \"#F5F6F9\", \"font\": {\"color\": \"#4D5663\"}}, \"paper_bgcolor\": \"#F5F6F9\", \"plot_bgcolor\": \"#F5F6F9\", \"title\": {\"font\": {\"color\": \"#4D5663\"}}, \"xaxis\": {\"gridcolor\": \"#E1E5ED\", \"showgrid\": true, \"tickfont\": {\"color\": \"#4D5663\"}, \"title\": {\"font\": {\"color\": \"#4D5663\"}, \"text\": \"Bowler Economy\"}, \"zerolinecolor\": \"#E1E5ED\"}, \"yaxis\": {\"gridcolor\": \"#E1E5ED\", \"showgrid\": true, \"tickfont\": {\"color\": \"#4D5663\"}, \"title\": {\"font\": {\"color\": \"#4D5663\"}, \"text\": \"Bowler Wicket Taking Ability\"}, \"zerolinecolor\": \"#E1E5ED\"}},\n",
       "                        {\"showLink\": true, \"linkText\": \"Export to plot.ly\", \"plotlyServerURL\": \"https://plot.ly\", \"responsive\": true}\n",
       "                    ).then(function(){\n",
       "                            \n",
       "var gd = document.getElementById('dfdb7940-2dc7-4727-ad04-b1728ba0525c');\n",
       "var x = new MutationObserver(function (mutations, observer) {{\n",
       "        var display = window.getComputedStyle(gd).display;\n",
       "        if (!display || display === 'none') {{\n",
       "            console.log([gd, 'removed!']);\n",
       "            Plotly.purge(gd);\n",
       "            observer.disconnect();\n",
       "        }}\n",
       "}});\n",
       "\n",
       "// Listen for the removal of the full notebook cells\n",
       "var notebookContainer = gd.closest('#notebook-container');\n",
       "if (notebookContainer) {{\n",
       "    x.observe(notebookContainer, {childList: true});\n",
       "}}\n",
       "\n",
       "// Listen for the clearing of the current output cell\n",
       "var outputEl = gd.closest('.output');\n",
       "if (outputEl) {{\n",
       "    x.observe(outputEl, {childList: true});\n",
       "}}\n",
       "\n",
       "                        })\n",
       "                };\n",
       "                });\n",
       "            </script>\n",
       "        </div>"
      ]
     },
     "metadata": {},
     "output_type": "display_data"
    }
   ],
   "source": [
    "eco = economy(ball_data.copy())\n",
    "wick = wicket_taking(ball_data.copy())\n",
    "eco_100 = eco[eco['Number of Balls Thrown']>1000]\n",
    "wick_100 = wick[wick['Number of Balls Thrown']>1000]\n",
    "out = pd.merge(wick_100, eco_100, how='inner', on=['bowler','Number of Balls Thrown'])\n",
    "\n",
    "out.iplot(kind='bubble', x='Economy', y='Wicket Taking Ability', categories='bowler', size='Number of Wickets taken', text='bowler',\n",
    "          xTitle='Bowler Economy', yTitle='Bowler Wicket Taking Ability', filename='cufflinks/simple-bubble-chart')"
   ]
  },
  {
   "cell_type": "code",
   "execution_count": 18,
   "metadata": {},
   "outputs": [
    {
     "data": {
      "application/vnd.plotly.v1+json": {
       "config": {
        "linkText": "Export to plot.ly",
        "plotlyServerURL": "https://plot.ly",
        "responsive": true,
        "showLink": true
       },
       "data": [
        {
         "marker": {
          "color": "rgba(255, 153, 51, 1.0)",
          "line": {
           "width": 1.3
          },
          "opacity": 0.8,
          "size": [
           89
          ],
          "symbol": "circle"
         },
         "mode": "markers",
         "name": "Chennai Super Kings",
         "text": [
          "Chennai Super Kings"
         ],
         "textfont": {
          "color": "#4D5663"
         },
         "type": "scatter",
         "uid": "bc2a2aa4-3065-4aa7-b54b-5281fa64fd17",
         "x": [
          7.35763959910002
         ],
         "y": [
          19.023346303501945
         ]
        },
        {
         "marker": {
          "color": "rgba(55, 128, 191, 1.0)",
          "line": {
           "width": 1.3
          },
          "opacity": 0.8,
          "size": [
           12
          ],
          "symbol": "circle"
         },
         "mode": "markers",
         "name": "Sunrisers Hyderabad",
         "text": [
          "Sunrisers Hyderabad"
         ],
         "textfont": {
          "color": "#4D5663"
         },
         "type": "scatter",
         "uid": "820c71c9-0169-4308-8c88-5f199ca25727",
         "x": [
          7.525001956334611
         ],
         "y": [
          19.66
         ]
        },
        {
         "marker": {
          "color": "rgba(50, 171, 96, 1.0)",
          "line": {
           "width": 1.3
          },
          "opacity": 0.8,
          "size": [
           112
          ],
          "symbol": "circle"
         },
         "mode": "markers",
         "name": "Mumbai Indians",
         "text": [
          "Mumbai Indians"
         ],
         "textfont": {
          "color": "#4D5663"
         },
         "type": "scatter",
         "uid": "5e027406-c03f-48ff-b33e-adac2ebb3f85",
         "x": [
          7.27157258959897
         ],
         "y": [
          19.821302816901408
         ]
        },
        {
         "marker": {
          "color": "rgba(128, 0, 128, 1.0)",
          "line": {
           "width": 1.3
          },
          "opacity": 0.8,
          "size": [
           53
          ],
          "symbol": "circle"
         },
         "mode": "markers",
         "name": "Rajasthan Royals",
         "text": [
          "Rajasthan Royals"
         ],
         "textfont": {
          "color": "#4D5663"
         },
         "type": "scatter",
         "uid": "4013759b-26cd-4731-897d-ade1bcc0cbcd",
         "x": [
          7.391094235415948
         ],
         "y": [
          20.353629976580795
         ]
        },
        {
         "marker": {
          "color": "rgba(219, 64, 82, 1.0)",
          "line": {
           "width": 1.3
          },
          "opacity": 0.8,
          "size": [
           65
          ],
          "symbol": "circle"
         },
         "mode": "markers",
         "name": "Delhi Daredevils",
         "text": [
          "Delhi Daredevils"
         ],
         "textfont": {
          "color": "#4D5663"
         },
         "type": "scatter",
         "uid": "5a4d720c-85c3-4113-a575-1e0bc05ecc27",
         "x": [
          7.543818424566088
         ],
         "y": [
          20.576923076923077
         ]
        },
        {
         "marker": {
          "color": "rgba(0, 128, 128, 1.0)",
          "line": {
           "width": 1.3
          },
          "opacity": 0.8,
          "size": [
           90
          ],
          "symbol": "circle"
         },
         "mode": "markers",
         "name": "Royal Challengers Bangalore",
         "text": [
          "Royal Challengers Bangalore"
         ],
         "textfont": {
          "color": "#4D5663"
         },
         "type": "scatter",
         "uid": "6f18cab8-a4f4-4b40-a948-6b4013c68b00",
         "x": [
          7.631663213411188
         ],
         "y": [
          20.57751937984496
         ]
        },
        {
         "marker": {
          "color": "rgba(255, 255, 51, 1.0)",
          "line": {
           "width": 1.3
          },
          "opacity": 0.8,
          "size": [
           85
          ],
          "symbol": "circle"
         },
         "mode": "markers",
         "name": "Kolkata Knight Riders",
         "text": [
          "Kolkata Knight Riders"
         ],
         "textfont": {
          "color": "#4D5663"
         },
         "type": "scatter",
         "uid": "9f6b02af-0f38-4d83-b28f-ab94305853d0",
         "x": [
          7.4507163323782235
         ],
         "y": [
          20.753221010901882
         ]
        },
        {
         "marker": {
          "color": "rgba(128, 128, 0, 1.0)",
          "line": {
           "width": 1.3
          },
          "opacity": 0.8,
          "size": [
           81
          ],
          "symbol": "circle"
         },
         "mode": "markers",
         "name": "Kings XI Punjab",
         "text": [
          "Kings XI Punjab"
         ],
         "textfont": {
          "color": "#4D5663"
         },
         "type": "scatter",
         "uid": "e2c4deb2-3672-4922-9865-99a93918d2b5",
         "x": [
          7.758541045135214
         ],
         "y": [
          21.01314459049545
         ]
        }
       ],
       "layout": {
        "legend": {
         "bgcolor": "#F5F6F9",
         "font": {
          "color": "#4D5663"
         }
        },
        "paper_bgcolor": "#F5F6F9",
        "plot_bgcolor": "#F5F6F9",
        "title": {
         "font": {
          "color": "#4D5663"
         }
        },
        "xaxis": {
         "gridcolor": "#E1E5ED",
         "showgrid": true,
         "tickfont": {
          "color": "#4D5663"
         },
         "title": {
          "font": {
           "color": "#4D5663"
          },
          "text": "Bowler Economy"
         },
         "zerolinecolor": "#E1E5ED"
        },
        "yaxis": {
         "gridcolor": "#E1E5ED",
         "showgrid": true,
         "tickfont": {
          "color": "#4D5663"
         },
         "title": {
          "font": {
           "color": "#4D5663"
          },
          "text": "Bowler Wicket Taking Ability"
         },
         "zerolinecolor": "#E1E5ED"
        }
       }
      },
      "text/html": [
       "<div>\n",
       "        \n",
       "        \n",
       "            <div id=\"e554fa9e-e01b-43b2-844a-00a4acd58d31\" class=\"plotly-graph-div\" style=\"height:525px; width:100%;\"></div>\n",
       "            <script type=\"text/javascript\">\n",
       "                require([\"plotly\"], function(Plotly) {\n",
       "                    window.PLOTLYENV=window.PLOTLYENV || {};\n",
       "                    window.PLOTLYENV.BASE_URL='https://plot.ly';\n",
       "                    \n",
       "                if (document.getElementById(\"e554fa9e-e01b-43b2-844a-00a4acd58d31\")) {\n",
       "                    Plotly.newPlot(\n",
       "                        'e554fa9e-e01b-43b2-844a-00a4acd58d31',\n",
       "                        [{\"marker\": {\"color\": \"rgba(255, 153, 51, 1.0)\", \"line\": {\"width\": 1.3}, \"opacity\": 0.8, \"size\": [89], \"symbol\": \"circle\"}, \"mode\": \"markers\", \"name\": \"Chennai Super Kings\", \"text\": [\"Chennai Super Kings\"], \"textfont\": {\"color\": \"#4D5663\"}, \"type\": \"scatter\", \"uid\": \"200642ed-e446-4813-b6ff-87fa5f153fc2\", \"x\": [7.35763959910002], \"y\": [19.023346303501945]}, {\"marker\": {\"color\": \"rgba(55, 128, 191, 1.0)\", \"line\": {\"width\": 1.3}, \"opacity\": 0.8, \"size\": [12], \"symbol\": \"circle\"}, \"mode\": \"markers\", \"name\": \"Sunrisers Hyderabad\", \"text\": [\"Sunrisers Hyderabad\"], \"textfont\": {\"color\": \"#4D5663\"}, \"type\": \"scatter\", \"uid\": \"5c7ea512-1029-4fb0-97ca-0ad643105843\", \"x\": [7.525001956334611], \"y\": [19.66]}, {\"marker\": {\"color\": \"rgba(50, 171, 96, 1.0)\", \"line\": {\"width\": 1.3}, \"opacity\": 0.8, \"size\": [112], \"symbol\": \"circle\"}, \"mode\": \"markers\", \"name\": \"Mumbai Indians\", \"text\": [\"Mumbai Indians\"], \"textfont\": {\"color\": \"#4D5663\"}, \"type\": \"scatter\", \"uid\": \"bc6dd755-a3b4-4f5b-b856-d27653bd1888\", \"x\": [7.27157258959897], \"y\": [19.821302816901408]}, {\"marker\": {\"color\": \"rgba(128, 0, 128, 1.0)\", \"line\": {\"width\": 1.3}, \"opacity\": 0.8, \"size\": [53], \"symbol\": \"circle\"}, \"mode\": \"markers\", \"name\": \"Rajasthan Royals\", \"text\": [\"Rajasthan Royals\"], \"textfont\": {\"color\": \"#4D5663\"}, \"type\": \"scatter\", \"uid\": \"def4b8b1-5758-4114-9782-bf5858e4c2b6\", \"x\": [7.391094235415948], \"y\": [20.353629976580795]}, {\"marker\": {\"color\": \"rgba(219, 64, 82, 1.0)\", \"line\": {\"width\": 1.3}, \"opacity\": 0.8, \"size\": [65], \"symbol\": \"circle\"}, \"mode\": \"markers\", \"name\": \"Delhi Daredevils\", \"text\": [\"Delhi Daredevils\"], \"textfont\": {\"color\": \"#4D5663\"}, \"type\": \"scatter\", \"uid\": \"ece09ccf-e9c4-4670-9b70-8db405d5834a\", \"x\": [7.543818424566088], \"y\": [20.576923076923077]}, {\"marker\": {\"color\": \"rgba(0, 128, 128, 1.0)\", \"line\": {\"width\": 1.3}, \"opacity\": 0.8, \"size\": [90], \"symbol\": \"circle\"}, \"mode\": \"markers\", \"name\": \"Royal Challengers Bangalore\", \"text\": [\"Royal Challengers Bangalore\"], \"textfont\": {\"color\": \"#4D5663\"}, \"type\": \"scatter\", \"uid\": \"37b1e32c-302d-464c-9d2e-c262e8494ac3\", \"x\": [7.631663213411188], \"y\": [20.57751937984496]}, {\"marker\": {\"color\": \"rgba(255, 255, 51, 1.0)\", \"line\": {\"width\": 1.3}, \"opacity\": 0.8, \"size\": [85], \"symbol\": \"circle\"}, \"mode\": \"markers\", \"name\": \"Kolkata Knight Riders\", \"text\": [\"Kolkata Knight Riders\"], \"textfont\": {\"color\": \"#4D5663\"}, \"type\": \"scatter\", \"uid\": \"53a4658e-a30b-417c-bf3c-a42546a9e1fe\", \"x\": [7.4507163323782235], \"y\": [20.753221010901882]}, {\"marker\": {\"color\": \"rgba(128, 128, 0, 1.0)\", \"line\": {\"width\": 1.3}, \"opacity\": 0.8, \"size\": [81], \"symbol\": \"circle\"}, \"mode\": \"markers\", \"name\": \"Kings XI Punjab\", \"text\": [\"Kings XI Punjab\"], \"textfont\": {\"color\": \"#4D5663\"}, \"type\": \"scatter\", \"uid\": \"a567d13f-e5b9-4c1c-a5b9-1d8bb5136ced\", \"x\": [7.758541045135214], \"y\": [21.01314459049545]}],\n",
       "                        {\"legend\": {\"bgcolor\": \"#F5F6F9\", \"font\": {\"color\": \"#4D5663\"}}, \"paper_bgcolor\": \"#F5F6F9\", \"plot_bgcolor\": \"#F5F6F9\", \"title\": {\"font\": {\"color\": \"#4D5663\"}}, \"xaxis\": {\"gridcolor\": \"#E1E5ED\", \"showgrid\": true, \"tickfont\": {\"color\": \"#4D5663\"}, \"title\": {\"font\": {\"color\": \"#4D5663\"}, \"text\": \"Bowler Economy\"}, \"zerolinecolor\": \"#E1E5ED\"}, \"yaxis\": {\"gridcolor\": \"#E1E5ED\", \"showgrid\": true, \"tickfont\": {\"color\": \"#4D5663\"}, \"title\": {\"font\": {\"color\": \"#4D5663\"}, \"text\": \"Bowler Wicket Taking Ability\"}, \"zerolinecolor\": \"#E1E5ED\"}},\n",
       "                        {\"showLink\": true, \"linkText\": \"Export to plot.ly\", \"plotlyServerURL\": \"https://plot.ly\", \"responsive\": true}\n",
       "                    ).then(function(){\n",
       "                            \n",
       "var gd = document.getElementById('e554fa9e-e01b-43b2-844a-00a4acd58d31');\n",
       "var x = new MutationObserver(function (mutations, observer) {{\n",
       "        var display = window.getComputedStyle(gd).display;\n",
       "        if (!display || display === 'none') {{\n",
       "            console.log([gd, 'removed!']);\n",
       "            Plotly.purge(gd);\n",
       "            observer.disconnect();\n",
       "        }}\n",
       "}});\n",
       "\n",
       "// Listen for the removal of the full notebook cells\n",
       "var notebookContainer = gd.closest('#notebook-container');\n",
       "if (notebookContainer) {{\n",
       "    x.observe(notebookContainer, {childList: true});\n",
       "}}\n",
       "\n",
       "// Listen for the clearing of the current output cell\n",
       "var outputEl = gd.closest('.output');\n",
       "if (outputEl) {{\n",
       "    x.observe(outputEl, {childList: true});\n",
       "}}\n",
       "\n",
       "                        })\n",
       "                };\n",
       "                });\n",
       "            </script>\n",
       "        </div>"
      ]
     },
     "metadata": {},
     "output_type": "display_data"
    }
   ],
   "source": [
    "eco = economy(ball_data.copy(), bowler='bowling_team')\n",
    "wick = wicket_taking(ball_data.copy(), bowler='bowling_team')\n",
    "eco_100 = eco[eco['Number of Balls Thrown']>10000]\n",
    "wick_100 = wick[wick['Number of Balls Thrown']>10000]\n",
    "out = pd.merge(wick_100, eco_100, how='inner', on=['bowling_team','Number of Balls Thrown'])\n",
    "\n",
    "out.iplot(kind='bubble', x='Economy', y='Wicket Taking Ability', categories='bowling_team', size='Number of Wickets taken', text='bowling_team',\n",
    "          xTitle='Bowler Economy', yTitle='Bowler Wicket Taking Ability', filename='cufflinks/simple-bubble-chart')"
   ]
  },
  {
   "cell_type": "code",
   "execution_count": 12,
   "metadata": {},
   "outputs": [
    {
     "data": {
      "text/html": [
       "<div>\n",
       "<style scoped>\n",
       "    .dataframe tbody tr th:only-of-type {\n",
       "        vertical-align: middle;\n",
       "    }\n",
       "\n",
       "    .dataframe tbody tr th {\n",
       "        vertical-align: top;\n",
       "    }\n",
       "\n",
       "    .dataframe thead th {\n",
       "        text-align: right;\n",
       "    }\n",
       "</style>\n",
       "<table border=\"1\" class=\"dataframe\">\n",
       "  <thead>\n",
       "    <tr style=\"text-align: right;\">\n",
       "      <th></th>\n",
       "      <th>bowling_team</th>\n",
       "      <th>Number of Balls Thrown</th>\n",
       "      <th>Number of Wickets taken</th>\n",
       "      <th>Wicket Taking Ability</th>\n",
       "      <th>overs</th>\n",
       "      <th>runs</th>\n",
       "      <th>Economy</th>\n",
       "      <th>size</th>\n",
       "    </tr>\n",
       "  </thead>\n",
       "  <tbody>\n",
       "    <tr>\n",
       "      <th>0</th>\n",
       "      <td>Rising Pune Supergiant</td>\n",
       "      <td>1928</td>\n",
       "      <td>112</td>\n",
       "      <td>17.214286</td>\n",
       "      <td>321.333333</td>\n",
       "      <td>2325</td>\n",
       "      <td>7.235477</td>\n",
       "      <td>1</td>\n",
       "    </tr>\n",
       "    <tr>\n",
       "      <th>1</th>\n",
       "      <td>Delhi Capitals</td>\n",
       "      <td>1963</td>\n",
       "      <td>107</td>\n",
       "      <td>18.345794</td>\n",
       "      <td>327.166667</td>\n",
       "      <td>2558</td>\n",
       "      <td>7.818645</td>\n",
       "      <td>1</td>\n",
       "    </tr>\n",
       "    <tr>\n",
       "      <th>2</th>\n",
       "      <td>Chennai Super Kings</td>\n",
       "      <td>19556</td>\n",
       "      <td>1028</td>\n",
       "      <td>19.023346</td>\n",
       "      <td>3259.333333</td>\n",
       "      <td>23981</td>\n",
       "      <td>7.357640</td>\n",
       "      <td>1</td>\n",
       "    </tr>\n",
       "    <tr>\n",
       "      <th>3</th>\n",
       "      <td>Sunrisers Hyderabad</td>\n",
       "      <td>12779</td>\n",
       "      <td>650</td>\n",
       "      <td>19.660000</td>\n",
       "      <td>2129.833333</td>\n",
       "      <td>16027</td>\n",
       "      <td>7.525002</td>\n",
       "      <td>1</td>\n",
       "    </tr>\n",
       "    <tr>\n",
       "      <th>4</th>\n",
       "      <td>Mumbai Indians</td>\n",
       "      <td>22517</td>\n",
       "      <td>1136</td>\n",
       "      <td>19.821303</td>\n",
       "      <td>3752.833333</td>\n",
       "      <td>27289</td>\n",
       "      <td>7.271573</td>\n",
       "      <td>1</td>\n",
       "    </tr>\n",
       "    <tr>\n",
       "      <th>5</th>\n",
       "      <td>Deccan Chargers</td>\n",
       "      <td>9039</td>\n",
       "      <td>445</td>\n",
       "      <td>20.312360</td>\n",
       "      <td>1506.500000</td>\n",
       "      <td>10959</td>\n",
       "      <td>7.274477</td>\n",
       "      <td>1</td>\n",
       "    </tr>\n",
       "    <tr>\n",
       "      <th>6</th>\n",
       "      <td>Rajasthan Royals</td>\n",
       "      <td>17382</td>\n",
       "      <td>854</td>\n",
       "      <td>20.353630</td>\n",
       "      <td>2897.000000</td>\n",
       "      <td>21412</td>\n",
       "      <td>7.391094</td>\n",
       "      <td>1</td>\n",
       "    </tr>\n",
       "    <tr>\n",
       "      <th>7</th>\n",
       "      <td>Delhi Daredevils</td>\n",
       "      <td>18725</td>\n",
       "      <td>910</td>\n",
       "      <td>20.576923</td>\n",
       "      <td>3120.833333</td>\n",
       "      <td>23543</td>\n",
       "      <td>7.543818</td>\n",
       "      <td>1</td>\n",
       "    </tr>\n",
       "    <tr>\n",
       "      <th>8</th>\n",
       "      <td>Royal Challengers Bangalore</td>\n",
       "      <td>21236</td>\n",
       "      <td>1032</td>\n",
       "      <td>20.577519</td>\n",
       "      <td>3539.333333</td>\n",
       "      <td>27011</td>\n",
       "      <td>7.631663</td>\n",
       "      <td>1</td>\n",
       "    </tr>\n",
       "    <tr>\n",
       "      <th>9</th>\n",
       "      <td>Kolkata Knight Riders</td>\n",
       "      <td>20940</td>\n",
       "      <td>1009</td>\n",
       "      <td>20.753221</td>\n",
       "      <td>3490.000000</td>\n",
       "      <td>26003</td>\n",
       "      <td>7.450716</td>\n",
       "      <td>1</td>\n",
       "    </tr>\n",
       "    <tr>\n",
       "      <th>10</th>\n",
       "      <td>Kings XI Punjab</td>\n",
       "      <td>20782</td>\n",
       "      <td>989</td>\n",
       "      <td>21.013145</td>\n",
       "      <td>3463.666667</td>\n",
       "      <td>26873</td>\n",
       "      <td>7.758541</td>\n",
       "      <td>1</td>\n",
       "    </tr>\n",
       "    <tr>\n",
       "      <th>11</th>\n",
       "      <td>Rising Pune Supergiants</td>\n",
       "      <td>1615</td>\n",
       "      <td>76</td>\n",
       "      <td>21.250000</td>\n",
       "      <td>269.166667</td>\n",
       "      <td>2005</td>\n",
       "      <td>7.448916</td>\n",
       "      <td>1</td>\n",
       "    </tr>\n",
       "    <tr>\n",
       "      <th>12</th>\n",
       "      <td>Kochi Tuskers Kerala</td>\n",
       "      <td>1614</td>\n",
       "      <td>74</td>\n",
       "      <td>21.810811</td>\n",
       "      <td>269.000000</td>\n",
       "      <td>1876</td>\n",
       "      <td>6.973978</td>\n",
       "      <td>1</td>\n",
       "    </tr>\n",
       "    <tr>\n",
       "      <th>13</th>\n",
       "      <td>Pune Warriors</td>\n",
       "      <td>5457</td>\n",
       "      <td>237</td>\n",
       "      <td>23.025316</td>\n",
       "      <td>909.500000</td>\n",
       "      <td>6522</td>\n",
       "      <td>7.170973</td>\n",
       "      <td>1</td>\n",
       "    </tr>\n",
       "    <tr>\n",
       "      <th>14</th>\n",
       "      <td>Gujarat Lions</td>\n",
       "      <td>3545</td>\n",
       "      <td>151</td>\n",
       "      <td>23.476821</td>\n",
       "      <td>590.833333</td>\n",
       "      <td>4902</td>\n",
       "      <td>8.296756</td>\n",
       "      <td>1</td>\n",
       "    </tr>\n",
       "  </tbody>\n",
       "</table>\n",
       "</div>"
      ],
      "text/plain": [
       "                   bowling_team  Number of Balls Thrown  \\\n",
       "0        Rising Pune Supergiant                    1928   \n",
       "1                Delhi Capitals                    1963   \n",
       "2           Chennai Super Kings                   19556   \n",
       "3           Sunrisers Hyderabad                   12779   \n",
       "4                Mumbai Indians                   22517   \n",
       "5               Deccan Chargers                    9039   \n",
       "6              Rajasthan Royals                   17382   \n",
       "7              Delhi Daredevils                   18725   \n",
       "8   Royal Challengers Bangalore                   21236   \n",
       "9         Kolkata Knight Riders                   20940   \n",
       "10              Kings XI Punjab                   20782   \n",
       "11      Rising Pune Supergiants                    1615   \n",
       "12         Kochi Tuskers Kerala                    1614   \n",
       "13                Pune Warriors                    5457   \n",
       "14                Gujarat Lions                    3545   \n",
       "\n",
       "    Number of Wickets taken  Wicket Taking Ability        overs   runs  \\\n",
       "0                       112              17.214286   321.333333   2325   \n",
       "1                       107              18.345794   327.166667   2558   \n",
       "2                      1028              19.023346  3259.333333  23981   \n",
       "3                       650              19.660000  2129.833333  16027   \n",
       "4                      1136              19.821303  3752.833333  27289   \n",
       "5                       445              20.312360  1506.500000  10959   \n",
       "6                       854              20.353630  2897.000000  21412   \n",
       "7                       910              20.576923  3120.833333  23543   \n",
       "8                      1032              20.577519  3539.333333  27011   \n",
       "9                      1009              20.753221  3490.000000  26003   \n",
       "10                      989              21.013145  3463.666667  26873   \n",
       "11                       76              21.250000   269.166667   2005   \n",
       "12                       74              21.810811   269.000000   1876   \n",
       "13                      237              23.025316   909.500000   6522   \n",
       "14                      151              23.476821   590.833333   4902   \n",
       "\n",
       "     Economy  size  \n",
       "0   7.235477     1  \n",
       "1   7.818645     1  \n",
       "2   7.357640     1  \n",
       "3   7.525002     1  \n",
       "4   7.271573     1  \n",
       "5   7.274477     1  \n",
       "6   7.391094     1  \n",
       "7   7.543818     1  \n",
       "8   7.631663     1  \n",
       "9   7.450716     1  \n",
       "10  7.758541     1  \n",
       "11  7.448916     1  \n",
       "12  6.973978     1  \n",
       "13  7.170973     1  \n",
       "14  8.296756     1  "
      ]
     },
     "execution_count": 12,
     "metadata": {},
     "output_type": "execute_result"
    }
   ],
   "source": [
    "out"
   ]
  },
  {
   "cell_type": "code",
   "execution_count": 23,
   "metadata": {},
   "outputs": [
    {
     "data": {
      "application/vnd.plotly.v1+json": {
       "config": {
        "linkText": "Export to plot.ly",
        "plotlyServerURL": "https://plot.ly",
        "responsive": true,
        "showLink": true
       },
       "data": [
        {
         "marker": {
          "color": "rgba(255, 153, 51, 1.0)",
          "line": {
           "width": 1.3
          },
          "opacity": 0.8,
          "size": [
           12
          ],
          "symbol": "circle"
         },
         "mode": "markers",
         "name": "AD Russell",
         "text": [
          "AD Russell"
         ],
         "textfont": {
          "color": "#4D5663"
         },
         "type": "scatter",
         "uid": "078d0d5a-d311-4071-a8ab-b278bba63fa1",
         "x": [
          0.27023661270236615
         ],
         "y": [
          1.7995018679950188
         ]
        },
        {
         "marker": {
          "color": "rgba(55, 128, 191, 1.0)",
          "line": {
           "width": 1.3
          },
          "opacity": 0.8,
          "size": [
           42
          ],
          "symbol": "circle"
         },
         "mode": "markers",
         "name": "V Sehwag",
         "text": [
          "V Sehwag"
         ],
         "textfont": {
          "color": "#4D5663"
         },
         "type": "scatter",
         "uid": "d000cafa-d4b8-4f6f-b277-a199b34fcc9d",
         "x": [
          0.24004364429896344
         ],
         "y": [
          1.4882705946535735
         ]
        },
        {
         "marker": {
          "color": "rgba(50, 171, 96, 1.0)",
          "line": {
           "width": 1.3
          },
          "opacity": 0.8,
          "size": [
           20
          ],
          "symbol": "circle"
         },
         "mode": "markers",
         "name": "RR Pant",
         "text": [
          "RR Pant"
         ],
         "textfont": {
          "color": "#4D5663"
         },
         "type": "scatter",
         "uid": "206b3839-bc28-4663-8e07-6c022b4dcb5c",
         "x": [
          0.2246376811594203
         ],
         "y": [
          1.6231884057971016
         ]
        },
        {
         "marker": {
          "color": "rgba(128, 0, 128, 1.0)",
          "line": {
           "width": 1.3
          },
          "opacity": 0.8,
          "size": [
           80
          ],
          "symbol": "circle"
         },
         "mode": "markers",
         "name": "CH Gayle",
         "text": [
          "CH Gayle"
         ],
         "textfont": {
          "color": "#4D5663"
         },
         "type": "scatter",
         "uid": "55185acf-c82e-4698-84d8-fc220a4c4231",
         "x": [
          0.22452890450335355
         ],
         "y": [
          1.4564037048866176
         ]
        },
        {
         "marker": {
          "color": "rgba(219, 64, 82, 1.0)",
          "line": {
           "width": 1.3
          },
          "opacity": 0.8,
          "size": [
           14
          ],
          "symbol": "circle"
         },
         "mode": "markers",
         "name": "GJ Maxwell",
         "text": [
          "GJ Maxwell"
         ],
         "textfont": {
          "color": "#4D5663"
         },
         "type": "scatter",
         "uid": "e60e964e-3762-406b-b5ae-0291435df288",
         "x": [
          0.22283813747228381
         ],
         "y": [
          1.5554323725055432
         ]
        },
        {
         "marker": {
          "color": "rgba(0, 128, 128, 1.0)",
          "line": {
           "width": 1.3
          },
          "opacity": 0.8,
          "size": [
           16
          ],
          "symbol": "circle"
         },
         "mode": "markers",
         "name": "JC Buttler",
         "text": [
          "JC Buttler"
         ],
         "textfont": {
          "color": "#4D5663"
         },
         "type": "scatter",
         "uid": "3eb96148-a2a4-4817-962f-ff0b950989fc",
         "x": [
          0.2138364779874214
         ],
         "y": [
          1.5
         ]
        },
        {
         "marker": {
          "color": "rgba(255, 255, 51, 1.0)",
          "line": {
           "width": 1.3
          },
          "opacity": 0.8,
          "size": [
           34
          ],
          "symbol": "circle"
         },
         "mode": "markers",
         "name": "AC Gilchrist",
         "text": [
          "AC Gilchrist"
         ],
         "textfont": {
          "color": "#4D5663"
         },
         "type": "scatter",
         "uid": "2876304b-e889-43cf-beeb-66e0f3bb429c",
         "x": [
          0.21286173633440514
         ],
         "y": [
          1.3305466237942123
         ]
        },
        {
         "marker": {
          "color": "rgba(128, 128, 0, 1.0)",
          "line": {
           "width": 1.3
          },
          "opacity": 0.8,
          "size": [
           15
          ],
          "symbol": "circle"
         },
         "mode": "markers",
         "name": "CA Lynn",
         "text": [
          "CA Lynn"
         ],
         "textfont": {
          "color": "#4D5663"
         },
         "type": "scatter",
         "uid": "2291ab91-9208-4759-9e50-f9e2460c849d",
         "x": [
          0.20234291799787008
         ],
         "y": [
          1.3929712460063899
         ]
        },
        {
         "marker": {
          "color": "rgba(251, 128, 114, 1.0)",
          "line": {
           "width": 1.3
          },
          "opacity": 0.8,
          "size": [
           41
          ],
          "symbol": "circle"
         },
         "mode": "markers",
         "name": "DR Smith",
         "text": [
          "DR Smith"
         ],
         "textfont": {
          "color": "#4D5663"
         },
         "type": "scatter",
         "uid": "2846ce1c-c27b-42b1-9c91-4a65f698fa8f",
         "x": [
          0.20077648363838047
         ],
         "y": [
          1.3227953410981697
         ]
        },
        {
         "marker": {
          "color": "rgba(128, 177, 211, 1.0)",
          "line": {
           "width": 1.3
          },
          "opacity": 0.8,
          "size": [
           65
          ],
          "symbol": "circle"
         },
         "mode": "markers",
         "name": "SR Watson",
         "text": [
          "SR Watson"
         ],
         "textfont": {
          "color": "#4D5663"
         },
         "type": "scatter",
         "uid": "dbcbb4f4-d240-4b0d-a8b2-2b71033e6fe5",
         "x": [
          0.19742326638878363
         ],
         "y": [
          1.3694581280788178
         ]
        },
        {
         "marker": {
          "color": "rgba(128, 177, 211, 0.8999999999999999)",
          "line": {
           "width": 1.3
          },
          "opacity": 0.8,
          "size": [
           13
          ],
          "symbol": "circle"
         },
         "mode": "markers",
         "name": "ML Hayden",
         "text": [
          "ML Hayden"
         ],
         "textfont": {
          "color": "#4D5663"
         },
         "type": "scatter",
         "uid": "dd344e3e-c59c-45f7-a2ec-2dc5e43d1f30",
         "x": [
          0.1966626936829559
         ],
         "y": [
          1.3194278903456496
         ]
        },
        {
         "marker": {
          "color": "rgba(255, 153, 51, 0.8999999999999999)",
          "line": {
           "width": 1.3
          },
          "opacity": 0.8,
          "size": [
           75
          ],
          "symbol": "circle"
         },
         "mode": "markers",
         "name": "AB de Villiers",
         "text": [
          "AB de Villiers"
         ],
         "textfont": {
          "color": "#4D5663"
         },
         "type": "scatter",
         "uid": "17d4f2a7-e6b9-44cf-9a07-3c1d927f8999",
         "x": [
          0.1918038293584145
         ],
         "y": [
          1.487403426268055
         ]
        },
        {
         "marker": {
          "color": "rgba(55, 128, 191, 0.8999999999999999)",
          "line": {
           "width": 1.3
          },
          "opacity": 0.8,
          "size": [
           88
          ],
          "symbol": "circle"
         },
         "mode": "markers",
         "name": "DA Warner",
         "text": [
          "DA Warner"
         ],
         "textfont": {
          "color": "#4D5663"
         },
         "type": "scatter",
         "uid": "a888f08e-4679-4ab2-8ed2-a720a58b642e",
         "x": [
          0.1883460859329017
         ],
         "y": [
          1.3952324896998234
         ]
        },
        {
         "marker": {
          "color": "rgba(50, 171, 96, 0.8999999999999999)",
          "line": {
           "width": 1.3
          },
          "opacity": 0.8,
          "size": [
           55
          ],
          "symbol": "circle"
         },
         "mode": "markers",
         "name": "BB McCullum",
         "text": [
          "BB McCullum"
         ],
         "textfont": {
          "color": "#4D5663"
         },
         "type": "scatter",
         "uid": "d13ab4b6-878c-40f4-b5c3-e814dcf05b10",
         "x": [
          0.1857394366197183
         ],
         "y": [
          1.2733274647887325
         ]
        },
        {
         "marker": {
          "color": "rgba(128, 0, 128, 0.8999999999999999)",
          "line": {
           "width": 1.3
          },
          "opacity": 0.8,
          "size": [
           21
          ],
          "symbol": "circle"
         },
         "mode": "markers",
         "name": "Q de Kock",
         "text": [
          "Q de Kock"
         ],
         "textfont": {
          "color": "#4D5663"
         },
         "type": "scatter",
         "uid": "db9602e9-0cda-45e0-bc21-dae520083eeb",
         "x": [
          0.18485915492957747
         ],
         "y": [
          1.3107394366197183
         ]
        },
        {
         "marker": {
          "color": "rgba(219, 64, 82, 0.8999999999999999)",
          "line": {
           "width": 1.3
          },
          "opacity": 0.8,
          "size": [
           56
          ],
          "symbol": "circle"
         },
         "mode": "markers",
         "name": "YK Pathan",
         "text": [
          "YK Pathan"
         ],
         "textfont": {
          "color": "#4D5663"
         },
         "type": "scatter",
         "uid": "57fd4df6-e932-46dd-9f5d-b69d7dce7f32",
         "x": [
          0.18209083119108826
         ],
         "y": [
          1.3886032562125108
         ]
        },
        {
         "marker": {
          "color": "rgba(0, 128, 128, 0.8999999999999999)",
          "line": {
           "width": 1.3
          },
          "opacity": 0.8,
          "size": [
           46
          ],
          "symbol": "circle"
         },
         "mode": "markers",
         "name": "KA Pollard",
         "text": [
          "KA Pollard"
         ],
         "textfont": {
          "color": "#4D5663"
         },
         "type": "scatter",
         "uid": "a7f7ad50-224b-4a2a-bc13-67add3ac51ff",
         "x": [
          0.18177189409368635
         ],
         "y": [
          1.4175152749490836
         ]
        },
        {
         "marker": {
          "color": "rgba(255, 255, 51, 0.8999999999999999)",
          "line": {
           "width": 1.3
          },
          "opacity": 0.8,
          "size": [
           44
          ],
          "symbol": "circle"
         },
         "mode": "markers",
         "name": "SE Marsh",
         "text": [
          "SE Marsh"
         ],
         "textfont": {
          "color": "#4D5663"
         },
         "type": "scatter",
         "uid": "a0c0b2e3-18b8-4157-a4cc-53a1066a8bbb",
         "x": [
          0.18139048614741243
         ],
         "y": [
          1.3010977522216414
         ]
        },
        {
         "marker": {
          "color": "rgba(128, 128, 0, 0.8999999999999999)",
          "line": {
           "width": 1.3
          },
          "opacity": 0.8,
          "size": [
           28
          ],
          "symbol": "circle"
         },
         "mode": "markers",
         "name": "AJ Finch",
         "text": [
          "AJ Finch"
         ],
         "textfont": {
          "color": "#4D5663"
         },
         "type": "scatter",
         "uid": "0ac03c4e-b399-49cf-8949-6651824c4188",
         "x": [
          0.17711370262390672
         ],
         "y": [
          1.271137026239067
         ]
        },
        {
         "marker": {
          "color": "rgba(251, 128, 114, 0.8999999999999999)",
          "line": {
           "width": 1.3
          },
          "opacity": 0.8,
          "size": [
           31
          ],
          "symbol": "circle"
         },
         "mode": "markers",
         "name": "KL Rahul",
         "text": [
          "KL Rahul"
         ],
         "textfont": {
          "color": "#4D5663"
         },
         "type": "scatter",
         "uid": "50ab0928-1b06-4641-b10a-c27bfbd8c4cd",
         "x": [
          0.17679180887372015
         ],
         "y": [
          1.374061433447099
         ]
        },
        {
         "marker": {
          "color": "rgba(251, 128, 114, 0.7999999999999998)",
          "line": {
           "width": 1.3
          },
          "opacity": 0.8,
          "size": [
           14
          ],
          "symbol": "circle"
         },
         "mode": "markers",
         "name": "LMP Simmons",
         "text": [
          "LMP Simmons"
         ],
         "textfont": {
          "color": "#4D5663"
         },
         "type": "scatter",
         "uid": "07eae45a-8580-47d6-b149-ac00d54d8890",
         "x": [
          0.17425968109339407
         ],
         "y": [
          1.2289293849658314
         ]
        },
        {
         "marker": {
          "color": "rgba(128, 177, 211, 0.7999999999999998)",
          "line": {
           "width": 1.3
          },
          "opacity": 0.8,
          "size": [
           12
          ],
          "symbol": "circle"
         },
         "mode": "markers",
         "name": "N Rana",
         "text": [
          "N Rana"
         ],
         "textfont": {
          "color": "#4D5663"
         },
         "type": "scatter",
         "uid": "ca71a486-dd89-462c-a2f2-61a2d13ea559",
         "x": [
          0.17365269461077845
         ],
         "y": [
          1.3221556886227546
         ]
        },
        {
         "marker": {
          "color": "rgba(255, 153, 51, 0.7999999999999998)",
          "line": {
           "width": 1.3
          },
          "opacity": 0.8,
          "size": [
           107
          ],
          "symbol": "circle"
         },
         "mode": "markers",
         "name": "SK Raina",
         "text": [
          "SK Raina"
         ],
         "textfont": {
          "color": "#4D5663"
         },
         "type": "scatter",
         "uid": "1bf85954-f16b-4e65-9476-5bd603c6dc42",
         "x": [
          0.17062314540059348
         ],
         "y": [
          1.339020771513353
         ]
        },
        {
         "marker": {
          "color": "rgba(55, 128, 191, 0.7999999999999998)",
          "line": {
           "width": 1.3
          },
          "opacity": 0.8,
          "size": [
           22
          ],
          "symbol": "circle"
         },
         "mode": "markers",
         "name": "KK Nair",
         "text": [
          "KK Nair"
         ],
         "textfont": {
          "color": "#4D5663"
         },
         "type": "scatter",
         "uid": "dd63dd07-18fd-45b1-b33a-fb3f4e076244",
         "x": [
          0.16982758620689656
         ],
         "y": [
          1.2672413793103448
         ]
        },
        {
         "marker": {
          "color": "rgba(50, 171, 96, 0.7999999999999998)",
          "line": {
           "width": 1.3
          },
          "opacity": 0.8,
          "size": [
           60
          ],
          "symbol": "circle"
         },
         "mode": "markers",
         "name": "PA Patel",
         "text": [
          "PA Patel"
         ],
         "textfont": {
          "color": "#4D5663"
         },
         "type": "scatter",
         "uid": "759dbbc3-8be5-4fe4-85eb-bdfdfe24ee5b",
         "x": [
          0.1698036006546645
         ],
         "y": [
          1.1759410801963994
         ]
        },
        {
         "marker": {
          "color": "rgba(128, 0, 128, 0.7999999999999998)",
          "line": {
           "width": 1.3
          },
          "opacity": 0.8,
          "size": [
           90
          ],
          "symbol": "circle"
         },
         "mode": "markers",
         "name": "RV Uthappa",
         "text": [
          "RV Uthappa"
         ],
         "textfont": {
          "color": "#4D5663"
         },
         "type": "scatter",
         "uid": "1b4df655-645a-460b-ba03-81dbb2736f0e",
         "x": [
          0.16953035509736541
         ],
         "y": [
          1.2731958762886597
         ]
        },
        {
         "marker": {
          "color": "rgba(219, 64, 82, 0.7999999999999998)",
          "line": {
           "width": 1.3
          },
          "opacity": 0.8,
          "size": [
           53
          ],
          "symbol": "circle"
         },
         "mode": "markers",
         "name": "Yuvraj Singh",
         "text": [
          "Yuvraj Singh"
         ],
         "textfont": {
          "color": "#4D5663"
         },
         "type": "scatter",
         "uid": "1f548f1a-9521-4f3a-a1e7-7b4da779db8b",
         "x": [
          0.16628908019936564
         ],
         "y": [
          1.2528318985047575
         ]
        },
        {
         "marker": {
          "color": "rgba(0, 128, 128, 0.7999999999999998)",
          "line": {
           "width": 1.3
          },
          "opacity": 0.8,
          "size": [
           99
          ],
          "symbol": "circle"
         },
         "mode": "markers",
         "name": "S Dhawan",
         "text": [
          "S Dhawan"
         ],
         "textfont": {
          "color": "#4D5663"
         },
         "type": "scatter",
         "uid": "e72ffa07-1863-40d3-8d89-951d400ffb5e",
         "x": [
          0.16472457627118645
         ],
         "y": [
          1.2266949152542372
         ]
        },
        {
         "marker": {
          "color": "rgba(255, 255, 51, 0.7999999999999998)",
          "line": {
           "width": 1.3
          },
          "opacity": 0.8,
          "size": [
           18
          ],
          "symbol": "circle"
         },
         "mode": "markers",
         "name": "MA Agarwal",
         "text": [
          "MA Agarwal"
         ],
         "textfont": {
          "color": "#4D5663"
         },
         "type": "scatter",
         "uid": "4855a6ba-5ad7-4c06-9eb7-e7aec779c870",
         "x": [
          0.16455696202531644
         ],
         "y": [
          1.2424537487828626
         ]
        },
        {
         "marker": {
          "color": "rgba(128, 128, 0, 0.7999999999999998)",
          "line": {
           "width": 1.3
          },
          "opacity": 0.8,
          "size": [
           100
          ],
          "symbol": "circle"
         },
         "mode": "markers",
         "name": "RG Sharma",
         "text": [
          "RG Sharma"
         ],
         "textfont": {
          "color": "#4D5663"
         },
         "type": "scatter",
         "uid": "57e60343-3d47-43a8-a540-59591d7a2f59",
         "x": [
          0.1637840670859539
         ],
         "y": [
          1.2877358490566038
         ]
        },
        {
         "marker": {
          "color": "rgba(128, 128, 0, 0.7)",
          "line": {
           "width": 1.3
          },
          "opacity": 0.8,
          "size": [
           112
          ],
          "symbol": "circle"
         },
         "mode": "markers",
         "name": "V Kohli",
         "text": [
          "V Kohli"
         ],
         "textfont": {
          "color": "#4D5663"
         },
         "type": "scatter",
         "uid": "d6e5be13-6a10-4f3d-a1d6-7f978bcc5bfc",
         "x": [
          0.15981952030396582
         ],
         "y": [
          1.2904298266445025
         ]
        },
        {
         "marker": {
          "color": "rgba(251, 128, 114, 0.7)",
          "line": {
           "width": 1.3
          },
          "opacity": 0.8,
          "size": [
           28
          ],
          "symbol": "circle"
         },
         "mode": "markers",
         "name": "WP Saha",
         "text": [
          "WP Saha"
         ],
         "textfont": {
          "color": "#4D5663"
         },
         "type": "scatter",
         "uid": "e0a864ca-d4cb-4524-a926-ccd2c2d82501",
         "x": [
          0.15918958031837915
         ],
         "y": [
          1.2879884225759768
         ]
        },
        {
         "marker": {
          "color": "rgba(128, 177, 211, 0.7)",
          "line": {
           "width": 1.3
          },
          "opacity": 0.8,
          "size": [
           48
          ],
          "symbol": "circle"
         },
         "mode": "markers",
         "name": "SR Tendulkar",
         "text": [
          "SR Tendulkar"
         ],
         "textfont": {
          "color": "#4D5663"
         },
         "type": "scatter",
         "uid": "aace60c5-dd47-46c1-a10e-a0dc7a52ba42",
         "x": [
          0.15900195694716243
         ],
         "y": [
          1.1418786692759295
         ]
        },
        {
         "marker": {
          "color": "rgba(255, 153, 51, 0.7)",
          "line": {
           "width": 1.3
          },
          "opacity": 0.8,
          "size": [
           73
          ],
          "symbol": "circle"
         },
         "mode": "markers",
         "name": "KD Karthik",
         "text": [
          "KD Karthik"
         ],
         "textfont": {
          "color": "#4D5663"
         },
         "type": "scatter",
         "uid": "34d5b18d-b66b-4bd5-929f-a8c229bf10db",
         "x": [
          0.1588235294117647
         ],
         "y": [
          1.2761245674740485
         ]
        },
        {
         "marker": {
          "color": "rgba(55, 128, 191, 0.7)",
          "line": {
           "width": 1.3
          },
          "opacity": 0.8,
          "size": [
           28
          ],
          "symbol": "circle"
         },
         "mode": "markers",
         "name": "SS Iyer",
         "text": [
          "SS Iyer"
         ],
         "textfont": {
          "color": "#4D5663"
         },
         "type": "scatter",
         "uid": "e014c511-cc76-429e-a679-4050cadcd261",
         "x": [
          0.1583941605839416
         ],
         "y": [
          1.251094890510949
         ]
        },
        {
         "marker": {
          "color": "rgba(50, 171, 96, 0.7)",
          "line": {
           "width": 1.3
          },
          "opacity": 0.8,
          "size": [
           17
          ],
          "symbol": "circle"
         },
         "mode": "markers",
         "name": "KS Williamson",
         "text": [
          "KS Williamson"
         ],
         "textfont": {
          "color": "#4D5663"
         },
         "type": "scatter",
         "uid": "cb48f6a0-2884-43ad-8d2b-e4075ef13ef8",
         "x": [
          0.1580020387359837
         ],
         "y": [
          1.344546381243629
         ]
        },
        {
         "marker": {
          "color": "rgba(128, 0, 128, 0.7)",
          "line": {
           "width": 1.3
          },
          "opacity": 0.8,
          "size": [
           33
          ],
          "symbol": "circle"
         },
         "mode": "markers",
         "name": "DPMD Jayawardene",
         "text": [
          "DPMD Jayawardene"
         ],
         "textfont": {
          "color": "#4D5663"
         },
         "type": "scatter",
         "uid": "39ea2792-16ea-4627-8390-9ebd1f8c8575",
         "x": [
          0.15768725361366623
         ],
         "y": [
          1.187910643889619
         ]
        },
        {
         "marker": {
          "color": "rgba(219, 64, 82, 0.7)",
          "line": {
           "width": 1.3
          },
          "opacity": 0.8,
          "size": [
           19
          ],
          "symbol": "circle"
         },
         "mode": "markers",
         "name": "TM Dilshan",
         "text": [
          "TM Dilshan"
         ],
         "textfont": {
          "color": "#4D5663"
         },
         "type": "scatter",
         "uid": "31931136-bcb6-449c-b145-380f8efdf37d",
         "x": [
          0.15663801337153774
         ],
         "y": [
          1.1012416427889207
         ]
        },
        {
         "marker": {
          "color": "rgba(0, 128, 128, 0.7)",
          "line": {
           "width": 1.3
          },
          "opacity": 0.8,
          "size": [
           91
          ],
          "symbol": "circle"
         },
         "mode": "markers",
         "name": "G Gambhir",
         "text": [
          "G Gambhir"
         ],
         "textfont": {
          "color": "#4D5663"
         },
         "type": "scatter",
         "uid": "6bb923fc-b8d3-4800-86e5-1773aea15ff7",
         "x": [
          0.15635641316685583
         ],
         "y": [
          1.1983541430192963
         ]
        },
        {
         "marker": {
          "color": "rgba(255, 255, 51, 0.7)",
          "line": {
           "width": 1.3
          },
          "opacity": 0.8,
          "size": [
           30
          ],
          "symbol": "circle"
         },
         "mode": "markers",
         "name": "KC Sangakkara",
         "text": [
          "KC Sangakkara"
         ],
         "textfont": {
          "color": "#4D5663"
         },
         "type": "scatter",
         "uid": "1fb88450-c22f-4391-829d-08979fc4c0a8",
         "x": [
          0.15589887640449437
         ],
         "y": [
          1.184691011235955
         ]
        },
        {
         "marker": {
          "color": "rgba(255, 255, 51, 0.5999999999999999)",
          "line": {
           "width": 1.3
          },
          "opacity": 0.8,
          "size": [
           28
          ],
          "symbol": "circle"
         },
         "mode": "markers",
         "name": "DA Miller",
         "text": [
          "DA Miller"
         ],
         "textfont": {
          "color": "#4D5663"
         },
         "type": "scatter",
         "uid": "929f8117-29e3-4f09-b917-acacb5bf9d07",
         "x": [
          0.1555232558139535
         ],
         "y": [
          1.3626453488372092
         ]
        },
        {
         "marker": {
          "color": "rgba(128, 128, 0, 0.5999999999999999)",
          "line": {
           "width": 1.3
          },
          "opacity": 0.8,
          "size": [
           44
          ],
          "symbol": "circle"
         },
         "mode": "markers",
         "name": "R Dravid",
         "text": [
          "R Dravid"
         ],
         "textfont": {
          "color": "#4D5663"
         },
         "type": "scatter",
         "uid": "bf78efc2-ea1a-46c0-b42b-365b9a353110",
         "x": [
          0.1548488008342023
         ],
         "y": [
          1.1334723670490094
         ]
        },
        {
         "marker": {
          "color": "rgba(251, 128, 114, 0.5999999999999999)",
          "line": {
           "width": 1.3
          },
          "opacity": 0.8,
          "size": [
           25
          ],
          "symbol": "circle"
         },
         "mode": "markers",
         "name": "Mandeep Singh",
         "text": [
          "Mandeep Singh"
         ],
         "textfont": {
          "color": "#4D5663"
         },
         "type": "scatter",
         "uid": "a4443d87-ca43-4367-8065-ea4ea2da62c3",
         "x": [
          0.1547049441786284
         ],
         "y": [
          1.233652312599681
         ]
        },
        {
         "marker": {
          "color": "rgba(128, 177, 211, 0.5999999999999999)",
          "line": {
           "width": 1.3
          },
          "opacity": 0.8,
          "size": [
           51
          ],
          "symbol": "circle"
         },
         "mode": "markers",
         "name": "M Vijay",
         "text": [
          "M Vijay"
         ],
         "textfont": {
          "color": "#4D5663"
         },
         "type": "scatter",
         "uid": "744f6c1c-54da-482a-b7ed-616f7a3be6a6",
         "x": [
          0.15434380776340112
         ],
         "y": [
          1.1968576709796672
         ]
        },
        {
         "marker": {
          "color": "rgba(255, 153, 51, 0.5999999999999999)",
          "line": {
           "width": 1.3
          },
          "opacity": 0.8,
          "size": [
           85
          ],
          "symbol": "circle"
         },
         "mode": "markers",
         "name": "MS Dhoni",
         "text": [
          "MS Dhoni"
         ],
         "textfont": {
          "color": "#4D5663"
         },
         "type": "scatter",
         "uid": "e41b0194-b60e-4507-8d83-4e0181d39a48",
         "x": [
          0.1518987341772152
         ],
         "y": [
          1.3493068113321278
         ]
        },
        {
         "marker": {
          "color": "rgba(55, 128, 191, 0.5999999999999999)",
          "line": {
           "width": 1.3
          },
          "opacity": 0.8,
          "size": [
           36
          ],
          "symbol": "circle"
         },
         "mode": "markers",
         "name": "MEK Hussey",
         "text": [
          "MEK Hussey"
         ],
         "textfont": {
          "color": "#4D5663"
         },
         "type": "scatter",
         "uid": "160033e1-1dca-400d-99ee-39a0e7f453de",
         "x": [
          0.15169902912621358
         ],
         "y": [
          1.1996359223300972
         ]
        },
        {
         "marker": {
          "color": "rgba(50, 171, 96, 0.5999999999999999)",
          "line": {
           "width": 1.3
          },
          "opacity": 0.8,
          "size": [
           39
          ],
          "symbol": "circle"
         },
         "mode": "markers",
         "name": "SV Samson",
         "text": [
          "SV Samson"
         ],
         "textfont": {
          "color": "#4D5663"
         },
         "type": "scatter",
         "uid": "3db8d6e7-f7b6-4d9b-8ef4-0ab50ff0e9f1",
         "x": [
          0.15046296296296297
         ],
         "y": [
          1.2934027777777777
         ]
        },
        {
         "marker": {
          "color": "rgba(128, 0, 128, 0.5999999999999999)",
          "line": {
           "width": 1.3
          },
          "opacity": 0.8,
          "size": [
           23
          ],
          "symbol": "circle"
         },
         "mode": "markers",
         "name": "DJ Bravo",
         "text": [
          "DJ Bravo"
         ],
         "textfont": {
          "color": "#4D5663"
         },
         "type": "scatter",
         "uid": "6eb907e3-65bc-4992-8214-cae0efe29028",
         "x": [
          0.14920368818105617
         ],
         "y": [
          1.2556580050293378
         ]
        },
        {
         "marker": {
          "color": "rgba(219, 64, 82, 0.5999999999999999)",
          "line": {
           "width": 1.3
          },
          "opacity": 0.8,
          "size": [
           82
          ],
          "symbol": "circle"
         },
         "mode": "markers",
         "name": "AM Rahane",
         "text": [
          "AM Rahane"
         ],
         "textfont": {
          "color": "#4D5663"
         },
         "type": "scatter",
         "uid": "201857d1-c5dc-40fb-af9a-27d59214e3ea",
         "x": [
          0.1489891135303266
         ],
         "y": [
          1.1975116640746502
         ]
        },
        {
         "marker": {
          "color": "rgba(0, 128, 128, 0.5999999999999999)",
          "line": {
           "width": 1.3
          },
          "opacity": 0.8,
          "size": [
           32
          ],
          "symbol": "circle"
         },
         "mode": "markers",
         "name": "F du Plessis",
         "text": [
          "F du Plessis"
         ],
         "textfont": {
          "color": "#4D5663"
         },
         "type": "scatter",
         "uid": "c9213ffd-44a7-457c-873e-52025208beb6",
         "x": [
          0.14876584389593062
         ],
         "y": [
          1.2501667778519012
         ]
        },
        {
         "marker": {
          "color": "rgba(0, 128, 128, 0.49999999999999983)",
          "line": {
           "width": 1.3
          },
          "opacity": 0.8,
          "size": [
           67
          ],
          "symbol": "circle"
         },
         "mode": "markers",
         "name": "AT Rayudu",
         "text": [
          "AT Rayudu"
         ],
         "textfont": {
          "color": "#4D5663"
         },
         "type": "scatter",
         "uid": "84321880-7631-495b-87b3-978eef3dacdc",
         "x": [
          0.1484520701230884
         ],
         "y": [
          1.2405818724356583
         ]
        },
        {
         "marker": {
          "color": "rgba(255, 255, 51, 0.49999999999999983)",
          "line": {
           "width": 1.3
          },
          "opacity": 0.8,
          "size": [
           14
          ],
          "symbol": "circle"
         },
         "mode": "markers",
         "name": "KM Jadhav",
         "text": [
          "KM Jadhav"
         ],
         "textfont": {
          "color": "#4D5663"
         },
         "type": "scatter",
         "uid": "ae2a3b83-5b37-45ff-8d6e-d2e034b4b003",
         "x": [
          0.14789533560864618
         ],
         "y": [
          1.2411831626848693
         ]
        },
        {
         "marker": {
          "color": "rgba(128, 128, 0, 0.49999999999999983)",
          "line": {
           "width": 1.3
          },
          "opacity": 0.8,
          "size": [
           28
          ],
          "symbol": "circle"
         },
         "mode": "markers",
         "name": "NV Ojha",
         "text": [
          "NV Ojha"
         ],
         "textfont": {
          "color": "#4D5663"
         },
         "type": "scatter",
         "uid": "4513dd4f-3ef7-41f7-9282-b3b6fc48b133",
         "x": [
          0.14705882352941177
         ],
         "y": [
          1.1433823529411764
         ]
        },
        {
         "marker": {
          "color": "rgba(251, 128, 114, 0.49999999999999983)",
          "line": {
           "width": 1.3
          },
          "opacity": 0.8,
          "size": [
           24
          ],
          "symbol": "circle"
         },
         "mode": "markers",
         "name": "S Badrinath",
         "text": [
          "S Badrinath"
         ],
         "textfont": {
          "color": "#4D5663"
         },
         "type": "scatter",
         "uid": "f5853315-8e4c-489c-af9d-037b21bf2096",
         "x": [
          0.1461847389558233
         ],
         "y": [
          1.157429718875502
         ]
        },
        {
         "marker": {
          "color": "rgba(128, 177, 211, 0.49999999999999983)",
          "line": {
           "width": 1.3
          },
          "opacity": 0.8,
          "size": [
           22
          ],
          "symbol": "circle"
         },
         "mode": "markers",
         "name": "BJ Hodge",
         "text": [
          "BJ Hodge"
         ],
         "textfont": {
          "color": "#4D5663"
         },
         "type": "scatter",
         "uid": "be32c0b6-8fa6-4d4a-85ee-b519b145ad99",
         "x": [
          0.14310494362532525
         ],
         "y": [
          1.2142237640936686
         ]
        },
        {
         "marker": {
          "color": "rgba(255, 153, 51, 0.49999999999999983)",
          "line": {
           "width": 1.3
          },
          "opacity": 0.8,
          "size": [
           35
          ],
          "symbol": "circle"
         },
         "mode": "markers",
         "name": "SPD Smith",
         "text": [
          "SPD Smith"
         ],
         "textfont": {
          "color": "#4D5663"
         },
         "type": "scatter",
         "uid": "2b518e60-a413-494f-8208-a2a8b809490e",
         "x": [
          0.14232673267326731
         ],
         "y": [
          1.2667079207920793
         ]
        },
        {
         "marker": {
          "color": "rgba(55, 128, 191, 0.49999999999999983)",
          "line": {
           "width": 1.3
          },
          "opacity": 0.8,
          "size": [
           20
          ],
          "symbol": "circle"
         },
         "mode": "markers",
         "name": "DJ Hussey",
         "text": [
          "DJ Hussey"
         ],
         "textfont": {
          "color": "#4D5663"
         },
         "type": "scatter",
         "uid": "eef027b9-06a5-43d9-b66a-c718957cca34",
         "x": [
          0.1362397820163488
         ],
         "y": [
          1.2007266121707538
         ]
        },
        {
         "marker": {
          "color": "rgba(50, 171, 96, 0.49999999999999983)",
          "line": {
           "width": 1.3
          },
          "opacity": 0.8,
          "size": [
           12
          ],
          "symbol": "circle"
         },
         "mode": "markers",
         "name": "HH Gibbs",
         "text": [
          "HH Gibbs"
         ],
         "textfont": {
          "color": "#4D5663"
         },
         "type": "scatter",
         "uid": "a0eaa1f7-826c-49f8-b560-9b63aa16198f",
         "x": [
          0.13620071684587814
         ],
         "y": [
          1.058542413381123
         ]
        },
        {
         "marker": {
          "color": "rgba(128, 0, 128, 0.49999999999999983)",
          "line": {
           "width": 1.3
          },
          "opacity": 0.8,
          "size": [
           59
          ],
          "symbol": "circle"
         },
         "mode": "markers",
         "name": "MK Pandey",
         "text": [
          "MK Pandey"
         ],
         "textfont": {
          "color": "#4D5663"
         },
         "type": "scatter",
         "uid": "82b9dc9a-f24f-4780-9a63-ec6a2ac0a2aa",
         "x": [
          0.13567010309278352
         ],
         "y": [
          1.1843298969072165
         ]
        },
        {
         "marker": {
          "color": "rgba(219, 64, 82, 0.49999999999999983)",
          "line": {
           "width": 1.3
          },
          "opacity": 0.8,
          "size": [
           27
          ],
          "symbol": "circle"
         },
         "mode": "markers",
         "name": "SC Ganguly",
         "text": [
          "SC Ganguly"
         ],
         "textfont": {
          "color": "#4D5663"
         },
         "type": "scatter",
         "uid": "087524f9-d427-45f2-bc7d-8d32e4da73f1",
         "x": [
          0.13499245852187028
         ],
         "y": [
          1.0173453996983408
         ]
        },
        {
         "marker": {
          "color": "rgba(219, 64, 82, 0.39999999999999974)",
          "line": {
           "width": 1.3
          },
          "opacity": 0.8,
          "size": [
           13
          ],
          "symbol": "circle"
         },
         "mode": "markers",
         "name": "LRPL Taylor",
         "text": [
          "LRPL Taylor"
         ],
         "textfont": {
          "color": "#4D5663"
         },
         "type": "scatter",
         "uid": "b2f25285-bcd1-42ba-ad7d-3d8aaeee9670",
         "x": [
          0.1322314049586777
         ],
         "y": [
          1.2007083825265643
         ]
        },
        {
         "marker": {
          "color": "rgba(0, 128, 128, 0.39999999999999974)",
          "line": {
           "width": 1.3
          },
          "opacity": 0.8,
          "size": [
           13
          ],
          "symbol": "circle"
         },
         "mode": "markers",
         "name": "Y Venugopal Rao",
         "text": [
          "Y Venugopal Rao"
         ],
         "textfont": {
          "color": "#4D5663"
         },
         "type": "scatter",
         "uid": "2a771ddb-7037-444c-a1cb-083a79b8f71d",
         "x": [
          0.13179190751445086
         ],
         "y": [
          1.138728323699422
         ]
        },
        {
         "marker": {
          "color": "rgba(255, 255, 51, 0.39999999999999974)",
          "line": {
           "width": 1.3
          },
          "opacity": 0.8,
          "size": [
           32
          ],
          "symbol": "circle"
         },
         "mode": "markers",
         "name": "MK Tiwary",
         "text": [
          "MK Tiwary"
         ],
         "textfont": {
          "color": "#4D5663"
         },
         "type": "scatter",
         "uid": "a1ce2dbf-4c93-42a1-87f9-c8c6b571a1df",
         "x": [
          0.13163196776359973
         ],
         "y": [
          1.1396910678307588
         ]
        },
        {
         "marker": {
          "color": "rgba(128, 128, 0, 0.39999999999999974)",
          "line": {
           "width": 1.3
          },
          "opacity": 0.8,
          "size": [
           55
          ],
          "symbol": "circle"
         },
         "mode": "markers",
         "name": "JH Kallis",
         "text": [
          "JH Kallis"
         ],
         "textfont": {
          "color": "#4D5663"
         },
         "type": "scatter",
         "uid": "625e8121-83d3-43a9-820c-c427f3b418e6",
         "x": [
          0.13051069402007856
         ],
         "y": [
          1.0593627237014405
         ]
        },
        {
         "marker": {
          "color": "rgba(251, 128, 114, 0.39999999999999974)",
          "line": {
           "width": 1.3
          },
          "opacity": 0.8,
          "size": [
           17
          ],
          "symbol": "circle"
         },
         "mode": "markers",
         "name": "IK Pathan",
         "text": [
          "IK Pathan"
         ],
         "textfont": {
          "color": "#4D5663"
         },
         "type": "scatter",
         "uid": "58ef9e66-c59b-4d6b-b3f9-941f7581cd8e",
         "x": [
          0.12791878172588833
         ],
         "y": [
          1.16751269035533
         ]
        },
        {
         "marker": {
          "color": "rgba(128, 177, 211, 0.39999999999999974)",
          "line": {
           "width": 1.3
          },
          "opacity": 0.8,
          "size": [
           21
          ],
          "symbol": "circle"
         },
         "mode": "markers",
         "name": "SS Tiwary",
         "text": [
          "SS Tiwary"
         ],
         "textfont": {
          "color": "#4D5663"
         },
         "type": "scatter",
         "uid": "7a4f0e64-c908-4aaf-a8a5-3650e1927e36",
         "x": [
          0.12421242124212421
         ],
         "y": [
          1.1485148514851484
         ]
        },
        {
         "marker": {
          "color": "rgba(255, 153, 51, 0.39999999999999974)",
          "line": {
           "width": 1.3
          },
          "opacity": 0.8,
          "size": [
           36
          ],
          "symbol": "circle"
         },
         "mode": "markers",
         "name": "RA Jadeja",
         "text": [
          "RA Jadeja"
         ],
         "textfont": {
          "color": "#4D5663"
         },
         "type": "scatter",
         "uid": "05f569a4-0a2d-4233-a844-752c6c1afe06",
         "x": [
          0.12377450980392157
         ],
         "y": [
          1.1954656862745099
         ]
        },
        {
         "marker": {
          "color": "rgba(55, 128, 191, 0.39999999999999974)",
          "line": {
           "width": 1.3
          },
          "opacity": 0.8,
          "size": [
           37
          ],
          "symbol": "circle"
         },
         "mode": "markers",
         "name": "JP Duminy",
         "text": [
          "JP Duminy"
         ],
         "textfont": {
          "color": "#4D5663"
         },
         "type": "scatter",
         "uid": "39b014f3-7fd5-495a-81cf-3e24dcd43c58",
         "x": [
          0.12202380952380952
         ],
         "y": [
          1.2148809523809523
         ]
        }
       ],
       "layout": {
        "legend": {
         "bgcolor": "#F5F6F9",
         "font": {
          "color": "#4D5663"
         }
        },
        "paper_bgcolor": "#F5F6F9",
        "plot_bgcolor": "#F5F6F9",
        "title": {
         "font": {
          "color": "#4D5663"
         }
        },
        "xaxis": {
         "gridcolor": "#E1E5ED",
         "showgrid": true,
         "tickfont": {
          "color": "#4D5663"
         },
         "title": {
          "font": {
           "color": "#4D5663"
          },
          "text": "Hard Hit"
         },
         "zerolinecolor": "#E1E5ED"
        },
        "yaxis": {
         "gridcolor": "#E1E5ED",
         "showgrid": true,
         "tickfont": {
          "color": "#4D5663"
         },
         "title": {
          "font": {
           "color": "#4D5663"
          },
          "text": "Fast Scoring Ability"
         },
         "zerolinecolor": "#E1E5ED"
        }
       }
      },
      "text/html": [
       "<div>\n",
       "        \n",
       "        \n",
       "            <div id=\"d3fa82d5-0467-4d45-914b-491c4f42b784\" class=\"plotly-graph-div\" style=\"height:525px; width:100%;\"></div>\n",
       "            <script type=\"text/javascript\">\n",
       "                require([\"plotly\"], function(Plotly) {\n",
       "                    window.PLOTLYENV=window.PLOTLYENV || {};\n",
       "                    window.PLOTLYENV.BASE_URL='https://plot.ly';\n",
       "                    \n",
       "                if (document.getElementById(\"d3fa82d5-0467-4d45-914b-491c4f42b784\")) {\n",
       "                    Plotly.newPlot(\n",
       "                        'd3fa82d5-0467-4d45-914b-491c4f42b784',\n",
       "                        [{\"marker\": {\"color\": \"rgba(255, 153, 51, 1.0)\", \"line\": {\"width\": 1.3}, \"opacity\": 0.8, \"size\": [12], \"symbol\": \"circle\"}, \"mode\": \"markers\", \"name\": \"AD Russell\", \"text\": [\"AD Russell\"], \"textfont\": {\"color\": \"#4D5663\"}, \"type\": \"scatter\", \"uid\": \"893d4be1-b017-4288-aebb-ac8f1a7e74ec\", \"x\": [0.27023661270236615], \"y\": [1.7995018679950188]}, {\"marker\": {\"color\": \"rgba(55, 128, 191, 1.0)\", \"line\": {\"width\": 1.3}, \"opacity\": 0.8, \"size\": [42], \"symbol\": \"circle\"}, \"mode\": \"markers\", \"name\": \"V Sehwag\", \"text\": [\"V Sehwag\"], \"textfont\": {\"color\": \"#4D5663\"}, \"type\": \"scatter\", \"uid\": \"feaf7861-ac9d-43c2-ae38-22c49886f96c\", \"x\": [0.24004364429896344], \"y\": [1.4882705946535735]}, {\"marker\": {\"color\": \"rgba(50, 171, 96, 1.0)\", \"line\": {\"width\": 1.3}, \"opacity\": 0.8, \"size\": [20], \"symbol\": \"circle\"}, \"mode\": \"markers\", \"name\": \"RR Pant\", \"text\": [\"RR Pant\"], \"textfont\": {\"color\": \"#4D5663\"}, \"type\": \"scatter\", \"uid\": \"3aee7002-b357-4699-9e50-94afc2385145\", \"x\": [0.2246376811594203], \"y\": [1.6231884057971016]}, {\"marker\": {\"color\": \"rgba(128, 0, 128, 1.0)\", \"line\": {\"width\": 1.3}, \"opacity\": 0.8, \"size\": [80], \"symbol\": \"circle\"}, \"mode\": \"markers\", \"name\": \"CH Gayle\", \"text\": [\"CH Gayle\"], \"textfont\": {\"color\": \"#4D5663\"}, \"type\": \"scatter\", \"uid\": \"ad53f26a-da8c-4f63-88c7-60381a130dea\", \"x\": [0.22452890450335355], \"y\": [1.4564037048866176]}, {\"marker\": {\"color\": \"rgba(219, 64, 82, 1.0)\", \"line\": {\"width\": 1.3}, \"opacity\": 0.8, \"size\": [14], \"symbol\": \"circle\"}, \"mode\": \"markers\", \"name\": \"GJ Maxwell\", \"text\": [\"GJ Maxwell\"], \"textfont\": {\"color\": \"#4D5663\"}, \"type\": \"scatter\", \"uid\": \"06d74383-b408-43af-ab44-9f15050366e7\", \"x\": [0.22283813747228381], \"y\": [1.5554323725055432]}, {\"marker\": {\"color\": \"rgba(0, 128, 128, 1.0)\", \"line\": {\"width\": 1.3}, \"opacity\": 0.8, \"size\": [16], \"symbol\": \"circle\"}, \"mode\": \"markers\", \"name\": \"JC Buttler\", \"text\": [\"JC Buttler\"], \"textfont\": {\"color\": \"#4D5663\"}, \"type\": \"scatter\", \"uid\": \"5ba62ead-3efc-4fab-8898-a95232b3ad80\", \"x\": [0.2138364779874214], \"y\": [1.5]}, {\"marker\": {\"color\": \"rgba(255, 255, 51, 1.0)\", \"line\": {\"width\": 1.3}, \"opacity\": 0.8, \"size\": [34], \"symbol\": \"circle\"}, \"mode\": \"markers\", \"name\": \"AC Gilchrist\", \"text\": [\"AC Gilchrist\"], \"textfont\": {\"color\": \"#4D5663\"}, \"type\": \"scatter\", \"uid\": \"57684868-49fd-4f5a-9f4b-5497982196ec\", \"x\": [0.21286173633440514], \"y\": [1.3305466237942123]}, {\"marker\": {\"color\": \"rgba(128, 128, 0, 1.0)\", \"line\": {\"width\": 1.3}, \"opacity\": 0.8, \"size\": [15], \"symbol\": \"circle\"}, \"mode\": \"markers\", \"name\": \"CA Lynn\", \"text\": [\"CA Lynn\"], \"textfont\": {\"color\": \"#4D5663\"}, \"type\": \"scatter\", \"uid\": \"7220c01f-9865-4c34-97f7-5b83c3852171\", \"x\": [0.20234291799787008], \"y\": [1.3929712460063899]}, {\"marker\": {\"color\": \"rgba(251, 128, 114, 1.0)\", \"line\": {\"width\": 1.3}, \"opacity\": 0.8, \"size\": [41], \"symbol\": \"circle\"}, \"mode\": \"markers\", \"name\": \"DR Smith\", \"text\": [\"DR Smith\"], \"textfont\": {\"color\": \"#4D5663\"}, \"type\": \"scatter\", \"uid\": \"3456e79d-a677-4d63-8c18-794c9afdb9e2\", \"x\": [0.20077648363838047], \"y\": [1.3227953410981697]}, {\"marker\": {\"color\": \"rgba(128, 177, 211, 1.0)\", \"line\": {\"width\": 1.3}, \"opacity\": 0.8, \"size\": [65], \"symbol\": \"circle\"}, \"mode\": \"markers\", \"name\": \"SR Watson\", \"text\": [\"SR Watson\"], \"textfont\": {\"color\": \"#4D5663\"}, \"type\": \"scatter\", \"uid\": \"e341c453-adfe-4736-9a74-6668d8019ace\", \"x\": [0.19742326638878363], \"y\": [1.3694581280788178]}, {\"marker\": {\"color\": \"rgba(128, 177, 211, 0.8999999999999999)\", \"line\": {\"width\": 1.3}, \"opacity\": 0.8, \"size\": [13], \"symbol\": \"circle\"}, \"mode\": \"markers\", \"name\": \"ML Hayden\", \"text\": [\"ML Hayden\"], \"textfont\": {\"color\": \"#4D5663\"}, \"type\": \"scatter\", \"uid\": \"a65d393c-61f4-4070-abe6-efe09553725c\", \"x\": [0.1966626936829559], \"y\": [1.3194278903456496]}, {\"marker\": {\"color\": \"rgba(255, 153, 51, 0.8999999999999999)\", \"line\": {\"width\": 1.3}, \"opacity\": 0.8, \"size\": [75], \"symbol\": \"circle\"}, \"mode\": \"markers\", \"name\": \"AB de Villiers\", \"text\": [\"AB de Villiers\"], \"textfont\": {\"color\": \"#4D5663\"}, \"type\": \"scatter\", \"uid\": \"175a86d8-db70-4083-825b-a29f07176047\", \"x\": [0.1918038293584145], \"y\": [1.487403426268055]}, {\"marker\": {\"color\": \"rgba(55, 128, 191, 0.8999999999999999)\", \"line\": {\"width\": 1.3}, \"opacity\": 0.8, \"size\": [88], \"symbol\": \"circle\"}, \"mode\": \"markers\", \"name\": \"DA Warner\", \"text\": [\"DA Warner\"], \"textfont\": {\"color\": \"#4D5663\"}, \"type\": \"scatter\", \"uid\": \"3d6f5a47-d3bf-4d3c-97b5-6d1ad9e41dbe\", \"x\": [0.1883460859329017], \"y\": [1.3952324896998234]}, {\"marker\": {\"color\": \"rgba(50, 171, 96, 0.8999999999999999)\", \"line\": {\"width\": 1.3}, \"opacity\": 0.8, \"size\": [55], \"symbol\": \"circle\"}, \"mode\": \"markers\", \"name\": \"BB McCullum\", \"text\": [\"BB McCullum\"], \"textfont\": {\"color\": \"#4D5663\"}, \"type\": \"scatter\", \"uid\": \"55a62f7e-e94f-43fd-9439-8ccde9246db1\", \"x\": [0.1857394366197183], \"y\": [1.2733274647887325]}, {\"marker\": {\"color\": \"rgba(128, 0, 128, 0.8999999999999999)\", \"line\": {\"width\": 1.3}, \"opacity\": 0.8, \"size\": [21], \"symbol\": \"circle\"}, \"mode\": \"markers\", \"name\": \"Q de Kock\", \"text\": [\"Q de Kock\"], \"textfont\": {\"color\": \"#4D5663\"}, \"type\": \"scatter\", \"uid\": \"06a57e65-6802-4f20-a0f2-e680e17cd83d\", \"x\": [0.18485915492957747], \"y\": [1.3107394366197183]}, {\"marker\": {\"color\": \"rgba(219, 64, 82, 0.8999999999999999)\", \"line\": {\"width\": 1.3}, \"opacity\": 0.8, \"size\": [56], \"symbol\": \"circle\"}, \"mode\": \"markers\", \"name\": \"YK Pathan\", \"text\": [\"YK Pathan\"], \"textfont\": {\"color\": \"#4D5663\"}, \"type\": \"scatter\", \"uid\": \"dc5f8af7-688f-4d4e-8598-8db21106a7f2\", \"x\": [0.18209083119108826], \"y\": [1.3886032562125108]}, {\"marker\": {\"color\": \"rgba(0, 128, 128, 0.8999999999999999)\", \"line\": {\"width\": 1.3}, \"opacity\": 0.8, \"size\": [46], \"symbol\": \"circle\"}, \"mode\": \"markers\", \"name\": \"KA Pollard\", \"text\": [\"KA Pollard\"], \"textfont\": {\"color\": \"#4D5663\"}, \"type\": \"scatter\", \"uid\": \"b58b783b-f0c0-44d8-9e93-9853dfd98b33\", \"x\": [0.18177189409368635], \"y\": [1.4175152749490836]}, {\"marker\": {\"color\": \"rgba(255, 255, 51, 0.8999999999999999)\", \"line\": {\"width\": 1.3}, \"opacity\": 0.8, \"size\": [44], \"symbol\": \"circle\"}, \"mode\": \"markers\", \"name\": \"SE Marsh\", \"text\": [\"SE Marsh\"], \"textfont\": {\"color\": \"#4D5663\"}, \"type\": \"scatter\", \"uid\": \"70f9b739-baae-441f-812a-bb674ff3bf20\", \"x\": [0.18139048614741243], \"y\": [1.3010977522216414]}, {\"marker\": {\"color\": \"rgba(128, 128, 0, 0.8999999999999999)\", \"line\": {\"width\": 1.3}, \"opacity\": 0.8, \"size\": [28], \"symbol\": \"circle\"}, \"mode\": \"markers\", \"name\": \"AJ Finch\", \"text\": [\"AJ Finch\"], \"textfont\": {\"color\": \"#4D5663\"}, \"type\": \"scatter\", \"uid\": \"ab9fb0c8-ec90-4f71-b610-639266c1d0b2\", \"x\": [0.17711370262390672], \"y\": [1.271137026239067]}, {\"marker\": {\"color\": \"rgba(251, 128, 114, 0.8999999999999999)\", \"line\": {\"width\": 1.3}, \"opacity\": 0.8, \"size\": [31], \"symbol\": \"circle\"}, \"mode\": \"markers\", \"name\": \"KL Rahul\", \"text\": [\"KL Rahul\"], \"textfont\": {\"color\": \"#4D5663\"}, \"type\": \"scatter\", \"uid\": \"6dbbce9d-c945-43eb-baf3-f900d0d5b0ba\", \"x\": [0.17679180887372015], \"y\": [1.374061433447099]}, {\"marker\": {\"color\": \"rgba(251, 128, 114, 0.7999999999999998)\", \"line\": {\"width\": 1.3}, \"opacity\": 0.8, \"size\": [14], \"symbol\": \"circle\"}, \"mode\": \"markers\", \"name\": \"LMP Simmons\", \"text\": [\"LMP Simmons\"], \"textfont\": {\"color\": \"#4D5663\"}, \"type\": \"scatter\", \"uid\": \"7e5d1859-4cb8-4732-9411-7764bccc5810\", \"x\": [0.17425968109339407], \"y\": [1.2289293849658314]}, {\"marker\": {\"color\": \"rgba(128, 177, 211, 0.7999999999999998)\", \"line\": {\"width\": 1.3}, \"opacity\": 0.8, \"size\": [12], \"symbol\": \"circle\"}, \"mode\": \"markers\", \"name\": \"N Rana\", \"text\": [\"N Rana\"], \"textfont\": {\"color\": \"#4D5663\"}, \"type\": \"scatter\", \"uid\": \"e2669921-e8c7-4fa6-8855-bd102e19c7f3\", \"x\": [0.17365269461077845], \"y\": [1.3221556886227546]}, {\"marker\": {\"color\": \"rgba(255, 153, 51, 0.7999999999999998)\", \"line\": {\"width\": 1.3}, \"opacity\": 0.8, \"size\": [107], \"symbol\": \"circle\"}, \"mode\": \"markers\", \"name\": \"SK Raina\", \"text\": [\"SK Raina\"], \"textfont\": {\"color\": \"#4D5663\"}, \"type\": \"scatter\", \"uid\": \"4077c115-6469-488b-a301-b8f275af8b23\", \"x\": [0.17062314540059348], \"y\": [1.339020771513353]}, {\"marker\": {\"color\": \"rgba(55, 128, 191, 0.7999999999999998)\", \"line\": {\"width\": 1.3}, \"opacity\": 0.8, \"size\": [22], \"symbol\": \"circle\"}, \"mode\": \"markers\", \"name\": \"KK Nair\", \"text\": [\"KK Nair\"], \"textfont\": {\"color\": \"#4D5663\"}, \"type\": \"scatter\", \"uid\": \"85df76d7-3f8f-450d-ad9a-4dac0beebacb\", \"x\": [0.16982758620689656], \"y\": [1.2672413793103448]}, {\"marker\": {\"color\": \"rgba(50, 171, 96, 0.7999999999999998)\", \"line\": {\"width\": 1.3}, \"opacity\": 0.8, \"size\": [60], \"symbol\": \"circle\"}, \"mode\": \"markers\", \"name\": \"PA Patel\", \"text\": [\"PA Patel\"], \"textfont\": {\"color\": \"#4D5663\"}, \"type\": \"scatter\", \"uid\": \"c9dc2bf7-17e8-428a-b35a-3d952d5e3e44\", \"x\": [0.1698036006546645], \"y\": [1.1759410801963994]}, {\"marker\": {\"color\": \"rgba(128, 0, 128, 0.7999999999999998)\", \"line\": {\"width\": 1.3}, \"opacity\": 0.8, \"size\": [90], \"symbol\": \"circle\"}, \"mode\": \"markers\", \"name\": \"RV Uthappa\", \"text\": [\"RV Uthappa\"], \"textfont\": {\"color\": \"#4D5663\"}, \"type\": \"scatter\", \"uid\": \"30f38ba5-6bd0-44c9-be6b-a520b411f306\", \"x\": [0.16953035509736541], \"y\": [1.2731958762886597]}, {\"marker\": {\"color\": \"rgba(219, 64, 82, 0.7999999999999998)\", \"line\": {\"width\": 1.3}, \"opacity\": 0.8, \"size\": [53], \"symbol\": \"circle\"}, \"mode\": \"markers\", \"name\": \"Yuvraj Singh\", \"text\": [\"Yuvraj Singh\"], \"textfont\": {\"color\": \"#4D5663\"}, \"type\": \"scatter\", \"uid\": \"03cfffe3-d68a-4a7e-9eef-11abc363a62a\", \"x\": [0.16628908019936564], \"y\": [1.2528318985047575]}, {\"marker\": {\"color\": \"rgba(0, 128, 128, 0.7999999999999998)\", \"line\": {\"width\": 1.3}, \"opacity\": 0.8, \"size\": [99], \"symbol\": \"circle\"}, \"mode\": \"markers\", \"name\": \"S Dhawan\", \"text\": [\"S Dhawan\"], \"textfont\": {\"color\": \"#4D5663\"}, \"type\": \"scatter\", \"uid\": \"638f3c56-6630-4844-b2d9-82fc20a92790\", \"x\": [0.16472457627118645], \"y\": [1.2266949152542372]}, {\"marker\": {\"color\": \"rgba(255, 255, 51, 0.7999999999999998)\", \"line\": {\"width\": 1.3}, \"opacity\": 0.8, \"size\": [18], \"symbol\": \"circle\"}, \"mode\": \"markers\", \"name\": \"MA Agarwal\", \"text\": [\"MA Agarwal\"], \"textfont\": {\"color\": \"#4D5663\"}, \"type\": \"scatter\", \"uid\": \"992868ce-d7f2-4880-8c10-f3a91e46a616\", \"x\": [0.16455696202531644], \"y\": [1.2424537487828626]}, {\"marker\": {\"color\": \"rgba(128, 128, 0, 0.7999999999999998)\", \"line\": {\"width\": 1.3}, \"opacity\": 0.8, \"size\": [100], \"symbol\": \"circle\"}, \"mode\": \"markers\", \"name\": \"RG Sharma\", \"text\": [\"RG Sharma\"], \"textfont\": {\"color\": \"#4D5663\"}, \"type\": \"scatter\", \"uid\": \"1711a647-470b-4d34-b332-dfe67bd29cbc\", \"x\": [0.1637840670859539], \"y\": [1.2877358490566038]}, {\"marker\": {\"color\": \"rgba(128, 128, 0, 0.7)\", \"line\": {\"width\": 1.3}, \"opacity\": 0.8, \"size\": [112], \"symbol\": \"circle\"}, \"mode\": \"markers\", \"name\": \"V Kohli\", \"text\": [\"V Kohli\"], \"textfont\": {\"color\": \"#4D5663\"}, \"type\": \"scatter\", \"uid\": \"517d4203-d6b3-40a5-b03b-994beed81d6e\", \"x\": [0.15981952030396582], \"y\": [1.2904298266445025]}, {\"marker\": {\"color\": \"rgba(251, 128, 114, 0.7)\", \"line\": {\"width\": 1.3}, \"opacity\": 0.8, \"size\": [28], \"symbol\": \"circle\"}, \"mode\": \"markers\", \"name\": \"WP Saha\", \"text\": [\"WP Saha\"], \"textfont\": {\"color\": \"#4D5663\"}, \"type\": \"scatter\", \"uid\": \"97cd63c1-2c9f-473a-9507-1487ba97c20a\", \"x\": [0.15918958031837915], \"y\": [1.2879884225759768]}, {\"marker\": {\"color\": \"rgba(128, 177, 211, 0.7)\", \"line\": {\"width\": 1.3}, \"opacity\": 0.8, \"size\": [48], \"symbol\": \"circle\"}, \"mode\": \"markers\", \"name\": \"SR Tendulkar\", \"text\": [\"SR Tendulkar\"], \"textfont\": {\"color\": \"#4D5663\"}, \"type\": \"scatter\", \"uid\": \"7f204982-f3c2-4731-b54c-63e722484f07\", \"x\": [0.15900195694716243], \"y\": [1.1418786692759295]}, {\"marker\": {\"color\": \"rgba(255, 153, 51, 0.7)\", \"line\": {\"width\": 1.3}, \"opacity\": 0.8, \"size\": [73], \"symbol\": \"circle\"}, \"mode\": \"markers\", \"name\": \"KD Karthik\", \"text\": [\"KD Karthik\"], \"textfont\": {\"color\": \"#4D5663\"}, \"type\": \"scatter\", \"uid\": \"4019e9c4-ce05-4fec-9c0f-592587f99e11\", \"x\": [0.1588235294117647], \"y\": [1.2761245674740485]}, {\"marker\": {\"color\": \"rgba(55, 128, 191, 0.7)\", \"line\": {\"width\": 1.3}, \"opacity\": 0.8, \"size\": [28], \"symbol\": \"circle\"}, \"mode\": \"markers\", \"name\": \"SS Iyer\", \"text\": [\"SS Iyer\"], \"textfont\": {\"color\": \"#4D5663\"}, \"type\": \"scatter\", \"uid\": \"0ff6386c-a8c6-45bd-b37e-50c746a91efa\", \"x\": [0.1583941605839416], \"y\": [1.251094890510949]}, {\"marker\": {\"color\": \"rgba(50, 171, 96, 0.7)\", \"line\": {\"width\": 1.3}, \"opacity\": 0.8, \"size\": [17], \"symbol\": \"circle\"}, \"mode\": \"markers\", \"name\": \"KS Williamson\", \"text\": [\"KS Williamson\"], \"textfont\": {\"color\": \"#4D5663\"}, \"type\": \"scatter\", \"uid\": \"16196556-36ff-4614-ba45-f7a8908cc1d4\", \"x\": [0.1580020387359837], \"y\": [1.344546381243629]}, {\"marker\": {\"color\": \"rgba(128, 0, 128, 0.7)\", \"line\": {\"width\": 1.3}, \"opacity\": 0.8, \"size\": [33], \"symbol\": \"circle\"}, \"mode\": \"markers\", \"name\": \"DPMD Jayawardene\", \"text\": [\"DPMD Jayawardene\"], \"textfont\": {\"color\": \"#4D5663\"}, \"type\": \"scatter\", \"uid\": \"8ab4047c-0b58-440c-800c-2abfebe326b0\", \"x\": [0.15768725361366623], \"y\": [1.187910643889619]}, {\"marker\": {\"color\": \"rgba(219, 64, 82, 0.7)\", \"line\": {\"width\": 1.3}, \"opacity\": 0.8, \"size\": [19], \"symbol\": \"circle\"}, \"mode\": \"markers\", \"name\": \"TM Dilshan\", \"text\": [\"TM Dilshan\"], \"textfont\": {\"color\": \"#4D5663\"}, \"type\": \"scatter\", \"uid\": \"bb2b60a9-8f25-4fc6-9583-1f479fd251f8\", \"x\": [0.15663801337153774], \"y\": [1.1012416427889207]}, {\"marker\": {\"color\": \"rgba(0, 128, 128, 0.7)\", \"line\": {\"width\": 1.3}, \"opacity\": 0.8, \"size\": [91], \"symbol\": \"circle\"}, \"mode\": \"markers\", \"name\": \"G Gambhir\", \"text\": [\"G Gambhir\"], \"textfont\": {\"color\": \"#4D5663\"}, \"type\": \"scatter\", \"uid\": \"8fd38f02-a32a-4d9c-a19a-800706ec430e\", \"x\": [0.15635641316685583], \"y\": [1.1983541430192963]}, {\"marker\": {\"color\": \"rgba(255, 255, 51, 0.7)\", \"line\": {\"width\": 1.3}, \"opacity\": 0.8, \"size\": [30], \"symbol\": \"circle\"}, \"mode\": \"markers\", \"name\": \"KC Sangakkara\", \"text\": [\"KC Sangakkara\"], \"textfont\": {\"color\": \"#4D5663\"}, \"type\": \"scatter\", \"uid\": \"47f654d1-247d-4e2f-ab26-6ccc27fc20d3\", \"x\": [0.15589887640449437], \"y\": [1.184691011235955]}, {\"marker\": {\"color\": \"rgba(255, 255, 51, 0.5999999999999999)\", \"line\": {\"width\": 1.3}, \"opacity\": 0.8, \"size\": [28], \"symbol\": \"circle\"}, \"mode\": \"markers\", \"name\": \"DA Miller\", \"text\": [\"DA Miller\"], \"textfont\": {\"color\": \"#4D5663\"}, \"type\": \"scatter\", \"uid\": \"3e1135cc-8e5e-4648-903b-cf43c44e502f\", \"x\": [0.1555232558139535], \"y\": [1.3626453488372092]}, {\"marker\": {\"color\": \"rgba(128, 128, 0, 0.5999999999999999)\", \"line\": {\"width\": 1.3}, \"opacity\": 0.8, \"size\": [44], \"symbol\": \"circle\"}, \"mode\": \"markers\", \"name\": \"R Dravid\", \"text\": [\"R Dravid\"], \"textfont\": {\"color\": \"#4D5663\"}, \"type\": \"scatter\", \"uid\": \"11e75d20-b7f5-4fc2-94c4-fba1c4eb95a9\", \"x\": [0.1548488008342023], \"y\": [1.1334723670490094]}, {\"marker\": {\"color\": \"rgba(251, 128, 114, 0.5999999999999999)\", \"line\": {\"width\": 1.3}, \"opacity\": 0.8, \"size\": [25], \"symbol\": \"circle\"}, \"mode\": \"markers\", \"name\": \"Mandeep Singh\", \"text\": [\"Mandeep Singh\"], \"textfont\": {\"color\": \"#4D5663\"}, \"type\": \"scatter\", \"uid\": \"af98c43d-6676-4f59-8782-71377b9580e5\", \"x\": [0.1547049441786284], \"y\": [1.233652312599681]}, {\"marker\": {\"color\": \"rgba(128, 177, 211, 0.5999999999999999)\", \"line\": {\"width\": 1.3}, \"opacity\": 0.8, \"size\": [51], \"symbol\": \"circle\"}, \"mode\": \"markers\", \"name\": \"M Vijay\", \"text\": [\"M Vijay\"], \"textfont\": {\"color\": \"#4D5663\"}, \"type\": \"scatter\", \"uid\": \"002bd227-c943-440e-b941-a4c8fd1cc602\", \"x\": [0.15434380776340112], \"y\": [1.1968576709796672]}, {\"marker\": {\"color\": \"rgba(255, 153, 51, 0.5999999999999999)\", \"line\": {\"width\": 1.3}, \"opacity\": 0.8, \"size\": [85], \"symbol\": \"circle\"}, \"mode\": \"markers\", \"name\": \"MS Dhoni\", \"text\": [\"MS Dhoni\"], \"textfont\": {\"color\": \"#4D5663\"}, \"type\": \"scatter\", \"uid\": \"b7276d78-2abf-4c57-a237-2a54ca1ec25a\", \"x\": [0.1518987341772152], \"y\": [1.3493068113321278]}, {\"marker\": {\"color\": \"rgba(55, 128, 191, 0.5999999999999999)\", \"line\": {\"width\": 1.3}, \"opacity\": 0.8, \"size\": [36], \"symbol\": \"circle\"}, \"mode\": \"markers\", \"name\": \"MEK Hussey\", \"text\": [\"MEK Hussey\"], \"textfont\": {\"color\": \"#4D5663\"}, \"type\": \"scatter\", \"uid\": \"7d3ccb65-4f85-4cc1-861d-82f3cdc80634\", \"x\": [0.15169902912621358], \"y\": [1.1996359223300972]}, {\"marker\": {\"color\": \"rgba(50, 171, 96, 0.5999999999999999)\", \"line\": {\"width\": 1.3}, \"opacity\": 0.8, \"size\": [39], \"symbol\": \"circle\"}, \"mode\": \"markers\", \"name\": \"SV Samson\", \"text\": [\"SV Samson\"], \"textfont\": {\"color\": \"#4D5663\"}, \"type\": \"scatter\", \"uid\": \"45e2ca83-b768-40cd-886d-29ef775b0c5c\", \"x\": [0.15046296296296297], \"y\": [1.2934027777777777]}, {\"marker\": {\"color\": \"rgba(128, 0, 128, 0.5999999999999999)\", \"line\": {\"width\": 1.3}, \"opacity\": 0.8, \"size\": [23], \"symbol\": \"circle\"}, \"mode\": \"markers\", \"name\": \"DJ Bravo\", \"text\": [\"DJ Bravo\"], \"textfont\": {\"color\": \"#4D5663\"}, \"type\": \"scatter\", \"uid\": \"7fa0de16-a5e6-49b2-b977-4bc712a6a2d9\", \"x\": [0.14920368818105617], \"y\": [1.2556580050293378]}, {\"marker\": {\"color\": \"rgba(219, 64, 82, 0.5999999999999999)\", \"line\": {\"width\": 1.3}, \"opacity\": 0.8, \"size\": [82], \"symbol\": \"circle\"}, \"mode\": \"markers\", \"name\": \"AM Rahane\", \"text\": [\"AM Rahane\"], \"textfont\": {\"color\": \"#4D5663\"}, \"type\": \"scatter\", \"uid\": \"a424c677-7a0e-4121-8f18-770a88718d8b\", \"x\": [0.1489891135303266], \"y\": [1.1975116640746502]}, {\"marker\": {\"color\": \"rgba(0, 128, 128, 0.5999999999999999)\", \"line\": {\"width\": 1.3}, \"opacity\": 0.8, \"size\": [32], \"symbol\": \"circle\"}, \"mode\": \"markers\", \"name\": \"F du Plessis\", \"text\": [\"F du Plessis\"], \"textfont\": {\"color\": \"#4D5663\"}, \"type\": \"scatter\", \"uid\": \"eb9942c4-7e0c-4565-a1f2-53804487d6b5\", \"x\": [0.14876584389593062], \"y\": [1.2501667778519012]}, {\"marker\": {\"color\": \"rgba(0, 128, 128, 0.49999999999999983)\", \"line\": {\"width\": 1.3}, \"opacity\": 0.8, \"size\": [67], \"symbol\": \"circle\"}, \"mode\": \"markers\", \"name\": \"AT Rayudu\", \"text\": [\"AT Rayudu\"], \"textfont\": {\"color\": \"#4D5663\"}, \"type\": \"scatter\", \"uid\": \"a8ac587b-d276-4101-81ad-301030016035\", \"x\": [0.1484520701230884], \"y\": [1.2405818724356583]}, {\"marker\": {\"color\": \"rgba(255, 255, 51, 0.49999999999999983)\", \"line\": {\"width\": 1.3}, \"opacity\": 0.8, \"size\": [14], \"symbol\": \"circle\"}, \"mode\": \"markers\", \"name\": \"KM Jadhav\", \"text\": [\"KM Jadhav\"], \"textfont\": {\"color\": \"#4D5663\"}, \"type\": \"scatter\", \"uid\": \"204746d7-18e3-474a-b230-5a0e8a2504a0\", \"x\": [0.14789533560864618], \"y\": [1.2411831626848693]}, {\"marker\": {\"color\": \"rgba(128, 128, 0, 0.49999999999999983)\", \"line\": {\"width\": 1.3}, \"opacity\": 0.8, \"size\": [28], \"symbol\": \"circle\"}, \"mode\": \"markers\", \"name\": \"NV Ojha\", \"text\": [\"NV Ojha\"], \"textfont\": {\"color\": \"#4D5663\"}, \"type\": \"scatter\", \"uid\": \"e895a19e-7c8b-40c1-958a-0d2b35eccb35\", \"x\": [0.14705882352941177], \"y\": [1.1433823529411764]}, {\"marker\": {\"color\": \"rgba(251, 128, 114, 0.49999999999999983)\", \"line\": {\"width\": 1.3}, \"opacity\": 0.8, \"size\": [24], \"symbol\": \"circle\"}, \"mode\": \"markers\", \"name\": \"S Badrinath\", \"text\": [\"S Badrinath\"], \"textfont\": {\"color\": \"#4D5663\"}, \"type\": \"scatter\", \"uid\": \"102846fb-235d-468b-9c35-df04866fa6f9\", \"x\": [0.1461847389558233], \"y\": [1.157429718875502]}, {\"marker\": {\"color\": \"rgba(128, 177, 211, 0.49999999999999983)\", \"line\": {\"width\": 1.3}, \"opacity\": 0.8, \"size\": [22], \"symbol\": \"circle\"}, \"mode\": \"markers\", \"name\": \"BJ Hodge\", \"text\": [\"BJ Hodge\"], \"textfont\": {\"color\": \"#4D5663\"}, \"type\": \"scatter\", \"uid\": \"ed247074-1610-4c3e-a53f-0fea973980a6\", \"x\": [0.14310494362532525], \"y\": [1.2142237640936686]}, {\"marker\": {\"color\": \"rgba(255, 153, 51, 0.49999999999999983)\", \"line\": {\"width\": 1.3}, \"opacity\": 0.8, \"size\": [35], \"symbol\": \"circle\"}, \"mode\": \"markers\", \"name\": \"SPD Smith\", \"text\": [\"SPD Smith\"], \"textfont\": {\"color\": \"#4D5663\"}, \"type\": \"scatter\", \"uid\": \"0c7ae375-bc41-4ea0-9d50-8c9a137a02c4\", \"x\": [0.14232673267326731], \"y\": [1.2667079207920793]}, {\"marker\": {\"color\": \"rgba(55, 128, 191, 0.49999999999999983)\", \"line\": {\"width\": 1.3}, \"opacity\": 0.8, \"size\": [20], \"symbol\": \"circle\"}, \"mode\": \"markers\", \"name\": \"DJ Hussey\", \"text\": [\"DJ Hussey\"], \"textfont\": {\"color\": \"#4D5663\"}, \"type\": \"scatter\", \"uid\": \"cb42add3-0ba3-4c76-98fc-d92a66d67b9f\", \"x\": [0.1362397820163488], \"y\": [1.2007266121707538]}, {\"marker\": {\"color\": \"rgba(50, 171, 96, 0.49999999999999983)\", \"line\": {\"width\": 1.3}, \"opacity\": 0.8, \"size\": [12], \"symbol\": \"circle\"}, \"mode\": \"markers\", \"name\": \"HH Gibbs\", \"text\": [\"HH Gibbs\"], \"textfont\": {\"color\": \"#4D5663\"}, \"type\": \"scatter\", \"uid\": \"5cda15cd-d98f-4432-b045-4e5cfc2f6241\", \"x\": [0.13620071684587814], \"y\": [1.058542413381123]}, {\"marker\": {\"color\": \"rgba(128, 0, 128, 0.49999999999999983)\", \"line\": {\"width\": 1.3}, \"opacity\": 0.8, \"size\": [59], \"symbol\": \"circle\"}, \"mode\": \"markers\", \"name\": \"MK Pandey\", \"text\": [\"MK Pandey\"], \"textfont\": {\"color\": \"#4D5663\"}, \"type\": \"scatter\", \"uid\": \"8ec822d3-9444-46e5-acee-8172f141ba4e\", \"x\": [0.13567010309278352], \"y\": [1.1843298969072165]}, {\"marker\": {\"color\": \"rgba(219, 64, 82, 0.49999999999999983)\", \"line\": {\"width\": 1.3}, \"opacity\": 0.8, \"size\": [27], \"symbol\": \"circle\"}, \"mode\": \"markers\", \"name\": \"SC Ganguly\", \"text\": [\"SC Ganguly\"], \"textfont\": {\"color\": \"#4D5663\"}, \"type\": \"scatter\", \"uid\": \"e1bb46da-f630-4318-a1ce-5320c09d71c8\", \"x\": [0.13499245852187028], \"y\": [1.0173453996983408]}, {\"marker\": {\"color\": \"rgba(219, 64, 82, 0.39999999999999974)\", \"line\": {\"width\": 1.3}, \"opacity\": 0.8, \"size\": [13], \"symbol\": \"circle\"}, \"mode\": \"markers\", \"name\": \"LRPL Taylor\", \"text\": [\"LRPL Taylor\"], \"textfont\": {\"color\": \"#4D5663\"}, \"type\": \"scatter\", \"uid\": \"5208dee8-8e43-4c66-aa27-cdb3dbc7fecc\", \"x\": [0.1322314049586777], \"y\": [1.2007083825265643]}, {\"marker\": {\"color\": \"rgba(0, 128, 128, 0.39999999999999974)\", \"line\": {\"width\": 1.3}, \"opacity\": 0.8, \"size\": [13], \"symbol\": \"circle\"}, \"mode\": \"markers\", \"name\": \"Y Venugopal Rao\", \"text\": [\"Y Venugopal Rao\"], \"textfont\": {\"color\": \"#4D5663\"}, \"type\": \"scatter\", \"uid\": \"e198be0d-bea3-48f9-8bb8-2266af81fac0\", \"x\": [0.13179190751445086], \"y\": [1.138728323699422]}, {\"marker\": {\"color\": \"rgba(255, 255, 51, 0.39999999999999974)\", \"line\": {\"width\": 1.3}, \"opacity\": 0.8, \"size\": [32], \"symbol\": \"circle\"}, \"mode\": \"markers\", \"name\": \"MK Tiwary\", \"text\": [\"MK Tiwary\"], \"textfont\": {\"color\": \"#4D5663\"}, \"type\": \"scatter\", \"uid\": \"165f1176-f5aa-4b73-b6a5-600db1cb5c73\", \"x\": [0.13163196776359973], \"y\": [1.1396910678307588]}, {\"marker\": {\"color\": \"rgba(128, 128, 0, 0.39999999999999974)\", \"line\": {\"width\": 1.3}, \"opacity\": 0.8, \"size\": [55], \"symbol\": \"circle\"}, \"mode\": \"markers\", \"name\": \"JH Kallis\", \"text\": [\"JH Kallis\"], \"textfont\": {\"color\": \"#4D5663\"}, \"type\": \"scatter\", \"uid\": \"bd7286e6-d1ab-429a-be17-8f2607f65f59\", \"x\": [0.13051069402007856], \"y\": [1.0593627237014405]}, {\"marker\": {\"color\": \"rgba(251, 128, 114, 0.39999999999999974)\", \"line\": {\"width\": 1.3}, \"opacity\": 0.8, \"size\": [17], \"symbol\": \"circle\"}, \"mode\": \"markers\", \"name\": \"IK Pathan\", \"text\": [\"IK Pathan\"], \"textfont\": {\"color\": \"#4D5663\"}, \"type\": \"scatter\", \"uid\": \"38499e8a-1a0a-485b-ae18-20aab2726ac1\", \"x\": [0.12791878172588833], \"y\": [1.16751269035533]}, {\"marker\": {\"color\": \"rgba(128, 177, 211, 0.39999999999999974)\", \"line\": {\"width\": 1.3}, \"opacity\": 0.8, \"size\": [21], \"symbol\": \"circle\"}, \"mode\": \"markers\", \"name\": \"SS Tiwary\", \"text\": [\"SS Tiwary\"], \"textfont\": {\"color\": \"#4D5663\"}, \"type\": \"scatter\", \"uid\": \"6ca29a47-67d0-4d25-8f48-8d72bd730d1e\", \"x\": [0.12421242124212421], \"y\": [1.1485148514851484]}, {\"marker\": {\"color\": \"rgba(255, 153, 51, 0.39999999999999974)\", \"line\": {\"width\": 1.3}, \"opacity\": 0.8, \"size\": [36], \"symbol\": \"circle\"}, \"mode\": \"markers\", \"name\": \"RA Jadeja\", \"text\": [\"RA Jadeja\"], \"textfont\": {\"color\": \"#4D5663\"}, \"type\": \"scatter\", \"uid\": \"d94c3398-0842-4125-afc8-978bf05d77dd\", \"x\": [0.12377450980392157], \"y\": [1.1954656862745099]}, {\"marker\": {\"color\": \"rgba(55, 128, 191, 0.39999999999999974)\", \"line\": {\"width\": 1.3}, \"opacity\": 0.8, \"size\": [37], \"symbol\": \"circle\"}, \"mode\": \"markers\", \"name\": \"JP Duminy\", \"text\": [\"JP Duminy\"], \"textfont\": {\"color\": \"#4D5663\"}, \"type\": \"scatter\", \"uid\": \"f5177bfe-acbf-47cc-8437-fae8a5cd1639\", \"x\": [0.12202380952380952], \"y\": [1.2148809523809523]}],\n",
       "                        {\"legend\": {\"bgcolor\": \"#F5F6F9\", \"font\": {\"color\": \"#4D5663\"}}, \"paper_bgcolor\": \"#F5F6F9\", \"plot_bgcolor\": \"#F5F6F9\", \"title\": {\"font\": {\"color\": \"#4D5663\"}}, \"xaxis\": {\"gridcolor\": \"#E1E5ED\", \"showgrid\": true, \"tickfont\": {\"color\": \"#4D5663\"}, \"title\": {\"font\": {\"color\": \"#4D5663\"}, \"text\": \"Hard Hit\"}, \"zerolinecolor\": \"#E1E5ED\"}, \"yaxis\": {\"gridcolor\": \"#E1E5ED\", \"showgrid\": true, \"tickfont\": {\"color\": \"#4D5663\"}, \"title\": {\"font\": {\"color\": \"#4D5663\"}, \"text\": \"Fast Scoring Ability\"}, \"zerolinecolor\": \"#E1E5ED\"}},\n",
       "                        {\"showLink\": true, \"linkText\": \"Export to plot.ly\", \"plotlyServerURL\": \"https://plot.ly\", \"responsive\": true}\n",
       "                    ).then(function(){\n",
       "                            \n",
       "var gd = document.getElementById('d3fa82d5-0467-4d45-914b-491c4f42b784');\n",
       "var x = new MutationObserver(function (mutations, observer) {{\n",
       "        var display = window.getComputedStyle(gd).display;\n",
       "        if (!display || display === 'none') {{\n",
       "            console.log([gd, 'removed!']);\n",
       "            Plotly.purge(gd);\n",
       "            observer.disconnect();\n",
       "        }}\n",
       "}});\n",
       "\n",
       "// Listen for the removal of the full notebook cells\n",
       "var notebookContainer = gd.closest('#notebook-container');\n",
       "if (notebookContainer) {{\n",
       "    x.observe(notebookContainer, {childList: true});\n",
       "}}\n",
       "\n",
       "// Listen for the clearing of the current output cell\n",
       "var outputEl = gd.closest('.output');\n",
       "if (outputEl) {{\n",
       "    x.observe(outputEl, {childList: true});\n",
       "}}\n",
       "\n",
       "                        })\n",
       "                };\n",
       "                });\n",
       "            </script>\n",
       "        </div>"
      ]
     },
     "metadata": {},
     "output_type": "display_data"
    }
   ],
   "source": [
    "hh = hard_hit(ball_data.copy())\n",
    "fs = fast_scoring(ball_data.copy())\n",
    "hh_100 = hh[hh['Number of Balls Faced']>800]\n",
    "fs_100 = fs[fs['Number of Balls Faced']>800]\n",
    "out = pd.merge(hh_100, fs_100, how='inner', on=['batsman','Number of Balls Faced'])\n",
    "\n",
    "out.iplot(kind='bubble', x='Hard Hit', y='Fast Scoring', categories='batsman', size='Number of Balls Faced', text='batsman',\n",
    "          xTitle='Hard Hit', yTitle='Fast Scoring Ability', filename='cufflinks/simple-bubble-chart')"
   ]
  },
  {
   "cell_type": "code",
   "execution_count": 34,
   "metadata": {},
   "outputs": [
    {
     "data": {
      "application/vnd.plotly.v1+json": {
       "config": {
        "linkText": "Export to plot.ly",
        "plotlyServerURL": "https://plot.ly",
        "responsive": true,
        "showLink": true
       },
       "data": [
        {
         "marker": {
          "color": "rgba(255, 153, 51, 1.0)",
          "line": {
           "width": 1.3
          },
          "opacity": 0.8,
          "size": [
           100
          ],
          "symbol": "circle"
         },
         "mode": "markers",
         "name": "Royal Challengers Bangalore",
         "text": [
          "Royal Challengers Bangalore"
         ],
         "textfont": {
          "color": "#4D5663"
         },
         "type": "scatter",
         "uid": "7fc70440-b3af-4708-beb5-214dde4ac39e",
         "x": [
          0.16701740960397934
         ],
         "y": [
          1.280610292710924
         ]
        },
        {
         "marker": {
          "color": "rgba(55, 128, 191, 1.0)",
          "line": {
           "width": 1.3
          },
          "opacity": 0.8,
          "size": [
           97
          ],
          "symbol": "circle"
         },
         "mode": "markers",
         "name": "Kings XI Punjab",
         "text": [
          "Kings XI Punjab"
         ],
         "textfont": {
          "color": "#4D5663"
         },
         "type": "scatter",
         "uid": "3b882bcf-3033-4bfc-80da-70809ce9dbf7",
         "x": [
          0.16406287325020305
         ],
         "y": [
          1.2645358559075057
         ]
        },
        {
         "marker": {
          "color": "rgba(50, 171, 96, 1.0)",
          "line": {
           "width": 1.3
          },
          "opacity": 0.8,
          "size": [
           112
          ],
          "symbol": "circle"
         },
         "mode": "markers",
         "name": "Mumbai Indians",
         "text": [
          "Mumbai Indians"
         ],
         "textfont": {
          "color": "#4D5663"
         },
         "type": "scatter",
         "uid": "68410196-413d-4808-8ab2-553e5855df4d",
         "x": [
          0.1628719218356249
         ],
         "y": [
          1.2451478845218622
         ]
        },
        {
         "marker": {
          "color": "rgba(128, 0, 128, 1.0)",
          "line": {
           "width": 1.3
          },
          "opacity": 0.8,
          "size": [
           92
          ],
          "symbol": "circle"
         },
         "mode": "markers",
         "name": "Kolkata Knight Riders",
         "text": [
          "Kolkata Knight Riders"
         ],
         "textfont": {
          "color": "#4D5663"
         },
         "type": "scatter",
         "uid": "479c28e2-8b9c-4ae5-922c-5aaf19c9f5ce",
         "x": [
          0.16128104324479817
         ],
         "y": [
          1.2414900757503116
         ]
        },
        {
         "marker": {
          "color": "rgba(219, 64, 82, 1.0)",
          "line": {
           "width": 1.3
          },
          "opacity": 0.8,
          "size": [
           86
          ],
          "symbol": "circle"
         },
         "mode": "markers",
         "name": "Chennai Super Kings",
         "text": [
          "Chennai Super Kings"
         ],
         "textfont": {
          "color": "#4D5663"
         },
         "type": "scatter",
         "uid": "c9625999-fb0d-43ea-80f1-9c0cf14a10ea",
         "x": [
          0.1602064568363526
         ],
         "y": [
          1.270316769557737
         ]
        },
        {
         "marker": {
          "color": "rgba(0, 128, 128, 1.0)",
          "line": {
           "width": 1.3
          },
          "opacity": 0.8,
          "size": [
           69
          ],
          "symbol": "circle"
         },
         "mode": "markers",
         "name": "Delhi Daredevils",
         "text": [
          "Delhi Daredevils"
         ],
         "textfont": {
          "color": "#4D5663"
         },
         "type": "scatter",
         "uid": "e327d6b0-8a9d-41f9-8f4a-79c213d51d9e",
         "x": [
          0.15751091238156073
         ],
         "y": [
          1.2304375598850208
         ]
        },
        {
         "marker": {
          "color": "rgba(255, 255, 51, 1.0)",
          "line": {
           "width": 1.3
          },
          "opacity": 0.8,
          "size": [
           54
          ],
          "symbol": "circle"
         },
         "mode": "markers",
         "name": "Rajasthan Royals",
         "text": [
          "Rajasthan Royals"
         ],
         "textfont": {
          "color": "#4D5663"
         },
         "type": "scatter",
         "uid": "caf67d03-b47a-4010-83a6-d925298c548d",
         "x": [
          0.15706685172334028
         ],
         "y": [
          1.2341545223224613
         ]
        },
        {
         "marker": {
          "color": "rgba(128, 128, 0, 1.0)",
          "line": {
           "width": 1.3
          },
          "opacity": 0.8,
          "size": [
           12
          ],
          "symbol": "circle"
         },
         "mode": "markers",
         "name": "Sunrisers Hyderabad",
         "text": [
          "Sunrisers Hyderabad"
         ],
         "textfont": {
          "color": "#4D5663"
         },
         "type": "scatter",
         "uid": "11a552f5-0f8f-407e-8ecf-72e5f36e2e4b",
         "x": [
          0.1531608304927177
         ],
         "y": [
          1.25890920359467
         ]
        }
       ],
       "layout": {
        "legend": {
         "bgcolor": "#F5F6F9",
         "font": {
          "color": "#4D5663"
         }
        },
        "paper_bgcolor": "#F5F6F9",
        "plot_bgcolor": "#F5F6F9",
        "title": {
         "font": {
          "color": "#4D5663"
         }
        },
        "xaxis": {
         "gridcolor": "#E1E5ED",
         "showgrid": true,
         "tickfont": {
          "color": "#4D5663"
         },
         "title": {
          "font": {
           "color": "#4D5663"
          },
          "text": "Hard Hit"
         },
         "zerolinecolor": "#E1E5ED"
        },
        "yaxis": {
         "gridcolor": "#E1E5ED",
         "showgrid": true,
         "tickfont": {
          "color": "#4D5663"
         },
         "title": {
          "font": {
           "color": "#4D5663"
          },
          "text": "Fast Scoring Ability"
         },
         "zerolinecolor": "#E1E5ED"
        }
       }
      },
      "text/html": [
       "<div>\n",
       "        \n",
       "        \n",
       "            <div id=\"fd89eea6-53e1-4be4-ab53-e315646d90da\" class=\"plotly-graph-div\" style=\"height:525px; width:100%;\"></div>\n",
       "            <script type=\"text/javascript\">\n",
       "                require([\"plotly\"], function(Plotly) {\n",
       "                    window.PLOTLYENV=window.PLOTLYENV || {};\n",
       "                    window.PLOTLYENV.BASE_URL='https://plot.ly';\n",
       "                    \n",
       "                if (document.getElementById(\"fd89eea6-53e1-4be4-ab53-e315646d90da\")) {\n",
       "                    Plotly.newPlot(\n",
       "                        'fd89eea6-53e1-4be4-ab53-e315646d90da',\n",
       "                        [{\"marker\": {\"color\": \"rgba(255, 153, 51, 1.0)\", \"line\": {\"width\": 1.3}, \"opacity\": 0.8, \"size\": [100], \"symbol\": \"circle\"}, \"mode\": \"markers\", \"name\": \"Royal Challengers Bangalore\", \"text\": [\"Royal Challengers Bangalore\"], \"textfont\": {\"color\": \"#4D5663\"}, \"type\": \"scatter\", \"uid\": \"cf98203f-9759-4d2a-96cd-0eebbd1c8753\", \"x\": [0.16701740960397934], \"y\": [1.280610292710924]}, {\"marker\": {\"color\": \"rgba(55, 128, 191, 1.0)\", \"line\": {\"width\": 1.3}, \"opacity\": 0.8, \"size\": [97], \"symbol\": \"circle\"}, \"mode\": \"markers\", \"name\": \"Kings XI Punjab\", \"text\": [\"Kings XI Punjab\"], \"textfont\": {\"color\": \"#4D5663\"}, \"type\": \"scatter\", \"uid\": \"8ba387e5-f34b-4ee2-bba9-1e9ca5201e32\", \"x\": [0.16406287325020305], \"y\": [1.2645358559075057]}, {\"marker\": {\"color\": \"rgba(50, 171, 96, 1.0)\", \"line\": {\"width\": 1.3}, \"opacity\": 0.8, \"size\": [112], \"symbol\": \"circle\"}, \"mode\": \"markers\", \"name\": \"Mumbai Indians\", \"text\": [\"Mumbai Indians\"], \"textfont\": {\"color\": \"#4D5663\"}, \"type\": \"scatter\", \"uid\": \"fa4b04b3-7806-446f-b230-5cb2c1289721\", \"x\": [0.1628719218356249], \"y\": [1.2451478845218622]}, {\"marker\": {\"color\": \"rgba(128, 0, 128, 1.0)\", \"line\": {\"width\": 1.3}, \"opacity\": 0.8, \"size\": [92], \"symbol\": \"circle\"}, \"mode\": \"markers\", \"name\": \"Kolkata Knight Riders\", \"text\": [\"Kolkata Knight Riders\"], \"textfont\": {\"color\": \"#4D5663\"}, \"type\": \"scatter\", \"uid\": \"4524ac37-ed6e-43d0-8085-7ca35c758986\", \"x\": [0.16128104324479817], \"y\": [1.2414900757503116]}, {\"marker\": {\"color\": \"rgba(219, 64, 82, 1.0)\", \"line\": {\"width\": 1.3}, \"opacity\": 0.8, \"size\": [86], \"symbol\": \"circle\"}, \"mode\": \"markers\", \"name\": \"Chennai Super Kings\", \"text\": [\"Chennai Super Kings\"], \"textfont\": {\"color\": \"#4D5663\"}, \"type\": \"scatter\", \"uid\": \"200a4d59-3b4c-4259-b819-f7ef60c5593c\", \"x\": [0.1602064568363526], \"y\": [1.270316769557737]}, {\"marker\": {\"color\": \"rgba(0, 128, 128, 1.0)\", \"line\": {\"width\": 1.3}, \"opacity\": 0.8, \"size\": [69], \"symbol\": \"circle\"}, \"mode\": \"markers\", \"name\": \"Delhi Daredevils\", \"text\": [\"Delhi Daredevils\"], \"textfont\": {\"color\": \"#4D5663\"}, \"type\": \"scatter\", \"uid\": \"2ba745d3-ebb4-45fc-8408-673cb99e8618\", \"x\": [0.15751091238156073], \"y\": [1.2304375598850208]}, {\"marker\": {\"color\": \"rgba(255, 255, 51, 1.0)\", \"line\": {\"width\": 1.3}, \"opacity\": 0.8, \"size\": [54], \"symbol\": \"circle\"}, \"mode\": \"markers\", \"name\": \"Rajasthan Royals\", \"text\": [\"Rajasthan Royals\"], \"textfont\": {\"color\": \"#4D5663\"}, \"type\": \"scatter\", \"uid\": \"a90e760c-cea5-4ace-b312-7fbae8b8257f\", \"x\": [0.15706685172334028], \"y\": [1.2341545223224613]}, {\"marker\": {\"color\": \"rgba(128, 128, 0, 1.0)\", \"line\": {\"width\": 1.3}, \"opacity\": 0.8, \"size\": [12], \"symbol\": \"circle\"}, \"mode\": \"markers\", \"name\": \"Sunrisers Hyderabad\", \"text\": [\"Sunrisers Hyderabad\"], \"textfont\": {\"color\": \"#4D5663\"}, \"type\": \"scatter\", \"uid\": \"0f8cc546-bf2c-42b7-aba3-66e4ce4e7ac0\", \"x\": [0.1531608304927177], \"y\": [1.25890920359467]}],\n",
       "                        {\"legend\": {\"bgcolor\": \"#F5F6F9\", \"font\": {\"color\": \"#4D5663\"}}, \"paper_bgcolor\": \"#F5F6F9\", \"plot_bgcolor\": \"#F5F6F9\", \"title\": {\"font\": {\"color\": \"#4D5663\"}}, \"xaxis\": {\"gridcolor\": \"#E1E5ED\", \"showgrid\": true, \"tickfont\": {\"color\": \"#4D5663\"}, \"title\": {\"font\": {\"color\": \"#4D5663\"}, \"text\": \"Hard Hit\"}, \"zerolinecolor\": \"#E1E5ED\"}, \"yaxis\": {\"gridcolor\": \"#E1E5ED\", \"showgrid\": true, \"tickfont\": {\"color\": \"#4D5663\"}, \"title\": {\"font\": {\"color\": \"#4D5663\"}, \"text\": \"Fast Scoring Ability\"}, \"zerolinecolor\": \"#E1E5ED\"}},\n",
       "                        {\"showLink\": true, \"linkText\": \"Export to plot.ly\", \"plotlyServerURL\": \"https://plot.ly\", \"responsive\": true}\n",
       "                    ).then(function(){\n",
       "                            \n",
       "var gd = document.getElementById('fd89eea6-53e1-4be4-ab53-e315646d90da');\n",
       "var x = new MutationObserver(function (mutations, observer) {{\n",
       "        var display = window.getComputedStyle(gd).display;\n",
       "        if (!display || display === 'none') {{\n",
       "            console.log([gd, 'removed!']);\n",
       "            Plotly.purge(gd);\n",
       "            observer.disconnect();\n",
       "        }}\n",
       "}});\n",
       "\n",
       "// Listen for the removal of the full notebook cells\n",
       "var notebookContainer = gd.closest('#notebook-container');\n",
       "if (notebookContainer) {{\n",
       "    x.observe(notebookContainer, {childList: true});\n",
       "}}\n",
       "\n",
       "// Listen for the clearing of the current output cell\n",
       "var outputEl = gd.closest('.output');\n",
       "if (outputEl) {{\n",
       "    x.observe(outputEl, {childList: true});\n",
       "}}\n",
       "\n",
       "                        })\n",
       "                };\n",
       "                });\n",
       "            </script>\n",
       "        </div>"
      ]
     },
     "metadata": {},
     "output_type": "display_data"
    }
   ],
   "source": [
    "hh = hard_hit(ball_data.copy(), batter='batting_team')\n",
    "fs = fast_scoring(ball_data.copy(), batter='batting_team')\n",
    "hh_100 = hh[hh['Number of Balls Faced']>10000]\n",
    "fs_100 = fs[fs['Number of Balls Faced']>10000]\n",
    "out = pd.merge(hh_100, fs_100, how='inner', on=['batting_team','Number of Balls Faced'])\n",
    "\n",
    "out.iplot(kind='bubble', x='Hard Hit', y='Fast Scoring', categories='batting_team', size='runs', text='batting_team',\n",
    "          xTitle='Hard Hit', yTitle='Fast Scoring Ability', filename='cufflinks/simple-bubble-chart')"
   ]
  },
  {
   "cell_type": "code",
   "execution_count": 32,
   "metadata": {},
   "outputs": [
    {
     "data": {
      "text/html": [
       "<div>\n",
       "<style scoped>\n",
       "    .dataframe tbody tr th:only-of-type {\n",
       "        vertical-align: middle;\n",
       "    }\n",
       "\n",
       "    .dataframe tbody tr th {\n",
       "        vertical-align: top;\n",
       "    }\n",
       "\n",
       "    .dataframe thead th {\n",
       "        text-align: right;\n",
       "    }\n",
       "</style>\n",
       "<table border=\"1\" class=\"dataframe\">\n",
       "  <thead>\n",
       "    <tr style=\"text-align: right;\">\n",
       "      <th></th>\n",
       "      <th>batting_team</th>\n",
       "      <th>Number of Balls Faced</th>\n",
       "      <th>runs</th>\n",
       "      <th>Fast Scoring</th>\n",
       "    </tr>\n",
       "  </thead>\n",
       "  <tbody>\n",
       "    <tr>\n",
       "      <th>2</th>\n",
       "      <td>Delhi Capitals</td>\n",
       "      <td>1909</td>\n",
       "      <td>2530</td>\n",
       "      <td>1.325301</td>\n",
       "    </tr>\n",
       "    <tr>\n",
       "      <th>4</th>\n",
       "      <td>Gujarat Lions</td>\n",
       "      <td>3566</td>\n",
       "      <td>4629</td>\n",
       "      <td>1.298093</td>\n",
       "    </tr>\n",
       "    <tr>\n",
       "      <th>13</th>\n",
       "      <td>Royal Challengers Bangalore</td>\n",
       "      <td>20908</td>\n",
       "      <td>26775</td>\n",
       "      <td>1.280610</td>\n",
       "    </tr>\n",
       "    <tr>\n",
       "      <th>0</th>\n",
       "      <td>Chennai Super Kings</td>\n",
       "      <td>19762</td>\n",
       "      <td>25104</td>\n",
       "      <td>1.270317</td>\n",
       "    </tr>\n",
       "    <tr>\n",
       "      <th>5</th>\n",
       "      <td>Kings XI Punjab</td>\n",
       "      <td>20931</td>\n",
       "      <td>26468</td>\n",
       "      <td>1.264536</td>\n",
       "    </tr>\n",
       "    <tr>\n",
       "      <th>14</th>\n",
       "      <td>Sunrisers Hyderabad</td>\n",
       "      <td>12908</td>\n",
       "      <td>16250</td>\n",
       "      <td>1.258909</td>\n",
       "    </tr>\n",
       "    <tr>\n",
       "      <th>11</th>\n",
       "      <td>Rising Pune Supergiant</td>\n",
       "      <td>1900</td>\n",
       "      <td>2370</td>\n",
       "      <td>1.247368</td>\n",
       "    </tr>\n",
       "    <tr>\n",
       "      <th>8</th>\n",
       "      <td>Mumbai Indians</td>\n",
       "      <td>22619</td>\n",
       "      <td>28164</td>\n",
       "      <td>1.245148</td>\n",
       "    </tr>\n",
       "    <tr>\n",
       "      <th>12</th>\n",
       "      <td>Rising Pune Supergiants</td>\n",
       "      <td>1580</td>\n",
       "      <td>1962</td>\n",
       "      <td>1.241772</td>\n",
       "    </tr>\n",
       "    <tr>\n",
       "      <th>7</th>\n",
       "      <td>Kolkata Knight Riders</td>\n",
       "      <td>20858</td>\n",
       "      <td>25895</td>\n",
       "      <td>1.241490</td>\n",
       "    </tr>\n",
       "    <tr>\n",
       "      <th>10</th>\n",
       "      <td>Rajasthan Royals</td>\n",
       "      <td>17292</td>\n",
       "      <td>21341</td>\n",
       "      <td>1.234155</td>\n",
       "    </tr>\n",
       "    <tr>\n",
       "      <th>3</th>\n",
       "      <td>Delhi Daredevils</td>\n",
       "      <td>18786</td>\n",
       "      <td>23115</td>\n",
       "      <td>1.230438</td>\n",
       "    </tr>\n",
       "    <tr>\n",
       "      <th>1</th>\n",
       "      <td>Deccan Chargers</td>\n",
       "      <td>9034</td>\n",
       "      <td>10885</td>\n",
       "      <td>1.204893</td>\n",
       "    </tr>\n",
       "    <tr>\n",
       "      <th>6</th>\n",
       "      <td>Kochi Tuskers Kerala</td>\n",
       "      <td>1582</td>\n",
       "      <td>1758</td>\n",
       "      <td>1.111252</td>\n",
       "    </tr>\n",
       "    <tr>\n",
       "      <th>9</th>\n",
       "      <td>Pune Warriors</td>\n",
       "      <td>5443</td>\n",
       "      <td>6040</td>\n",
       "      <td>1.109682</td>\n",
       "    </tr>\n",
       "  </tbody>\n",
       "</table>\n",
       "</div>"
      ],
      "text/plain": [
       "                   batting_team  Number of Balls Faced   runs  Fast Scoring\n",
       "2                Delhi Capitals                   1909   2530      1.325301\n",
       "4                 Gujarat Lions                   3566   4629      1.298093\n",
       "13  Royal Challengers Bangalore                  20908  26775      1.280610\n",
       "0           Chennai Super Kings                  19762  25104      1.270317\n",
       "5               Kings XI Punjab                  20931  26468      1.264536\n",
       "14          Sunrisers Hyderabad                  12908  16250      1.258909\n",
       "11       Rising Pune Supergiant                   1900   2370      1.247368\n",
       "8                Mumbai Indians                  22619  28164      1.245148\n",
       "12      Rising Pune Supergiants                   1580   1962      1.241772\n",
       "7         Kolkata Knight Riders                  20858  25895      1.241490\n",
       "10             Rajasthan Royals                  17292  21341      1.234155\n",
       "3              Delhi Daredevils                  18786  23115      1.230438\n",
       "1               Deccan Chargers                   9034  10885      1.204893\n",
       "6          Kochi Tuskers Kerala                   1582   1758      1.111252\n",
       "9                 Pune Warriors                   5443   6040      1.109682"
      ]
     },
     "execution_count": 32,
     "metadata": {},
     "output_type": "execute_result"
    }
   ],
   "source": [
    "fs_100"
   ]
  },
  {
   "cell_type": "code",
   "execution_count": null,
   "metadata": {},
   "outputs": [],
   "source": []
  }
 ],
 "metadata": {
  "kernelspec": {
   "display_name": "PyCharm (ECE143Project)",
   "language": "python",
   "name": "pycharm-2bbe9730"
  },
  "language_info": {
   "codemirror_mode": {
    "name": "ipython",
    "version": 3
   },
   "file_extension": ".py",
   "mimetype": "text/x-python",
   "name": "python",
   "nbconvert_exporter": "python",
   "pygments_lexer": "ipython3",
   "version": "3.6.7"
  },
  "pycharm": {
   "stem_cell": {
    "cell_type": "raw",
    "metadata": {
     "collapsed": false
    },
    "source": []
   }
  }
 },
 "nbformat": 4,
 "nbformat_minor": 1
}
