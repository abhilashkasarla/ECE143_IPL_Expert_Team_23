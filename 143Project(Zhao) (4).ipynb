{
 "cells": [
  {
   "cell_type": "code",
   "execution_count": 1,
   "metadata": {},
   "outputs": [],
   "source": [
    "import pandas as pd\n",
    "import plotly.plotly as py\n",
    "import plotly.graph_objs as go\n",
    "import plotly\n",
    "import cufflinks as cf\n",
    "import colorlover as cl\n",
    "import bokeh\n",
    "import numpy as np\n",
    "from bokeh.io import output_file, show\n",
    "from bokeh.models import HoverTool\n",
    "from bokeh.plotting import figure"
   ]
  },
  {
   "cell_type": "code",
   "execution_count": 2,
   "metadata": {},
   "outputs": [],
   "source": [
    "plotly.tools.set_credentials_file(username='ryanzhao9459', api_key='0rWuTS32zBMaefc0mWUj')"
   ]
  },
  {
   "cell_type": "code",
   "execution_count": 3,
   "metadata": {},
   "outputs": [],
   "source": [
    "file = pd.read_csv('match.csv')"
   ]
  },
  {
   "cell_type": "code",
   "execution_count": 4,
   "metadata": {},
   "outputs": [],
   "source": [
    "file_1 = pd.read_csv('team_performance.csv')"
   ]
  },
  {
   "cell_type": "code",
   "execution_count": 5,
   "metadata": {},
   "outputs": [],
   "source": [
    "file_2 = pd.read_csv('players_age_wiki.csv')"
   ]
  },
  {
   "cell_type": "code",
   "execution_count": 6,
   "metadata": {},
   "outputs": [],
   "source": [
    "file_3 = pd.read_csv('2018_ages.csv')"
   ]
  },
  {
   "cell_type": "code",
   "execution_count": 7,
   "metadata": {},
   "outputs": [],
   "source": [
    "file_4 = pd.read_csv('2019_ages.csv')"
   ]
  },
  {
   "cell_type": "markdown",
   "metadata": {},
   "source": [
    "## Data processing"
   ]
  },
  {
   "cell_type": "markdown",
   "metadata": {},
   "source": [
    "heatmap"
   ]
  },
  {
   "cell_type": "code",
   "execution_count": 8,
   "metadata": {},
   "outputs": [],
   "source": [
    "team_name_rank = ['Royal Challengers Bangalore','Kings XI Punjab','Mumbai Indians','Kolkata Knight Riders',\\\n",
    "                 'Chennai Super Kings','Delhi Capitals','Rajasthan Royals','Sunrisers Hyderabad']\n",
    "table = file.loc[:,['team1','team2','winner']]\n",
    "grp = table.groupby('team1')"
   ]
  },
  {
   "cell_type": "code",
   "execution_count": 9,
   "metadata": {},
   "outputs": [],
   "source": [
    "def sort_name(team_name):\n",
    "    team_name_sort = []\n",
    "    for i in range(len(team_name)):\n",
    "        l1 = team_name[i].split()\n",
    "        lala = l1[0] + ' '\n",
    "        for j in range(1,len(l1)):\n",
    "            lulu = l1[j][0]\n",
    "            lala = lala + lulu+'.'\n",
    "        a = ''.join(lala)\n",
    "        team_name_sort.append(a)\n",
    "    return team_name_sort"
   ]
  },
  {
   "cell_type": "code",
   "execution_count": 10,
   "metadata": {},
   "outputs": [],
   "source": [
    "team_name_sort =sort_name(team_name_rank)"
   ]
  },
  {
   "cell_type": "code",
   "execution_count": 11,
   "metadata": {},
   "outputs": [],
   "source": [
    "def win_heatmap(grp,team_name):\n",
    "    \n",
    "    result = [[0]*8 for x in range(8)]\n",
    "    total_win = []\n",
    "\n",
    "    for (i,m) in enumerate(team_name):\n",
    "        grp1 = grp.get_group(m)\n",
    "        grp2 = grp1.groupby('team2')\n",
    "        p = 0\n",
    "        q = 0\n",
    "        for (j,n) in enumerate(team_name):\n",
    "            grp4 = grp.get_group(n)\n",
    "            grp5 = grp4.groupby('team2')\n",
    "            num_1 = list(grp1['team2']).count(n)\n",
    "            num_2 = list(grp4['team2']).count(m)\n",
    "            if m == n or num_1 == 0 or num_2 == 0:\n",
    "                result[i][j] = '-'\n",
    "            else:\n",
    "                grp3 = grp2.get_group(n)\n",
    "                grp6 = grp5.get_group(m)\n",
    "                result[i][j] = (list(grp3['winner']).count(m)+list(grp6['winner']).count(m))/ \\\n",
    "                                        (len(list(grp3['winner']))+len(list(grp6['winner'])))\n",
    "                p = p + list(grp3['winner']).count(m)+list(grp6['winner']).count(m)\n",
    "                q = q + len(list(grp3['winner']))+len(list(grp6['winner']))\n",
    "        total_win.append(p/q)\n",
    "    return result,total_win"
   ]
  },
  {
   "cell_type": "code",
   "execution_count": 12,
   "metadata": {},
   "outputs": [],
   "source": [
    "result ,total_win = win_heatmap(grp,team_name_rank)"
   ]
  },
  {
   "cell_type": "markdown",
   "metadata": {},
   "source": [
    "bar(toss)"
   ]
  },
  {
   "cell_type": "code",
   "execution_count": 13,
   "metadata": {
    "scrolled": true
   },
   "outputs": [],
   "source": [
    "toss_decisions = file[['toss_winner', 'toss_decision', 'id']].\\\n",
    "                        groupby(['toss_winner', 'toss_decision']).agg({'id': 'count'})\n",
    "\n",
    "toss_decisions.head(3)\n",
    "toss_decisions = toss_decisions.groupby(level=0).apply(lambda x: 100 * x / float(x.sum()))"
   ]
  },
  {
   "cell_type": "code",
   "execution_count": 14,
   "metadata": {
    "scrolled": false
   },
   "outputs": [],
   "source": [
    "sb3 = pd.DataFrame(data = total_win,columns=['Win rate total'],index = team_name_rank)\n",
    "sb3.sort_index(inplace=True)\n",
    "sb3 = sb3.apply(lambda x: 100 * x)"
   ]
  },
  {
   "cell_type": "markdown",
   "metadata": {},
   "source": [
    "line(rank)"
   ]
  },
  {
   "cell_type": "code",
   "execution_count": 15,
   "metadata": {},
   "outputs": [],
   "source": [
    "def rank(file):\n",
    "    team_name = ['Royal Challengers Bangalore','Kings XI Punjab','Mumbai Indians','Kolkata Knight Riders',\\\n",
    "                 'Chennai Super Kings','Delhi Capitals','Rajasthan Royals','Sunrisers Hyderabad']\n",
    "    year = sorted(list(set(file['year'])))\n",
    "    grp = file.loc[:,['year','Team']]\n",
    "    grp1 = grp.groupby('year')\n",
    "    result = [[0]*len(year) for x in range(len(team_name))]\n",
    "\n",
    "    for i in range(len(year)):\n",
    "        grp2 = grp1.get_group(year[i])\n",
    "        for j in range(len(team_name)):\n",
    "            if team_name[j] in list(grp2['Team']):\n",
    "                result[j][i] = list(grp2['Team']).index(team_name[j]) + 1\n",
    "            else:\n",
    "                result[j][i] = '-'\n",
    "    return result"
   ]
  },
  {
   "cell_type": "code",
   "execution_count": 16,
   "metadata": {
    "scrolled": true
   },
   "outputs": [],
   "source": [
    "result_rank = rank(file_1)"
   ]
  },
  {
   "cell_type": "markdown",
   "metadata": {},
   "source": [
    "age"
   ]
  },
  {
   "cell_type": "code",
   "execution_count": 17,
   "metadata": {
    "scrolled": true
   },
   "outputs": [],
   "source": [
    "short_names = {'Chennai Super Kings':'CSK', 'Delhi Capitals': 'DD', 'Kings XI Punjab' :'KXIP',\n",
    "              'Mumbai Indians':'MI', 'Rajasthan Royals':'RR', 'Royal Challengers Bangalore':'RCB',\n",
    "              'Sunrisers Hyderabad': 'SRH', 'Kolkata Knight Riders': 'KKR'}\n",
    "new_dict = {v:k for k,v in short_names.items()}"
   ]
  },
  {
   "cell_type": "code",
   "execution_count": 18,
   "metadata": {
    "scrolled": true
   },
   "outputs": [],
   "source": [
    "table_age = file_2.loc[:,['team_name','2018']]\n",
    "table_age = table_age.drop([0,4,6,10,12,13,14])\n",
    "team_name_age_1 = list(table_age['team_name'])\n",
    "grp1 = file_3.groupby('2018')"
   ]
  },
  {
   "cell_type": "code",
   "execution_count": 19,
   "metadata": {},
   "outputs": [],
   "source": [
    "def age(grp,team):\n",
    "    result = [[],[]]\n",
    "    for i in team:\n",
    "        grp2 = grp.get_group(i)\n",
    "        result[0].append(min(list(grp2['age_2018'])))\n",
    "        result[1].append(max(list(grp2['age_2018'])))\n",
    "    return result"
   ]
  },
  {
   "cell_type": "code",
   "execution_count": 20,
   "metadata": {},
   "outputs": [],
   "source": [
    "result_age = age(grp1,team_name_age_1)"
   ]
  },
  {
   "cell_type": "code",
   "execution_count": 21,
   "metadata": {},
   "outputs": [],
   "source": [
    "team_name_age = [new_dict[i] for i in team_name_age_1]"
   ]
  },
  {
   "cell_type": "markdown",
   "metadata": {},
   "source": [
    "### plot"
   ]
  },
  {
   "cell_type": "markdown",
   "metadata": {},
   "source": [
    "heatmap"
   ]
  },
  {
   "cell_type": "code",
   "execution_count": 22,
   "metadata": {
    "scrolled": false
   },
   "outputs": [
    {
     "name": "stderr",
     "output_type": "stream",
     "text": [
      "C:\\Users\\ryanz\\Anaconda3\\lib\\site-packages\\IPython\\core\\display.py:689: UserWarning:\n",
      "\n",
      "Consider using IPython.display.IFrame instead\n",
      "\n"
     ]
    },
    {
     "data": {
      "text/html": [
       "<iframe id=\"igraph\" scrolling=\"no\" style=\"border:none;\" seamless=\"seamless\" src=\"https://plot.ly/~ryanzhao9459/136.embed\" height=\"700px\" width=\"900px\"></iframe>"
      ],
      "text/plain": [
       "<chart_studio.tools.PlotlyDisplay object>"
      ]
     },
     "execution_count": 22,
     "metadata": {},
     "output_type": "execute_result"
    }
   ],
   "source": [
    "data = [go.Heatmap(z = result,x=team_name_sort,y=team_name_sort,colorscale='Reds')]\n",
    "layout = go.Layout(\n",
    "    title = dict(text = 'Head to Head',\n",
    "                 font = dict(family='Times New Roman, monospace', size=20, color='#000000'),\n",
    "                 x = 0,\n",
    "                 xref = 'paper'),\n",
    "    width = 900, height = 700,\n",
    "    xaxis = dict(tickfont = dict(family = 'Old Standard TT, serif',\n",
    "                 size = 12,\n",
    "                 color = 'black'),\n",
    "                 tickangle = 30),\n",
    "    yaxis = dict(tickfont = dict(family = 'Old Standard TT, serif',\n",
    "                 size = 12,\n",
    "                 color = 'black'))\n",
    ")\n",
    "fig = go.Figure(data = data, layout = layout)\n",
    "py.iplot(fig)\n",
    "# url_heat = py.iplot(fig)\n",
    "# url_heat.resource"
   ]
  },
  {
   "cell_type": "markdown",
   "metadata": {},
   "source": [
    "bar"
   ]
  },
  {
   "cell_type": "code",
   "execution_count": 26,
   "metadata": {
    "scrolled": false
   },
   "outputs": [
    {
     "data": {
      "text/html": [
       "<iframe id=\"igraph\" scrolling=\"no\" style=\"border:none;\" seamless=\"seamless\" src=\"https://plot.ly/~ryanzhao9459/138.embed\" height=\"525px\" width=\"100%\"></iframe>"
      ],
      "text/plain": [
       "<chart_studio.tools.PlotlyDisplay object>"
      ]
     },
     "execution_count": 26,
     "metadata": {},
     "output_type": "execute_result"
    }
   ],
   "source": [
    "index = [0,4,7,3,5,2,6,1]\n",
    "a = list(sb3.index)\n",
    "a = [a[i] for i in index]\n",
    "a = sort_name(a)\n",
    "b = list(sb3.values)\n",
    "b = [b[i] for i in index]\n",
    "\n",
    "trace1 = go.Scatter(\n",
    "    x = a,\n",
    "    y = b,\n",
    "    name = 'Winning rate',\n",
    "    marker = dict(color= 'rgba(219, 64, 82, 1.0)')\n",
    ")\n",
    "index = [0,7,-1,6,9,4,-2,2]\n",
    "b = list(toss_decisions.id)[0::2]\n",
    "b = [b[i] for i in index]\n",
    "trace2 = go.Bar(\n",
    "    x = a,\n",
    "    y = b,\n",
    "    name = 'Bat',\n",
    "    width = [0.3, 0.3, 0.3, 0.3, 0.3, 0.3, 0.3, 0.3],\n",
    "    marker = dict(\n",
    "        color = 'rgba(219, 64, 82, 0.7)',\n",
    "        line=dict(color='rgba(219, 64, 82, 1.0)',width=2)\n",
    "    )\n",
    ")\n",
    "\n",
    "b = list(toss_decisions.id)[1::2]\n",
    "b = [b[i] for i in index]\n",
    "\n",
    "trace3 = go.Bar(\n",
    "    x = a,\n",
    "    y = b,\n",
    "    name = 'Field',\n",
    "    width = [0.3, 0.3, 0.3, 0.3, 0.3, 0.3, 0.3, 0.3],\n",
    "    marker = dict(\n",
    "        color = 'rgba(55, 128, 191, 0.7)',\n",
    "        line = dict(color='rgba(55, 128, 191, 1.0)',width=2),\n",
    "    )\n",
    ")\n",
    "#292942\n",
    "data = [trace1, trace2, trace3]\n",
    "layout = go.Layout(\n",
    "    title=dict(text = 'Toss result',\n",
    "               font = dict(family='Times New Roman, monospace', size=20, color='#000000'),\n",
    "               x = 0,\n",
    "               xref = 'paper'\n",
    "               ),\n",
    "    xaxis = dict(tickangle = 30,\n",
    "                 tickfont = dict(family='Times New Roman, monospace', size=12, color='#000000')\n",
    "                 ),\n",
    "    yaxis = dict(title = 'Percent',range = [0,100],\n",
    "                 titlefont = dict(family='Times New Roman, monospace', size=16, color='#000000'),\n",
    "                 tickfont = dict(family='Times New Roman, monospace', size=12, color='#000000')),\n",
    ")\n",
    "fig = go.Figure(data=data, layout=layout)\n",
    "py.iplot(fig,filename='bar-line')\n",
    "# url_bar = py.iplot(fig,filename='bar-line')\n",
    "# url_bar.resource"
   ]
  },
  {
   "cell_type": "markdown",
   "metadata": {},
   "source": [
    "rank"
   ]
  },
  {
   "cell_type": "code",
   "execution_count": 24,
   "metadata": {
    "scrolled": false
   },
   "outputs": [
    {
     "data": {
      "text/html": [
       "<iframe id=\"igraph\" scrolling=\"no\" style=\"border:none;\" seamless=\"seamless\" src=\"https://plot.ly/~ryanzhao9459/140.embed\" height=\"525px\" width=\"100%\"></iframe>"
      ],
      "text/plain": [
       "<chart_studio.tools.PlotlyDisplay object>"
      ]
     },
     "execution_count": 24,
     "metadata": {},
     "output_type": "execute_result"
    }
   ],
   "source": [
    "data = []\n",
    "for i in range(len(result_rank)):\n",
    "    data.append(go.Scatter(\n",
    "        x = list(range(2008,2020)),\n",
    "        y = list(result_rank[i]),\n",
    "        name = team_name_rank[i],\n",
    "    ))\n",
    "\n",
    "\n",
    "layout = go.Layout(\n",
    "  annotations = [\n",
    "    dict(\n",
    "      x = 2007.5,\n",
    "      y = 2,\n",
    "      showarrow = False,\n",
    "      text = \"Top Four\",\n",
    "      xref = \"paper\",\n",
    "      yref = \"paper\"\n",
    "    ),\n",
    "    dict(\n",
    "      x = 2007.5,\n",
    "      y = 6,\n",
    "      showarrow = False,\n",
    "      text = \"trash\",\n",
    "      xref = \"paper\",\n",
    "      yref = \"paper\"\n",
    "    )\n",
    "  ],\n",
    "  showlegend = True,\n",
    "  title = dict(text = \"Ranking\",x=0,xref = 'paper',\n",
    "              font = dict(family='Times New Roman, monospace', size=20, color='#000000')),\n",
    "  yaxis = dict(range=[10.5, 0]),\n",
    "  xaxis = dict(showgrid=False)\n",
    ")\n",
    "\n",
    "fig = go.Figure(data=data, layout=layout)\n",
    "py.iplot(fig,filename='rank')\n",
    "# url_rank = py.iplot(fig,filename='rank')\n",
    "# url_rank.resource"
   ]
  },
  {
   "cell_type": "markdown",
   "metadata": {},
   "source": [
    "age"
   ]
  },
  {
   "cell_type": "code",
   "execution_count": 25,
   "metadata": {},
   "outputs": [
    {
     "data": {
      "text/html": [
       "<iframe id=\"igraph\" scrolling=\"no\" style=\"border:none;\" seamless=\"seamless\" src=\"https://plot.ly/~ryanzhao9459/142.embed\" height=\"525px\" width=\"100%\"></iframe>"
      ],
      "text/plain": [
       "<chart_studio.tools.PlotlyDisplay object>"
      ]
     },
     "execution_count": 25,
     "metadata": {},
     "output_type": "execute_result"
    }
   ],
   "source": [
    "trace1 = go.Scatter(\n",
    "                x = team_name_age,\n",
    "                y = list(table_age['2018']),\n",
    "                fill = 'tonexty',\n",
    "                line = dict(width=0.5,color='rgb(131, 90, 241)'),\n",
    "                mode = 'lines')\n",
    "trace0 = go.Scatter(\n",
    "                x = team_name_age,\n",
    "                y = result_age[0],\n",
    "                fill = None,\n",
    "                line = dict(width=0.5,color='rgb(111, 231, 219)'),\n",
    "                mode = 'lines')\n",
    "trace2 = go.Scatter(\n",
    "                x = team_name_age,\n",
    "                y = result_age[1],\n",
    "                fill = 'tonexty',\n",
    "                line = dict(width=0.5,color='rgb(111, 231, 219)'),\n",
    "                mode = 'lines')\n",
    "layout = go.Layout(\n",
    "                title = dict(text = 'Age',\n",
    "                             font = dict(family='Times New Roman, monospace', size=20, color='#000000'),\n",
    "                             x = 0,\n",
    "                             xref = 'paper'),\n",
    "                yaxis = dict(range=[15,40]))\n",
    "data = [trace0,trace1,trace2]\n",
    "fig = go.Figure(data = data,layout = layout)\n",
    "py.iplot(fig)"
   ]
  }
 ],
 "metadata": {
  "kernelspec": {
   "display_name": "Python 3",
   "language": "python",
   "name": "python3"
  },
  "language_info": {
   "codemirror_mode": {
    "name": "ipython",
    "version": 3
   },
   "file_extension": ".py",
   "mimetype": "text/x-python",
   "name": "python",
   "nbconvert_exporter": "python",
   "pygments_lexer": "ipython3",
   "version": "3.7.1"
  }
 },
 "nbformat": 4,
 "nbformat_minor": 2
}
