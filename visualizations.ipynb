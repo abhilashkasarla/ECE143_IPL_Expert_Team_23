{
 "cells": [
  {
   "cell_type": "markdown",
   "metadata": {},
   "source": [
    "# Visualizations for IPL data 2008 - 2019"
   ]
  },
  {
   "cell_type": "code",
   "execution_count": null,
   "metadata": {},
   "outputs": [],
   "source": [
    "# imports\n",
    "import numpy as np\n",
    "import pandas as pd\n",
    "import matplotlib.pyplot as plt"
   ]
  },
  {
   "cell_type": "markdown",
   "metadata": {},
   "source": [
    "# import data"
   ]
  },
  {
   "cell_type": "code",
   "execution_count": null,
   "metadata": {},
   "outputs": [],
   "source": [
    "# importing the crawled data which are in csv files\n",
    "data_folder = 'data/'\n",
    "matches = pd.read_csv(data_folder + 'match_results.csv')"
   ]
  },
  {
   "cell_type": "code",
   "execution_count": null,
   "metadata": {},
   "outputs": [],
   "source": [
    "matches.head()"
   ]
  },
  {
   "cell_type": "markdown",
   "metadata": {},
   "source": [
    "# Pre-processing data"
   ]
  },
  {
   "cell_type": "code",
   "execution_count": null,
   "metadata": {},
   "outputs": [],
   "source": [
    "# Replacing team names with their latest ones\n",
    "# as some teams changed their name in between\n",
    "def preprocess_team_names(df):\n",
    "    '''method for preprocessing team names\n",
    "    '''\n",
    "    df.replace('Rising Pune Supergiants', 'Rising Pune Supergiant', inplace=True)\n",
    "    df.replace('Delhi Daredevils', 'Delhi Capitals', inplace=True)\n",
    "\n",
    "preprocess_team_names(matches)\n",
    "print('All teams: ', matches['team1'].unique())\n",
    "print('Total number of teams(2008-2019): ', len(matches['team1'].unique()))"
   ]
  },
  {
   "cell_type": "markdown",
   "metadata": {},
   "source": [
    "# Toss analysis"
   ]
  },
  {
   "cell_type": "code",
   "execution_count": null,
   "metadata": {},
   "outputs": [],
   "source": [
    "team = 'Sunrisers Hyderabad'\n",
    "# related matches\n",
    "rltd_mtchs = matches[(matches['team1']==team) | (matches['team2']==team)]\n",
    "# rltd_mtchs"
   ]
  },
  {
   "cell_type": "code",
   "execution_count": null,
   "metadata": {},
   "outputs": [],
   "source": [
    "# toss_decisions = matches[['toss_winner', 'toss_decision', 'id']].groupby(['toss_winner', 'toss_decision']).count()\n",
    "toss_decisions = matches[['toss_winner', 'toss_decision', 'id']].\\\n",
    "                        groupby(['toss_winner', 'toss_decision']).agg({'id': 'count'})\n",
    "\n",
    "toss_decisions.head(3)\n",
    "toss_decisions = toss_decisions.groupby(level=0).apply(lambda x: 100 * x / float(x.sum()))\n",
    "toss_decisions"
   ]
  },
  {
   "cell_type": "code",
   "execution_count": null,
   "metadata": {},
   "outputs": [],
   "source": [
    "# toss_decisions.plot.bar()\n",
    "ax = toss_decisions.unstack().plot(kind='bar', rot=45, figsize=(15,7), fontsize=10)\n",
    "# ax = toss_decisions.unstack().plot(kind='barh', rot=0, figsize=(5,10), legend=False, grid=True)\n",
    "ax.legend(['Batted', 'Chased'])\n",
    "ax.set_title('After winning the toss')\n",
    "# ax.yaxis.set_visible(False)\n",
    "# ax.set_yticklabels([])\n",
    "\n",
    "# set individual bar lables using above list\n",
    "for i in ax.patches:\n",
    "    # get_x pulls left or right; get_height pushes up or down\n",
    "    ax.text(i.get_x()-.03, i.get_height()+.5, \\\n",
    "            str(int(round((i.get_height()/100)*100)))+'%', fontsize=10,\n",
    "                color='black')"
   ]
  },
  {
   "cell_type": "code",
   "execution_count": null,
   "metadata": {},
   "outputs": [],
   "source": [
    "# toss_decisions.unstack()"
   ]
  },
  {
   "cell_type": "markdown",
   "metadata": {},
   "source": [
    "# Analyze ball by ball data"
   ]
  },
  {
   "cell_type": "code",
   "execution_count": null,
   "metadata": {},
   "outputs": [],
   "source": [
    "ball_data = pd.read_csv(data_folder + 'ball_by_ball_data.csv')\n",
    "preprocess_team_names(ball_data)"
   ]
  },
  {
   "cell_type": "code",
   "execution_count": null,
   "metadata": {},
   "outputs": [],
   "source": [
    "short_names = {'Chennai Super Kings':'CSK', 'Delhi Capitals': 'DC', 'Kings XI Punjab' :'KXIP', \n",
    "               'Mumbai Indians':'MI', 'Rajasthan Royals':'RR', 'Royal Challengers Bangalore':'RCB', \n",
    "               'Sunrisers Hyderabad': 'SRH', 'Kolkata Knight Riders': 'KKR'}"
   ]
  },
  {
   "cell_type": "code",
   "execution_count": null,
   "metadata": {},
   "outputs": [],
   "source": [
    "ball_data.head()"
   ]
  },
  {
   "cell_type": "code",
   "execution_count": null,
   "metadata": {},
   "outputs": [],
   "source": [
    "ball_data.batting_team.unique()"
   ]
  },
  {
   "cell_type": "code",
   "execution_count": null,
   "metadata": {},
   "outputs": [],
   "source": [
    "# ball_data.groupby('batting_team')['batsman'].nunique()\n",
    "# ball_data.groupby('bowling_team')['bowler'].nunique()"
   ]
  },
  {
   "cell_type": "code",
   "execution_count": null,
   "metadata": {},
   "outputs": [],
   "source": [
    "strikers = ball_data[['match_id', 'batting_team', 'batsman']].copy()\n",
    "non_strikers = ball_data[['match_id', 'batting_team', 'non_striker']].copy()\n",
    "non_strikers.rename(columns={'non_striker':'batsman'}, inplace=True)\n",
    "all_batsman = pd.concat([strikers, non_strikers], ignore_index=True)\n",
    "all_batsman.rename(columns={'batsman':'player', 'batting_team':'team'}, inplace=True)"
   ]
  },
  {
   "cell_type": "code",
   "execution_count": null,
   "metadata": {},
   "outputs": [],
   "source": [
    "all_bowlers = ball_data[['match_id', 'bowling_team', 'bowler']].copy()\n",
    "all_bowlers.rename(columns={'bowler':'player', 'bowling_team':'team'}, inplace=True)"
   ]
  },
  {
   "cell_type": "code",
   "execution_count": null,
   "metadata": {},
   "outputs": [],
   "source": [
    "all_players = pd.concat([all_batsman, all_bowlers], ignore_index=True)"
   ]
  },
  {
   "cell_type": "code",
   "execution_count": null,
   "metadata": {
    "scrolled": true
   },
   "outputs": [],
   "source": [
    "all_players.groupby('team')['player'].nunique()"
   ]
  },
  {
   "cell_type": "code",
   "execution_count": null,
   "metadata": {},
   "outputs": [],
   "source": [
    "d = {'match_id':'Total matches', 'player':'Number of players used'}\n",
    "all_players = all_players.replace(short_names)\n",
    "used_players = all_players.groupby('team').agg({'match_id':pd.Series.nunique, 'player':pd.Series.nunique}).rename(columns=d)"
   ]
  },
  {
   "cell_type": "code",
   "execution_count": null,
   "metadata": {},
   "outputs": [],
   "source": [
    "used_players = used_players[used_players['Total matches']>=100]\n",
    "used_players"
   ]
  },
  {
   "cell_type": "code",
   "execution_count": null,
   "metadata": {},
   "outputs": [],
   "source": [
    "used_players.index.size, used_players['Total matches'].values"
   ]
  },
  {
   "cell_type": "code",
   "execution_count": null,
   "metadata": {},
   "outputs": [],
   "source": [
    "def shorten_team_names(df):\n",
    "    '''method for shortening team names\n",
    "    '''"
   ]
  },
  {
   "cell_type": "code",
   "execution_count": null,
   "metadata": {},
   "outputs": [],
   "source": [
    "# y = np.arange(used_players.index.size)\n",
    "used_players.sort_values(by=['Number of players used'],inplace=True, ascending=False)\n",
    "y = used_players.index\n",
    "\n",
    "fig, axes = plt.subplots(ncols=2, sharey=True, figsize=(10,5))\n",
    "barlist1 = axes[0].barh(y, used_players['Total matches'].values, align='center', color='skyblue', zorder=10)\n",
    "axes[0].set_title('Matches played', loc='left', fontsize=15)\n",
    "barlist2 = axes[1].barh(y, used_players['Number of players used'].values, align='center', color='royalblue', zorder=10)\n",
    "axes[1].set_title('Players used', loc='left', fontsize=15)\n",
    "\n",
    "# axes[0].invert_xaxis()\n",
    "# axes[0].set(yticks=y, yticklabels=used_players.index)\n",
    "# axes[0].yaxis.tick_right()\n",
    "# axes[0].axis('off')\n",
    "# axes[1].axis('off')\n",
    "axes[0].set_frame_on(False)\n",
    "axes[1].set_frame_on(False)\n",
    "axes[0].tick_params(\n",
    "    axis='x',          # changes apply to the x-axis\n",
    "    which='both',      # both major and minor ticks are affected\n",
    "    bottom=False,      # ticks along the bottom edge are off\n",
    "    top=False,         # ticks along the top edge are off\n",
    "    labelbottom=False) # labels along the bottom edge are off\n",
    "\n",
    "axes[0].tick_params(axis=u'both', which=u'both',length=0)\n",
    "\n",
    "axes[1].tick_params(\n",
    "    axis='x',          # changes apply to the x-axis\n",
    "    which='both',      # both major and minor ticks are affected\n",
    "    bottom=False,      # ticks along the bottom edge are off\n",
    "    top=False,         # ticks along the top edge are off\n",
    "    labelbottom=False) # labels along the bottom edge are off\n",
    "axes[1].tick_params(axis=u'both', which=u'both',length=0)\n",
    "\n",
    "for ax in axes.flat:\n",
    "    ax.margins(0.09)\n",
    "#     ax.grid(True)\n",
    "\n",
    "for i, v in enumerate(used_players['Total matches'].values):\n",
    "    axes[0].text(v + 3, i , str(v), color='black') # fontweight='bold'\n",
    "\n",
    "for i, v in enumerate(used_players['Number of players used'].values):\n",
    "    axes[1].text(v + 3, i , str(v), color='black') # fontweight='bold'\n",
    "    \n",
    "fig.tight_layout()\n",
    "fig.subplots_adjust(wspace=0)\n",
    "barlist1[6].set_color('indianred')\n",
    "barlist2[6].set_color('indianred')\n",
    "plt.show()"
   ]
  },
  {
   "cell_type": "code",
   "execution_count": null,
   "metadata": {},
   "outputs": [],
   "source": [
    "used_players"
   ]
  }
 ],
 "metadata": {
  "kernelspec": {
   "display_name": "Python 3",
   "language": "python",
   "name": "python3"
  },
  "language_info": {
   "codemirror_mode": {
    "name": "ipython",
    "version": 3
   },
   "file_extension": ".py",
   "mimetype": "text/x-python",
   "name": "python",
   "nbconvert_exporter": "python",
   "pygments_lexer": "ipython3",
   "version": "3.7.0"
  }
 },
 "nbformat": 4,
 "nbformat_minor": 2
}
