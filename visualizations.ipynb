{
 "cells": [
  {
   "cell_type": "markdown",
   "metadata": {},
   "source": [
    "# Visualizations for IPL data 2008 - 2019"
   ]
  },
  {
   "cell_type": "code",
   "execution_count": null,
   "metadata": {},
   "outputs": [],
   "source": [
    "# imports\n",
    "import numpy as np\n",
    "import pandas as pd\n",
    "import matplotlib.pyplot as plt"
   ]
  },
  {
   "cell_type": "markdown",
   "metadata": {},
   "source": [
    "# import data"
   ]
  },
  {
   "cell_type": "code",
   "execution_count": null,
   "metadata": {},
   "outputs": [],
   "source": [
    "# importing the crawled data which are in csv files\n",
    "data_folder = 'data/'\n",
    "matches = pd.read_csv(data_folder + 'match_results.csv')"
   ]
  },
  {
   "cell_type": "code",
   "execution_count": null,
   "metadata": {},
   "outputs": [],
   "source": [
    "matches.head()"
   ]
  },
  {
   "cell_type": "markdown",
   "metadata": {},
   "source": [
    "# Pre-processing data"
   ]
  },
  {
   "cell_type": "code",
   "execution_count": null,
   "metadata": {},
   "outputs": [],
   "source": [
    "# Replacing team names with their latest ones\n",
    "# as some teams changed their name in between\n",
    "matches.replace('Rising Pune Supergiants', 'Rising Pune Supergiant', inplace=True)\n",
    "matches.replace('Delhi Daredevils', 'Delhi Capitals', inplace=True)\n",
    "print('All teams: ', matches['team1'].unique())\n",
    "print('Total number of teams(2008-2019): ', len(matches['team1'].unique()))"
   ]
  },
  {
   "cell_type": "markdown",
   "metadata": {},
   "source": [
    "# Toss analysis"
   ]
  },
  {
   "cell_type": "code",
   "execution_count": null,
   "metadata": {},
   "outputs": [],
   "source": [
    "team = 'Sunrisers Hyderabad'\n",
    "# related matches\n",
    "rltd_mtchs = matches[(matches['team1']==team) | (matches['team2']==team)]\n",
    "# rltd_mtchs"
   ]
  },
  {
   "cell_type": "code",
   "execution_count": null,
   "metadata": {},
   "outputs": [],
   "source": [
    "# toss_decisions = matches[['toss_winner', 'toss_decision', 'id']].groupby(['toss_winner', 'toss_decision']).count()\n",
    "toss_decisions = matches[['toss_winner', 'toss_decision', 'id']].\\\n",
    "                        groupby(['toss_winner', 'toss_decision']).agg({'id': 'count'})\n",
    "\n",
    "toss_decisions.head(3)\n",
    "toss_decisions = toss_decisions.groupby(level=0).apply(lambda x: 100 * x / float(x.sum()))\n",
    "toss_decisions"
   ]
  },
  {
   "cell_type": "code",
   "execution_count": null,
   "metadata": {},
   "outputs": [],
   "source": [
    "# toss_decisions.plot.bar()\n",
    "ax = toss_decisions.unstack().plot(kind='bar', rot=45, figsize=(15,7), fontsize=10)\n",
    "# ax = toss_decisions.unstack().plot(kind='barh', rot=0, figsize=(5,10), legend=False, grid=True)\n",
    "ax.legend(['Batted', 'Chased'])\n",
    "ax.set_title('After winning the toss')\n",
    "# ax.yaxis.set_visible(False)\n",
    "# ax.set_yticklabels([])\n",
    "\n",
    "# set individual bar lables using above list\n",
    "for i in ax.patches:\n",
    "    # get_x pulls left or right; get_height pushes up or down\n",
    "    ax.text(i.get_x()-.03, i.get_height()+.5, \\\n",
    "            str(int(round((i.get_height()/100)*100)))+'%', fontsize=10,\n",
    "                color='black')"
   ]
  },
  {
   "cell_type": "code",
   "execution_count": null,
   "metadata": {},
   "outputs": [],
   "source": [
    "toss_decisions.unstack()"
   ]
  }
 ],
 "metadata": {
  "kernelspec": {
   "display_name": "Python 3",
   "language": "python",
   "name": "python3"
  },
  "language_info": {
   "codemirror_mode": {
    "name": "ipython",
    "version": 3
   },
   "file_extension": ".py",
   "mimetype": "text/x-python",
   "name": "python",
   "nbconvert_exporter": "python",
   "pygments_lexer": "ipython3",
   "version": "3.7.0"
  }
 },
 "nbformat": 4,
 "nbformat_minor": 2
}
